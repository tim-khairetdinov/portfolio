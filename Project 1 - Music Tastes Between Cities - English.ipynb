{
 "cells": [
  {
   "cell_type": "markdown",
   "metadata": {},
   "source": [
    "# User Preferences Across Cities on Yandex.Music"
   ]
  },
  {
   "cell_type": "markdown",
   "metadata": {},
   "source": [
    "We will use data from the Yandex.Music service to compare the listening preferences of users from Moscow and St. Petersburg.\n",
    "\n",
    "There are three major hypotheses to check:\n",
    "\n",
    "1. User activity changes depending on the day of the week, with the changes being different in Moscow and St. Petersburg.\n",
    "2. Users show different genre preferences on Monday mornings in Moscow and St. Petersburg. They also have different genre preferences on Friday evenings.\n",
    "3. Genre preferences overall are different as well. Moscovites prefer pop, while Peterburgians prefer Russian rap."
   ]
  },
  {
   "cell_type": "markdown",
   "metadata": {},
   "source": [
    "The main purpose of this exercise is to familiarize ourselves with using Pandas for basic data analysis."
   ]
  },
  {
   "cell_type": "markdown",
   "metadata": {
    "id": "Ml1hmfXC_Zcs"
   },
   "source": [
    "## Data Overview"
   ]
  },
  {
   "cell_type": "markdown",
   "metadata": {},
   "source": [
    "We start by importing our libraries."
   ]
  },
  {
   "cell_type": "code",
   "execution_count": 1,
   "metadata": {
    "id": "AXN7PHPN_Zcs"
   },
   "outputs": [],
   "source": [
    "import pandas as pd"
   ]
  },
  {
   "cell_type": "markdown",
   "metadata": {},
   "source": [
    "Then we import the data into a Pandas dataframe."
   ]
  },
  {
   "cell_type": "code",
   "execution_count": 2,
   "metadata": {
    "id": "fFVu7vqh_Zct"
   },
   "outputs": [],
   "source": [
    "df = pd.read_csv('D://Documents/Courses/Yandex.Practicum - Data Science/Projects/1 - Music Tastes Between Cities/yandex_music_project.csv')"
   ]
  },
  {
   "cell_type": "markdown",
   "metadata": {},
   "source": [
    "Let's take a look at the results."
   ]
  },
  {
   "cell_type": "code",
   "execution_count": 3,
   "metadata": {},
   "outputs": [
    {
     "data": {
      "text/html": [
       "<div>\n",
       "<style scoped>\n",
       "    .dataframe tbody tr th:only-of-type {\n",
       "        vertical-align: middle;\n",
       "    }\n",
       "\n",
       "    .dataframe tbody tr th {\n",
       "        vertical-align: top;\n",
       "    }\n",
       "\n",
       "    .dataframe thead th {\n",
       "        text-align: right;\n",
       "    }\n",
       "</style>\n",
       "<table border=\"1\" class=\"dataframe\">\n",
       "  <thead>\n",
       "    <tr style=\"text-align: right;\">\n",
       "      <th></th>\n",
       "      <th>userID</th>\n",
       "      <th>Track</th>\n",
       "      <th>artist</th>\n",
       "      <th>genre</th>\n",
       "      <th>City</th>\n",
       "      <th>time</th>\n",
       "      <th>Day</th>\n",
       "    </tr>\n",
       "  </thead>\n",
       "  <tbody>\n",
       "    <tr>\n",
       "      <th>0</th>\n",
       "      <td>FFB692EC</td>\n",
       "      <td>Kamigata To Boots</td>\n",
       "      <td>The Mass Missile</td>\n",
       "      <td>rock</td>\n",
       "      <td>Saint-Petersburg</td>\n",
       "      <td>20:28:33</td>\n",
       "      <td>Wednesday</td>\n",
       "    </tr>\n",
       "    <tr>\n",
       "      <th>1</th>\n",
       "      <td>55204538</td>\n",
       "      <td>Delayed Because of Accident</td>\n",
       "      <td>Andreas Rönnberg</td>\n",
       "      <td>rock</td>\n",
       "      <td>Moscow</td>\n",
       "      <td>14:07:09</td>\n",
       "      <td>Friday</td>\n",
       "    </tr>\n",
       "    <tr>\n",
       "      <th>2</th>\n",
       "      <td>20EC38</td>\n",
       "      <td>Funiculì funiculà</td>\n",
       "      <td>Mario Lanza</td>\n",
       "      <td>pop</td>\n",
       "      <td>Saint-Petersburg</td>\n",
       "      <td>20:58:07</td>\n",
       "      <td>Wednesday</td>\n",
       "    </tr>\n",
       "    <tr>\n",
       "      <th>3</th>\n",
       "      <td>A3DD03C9</td>\n",
       "      <td>Dragons in the Sunset</td>\n",
       "      <td>Fire + Ice</td>\n",
       "      <td>folk</td>\n",
       "      <td>Saint-Petersburg</td>\n",
       "      <td>08:37:09</td>\n",
       "      <td>Monday</td>\n",
       "    </tr>\n",
       "    <tr>\n",
       "      <th>4</th>\n",
       "      <td>E2DC1FAE</td>\n",
       "      <td>Soul People</td>\n",
       "      <td>Space Echo</td>\n",
       "      <td>dance</td>\n",
       "      <td>Moscow</td>\n",
       "      <td>08:34:34</td>\n",
       "      <td>Monday</td>\n",
       "    </tr>\n",
       "    <tr>\n",
       "      <th>5</th>\n",
       "      <td>842029A1</td>\n",
       "      <td>Преданная</td>\n",
       "      <td>IMPERVTOR</td>\n",
       "      <td>rusrap</td>\n",
       "      <td>Saint-Petersburg</td>\n",
       "      <td>13:09:41</td>\n",
       "      <td>Friday</td>\n",
       "    </tr>\n",
       "    <tr>\n",
       "      <th>6</th>\n",
       "      <td>4CB90AA5</td>\n",
       "      <td>True</td>\n",
       "      <td>Roman Messer</td>\n",
       "      <td>dance</td>\n",
       "      <td>Moscow</td>\n",
       "      <td>13:00:07</td>\n",
       "      <td>Wednesday</td>\n",
       "    </tr>\n",
       "    <tr>\n",
       "      <th>7</th>\n",
       "      <td>F03E1C1F</td>\n",
       "      <td>Feeling This Way</td>\n",
       "      <td>Polina Griffith</td>\n",
       "      <td>dance</td>\n",
       "      <td>Moscow</td>\n",
       "      <td>20:47:49</td>\n",
       "      <td>Wednesday</td>\n",
       "    </tr>\n",
       "    <tr>\n",
       "      <th>8</th>\n",
       "      <td>8FA1D3BE</td>\n",
       "      <td>И вновь продолжается бой</td>\n",
       "      <td>NaN</td>\n",
       "      <td>ruspop</td>\n",
       "      <td>Moscow</td>\n",
       "      <td>09:17:40</td>\n",
       "      <td>Friday</td>\n",
       "    </tr>\n",
       "    <tr>\n",
       "      <th>9</th>\n",
       "      <td>E772D5C0</td>\n",
       "      <td>Pessimist</td>\n",
       "      <td>NaN</td>\n",
       "      <td>dance</td>\n",
       "      <td>Saint-Petersburg</td>\n",
       "      <td>21:20:49</td>\n",
       "      <td>Wednesday</td>\n",
       "    </tr>\n",
       "  </tbody>\n",
       "</table>\n",
       "</div>"
      ],
      "text/plain": [
       "     userID                        Track            artist   genre  \\\n",
       "0  FFB692EC            Kamigata To Boots  The Mass Missile    rock   \n",
       "1  55204538  Delayed Because of Accident  Andreas Rönnberg    rock   \n",
       "2    20EC38            Funiculì funiculà       Mario Lanza     pop   \n",
       "3  A3DD03C9        Dragons in the Sunset        Fire + Ice    folk   \n",
       "4  E2DC1FAE                  Soul People        Space Echo   dance   \n",
       "5  842029A1                    Преданная         IMPERVTOR  rusrap   \n",
       "6  4CB90AA5                         True      Roman Messer   dance   \n",
       "7  F03E1C1F             Feeling This Way   Polina Griffith   dance   \n",
       "8  8FA1D3BE     И вновь продолжается бой               NaN  ruspop   \n",
       "9  E772D5C0                    Pessimist               NaN   dance   \n",
       "\n",
       "             City        time        Day  \n",
       "0  Saint-Petersburg  20:28:33  Wednesday  \n",
       "1            Moscow  14:07:09     Friday  \n",
       "2  Saint-Petersburg  20:58:07  Wednesday  \n",
       "3  Saint-Petersburg  08:37:09     Monday  \n",
       "4            Moscow  08:34:34     Monday  \n",
       "5  Saint-Petersburg  13:09:41     Friday  \n",
       "6            Moscow  13:00:07  Wednesday  \n",
       "7            Moscow  20:47:49  Wednesday  \n",
       "8            Moscow  09:17:40     Friday  \n",
       "9  Saint-Petersburg  21:20:49  Wednesday  "
      ]
     },
     "execution_count": 3,
     "metadata": {},
     "output_type": "execute_result"
    }
   ],
   "source": [
    "df.head(10)"
   ]
  },
  {
   "cell_type": "code",
   "execution_count": 4,
   "metadata": {
    "scrolled": true
   },
   "outputs": [
    {
     "name": "stdout",
     "output_type": "stream",
     "text": [
      "<class 'pandas.core.frame.DataFrame'>\n",
      "RangeIndex: 65079 entries, 0 to 65078\n",
      "Data columns (total 7 columns):\n",
      " #   Column    Non-Null Count  Dtype \n",
      "---  ------    --------------  ----- \n",
      " 0     userID  65079 non-null  object\n",
      " 1   Track     63848 non-null  object\n",
      " 2   artist    57876 non-null  object\n",
      " 3   genre     63881 non-null  object\n",
      " 4     City    65079 non-null  object\n",
      " 5   time      65079 non-null  object\n",
      " 6   Day       65079 non-null  object\n",
      "dtypes: object(7)\n",
      "memory usage: 3.5+ MB\n"
     ]
    }
   ],
   "source": [
    "df.info()"
   ]
  },
  {
   "cell_type": "markdown",
   "metadata": {},
   "source": [
    "Our dataframe contains a list of tracks played, with the following information available about them:\n",
    "\n",
    "* `userID` - the ID of the user;\n",
    "* `Track` - the track name;\n",
    "* `artist` - the artist's name;\n",
    "* `genre` - the genre name;\n",
    "* `City` - the name of the city the user is in;\n",
    "* `time` - the time of day the track was played;\n",
    "* `Day` - the day of the week the track was played."
   ]
  },
  {
   "cell_type": "markdown",
   "metadata": {},
   "source": [
    "The column names themselves are not all properly formatted:\n",
    "\n",
    "1. Uppercase letters are mixed with lowercase ones.\n",
    "2. Spaces are present.\n",
    "3. snake_case isn't used."
   ]
  },
  {
   "cell_type": "markdown",
   "metadata": {},
   "source": [
    "The number of entries across columns varies, which means that we have to process N/As."
   ]
  },
  {
   "cell_type": "markdown",
   "metadata": {},
   "source": [
    "### Conclusions"
   ]
  },
  {
   "cell_type": "markdown",
   "metadata": {},
   "source": [
    "Each dataframe row contains the data about each track played. Some of the columns describe track properties: tack name, artist name, and the genre. The rest of the columns describe the user and their activity: user ID, where the user was located when the track was played, and when the track was played."
   ]
  },
  {
   "cell_type": "markdown",
   "metadata": {},
   "source": [
    "The data itself is limited: we only have data for Mondays, Wednesdays, and Fridays."
   ]
  },
  {
   "cell_type": "markdown",
   "metadata": {},
   "source": [
    "At the moment, it seems that we have sufficient data to test our hypotheses. However, before moving on, we need to do pre-processing: fix the column names, and deal with the missing data."
   ]
  },
  {
   "cell_type": "markdown",
   "metadata": {},
   "source": [
    "## Data Preprocessing"
   ]
  },
  {
   "cell_type": "markdown",
   "metadata": {},
   "source": [
    "### Column Name Styles"
   ]
  },
  {
   "cell_type": "markdown",
   "metadata": {},
   "source": [
    "Let's take a look at the full names of the columns."
   ]
  },
  {
   "cell_type": "code",
   "execution_count": 5,
   "metadata": {
    "id": "oKOTdF_Q_Zct"
   },
   "outputs": [
    {
     "data": {
      "text/plain": [
       "Index(['  userID', 'Track', 'artist', 'genre', '  City  ', 'time', 'Day'], dtype='object')"
      ]
     },
     "execution_count": 5,
     "metadata": {},
     "output_type": "execute_result"
    }
   ],
   "source": [
    "df.columns"
   ]
  },
  {
   "cell_type": "markdown",
   "metadata": {},
   "source": [
    "Several column names are fine according to style conventions: \n",
    "* `artist`\n",
    "* `genre`\n",
    "* `time`"
   ]
  },
  {
   "cell_type": "markdown",
   "metadata": {},
   "source": [
    "The rest of them need to be fixed to the following rules:\n",
    "\n",
    "* for multiple words, use snake_case\n",
    "* avoid using uppercase\n",
    "* remove spaces"
   ]
  },
  {
   "cell_type": "markdown",
   "metadata": {},
   "source": [
    "This means we need to do the following changes:\n",
    "\n",
    "* `'  userID'` → `'user_id'`;\n",
    "* `'Track'` → `'track'`;\n",
    "* `'  City  '` → `'city'`;\n",
    "* `'Day'` → `'day'`."
   ]
  },
  {
   "cell_type": "code",
   "execution_count": 6,
   "metadata": {
    "id": "ISlFqs5y_Zct"
   },
   "outputs": [],
   "source": [
    "df = df.rename(columns = {'  userID': 'user_id', 'Track': 'track', '  City  ': 'city', 'Day': 'day'})"
   ]
  },
  {
   "cell_type": "markdown",
   "metadata": {},
   "source": [
    "Let's check the results by taking a look at column names again."
   ]
  },
  {
   "cell_type": "code",
   "execution_count": 7,
   "metadata": {
    "id": "d4NOAmTW_Zct"
   },
   "outputs": [
    {
     "data": {
      "text/plain": [
       "Index(['user_id', 'track', 'artist', 'genre', 'city', 'time', 'day'], dtype='object')"
      ]
     },
     "execution_count": 7,
     "metadata": {},
     "output_type": "execute_result"
    }
   ],
   "source": [
    "df.columns"
   ]
  },
  {
   "cell_type": "markdown",
   "metadata": {},
   "source": [
    "#### Conclusion"
   ]
  },
  {
   "cell_type": "markdown",
   "metadata": {},
   "source": [
    "We've changed the column names according to style standards."
   ]
  },
  {
   "cell_type": "markdown",
   "metadata": {},
   "source": [
    "### Missing Values"
   ]
  },
  {
   "cell_type": "markdown",
   "metadata": {},
   "source": [
    "First, let's check how many missing entries we have in our dataframe."
   ]
  },
  {
   "cell_type": "code",
   "execution_count": 8,
   "metadata": {
    "id": "RskX29qr_Zct"
   },
   "outputs": [
    {
     "data": {
      "text/plain": [
       "user_id       0\n",
       "track      1231\n",
       "artist     7203\n",
       "genre      1198\n",
       "city          0\n",
       "time          0\n",
       "day           0\n",
       "dtype: int64"
      ]
     },
     "execution_count": 8,
     "metadata": {},
     "output_type": "execute_result"
    }
   ],
   "source": [
    "df.isna().sum()"
   ]
  },
  {
   "cell_type": "markdown",
   "metadata": {},
   "source": [
    "For the purposes of our hypothesis testing, not all missing values are important. For example, missing `track` and `artist` values will not affect our study at all, so we can replace them with `'unknown'`.\n",
    "\n",
    "However, missing values in `genre` can confuse our comparison between Moscow and St. Petersburg music tastes. Ideally, we would contact the colleagues who gave us the data and try to restore as much data as we could, but that's not an option at the moment. Therefore, we need to replace these missing values with `'unknown'` and then check how much they affect our comparison."
   ]
  },
  {
   "cell_type": "code",
   "execution_count": 9,
   "metadata": {
    "id": "KplB5qWs_Zct"
   },
   "outputs": [],
   "source": [
    "#create a temporary list with the columns to replace n/a\n",
    "columns_to_replace = ['track', 'artist', 'genre']\n",
    "\n",
    "#fill the n/a values with 'unknown'\n",
    "for column in columns_to_replace:\n",
    "    df[column]=df[column].fillna('unknown')"
   ]
  },
  {
   "cell_type": "markdown",
   "metadata": {},
   "source": [
    "Let's check the results."
   ]
  },
  {
   "cell_type": "code",
   "execution_count": 10,
   "metadata": {
    "id": "Tq4nYRX4_Zct",
    "scrolled": true
   },
   "outputs": [
    {
     "data": {
      "text/plain": [
       "user_id    0\n",
       "track      0\n",
       "artist     0\n",
       "genre      0\n",
       "city       0\n",
       "time       0\n",
       "day        0\n",
       "dtype: int64"
      ]
     },
     "execution_count": 10,
     "metadata": {},
     "output_type": "execute_result"
    }
   ],
   "source": [
    "df.isna().sum()"
   ]
  },
  {
   "cell_type": "markdown",
   "metadata": {},
   "source": [
    "#### Conclusion"
   ]
  },
  {
   "cell_type": "markdown",
   "metadata": {},
   "source": [
    "Missing values in the `track`, `artist`, and `genre` columns were replaced with `'unknown'`. No further missing values were found."
   ]
  },
  {
   "cell_type": "markdown",
   "metadata": {},
   "source": [
    "### Duplicate Values"
   ]
  },
  {
   "cell_type": "markdown",
   "metadata": {},
   "source": [
    "Let's check the number of blatant duplicates."
   ]
  },
  {
   "cell_type": "code",
   "execution_count": 11,
   "metadata": {
    "id": "36eES_S0_Zct"
   },
   "outputs": [
    {
     "data": {
      "text/plain": [
       "3826"
      ]
     },
     "execution_count": 11,
     "metadata": {},
     "output_type": "execute_result"
    }
   ],
   "source": [
    "df.duplicated().sum()"
   ]
  },
  {
   "cell_type": "markdown",
   "metadata": {},
   "source": [
    "Excellent, let's drop these."
   ]
  },
  {
   "cell_type": "code",
   "execution_count": 12,
   "metadata": {
    "id": "exFHq6tt_Zct"
   },
   "outputs": [],
   "source": [
    "df = df.drop_duplicates().reset_index(drop=True)"
   ]
  },
  {
   "cell_type": "markdown",
   "metadata": {},
   "source": [
    "Check results."
   ]
  },
  {
   "cell_type": "code",
   "execution_count": 13,
   "metadata": {
    "id": "-8PuNWQ0_Zct"
   },
   "outputs": [
    {
     "data": {
      "text/plain": [
       "0"
      ]
     },
     "execution_count": 13,
     "metadata": {},
     "output_type": "execute_result"
    }
   ],
   "source": [
    "df.duplicated().sum()"
   ]
  },
  {
   "cell_type": "markdown",
   "metadata": {},
   "source": [
    "Now we need to look through the `genre` column and see whether we have non-obvious duplicates there. Since the same genre name can be written in several ways, we can see fewer entries for each genre than we actually have. "
   ]
  },
  {
   "cell_type": "markdown",
   "metadata": {},
   "source": [
    "Let's take a look at a list of genre names that we have."
   ]
  },
  {
   "cell_type": "code",
   "execution_count": 14,
   "metadata": {
    "scrolled": true
   },
   "outputs": [
    {
     "data": {
      "text/plain": [
       "array(['acid', 'acoustic', 'action', 'adult', 'africa', 'afrikaans',\n",
       "       'alternative', 'alternativepunk', 'ambient', 'americana',\n",
       "       'animated', 'anime', 'arabesk', 'arabic', 'arena',\n",
       "       'argentinetango', 'art', 'audiobook', 'author', 'avantgarde',\n",
       "       'axé', 'baile', 'balkan', 'beats', 'bigroom', 'black', 'bluegrass',\n",
       "       'blues', 'bollywood', 'bossa', 'brazilian', 'breakbeat', 'breaks',\n",
       "       'broadway', 'cantautori', 'cantopop', 'canzone', 'caribbean',\n",
       "       'caucasian', 'celtic', 'chamber', 'chanson', 'children', 'chill',\n",
       "       'chinese', 'choral', 'christian', 'christmas', 'classical',\n",
       "       'classicmetal', 'club', 'colombian', 'comedy', 'conjazz',\n",
       "       'contemporary', 'country', 'cuban', 'dance', 'dancehall',\n",
       "       'dancepop', 'dark', 'death', 'deep', 'deutschrock', 'deutschspr',\n",
       "       'dirty', 'disco', 'dnb', 'documentary', 'downbeat', 'downtempo',\n",
       "       'drum', 'dub', 'dubstep', 'eastern', 'easy', 'electronic',\n",
       "       'electropop', 'emo', 'entehno', 'epicmetal', 'estrada', 'ethnic',\n",
       "       'eurofolk', 'european', 'experimental', 'extrememetal', 'fado',\n",
       "       'fairytail', 'film', 'fitness', 'flamenco', 'folk', 'folklore',\n",
       "       'folkmetal', 'folkrock', 'folktronica', 'forró', 'frankreich',\n",
       "       'französisch', 'french', 'funk', 'future', 'gangsta', 'garage',\n",
       "       'german', 'ghazal', 'gitarre', 'glitch', 'gospel', 'gothic',\n",
       "       'grime', 'grunge', 'gypsy', 'handsup', \"hard'n'heavy\", 'hardcore',\n",
       "       'hardstyle', 'hardtechno', 'hip', 'hip-hop', 'hiphop',\n",
       "       'historisch', 'holiday', 'hop', 'horror', 'house', 'hymn', 'idm',\n",
       "       'independent', 'indian', 'indie', 'indipop', 'industrial',\n",
       "       'inspirational', 'instrumental', 'international', 'irish', 'jam',\n",
       "       'japanese', 'jazz', 'jewish', 'jpop', 'jungle', 'k-pop',\n",
       "       'karadeniz', 'karaoke', 'kayokyoku', 'korean', 'laiko', 'latin',\n",
       "       'latino', 'leftfield', 'local', 'lounge', 'loungeelectronic',\n",
       "       'lovers', 'malaysian', 'mandopop', 'marschmusik', 'meditative',\n",
       "       'mediterranean', 'melodic', 'metal', 'metalcore', 'mexican',\n",
       "       'middle', 'minimal', 'miscellaneous', 'modern', 'mood', 'mpb',\n",
       "       'muslim', 'native', 'neoklassik', 'neue', 'new', 'newage',\n",
       "       'newwave', 'nu', 'nujazz', 'numetal', 'oceania', 'old', 'opera',\n",
       "       'orchestral', 'other', 'piano', 'podcasts', 'pop', 'popdance',\n",
       "       'popelectronic', 'popeurodance', 'poprussian', 'post',\n",
       "       'posthardcore', 'postrock', 'power', 'progmetal', 'progressive',\n",
       "       'psychedelic', 'punjabi', 'punk', 'quebecois', 'ragga', 'ram',\n",
       "       'rancheras', 'rap', 'rave', 'reggae', 'reggaeton', 'regional',\n",
       "       'relax', 'religious', 'retro', 'rhythm', 'rnb', 'rnr', 'rock',\n",
       "       'rockabilly', 'rockalternative', 'rockindie', 'rockother',\n",
       "       'romance', 'roots', 'ruspop', 'rusrap', 'rusrock', 'russian',\n",
       "       'salsa', 'samba', 'scenic', 'schlager', 'self', 'sertanejo',\n",
       "       'shanson', 'shoegazing', 'showtunes', 'singer', 'ska', 'skarock',\n",
       "       'slow', 'smooth', 'soft', 'soul', 'soulful', 'sound', 'soundtrack',\n",
       "       'southern', 'specialty', 'speech', 'spiritual', 'sport',\n",
       "       'stonerrock', 'surf', 'swing', 'synthpop', 'synthrock',\n",
       "       'sängerportrait', 'tango', 'tanzorchester', 'taraftar', 'tatar',\n",
       "       'tech', 'techno', 'teen', 'thrash', 'top', 'traditional',\n",
       "       'tradjazz', 'trance', 'tribal', 'trip', 'triphop', 'tropical',\n",
       "       'türk', 'türkçe', 'ukrrock', 'unknown', 'urban', 'uzbek',\n",
       "       'variété', 'vi', 'videogame', 'vocal', 'western', 'world',\n",
       "       'worldbeat', 'ïîï', 'электроника'], dtype=object)"
      ]
     },
     "execution_count": 14,
     "metadata": {},
     "output_type": "execute_result"
    }
   ],
   "source": [
    "df['genre'].sort_values().unique()"
   ]
  },
  {
   "cell_type": "markdown",
   "metadata": {},
   "source": [
    "Immediately we can see that there are non-obvious duplicates with `hiphop`:\n",
    "\n",
    "* `hip`\n",
    "* `hop`\n",
    "* `hip-hop`"
   ]
  },
  {
   "cell_type": "markdown",
   "metadata": {},
   "source": [
    "Let's write a function that will replace an incorrect genre name."
   ]
  },
  {
   "cell_type": "code",
   "execution_count": 15,
   "metadata": {
    "id": "ErNDkmns_Zct"
   },
   "outputs": [],
   "source": [
    "def replace_wrong_genre(line):\n",
    "    \n",
    "    #define the wrong genres and the correct genres\n",
    "    wrong_genres = ['hip','hop','hip-hop']\n",
    "    correct_genre = 'hiphop'\n",
    "    \n",
    "    #extract the genre from the line\n",
    "    curr_genre = line['genre']\n",
    "    \n",
    "    #see if the current genre is present in the list of wrong genres, and return the correct genre if true\n",
    "    if curr_genre in wrong_genres:\n",
    "        return correct_genre\n",
    "    \n",
    "    #if not, return the current genre as is\n",
    "    else:\n",
    "        return curr_genre"
   ]
  },
  {
   "cell_type": "markdown",
   "metadata": {},
   "source": [
    "And use the function to replace non-obvious duplicates for hiphop."
   ]
  },
  {
   "cell_type": "code",
   "execution_count": 16,
   "metadata": {},
   "outputs": [],
   "source": [
    "df['genre'] = df.apply(replace_wrong_genre, axis=1)"
   ]
  },
  {
   "cell_type": "markdown",
   "metadata": {},
   "source": [
    "Let's check out the results."
   ]
  },
  {
   "cell_type": "code",
   "execution_count": 17,
   "metadata": {
    "scrolled": true
   },
   "outputs": [
    {
     "data": {
      "text/plain": [
       "array(['acid', 'acoustic', 'action', 'adult', 'africa', 'afrikaans',\n",
       "       'alternative', 'alternativepunk', 'ambient', 'americana',\n",
       "       'animated', 'anime', 'arabesk', 'arabic', 'arena',\n",
       "       'argentinetango', 'art', 'audiobook', 'author', 'avantgarde',\n",
       "       'axé', 'baile', 'balkan', 'beats', 'bigroom', 'black', 'bluegrass',\n",
       "       'blues', 'bollywood', 'bossa', 'brazilian', 'breakbeat', 'breaks',\n",
       "       'broadway', 'cantautori', 'cantopop', 'canzone', 'caribbean',\n",
       "       'caucasian', 'celtic', 'chamber', 'chanson', 'children', 'chill',\n",
       "       'chinese', 'choral', 'christian', 'christmas', 'classical',\n",
       "       'classicmetal', 'club', 'colombian', 'comedy', 'conjazz',\n",
       "       'contemporary', 'country', 'cuban', 'dance', 'dancehall',\n",
       "       'dancepop', 'dark', 'death', 'deep', 'deutschrock', 'deutschspr',\n",
       "       'dirty', 'disco', 'dnb', 'documentary', 'downbeat', 'downtempo',\n",
       "       'drum', 'dub', 'dubstep', 'eastern', 'easy', 'electronic',\n",
       "       'electropop', 'emo', 'entehno', 'epicmetal', 'estrada', 'ethnic',\n",
       "       'eurofolk', 'european', 'experimental', 'extrememetal', 'fado',\n",
       "       'fairytail', 'film', 'fitness', 'flamenco', 'folk', 'folklore',\n",
       "       'folkmetal', 'folkrock', 'folktronica', 'forró', 'frankreich',\n",
       "       'französisch', 'french', 'funk', 'future', 'gangsta', 'garage',\n",
       "       'german', 'ghazal', 'gitarre', 'glitch', 'gospel', 'gothic',\n",
       "       'grime', 'grunge', 'gypsy', 'handsup', \"hard'n'heavy\", 'hardcore',\n",
       "       'hardstyle', 'hardtechno', 'hiphop', 'historisch', 'holiday',\n",
       "       'horror', 'house', 'hymn', 'idm', 'independent', 'indian', 'indie',\n",
       "       'indipop', 'industrial', 'inspirational', 'instrumental',\n",
       "       'international', 'irish', 'jam', 'japanese', 'jazz', 'jewish',\n",
       "       'jpop', 'jungle', 'k-pop', 'karadeniz', 'karaoke', 'kayokyoku',\n",
       "       'korean', 'laiko', 'latin', 'latino', 'leftfield', 'local',\n",
       "       'lounge', 'loungeelectronic', 'lovers', 'malaysian', 'mandopop',\n",
       "       'marschmusik', 'meditative', 'mediterranean', 'melodic', 'metal',\n",
       "       'metalcore', 'mexican', 'middle', 'minimal', 'miscellaneous',\n",
       "       'modern', 'mood', 'mpb', 'muslim', 'native', 'neoklassik', 'neue',\n",
       "       'new', 'newage', 'newwave', 'nu', 'nujazz', 'numetal', 'oceania',\n",
       "       'old', 'opera', 'orchestral', 'other', 'piano', 'podcasts', 'pop',\n",
       "       'popdance', 'popelectronic', 'popeurodance', 'poprussian', 'post',\n",
       "       'posthardcore', 'postrock', 'power', 'progmetal', 'progressive',\n",
       "       'psychedelic', 'punjabi', 'punk', 'quebecois', 'ragga', 'ram',\n",
       "       'rancheras', 'rap', 'rave', 'reggae', 'reggaeton', 'regional',\n",
       "       'relax', 'religious', 'retro', 'rhythm', 'rnb', 'rnr', 'rock',\n",
       "       'rockabilly', 'rockalternative', 'rockindie', 'rockother',\n",
       "       'romance', 'roots', 'ruspop', 'rusrap', 'rusrock', 'russian',\n",
       "       'salsa', 'samba', 'scenic', 'schlager', 'self', 'sertanejo',\n",
       "       'shanson', 'shoegazing', 'showtunes', 'singer', 'ska', 'skarock',\n",
       "       'slow', 'smooth', 'soft', 'soul', 'soulful', 'sound', 'soundtrack',\n",
       "       'southern', 'specialty', 'speech', 'spiritual', 'sport',\n",
       "       'stonerrock', 'surf', 'swing', 'synthpop', 'synthrock',\n",
       "       'sängerportrait', 'tango', 'tanzorchester', 'taraftar', 'tatar',\n",
       "       'tech', 'techno', 'teen', 'thrash', 'top', 'traditional',\n",
       "       'tradjazz', 'trance', 'tribal', 'trip', 'triphop', 'tropical',\n",
       "       'türk', 'türkçe', 'ukrrock', 'unknown', 'urban', 'uzbek',\n",
       "       'variété', 'vi', 'videogame', 'vocal', 'western', 'world',\n",
       "       'worldbeat', 'ïîï', 'электроника'], dtype=object)"
      ]
     },
     "execution_count": 17,
     "metadata": {},
     "output_type": "execute_result"
    }
   ],
   "source": [
    "df['genre'].sort_values().unique()"
   ]
  },
  {
   "cell_type": "markdown",
   "metadata": {},
   "source": [
    "The rest of the genres aren't particularly revelant to our hypotheses, outside of `'russian'`, since those could include Russian rap. Let's compare the sizes of those entries."
   ]
  },
  {
   "cell_type": "code",
   "execution_count": 18,
   "metadata": {
    "scrolled": true
   },
   "outputs": [
    {
     "data": {
      "text/html": [
       "<div>\n",
       "<style scoped>\n",
       "    .dataframe tbody tr th:only-of-type {\n",
       "        vertical-align: middle;\n",
       "    }\n",
       "\n",
       "    .dataframe tbody tr th {\n",
       "        vertical-align: top;\n",
       "    }\n",
       "\n",
       "    .dataframe thead th {\n",
       "        text-align: right;\n",
       "    }\n",
       "</style>\n",
       "<table border=\"1\" class=\"dataframe\">\n",
       "  <thead>\n",
       "    <tr style=\"text-align: right;\">\n",
       "      <th></th>\n",
       "      <th>user_id</th>\n",
       "      <th>track</th>\n",
       "      <th>artist</th>\n",
       "      <th>genre</th>\n",
       "      <th>city</th>\n",
       "      <th>time</th>\n",
       "      <th>day</th>\n",
       "    </tr>\n",
       "  </thead>\n",
       "  <tbody>\n",
       "    <tr>\n",
       "      <th>555</th>\n",
       "      <td>5D1C77EF</td>\n",
       "      <td>Пусти меня ты мама</td>\n",
       "      <td>unknown</td>\n",
       "      <td>russian</td>\n",
       "      <td>Moscow</td>\n",
       "      <td>21:05:08</td>\n",
       "      <td>Monday</td>\n",
       "    </tr>\n",
       "    <tr>\n",
       "      <th>831</th>\n",
       "      <td>D8F36F8B</td>\n",
       "      <td>Я живу не унываю</td>\n",
       "      <td>Эдуард Хуснутдинов</td>\n",
       "      <td>russian</td>\n",
       "      <td>Saint-Petersburg</td>\n",
       "      <td>08:24:46</td>\n",
       "      <td>Friday</td>\n",
       "    </tr>\n",
       "    <tr>\n",
       "      <th>1040</th>\n",
       "      <td>DCE8BCFE</td>\n",
       "      <td>Надежды маленький оркестрик</td>\n",
       "      <td>Олег Погудин</td>\n",
       "      <td>russian</td>\n",
       "      <td>Moscow</td>\n",
       "      <td>13:46:54</td>\n",
       "      <td>Wednesday</td>\n",
       "    </tr>\n",
       "    <tr>\n",
       "      <th>4760</th>\n",
       "      <td>FAD58FB5</td>\n",
       "      <td>Пара-па-парам</td>\n",
       "      <td>Stereopulse</td>\n",
       "      <td>russian</td>\n",
       "      <td>Moscow</td>\n",
       "      <td>09:36:46</td>\n",
       "      <td>Wednesday</td>\n",
       "    </tr>\n",
       "    <tr>\n",
       "      <th>6393</th>\n",
       "      <td>8BC092B4</td>\n",
       "      <td>Волчий гон</td>\n",
       "      <td>Михаил Борисов</td>\n",
       "      <td>russian</td>\n",
       "      <td>Moscow</td>\n",
       "      <td>09:14:08</td>\n",
       "      <td>Friday</td>\n",
       "    </tr>\n",
       "    <tr>\n",
       "      <th>...</th>\n",
       "      <td>...</td>\n",
       "      <td>...</td>\n",
       "      <td>...</td>\n",
       "      <td>...</td>\n",
       "      <td>...</td>\n",
       "      <td>...</td>\n",
       "      <td>...</td>\n",
       "    </tr>\n",
       "    <tr>\n",
       "      <th>57157</th>\n",
       "      <td>5201558A</td>\n",
       "      <td>Привет от Вороваек</td>\n",
       "      <td>Воровайки</td>\n",
       "      <td>russian</td>\n",
       "      <td>Moscow</td>\n",
       "      <td>08:18:25</td>\n",
       "      <td>Monday</td>\n",
       "    </tr>\n",
       "    <tr>\n",
       "      <th>57985</th>\n",
       "      <td>B0DCBF6C</td>\n",
       "      <td>Я по тебе скучаю</td>\n",
       "      <td>unknown</td>\n",
       "      <td>russian</td>\n",
       "      <td>Moscow</td>\n",
       "      <td>13:20:34</td>\n",
       "      <td>Friday</td>\n",
       "    </tr>\n",
       "    <tr>\n",
       "      <th>59152</th>\n",
       "      <td>F0E65B40</td>\n",
       "      <td>Встречайте кореша</td>\n",
       "      <td>Запретка</td>\n",
       "      <td>russian</td>\n",
       "      <td>Moscow</td>\n",
       "      <td>09:52:18</td>\n",
       "      <td>Wednesday</td>\n",
       "    </tr>\n",
       "    <tr>\n",
       "      <th>59157</th>\n",
       "      <td>7450A38F</td>\n",
       "      <td>Пироги</td>\n",
       "      <td>Юлия Морозова</td>\n",
       "      <td>russian</td>\n",
       "      <td>Moscow</td>\n",
       "      <td>08:29:27</td>\n",
       "      <td>Friday</td>\n",
       "    </tr>\n",
       "    <tr>\n",
       "      <th>60166</th>\n",
       "      <td>6808403C</td>\n",
       "      <td>Кавказ</td>\n",
       "      <td>Алёна Скок</td>\n",
       "      <td>russian</td>\n",
       "      <td>Saint-Petersburg</td>\n",
       "      <td>14:10:59</td>\n",
       "      <td>Monday</td>\n",
       "    </tr>\n",
       "  </tbody>\n",
       "</table>\n",
       "<p>90 rows × 7 columns</p>\n",
       "</div>"
      ],
      "text/plain": [
       "        user_id                        track              artist    genre  \\\n",
       "555    5D1C77EF           Пусти меня ты мама             unknown  russian   \n",
       "831    D8F36F8B             Я живу не унываю  Эдуард Хуснутдинов  russian   \n",
       "1040   DCE8BCFE  Надежды маленький оркестрик        Олег Погудин  russian   \n",
       "4760   FAD58FB5                Пара-па-парам         Stereopulse  russian   \n",
       "6393   8BC092B4                   Волчий гон      Михаил Борисов  russian   \n",
       "...         ...                          ...                 ...      ...   \n",
       "57157  5201558A           Привет от Вороваек           Воровайки  russian   \n",
       "57985  B0DCBF6C             Я по тебе скучаю             unknown  russian   \n",
       "59152  F0E65B40            Встречайте кореша            Запретка  russian   \n",
       "59157  7450A38F                       Пироги       Юлия Морозова  russian   \n",
       "60166  6808403C                       Кавказ          Алёна Скок  russian   \n",
       "\n",
       "                   city      time        day  \n",
       "555              Moscow  21:05:08     Monday  \n",
       "831    Saint-Petersburg  08:24:46     Friday  \n",
       "1040             Moscow  13:46:54  Wednesday  \n",
       "4760             Moscow  09:36:46  Wednesday  \n",
       "6393             Moscow  09:14:08     Friday  \n",
       "...                 ...       ...        ...  \n",
       "57157            Moscow  08:18:25     Monday  \n",
       "57985            Moscow  13:20:34     Friday  \n",
       "59152            Moscow  09:52:18  Wednesday  \n",
       "59157            Moscow  08:29:27     Friday  \n",
       "60166  Saint-Petersburg  14:10:59     Monday  \n",
       "\n",
       "[90 rows x 7 columns]"
      ]
     },
     "execution_count": 18,
     "metadata": {},
     "output_type": "execute_result"
    }
   ],
   "source": [
    "df[df['genre'] == 'russian']"
   ]
  },
  {
   "cell_type": "code",
   "execution_count": 19,
   "metadata": {
    "scrolled": true
   },
   "outputs": [
    {
     "data": {
      "text/html": [
       "<div>\n",
       "<style scoped>\n",
       "    .dataframe tbody tr th:only-of-type {\n",
       "        vertical-align: middle;\n",
       "    }\n",
       "\n",
       "    .dataframe tbody tr th {\n",
       "        vertical-align: top;\n",
       "    }\n",
       "\n",
       "    .dataframe thead th {\n",
       "        text-align: right;\n",
       "    }\n",
       "</style>\n",
       "<table border=\"1\" class=\"dataframe\">\n",
       "  <thead>\n",
       "    <tr style=\"text-align: right;\">\n",
       "      <th></th>\n",
       "      <th>user_id</th>\n",
       "      <th>track</th>\n",
       "      <th>artist</th>\n",
       "      <th>genre</th>\n",
       "      <th>city</th>\n",
       "      <th>time</th>\n",
       "      <th>day</th>\n",
       "    </tr>\n",
       "  </thead>\n",
       "  <tbody>\n",
       "    <tr>\n",
       "      <th>5</th>\n",
       "      <td>842029A1</td>\n",
       "      <td>Преданная</td>\n",
       "      <td>IMPERVTOR</td>\n",
       "      <td>rusrap</td>\n",
       "      <td>Saint-Petersburg</td>\n",
       "      <td>13:09:41</td>\n",
       "      <td>Friday</td>\n",
       "    </tr>\n",
       "    <tr>\n",
       "      <th>40</th>\n",
       "      <td>77979A66</td>\n",
       "      <td>Верните в моду любовь</td>\n",
       "      <td>Hazard</td>\n",
       "      <td>rusrap</td>\n",
       "      <td>Saint-Petersburg</td>\n",
       "      <td>08:45:43</td>\n",
       "      <td>Monday</td>\n",
       "    </tr>\n",
       "    <tr>\n",
       "      <th>100</th>\n",
       "      <td>6ED43067</td>\n",
       "      <td>Сочи</td>\n",
       "      <td>unknown</td>\n",
       "      <td>rusrap</td>\n",
       "      <td>Moscow</td>\n",
       "      <td>08:15:38</td>\n",
       "      <td>Friday</td>\n",
       "    </tr>\n",
       "    <tr>\n",
       "      <th>105</th>\n",
       "      <td>9A133297</td>\n",
       "      <td>Я настроен серьёзно</td>\n",
       "      <td>unknown</td>\n",
       "      <td>rusrap</td>\n",
       "      <td>Saint-Petersburg</td>\n",
       "      <td>14:32:56</td>\n",
       "      <td>Friday</td>\n",
       "    </tr>\n",
       "    <tr>\n",
       "      <th>107</th>\n",
       "      <td>E4F17EF2</td>\n",
       "      <td>Патефон</td>\n",
       "      <td>TM13</td>\n",
       "      <td>rusrap</td>\n",
       "      <td>Moscow</td>\n",
       "      <td>21:37:53</td>\n",
       "      <td>Wednesday</td>\n",
       "    </tr>\n",
       "    <tr>\n",
       "      <th>...</th>\n",
       "      <td>...</td>\n",
       "      <td>...</td>\n",
       "      <td>...</td>\n",
       "      <td>...</td>\n",
       "      <td>...</td>\n",
       "      <td>...</td>\n",
       "      <td>...</td>\n",
       "    </tr>\n",
       "    <tr>\n",
       "      <th>61004</th>\n",
       "      <td>A9F6AB4A</td>\n",
       "      <td>Наше лето</td>\n",
       "      <td>unknown</td>\n",
       "      <td>rusrap</td>\n",
       "      <td>Moscow</td>\n",
       "      <td>13:22:21</td>\n",
       "      <td>Wednesday</td>\n",
       "    </tr>\n",
       "    <tr>\n",
       "      <th>61131</th>\n",
       "      <td>443EFE83</td>\n",
       "      <td>Дорога</td>\n",
       "      <td>unknown</td>\n",
       "      <td>rusrap</td>\n",
       "      <td>Saint-Petersburg</td>\n",
       "      <td>21:53:00</td>\n",
       "      <td>Friday</td>\n",
       "    </tr>\n",
       "    <tr>\n",
       "      <th>61183</th>\n",
       "      <td>AF8479D7</td>\n",
       "      <td>Necronomicon</td>\n",
       "      <td>unknown</td>\n",
       "      <td>rusrap</td>\n",
       "      <td>Saint-Petersburg</td>\n",
       "      <td>20:22:43</td>\n",
       "      <td>Monday</td>\n",
       "    </tr>\n",
       "    <tr>\n",
       "      <th>61209</th>\n",
       "      <td>27047C8</td>\n",
       "      <td>Револьвер</td>\n",
       "      <td>unknown</td>\n",
       "      <td>rusrap</td>\n",
       "      <td>Saint-Petersburg</td>\n",
       "      <td>21:52:57</td>\n",
       "      <td>Wednesday</td>\n",
       "    </tr>\n",
       "    <tr>\n",
       "      <th>61219</th>\n",
       "      <td>57B3F0CE</td>\n",
       "      <td>Флоу</td>\n",
       "      <td>Yanix</td>\n",
       "      <td>rusrap</td>\n",
       "      <td>Moscow</td>\n",
       "      <td>20:50:13</td>\n",
       "      <td>Monday</td>\n",
       "    </tr>\n",
       "  </tbody>\n",
       "</table>\n",
       "<p>1725 rows × 7 columns</p>\n",
       "</div>"
      ],
      "text/plain": [
       "        user_id                  track     artist   genre              city  \\\n",
       "5      842029A1              Преданная  IMPERVTOR  rusrap  Saint-Petersburg   \n",
       "40     77979A66  Верните в моду любовь     Hazard  rusrap  Saint-Petersburg   \n",
       "100    6ED43067                   Сочи    unknown  rusrap            Moscow   \n",
       "105    9A133297    Я настроен серьёзно    unknown  rusrap  Saint-Petersburg   \n",
       "107    E4F17EF2                Патефон       TM13  rusrap            Moscow   \n",
       "...         ...                    ...        ...     ...               ...   \n",
       "61004  A9F6AB4A              Наше лето    unknown  rusrap            Moscow   \n",
       "61131  443EFE83                 Дорога    unknown  rusrap  Saint-Petersburg   \n",
       "61183  AF8479D7           Necronomicon    unknown  rusrap  Saint-Petersburg   \n",
       "61209   27047C8              Револьвер    unknown  rusrap  Saint-Petersburg   \n",
       "61219  57B3F0CE                   Флоу      Yanix  rusrap            Moscow   \n",
       "\n",
       "           time        day  \n",
       "5      13:09:41     Friday  \n",
       "40     08:45:43     Monday  \n",
       "100    08:15:38     Friday  \n",
       "105    14:32:56     Friday  \n",
       "107    21:37:53  Wednesday  \n",
       "...         ...        ...  \n",
       "61004  13:22:21  Wednesday  \n",
       "61131  21:53:00     Friday  \n",
       "61183  20:22:43     Monday  \n",
       "61209  21:52:57  Wednesday  \n",
       "61219  20:50:13     Monday  \n",
       "\n",
       "[1725 rows x 7 columns]"
      ]
     },
     "execution_count": 19,
     "metadata": {},
     "output_type": "execute_result"
    }
   ],
   "source": [
    "df[df['genre'] == 'rusrap']"
   ]
  },
  {
   "cell_type": "markdown",
   "metadata": {},
   "source": [
    "The `'russian'` entries include obviously `'shanson'` artists, like \"Воровайки\", and are also not very numerous (90 vs. 1725 entries). We can ignore these entries, they're not large enough to have a noticeable effect on our hypothesis testing."
   ]
  },
  {
   "cell_type": "markdown",
   "metadata": {},
   "source": [
    "#### Conclusion"
   ]
  },
  {
   "cell_type": "markdown",
   "metadata": {},
   "source": [
    "Obvious duplicates were removed (3,826 lines). Non-obvious duplicates for `'hiphop'` in the `genre` column (`'hip'`, `'hop'`, `'hip-hop'`) were brought to the standard form."
   ]
  },
  {
   "cell_type": "markdown",
   "metadata": {},
   "source": [
    "Important note: other genres weren't fixed, since they're not likely to affect our hypotheses. "
   ]
  },
  {
   "cell_type": "markdown",
   "metadata": {},
   "source": [
    "## Hypothesis Testing"
   ]
  },
  {
   "cell_type": "markdown",
   "metadata": {},
   "source": [
    "### Comparing the Behaviour of Muscovites and Petersburgians"
   ]
  },
  {
   "cell_type": "markdown",
   "metadata": {},
   "source": [
    "Our first hypothesis is that users in Moscow and St. Petersburg have different music listening activities. Let's compare them across the three days we have data for: Monday, Wednesday, and Friday. "
   ]
  },
  {
   "cell_type": "code",
   "execution_count": 20,
   "metadata": {
    "id": "0_Qs96oh_Zcu",
    "scrolled": true
   },
   "outputs": [
    {
     "data": {
      "text/plain": [
       "city\n",
       "Moscow              42741\n",
       "Saint-Petersburg    18512\n",
       "Name: genre, dtype: int64"
      ]
     },
     "execution_count": 20,
     "metadata": {},
     "output_type": "execute_result"
    }
   ],
   "source": [
    "df.groupby('city')['genre'].count()"
   ]
  },
  {
   "cell_type": "markdown",
   "metadata": {},
   "source": [
    "We can see that there have been more users playing music in Moscow than in St. Petersburg. However, we can't assume that this meants Moscovites listen to music more than Peterburgians: there can simply be more users in Moscow."
   ]
  },
  {
   "cell_type": "markdown",
   "metadata": {},
   "source": [
    "Let's now take a look at how the data is split across days."
   ]
  },
  {
   "cell_type": "code",
   "execution_count": 21,
   "metadata": {
    "id": "uZMKjiJz_Zcu",
    "scrolled": true
   },
   "outputs": [
    {
     "data": {
      "text/plain": [
       "day\n",
       "Friday       21840\n",
       "Monday       21354\n",
       "Wednesday    18059\n",
       "Name: genre, dtype: int64"
      ]
     },
     "execution_count": 21,
     "metadata": {},
     "output_type": "execute_result"
    }
   ],
   "source": [
    "df.groupby('day')['genre'].count()"
   ]
  },
  {
   "cell_type": "markdown",
   "metadata": {},
   "source": [
    "We can see that there is a drop on listening on Wednesdays compared to Mondays and Fridays."
   ]
  },
  {
   "cell_type": "markdown",
   "metadata": {},
   "source": [
    "Now let's write a function that will return the number of tracks played for a given city and day."
   ]
  },
  {
   "cell_type": "code",
   "execution_count": 22,
   "metadata": {},
   "outputs": [],
   "source": [
    "def number_tracks (day, city):\n",
    "    \n",
    "    #create a temporary dataframe that only includes the right day and city\n",
    "    track_list = df[df['day'] == day]\n",
    "    track_list = track_list[track_list['city'] == city]\n",
    "    \n",
    "    #return the total count of entries in our temporary dataframe\n",
    "    return track_list['user_id'].count()"
   ]
  },
  {
   "cell_type": "markdown",
   "metadata": {},
   "source": [
    "Let's use `number_tracks` to create a table that has the raw numbers across cities and days."
   ]
  },
  {
   "cell_type": "code",
   "execution_count": 23,
   "metadata": {
    "scrolled": false
   },
   "outputs": [
    {
     "data": {
      "text/html": [
       "<div>\n",
       "<style scoped>\n",
       "    .dataframe tbody tr th:only-of-type {\n",
       "        vertical-align: middle;\n",
       "    }\n",
       "\n",
       "    .dataframe tbody tr th {\n",
       "        vertical-align: top;\n",
       "    }\n",
       "\n",
       "    .dataframe thead th {\n",
       "        text-align: right;\n",
       "    }\n",
       "</style>\n",
       "<table border=\"1\" class=\"dataframe\">\n",
       "  <thead>\n",
       "    <tr style=\"text-align: right;\">\n",
       "      <th></th>\n",
       "      <th>city</th>\n",
       "      <th>Monday</th>\n",
       "      <th>Wednesday</th>\n",
       "      <th>Friday</th>\n",
       "    </tr>\n",
       "  </thead>\n",
       "  <tbody>\n",
       "    <tr>\n",
       "      <th>0</th>\n",
       "      <td>Moscow</td>\n",
       "      <td>15740</td>\n",
       "      <td>11056</td>\n",
       "      <td>15945</td>\n",
       "    </tr>\n",
       "    <tr>\n",
       "      <th>1</th>\n",
       "      <td>Saint-Petersburg</td>\n",
       "      <td>5614</td>\n",
       "      <td>7003</td>\n",
       "      <td>5895</td>\n",
       "    </tr>\n",
       "  </tbody>\n",
       "</table>\n",
       "</div>"
      ],
      "text/plain": [
       "               city  Monday  Wednesday  Friday\n",
       "0            Moscow   15740      11056   15945\n",
       "1  Saint-Petersburg    5614       7003    5895"
      ]
     },
     "execution_count": 23,
     "metadata": {},
     "output_type": "execute_result"
    }
   ],
   "source": [
    "#the name for the columns in our display dataframe\n",
    "column_names = ['city', 'Monday', 'Wednesday', 'Friday']\n",
    "\n",
    "#generate the dataframe\n",
    "display_data = {'city' : ['Moscow', 'Saint-Petersburg'],\n",
    "               'Monday' : [number_tracks('Monday', 'Moscow'), number_tracks('Monday', 'Saint-Petersburg')],\n",
    "               'Wednesday' : [number_tracks('Wednesday', 'Moscow'), number_tracks('Wednesday', 'Saint-Petersburg')],\n",
    "               'Friday' : [number_tracks('Friday', 'Moscow'), number_tracks('Friday', 'Saint-Petersburg')]}\n",
    "display_table = pd.DataFrame(display_data, columns = column_names)\n",
    "\n",
    "#display it\n",
    "display_table"
   ]
  },
  {
   "cell_type": "markdown",
   "metadata": {},
   "source": [
    "However, this table isn't as clear as it could be for the client. Let's create one that will instead show each day as a percentage of the total plays per city."
   ]
  },
  {
   "cell_type": "code",
   "execution_count": 24,
   "metadata": {},
   "outputs": [],
   "source": [
    "#make a function to create a list of percentages per city\n",
    "def daily_listens_as_percent_of_weekly_total(city):\n",
    "    \n",
    "    #create a blank list for the percentages\n",
    "    daily_percentages = []\n",
    "    \n",
    "    #calculate the total number of plays in the given city\n",
    "    total_listens = df[df['city'] == city]['user_id'].count()\n",
    "    \n",
    "    #do percentage calculations for each day\n",
    "    for day in ['Monday', 'Wednesday', 'Friday']:\n",
    "        #append the rounded percentage for each day to daily_percentages\n",
    "        daily_percentages.append(round((number_tracks(day,city)/total_listens)*100,1))  \n",
    "    \n",
    "    #return the whole list\n",
    "    return daily_percentages"
   ]
  },
  {
   "cell_type": "code",
   "execution_count": 25,
   "metadata": {},
   "outputs": [],
   "source": [
    "#calculate the percentages for each city\n",
    "moscow_daily_percentages = daily_listens_as_percent_of_weekly_total('Moscow')\n",
    "spb_daily_percentages = daily_listens_as_percent_of_weekly_total('Saint-Petersburg')"
   ]
  },
  {
   "cell_type": "code",
   "execution_count": 26,
   "metadata": {},
   "outputs": [
    {
     "data": {
      "text/html": [
       "<div>\n",
       "<style scoped>\n",
       "    .dataframe tbody tr th:only-of-type {\n",
       "        vertical-align: middle;\n",
       "    }\n",
       "\n",
       "    .dataframe tbody tr th {\n",
       "        vertical-align: top;\n",
       "    }\n",
       "\n",
       "    .dataframe thead th {\n",
       "        text-align: right;\n",
       "    }\n",
       "</style>\n",
       "<table border=\"1\" class=\"dataframe\">\n",
       "  <thead>\n",
       "    <tr style=\"text-align: right;\">\n",
       "      <th></th>\n",
       "      <th>city</th>\n",
       "      <th>Monday (%)</th>\n",
       "      <th>Wednesday (%)</th>\n",
       "      <th>Friday (%)</th>\n",
       "    </tr>\n",
       "  </thead>\n",
       "  <tbody>\n",
       "    <tr>\n",
       "      <th>0</th>\n",
       "      <td>Moscow</td>\n",
       "      <td>36.8</td>\n",
       "      <td>25.9</td>\n",
       "      <td>37.3</td>\n",
       "    </tr>\n",
       "    <tr>\n",
       "      <th>1</th>\n",
       "      <td>Saint-Petersburg</td>\n",
       "      <td>30.3</td>\n",
       "      <td>37.8</td>\n",
       "      <td>31.8</td>\n",
       "    </tr>\n",
       "  </tbody>\n",
       "</table>\n",
       "</div>"
      ],
      "text/plain": [
       "               city  Monday (%)  Wednesday (%)  Friday (%)\n",
       "0            Moscow        36.8           25.9        37.3\n",
       "1  Saint-Petersburg        30.3           37.8        31.8"
      ]
     },
     "execution_count": 26,
     "metadata": {},
     "output_type": "execute_result"
    }
   ],
   "source": [
    "#creating our columns for the dataframe\n",
    "percentage_columns_list = []\n",
    "for i in range(len(moscow_daily_percentages)):\n",
    "    percentage_columns_list.append([moscow_daily_percentages[i],spb_daily_percentages[i]])\n",
    "    \n",
    "#creating the names for the columns\n",
    "display_as_percentage_column_names = ['city', 'Monday (%)', 'Wednesday (%)', 'Friday (%)']\n",
    "\n",
    "#getting the data for the dataframe\n",
    "display_as_percentage_data = {'city' : ['Moscow', 'Saint-Petersburg'],\n",
    "                             'Monday (%)' : percentage_columns_list[0],\n",
    "                             'Wednesday (%)' : percentage_columns_list[1],\n",
    "                             'Friday (%)' : percentage_columns_list[2]}\n",
    "\n",
    "#putting the dataframe together and displaying it\n",
    "display_as_percentage_table = pd.DataFrame(display_as_percentage_data, columns=display_as_percentage_column_names)\n",
    "display_as_percentage_table"
   ]
  },
  {
   "cell_type": "markdown",
   "metadata": {},
   "source": [
    "Excellent, this way, we can see the percentage breakdown across days and cities."
   ]
  },
  {
   "cell_type": "markdown",
   "metadata": {},
   "source": [
    "#### Conclusions"
   ]
  },
  {
   "cell_type": "markdown",
   "metadata": {},
   "source": [
    "**The data supports the first hypothesis**: user activity across days is indeed different in each city.\n",
    "\n",
    "* In Moscow, our plays spike on Mondays and Fridays, and drop on Wednesdays.\n",
    "* Conversely, in St. Petersburg, the largest spike is on Wednesdays, while user activity drops on Mondays and Fridays in nearly equal amounts."
   ]
  },
  {
   "cell_type": "markdown",
   "metadata": {},
   "source": [
    "### Comparing Monday Morning and Friday Night Genres Across Cities"
   ]
  },
  {
   "cell_type": "markdown",
   "metadata": {},
   "source": [
    "Our second hypothesis states: Users show different genre preferences on Monday mornings in Moscow and St. Petersburg. They also have different genre preferences on Friday evenings."
   ]
  },
  {
   "cell_type": "markdown",
   "metadata": {},
   "source": [
    "Let's break down our data into separate tables for Moscow and St. Petersburg."
   ]
  },
  {
   "cell_type": "code",
   "execution_count": 27,
   "metadata": {},
   "outputs": [],
   "source": [
    "moscow_general = df[df['city'] == 'Moscow']\n",
    "spb_general = df[df['city'] == 'Saint-Petersburg']"
   ]
  },
  {
   "cell_type": "markdown",
   "metadata": {},
   "source": [
    "Now let's make a function that will return the top 5 genres played on a given day between given times in a given table."
   ]
  },
  {
   "cell_type": "code",
   "execution_count": 28,
   "metadata": {},
   "outputs": [],
   "source": [
    "#the function accepts a table, a day, and start and end times\n",
    "def genre_weekday (table, day, time_start, time_end):\n",
    "    \n",
    "    #create a dataframe from table that matches the day and time given\n",
    "    genre_df = table[(table['day'] == day) & (table['time'] > time_start) & (table['time'] < time_end)]\n",
    "    \n",
    "    #group genre_df by genre, count the popularity of each genre, and sort them in a descending order\n",
    "    genre_df_sorted = genre_df.groupby('genre')['track'].count().sort_values(ascending=False)\n",
    "    \n",
    "    #create a list of the top 5 most popular genres\n",
    "    top_five_list = list(genre_df_sorted.head(5).index)\n",
    "    \n",
    "    #return the results as a list\n",
    "    return top_five_list"
   ]
  },
  {
   "cell_type": "markdown",
   "metadata": {},
   "source": [
    "Let's apply our function to create a dataframe that shows our top 5 entries across cities for Monday mornings and Friday nights."
   ]
  },
  {
   "cell_type": "code",
   "execution_count": 29,
   "metadata": {},
   "outputs": [],
   "source": [
    "#calculate the top 5 genres for each city for each day\n",
    "moscow_genres = []\n",
    "spb_genres = []\n",
    "\n",
    "#use genre_weekday to get our list, but convert it to concatenated strings using join() and map()\n",
    "\n",
    "#monday morning\n",
    "moscow_genres.append(\", \".join(map(str, genre_weekday(moscow_general, 'Monday', '07:00', '11:00'))))\n",
    "spb_genres.append(\", \".join(map(str, genre_weekday(spb_general, 'Monday', '07:00', '11:00'))))\n",
    "\n",
    "#friday night\n",
    "moscow_genres.append(\", \".join(map(str, genre_weekday(moscow_general, 'Friday', '17:00', '23:00'))))\n",
    "spb_genres.append(\", \".join(map(str, genre_weekday(spb_general, 'Friday', '17:00', '23:00'))))"
   ]
  },
  {
   "cell_type": "code",
   "execution_count": 30,
   "metadata": {
    "scrolled": false
   },
   "outputs": [
    {
     "data": {
      "text/html": [
       "<div>\n",
       "<style scoped>\n",
       "    .dataframe tbody tr th:only-of-type {\n",
       "        vertical-align: middle;\n",
       "    }\n",
       "\n",
       "    .dataframe tbody tr th {\n",
       "        vertical-align: top;\n",
       "    }\n",
       "\n",
       "    .dataframe thead th {\n",
       "        text-align: right;\n",
       "    }\n",
       "</style>\n",
       "<table border=\"1\" class=\"dataframe\">\n",
       "  <thead>\n",
       "    <tr style=\"text-align: right;\">\n",
       "      <th></th>\n",
       "      <th>city</th>\n",
       "      <th>Monday Morning Top 5 Genres</th>\n",
       "      <th>Friday Night Top 5 Genres</th>\n",
       "    </tr>\n",
       "  </thead>\n",
       "  <tbody>\n",
       "    <tr>\n",
       "      <th>0</th>\n",
       "      <td>Moscow</td>\n",
       "      <td>pop, dance, electronic, rock, hiphop</td>\n",
       "      <td>pop, rock, dance, electronic, hiphop</td>\n",
       "    </tr>\n",
       "    <tr>\n",
       "      <th>1</th>\n",
       "      <td>Saint-Petersburg</td>\n",
       "      <td>pop, dance, rock, electronic, hiphop</td>\n",
       "      <td>pop, electronic, rock, dance, hiphop</td>\n",
       "    </tr>\n",
       "  </tbody>\n",
       "</table>\n",
       "</div>"
      ],
      "text/plain": [
       "               city           Monday Morning Top 5 Genres  \\\n",
       "0            Moscow  pop, dance, electronic, rock, hiphop   \n",
       "1  Saint-Petersburg  pop, dance, rock, electronic, hiphop   \n",
       "\n",
       "              Friday Night Top 5 Genres  \n",
       "0  pop, rock, dance, electronic, hiphop  \n",
       "1  pop, electronic, rock, dance, hiphop  "
      ]
     },
     "execution_count": 30,
     "metadata": {},
     "output_type": "execute_result"
    }
   ],
   "source": [
    "#creating our columns for the dataframe\n",
    "genres_columns_list = []\n",
    "for i in range(len(moscow_genres)):\n",
    "    genres_columns_list.append([moscow_genres[i],spb_genres[i]])\n",
    "    \n",
    "#creating the names for the columns\n",
    "display_as_genre_column_names = ['city', 'Monday Morning Top 5 Genres', 'Friday Night Top 5 Genres']\n",
    "\n",
    "#getting the data for the dataframe\n",
    "display_as_genre_data = {'city' : ['Moscow', 'Saint-Petersburg'],\n",
    "                             'Monday Morning Top 5 Genres' : genres_columns_list[0],\n",
    "                             'Friday Night Top 5 Genres' : genres_columns_list[1]}\n",
    "\n",
    "#putting the dataframe together and displaying it\n",
    "display_as_genre_table = pd.DataFrame(display_as_genre_data, columns=display_as_genre_column_names)\n",
    "display_as_genre_table"
   ]
  },
  {
   "cell_type": "markdown",
   "metadata": {},
   "source": [
    "Excellent, this makes the top 5 genres clear."
   ]
  },
  {
   "cell_type": "markdown",
   "metadata": {},
   "source": [
    "#### Conclusion"
   ]
  },
  {
   "cell_type": "markdown",
   "metadata": {},
   "source": [
    "**The data does not support the second hypothesis**: the top 5 genres across cities on Monday morning and Friday nights barely change.\n",
    "\n",
    "Comparing the top 5 genres on Monday morning shows us that users in Moscow and St. Petersburg listen to very similar music. The only change is the order of 3rd and 4th places: `'electronic'` and `'rock'` in Moscow vs. `'rock'` and `'electronic'` in St. Petersburg.\n",
    "\n",
    "Friday night gives us similar results. The only difference is the order for 2nd, 3rd, and 4th places: `'rock'`, `'dance'`, and `'electronic'` in Moscow vs. `'electronic'`, `'rock'`, and `'dance'` in St. Petersburg."
   ]
  },
  {
   "cell_type": "markdown",
   "metadata": {},
   "source": [
    "### Genre Popularity in Moscow and St. Petersburg"
   ]
  },
  {
   "cell_type": "markdown",
   "metadata": {},
   "source": [
    "Our third hypothesis states: Moscovites prefer pop, while Peterburgians prefer Russian rap."
   ]
  },
  {
   "cell_type": "markdown",
   "metadata": {},
   "source": [
    "Let's group `moscow_general` and `spb_general` according to genre, sort them by popularity, and display the top 10 genres."
   ]
  },
  {
   "cell_type": "code",
   "execution_count": 31,
   "metadata": {
    "scrolled": true
   },
   "outputs": [
    {
     "data": {
      "text/plain": [
       "genre\n",
       "pop            5892\n",
       "dance          4435\n",
       "rock           3965\n",
       "electronic     3786\n",
       "hiphop         2096\n",
       "classical      1616\n",
       "world          1432\n",
       "alternative    1379\n",
       "ruspop         1372\n",
       "rusrap         1161\n",
       "Name: genre, dtype: int64"
      ]
     },
     "execution_count": 31,
     "metadata": {},
     "output_type": "execute_result"
    }
   ],
   "source": [
    "moscow_general.groupby('genre')['genre'].count().sort_values(ascending=False).head(10)"
   ]
  },
  {
   "cell_type": "code",
   "execution_count": 32,
   "metadata": {
    "scrolled": true
   },
   "outputs": [
    {
     "data": {
      "text/plain": [
       "genre\n",
       "pop            2431\n",
       "dance          1932\n",
       "rock           1879\n",
       "electronic     1736\n",
       "hiphop          960\n",
       "alternative     649\n",
       "classical       646\n",
       "rusrap          564\n",
       "ruspop          538\n",
       "world           515\n",
       "Name: genre, dtype: int64"
      ]
     },
     "execution_count": 32,
     "metadata": {},
     "output_type": "execute_result"
    }
   ],
   "source": [
    "spb_general.groupby('genre')['genre'].count().sort_values(ascending=False).head(10)"
   ]
  },
  {
   "cell_type": "markdown",
   "metadata": {},
   "source": [
    "#### Conclusions"
   ]
  },
  {
   "cell_type": "markdown",
   "metadata": {},
   "source": [
    "**The data partially supports the hypothesis**: \n",
    "\n",
    "* Pop music is indeed the most popular genre in Moscow. It is also the most popular genre in St. Petersburg. More over, Russian pop (`ruspop`) is also in the Moscow top 10 genres.\n",
    "* Russian rap (`rusrap`) is popular in both St. Petersburg and Moscow, though it is more popular in St. Petersburg (8th place in St. Petersburg, 10th place in Moscow)."
   ]
  },
  {
   "cell_type": "markdown",
   "metadata": {},
   "source": [
    "## Overall Conclusion"
   ]
  },
  {
   "cell_type": "markdown",
   "metadata": {},
   "source": [
    "We used the data to test three hypotheses.\n",
    "\n",
    "1. The first hypothesis is **confirmed**. User activity differs between cities. Moscow users are more active on Mondays and Fridays, while St. Peterburg users are more active on Wednesdays.\n",
    "\n",
    "2. The second hypothesis is **partially confirmed**. Musical tastes do not differ between Monday morning and Friday nights across cities. The only changes are the order of the most popular genres in the top 5.\n",
    "\n",
    "3. The third hypothesis is **not confirmed**. Overall musical tastes don't vary too much between Moscow and St. Petersburg. The most popular genre in both is popular music (`pop`), and while Russian rap (`rusrap`) is more popular in St. Petersburg than in Moscow, it's still present in the Moscow top 10.\n",
    "\n",
    "Overall, we were still somewhat limited by the dataset. We were not given any data outside Mondays, Wednesday, and Fridays, and thus the overall picture could've shifted if we had the missing days."
   ]
  }
 ],
 "metadata": {
  "ExecuteTimeLog": [
   {
    "duration": 536,
    "start_time": "2021-12-12T12:42:25.915Z"
   },
   {
    "duration": 94,
    "start_time": "2021-12-12T12:43:14.867Z"
   },
   {
    "duration": 285,
    "start_time": "2021-12-12T12:43:36.286Z"
   },
   {
    "duration": 139,
    "start_time": "2021-12-12T12:43:49.904Z"
   },
   {
    "duration": 15,
    "start_time": "2021-12-12T12:44:08.535Z"
   },
   {
    "duration": 29,
    "start_time": "2021-12-12T12:44:37.145Z"
   },
   {
    "duration": 274,
    "start_time": "2021-12-12T12:47:21.092Z"
   },
   {
    "duration": 256,
    "start_time": "2021-12-12T12:47:34.547Z"
   },
   {
    "duration": 4,
    "start_time": "2021-12-12T12:47:40.633Z"
   },
   {
    "duration": 3,
    "start_time": "2021-12-12T12:47:44.879Z"
   },
   {
    "duration": 47,
    "start_time": "2021-12-12T13:15:30.223Z"
   },
   {
    "duration": 126,
    "start_time": "2021-12-12T13:16:35.388Z"
   },
   {
    "duration": 122,
    "start_time": "2021-12-12T13:17:58.879Z"
   },
   {
    "duration": 109,
    "start_time": "2021-12-12T13:18:33.499Z"
   },
   {
    "duration": 230,
    "start_time": "2021-12-12T13:21:41.367Z"
   },
   {
    "duration": 14,
    "start_time": "2021-12-12T13:21:56.246Z"
   },
   {
    "duration": 19,
    "start_time": "2021-12-12T13:22:09.413Z"
   },
   {
    "duration": 15,
    "start_time": "2021-12-12T13:22:13.297Z"
   },
   {
    "duration": 20,
    "start_time": "2021-12-12T13:22:17.356Z"
   },
   {
    "duration": 13,
    "start_time": "2021-12-12T13:22:39.504Z"
   },
   {
    "duration": 5,
    "start_time": "2021-12-12T13:22:45.483Z"
   },
   {
    "duration": 21,
    "start_time": "2021-12-12T13:23:23.084Z"
   },
   {
    "duration": 234,
    "start_time": "2021-12-12T13:25:30.898Z"
   },
   {
    "duration": 231,
    "start_time": "2021-12-12T13:25:40.118Z"
   },
   {
    "duration": 360,
    "start_time": "2021-12-12T13:25:46.725Z"
   },
   {
    "duration": 18,
    "start_time": "2021-12-12T13:26:28.632Z"
   },
   {
    "duration": 17,
    "start_time": "2021-12-12T13:26:33.688Z"
   },
   {
    "duration": 22,
    "start_time": "2021-12-12T13:26:45.060Z"
   },
   {
    "duration": 238,
    "start_time": "2021-12-12T13:27:00.709Z"
   },
   {
    "duration": 58,
    "start_time": "2021-12-12T13:27:12.559Z"
   },
   {
    "duration": 60,
    "start_time": "2021-12-12T13:27:46.911Z"
   },
   {
    "duration": 50,
    "start_time": "2021-12-12T13:27:55.801Z"
   },
   {
    "duration": 262,
    "start_time": "2021-12-12T13:31:49.164Z"
   },
   {
    "duration": 39,
    "start_time": "2021-12-12T13:33:01.386Z"
   },
   {
    "duration": 3,
    "start_time": "2021-12-12T13:36:23.222Z"
   },
   {
    "duration": 517,
    "start_time": "2021-12-12T13:50:31.078Z"
   },
   {
    "duration": 40,
    "start_time": "2021-12-12T13:50:49.678Z"
   },
   {
    "duration": 3,
    "start_time": "2021-12-12T13:50:52.886Z"
   },
   {
    "duration": 503,
    "start_time": "2021-12-12T13:50:55.669Z"
   },
   {
    "duration": 3,
    "start_time": "2021-12-12T13:51:09.735Z"
   },
   {
    "duration": 6,
    "start_time": "2021-12-12T13:51:11.447Z"
   },
   {
    "duration": 228,
    "start_time": "2021-12-12T13:51:33.610Z"
   },
   {
    "duration": 6,
    "start_time": "2021-12-12T13:51:38.702Z"
   },
   {
    "duration": 7,
    "start_time": "2021-12-12T13:51:49.950Z"
   },
   {
    "duration": 6,
    "start_time": "2021-12-12T13:51:52.982Z"
   },
   {
    "duration": 3,
    "start_time": "2021-12-12T13:54:14.556Z"
   },
   {
    "duration": 134,
    "start_time": "2021-12-12T13:54:21.749Z"
   },
   {
    "duration": 16,
    "start_time": "2021-12-12T13:54:28.378Z"
   },
   {
    "duration": 17,
    "start_time": "2021-12-12T13:54:34.744Z"
   },
   {
    "duration": 62,
    "start_time": "2021-12-12T13:54:39.740Z"
   },
   {
    "duration": 37,
    "start_time": "2021-12-12T13:54:42.569Z"
   },
   {
    "duration": 3,
    "start_time": "2021-12-12T13:54:48.791Z"
   },
   {
    "duration": 7,
    "start_time": "2021-12-12T13:54:51.331Z"
   },
   {
    "duration": 6,
    "start_time": "2021-12-12T13:54:54.552Z"
   },
   {
    "duration": 12,
    "start_time": "2021-12-12T13:56:01.109Z"
   },
   {
    "duration": 13,
    "start_time": "2021-12-12T13:56:21.344Z"
   },
   {
    "duration": 10,
    "start_time": "2021-12-12T13:56:28.399Z"
   },
   {
    "duration": 12,
    "start_time": "2021-12-12T13:56:32.589Z"
   },
   {
    "duration": 9,
    "start_time": "2021-12-12T13:56:37.362Z"
   },
   {
    "duration": 3,
    "start_time": "2021-12-12T13:56:47.274Z"
   },
   {
    "duration": 9,
    "start_time": "2021-12-12T13:56:51.434Z"
   },
   {
    "duration": 3,
    "start_time": "2021-12-12T13:56:54.995Z"
   },
   {
    "duration": 543,
    "start_time": "2021-12-12T13:56:56.810Z"
   },
   {
    "duration": 3,
    "start_time": "2021-12-12T13:57:57.827Z"
   },
   {
    "duration": 2,
    "start_time": "2021-12-12T13:58:10.342Z"
   },
   {
    "duration": 15,
    "start_time": "2021-12-12T13:58:15.638Z"
   },
   {
    "duration": 3051,
    "start_time": "2021-12-12T13:58:18.124Z"
   },
   {
    "duration": 6,
    "start_time": "2021-12-12T13:58:34.132Z"
   },
   {
    "duration": 507,
    "start_time": "2021-12-12T13:58:51.548Z"
   },
   {
    "duration": 3,
    "start_time": "2021-12-12T13:59:09.276Z"
   },
   {
    "duration": 142,
    "start_time": "2021-12-12T13:59:19.298Z"
   },
   {
    "duration": 17,
    "start_time": "2021-12-12T13:59:23.535Z"
   },
   {
    "duration": 4,
    "start_time": "2021-12-12T13:59:25.588Z"
   },
   {
    "duration": 17,
    "start_time": "2021-12-12T13:59:33.508Z"
   },
   {
    "duration": 66,
    "start_time": "2021-12-12T13:59:36.967Z"
   },
   {
    "duration": 38,
    "start_time": "2021-12-12T13:59:40.047Z"
   },
   {
    "duration": 3,
    "start_time": "2021-12-12T13:59:46.900Z"
   },
   {
    "duration": 624,
    "start_time": "2021-12-12T13:59:50.882Z"
   },
   {
    "duration": 141,
    "start_time": "2021-12-12T14:01:30.656Z"
   },
   {
    "duration": 17,
    "start_time": "2021-12-12T14:01:35.549Z"
   },
   {
    "duration": 20,
    "start_time": "2021-12-12T14:01:39.381Z"
   },
   {
    "duration": 72,
    "start_time": "2021-12-12T14:01:42.178Z"
   },
   {
    "duration": 41,
    "start_time": "2021-12-12T14:01:44.735Z"
   },
   {
    "duration": 3,
    "start_time": "2021-12-12T14:01:49.370Z"
   },
   {
    "duration": 7,
    "start_time": "2021-12-12T14:01:54.648Z"
   },
   {
    "duration": 22,
    "start_time": "2021-12-12T14:01:59.758Z"
   },
   {
    "duration": 6,
    "start_time": "2021-12-12T14:02:11.674Z"
   },
   {
    "duration": -186,
    "start_time": "2021-12-12T14:03:07.907Z"
   },
   {
    "duration": 6707,
    "start_time": "2021-12-12T14:03:15.515Z"
   },
   {
    "duration": 22,
    "start_time": "2021-12-12T14:03:47.617Z"
   },
   {
    "duration": 10,
    "start_time": "2021-12-12T14:03:53.838Z"
   },
   {
    "duration": 12,
    "start_time": "2021-12-12T14:04:10.301Z"
   },
   {
    "duration": 7,
    "start_time": "2021-12-12T14:04:14.928Z"
   },
   {
    "duration": 12,
    "start_time": "2021-12-12T14:04:17.435Z"
   },
   {
    "duration": 3,
    "start_time": "2021-12-12T14:04:39.494Z"
   },
   {
    "duration": 151,
    "start_time": "2021-12-12T14:04:48.549Z"
   },
   {
    "duration": 11,
    "start_time": "2021-12-12T14:04:50.689Z"
   },
   {
    "duration": 25,
    "start_time": "2021-12-12T14:04:54.638Z"
   },
   {
    "duration": 19,
    "start_time": "2021-12-12T14:04:59.025Z"
   },
   {
    "duration": 19,
    "start_time": "2021-12-12T14:05:02.966Z"
   },
   {
    "duration": 70,
    "start_time": "2021-12-12T14:05:06.439Z"
   },
   {
    "duration": 40,
    "start_time": "2021-12-12T14:05:09.459Z"
   },
   {
    "duration": 3,
    "start_time": "2021-12-12T14:05:19.578Z"
   },
   {
    "duration": 7,
    "start_time": "2021-12-12T14:05:22.075Z"
   },
   {
    "duration": 12,
    "start_time": "2021-12-12T14:05:28.112Z"
   },
   {
    "duration": 3,
    "start_time": "2021-12-12T14:05:53.336Z"
   },
   {
    "duration": 6,
    "start_time": "2021-12-12T14:05:55.253Z"
   },
   {
    "duration": 14,
    "start_time": "2021-12-12T14:05:57.970Z"
   },
   {
    "duration": 18,
    "start_time": "2021-12-12T14:06:19.871Z"
   },
   {
    "duration": 12,
    "start_time": "2021-12-12T14:06:28.049Z"
   },
   {
    "duration": 3,
    "start_time": "2021-12-12T14:07:08.972Z"
   },
   {
    "duration": 8,
    "start_time": "2021-12-12T14:07:11.459Z"
   },
   {
    "duration": 11,
    "start_time": "2021-12-12T14:07:14.673Z"
   },
   {
    "duration": 4,
    "start_time": "2021-12-12T14:07:55.033Z"
   },
   {
    "duration": 9,
    "start_time": "2021-12-12T14:07:57.324Z"
   },
   {
    "duration": 12,
    "start_time": "2021-12-12T14:07:59.756Z"
   },
   {
    "duration": 148,
    "start_time": "2021-12-12T14:11:35.184Z"
   },
   {
    "duration": 18,
    "start_time": "2021-12-12T14:11:40.190Z"
   },
   {
    "duration": 19,
    "start_time": "2021-12-12T14:11:44.813Z"
   },
   {
    "duration": 68,
    "start_time": "2021-12-12T14:11:47.877Z"
   },
   {
    "duration": 41,
    "start_time": "2021-12-12T14:11:51.409Z"
   },
   {
    "duration": 3,
    "start_time": "2021-12-12T14:11:55.185Z"
   },
   {
    "duration": 6,
    "start_time": "2021-12-12T14:11:57.167Z"
   },
   {
    "duration": 14,
    "start_time": "2021-12-12T14:11:59.471Z"
   },
   {
    "duration": 9,
    "start_time": "2021-12-12T14:12:14.712Z"
   },
   {
    "duration": 888,
    "start_time": "2021-12-12T14:12:31.123Z"
   },
   {
    "duration": 41,
    "start_time": "2021-12-12T14:12:49.783Z"
   },
   {
    "duration": 3,
    "start_time": "2021-12-12T14:15:46.100Z"
   },
   {
    "duration": 10,
    "start_time": "2021-12-12T14:15:49.290Z"
   },
   {
    "duration": 39,
    "start_time": "2021-12-12T14:15:51.433Z"
   },
   {
    "duration": 7,
    "start_time": "2021-12-12T14:17:26.230Z"
   },
   {
    "duration": 39,
    "start_time": "2021-12-12T14:17:47.579Z"
   },
   {
    "duration": 5,
    "start_time": "2021-12-12T14:22:22.157Z"
   },
   {
    "duration": 5,
    "start_time": "2021-12-12T14:23:09.124Z"
   },
   {
    "duration": 5,
    "start_time": "2021-12-12T14:23:23.638Z"
   },
   {
    "duration": 4,
    "start_time": "2021-12-12T14:23:55.208Z"
   },
   {
    "duration": 4263,
    "start_time": "2021-12-12T14:24:04.183Z"
   },
   {
    "duration": 32,
    "start_time": "2021-12-12T14:24:24.830Z"
   },
   {
    "duration": 36,
    "start_time": "2021-12-12T14:25:01.941Z"
   },
   {
    "duration": 238,
    "start_time": "2021-12-12T14:29:55.713Z"
   },
   {
    "duration": 3,
    "start_time": "2021-12-12T14:30:05.277Z"
   },
   {
    "duration": 8,
    "start_time": "2021-12-12T14:30:07.995Z"
   },
   {
    "duration": 4,
    "start_time": "2021-12-12T14:30:50.738Z"
   },
   {
    "duration": 11,
    "start_time": "2021-12-12T14:30:56.548Z"
   },
   {
    "duration": 25,
    "start_time": "2021-12-12T14:31:22.949Z"
   },
   {
    "duration": 3,
    "start_time": "2021-12-12T14:31:42.607Z"
   },
   {
    "duration": 18,
    "start_time": "2021-12-12T14:31:44.830Z"
   },
   {
    "duration": 16,
    "start_time": "2021-12-12T14:32:19.013Z"
   },
   {
    "duration": 17,
    "start_time": "2021-12-12T14:33:01.147Z"
   },
   {
    "duration": 15,
    "start_time": "2021-12-12T14:33:03.288Z"
   },
   {
    "duration": 18,
    "start_time": "2021-12-12T14:33:05.251Z"
   },
   {
    "duration": 16,
    "start_time": "2021-12-12T14:33:07.661Z"
   },
   {
    "duration": 112,
    "start_time": "2021-12-12T14:39:35.652Z"
   },
   {
    "duration": 81,
    "start_time": "2021-12-12T14:40:35.777Z"
   },
   {
    "duration": 83,
    "start_time": "2021-12-12T14:40:48.688Z"
   },
   {
    "duration": 68,
    "start_time": "2021-12-12T14:40:53.699Z"
   },
   {
    "duration": 302,
    "start_time": "2021-12-12T14:41:05.572Z"
   },
   {
    "duration": 72,
    "start_time": "2021-12-12T14:41:11.071Z"
   },
   {
    "duration": 352,
    "start_time": "2021-12-12T15:09:14.684Z"
   },
   {
    "duration": 91,
    "start_time": "2021-12-12T15:09:29.088Z"
   },
   {
    "duration": 100,
    "start_time": "2021-12-12T15:11:48.370Z"
   },
   {
    "duration": 95,
    "start_time": "2021-12-12T15:12:36.634Z"
   },
   {
    "duration": 111,
    "start_time": "2021-12-12T15:13:12.505Z"
   },
   {
    "duration": 93,
    "start_time": "2021-12-12T15:13:46.330Z"
   },
   {
    "duration": 90,
    "start_time": "2021-12-12T15:15:33.845Z"
   },
   {
    "duration": 91,
    "start_time": "2021-12-12T15:23:38.204Z"
   },
   {
    "duration": 468,
    "start_time": "2021-12-12T15:26:32.744Z"
   },
   {
    "duration": 181,
    "start_time": "2021-12-12T15:26:52.617Z"
   },
   {
    "duration": 96,
    "start_time": "2021-12-12T15:28:48.871Z"
   },
   {
    "duration": 78,
    "start_time": "2021-12-12T15:28:56.209Z"
   },
   {
    "duration": 12,
    "start_time": "2021-12-12T15:29:48.167Z"
   },
   {
    "duration": 10,
    "start_time": "2021-12-12T15:30:11.348Z"
   },
   {
    "duration": 19,
    "start_time": "2021-12-12T15:30:46.434Z"
   },
   {
    "duration": 12,
    "start_time": "2021-12-12T15:30:52.574Z"
   },
   {
    "duration": 3,
    "start_time": "2021-12-12T15:37:46.204Z"
   },
   {
    "duration": 508,
    "start_time": "2021-12-12T15:38:37.272Z"
   },
   {
    "duration": 473,
    "start_time": "2021-12-12T15:40:17.995Z"
   },
   {
    "duration": 4,
    "start_time": "2021-12-12T15:40:49.639Z"
   },
   {
    "duration": 21,
    "start_time": "2021-12-12T15:40:53.021Z"
   },
   {
    "duration": 4,
    "start_time": "2021-12-12T15:41:32.474Z"
   },
   {
    "duration": 28,
    "start_time": "2021-12-12T15:41:34.607Z"
   },
   {
    "duration": 4,
    "start_time": "2021-12-12T15:41:59.893Z"
   },
   {
    "duration": 23,
    "start_time": "2021-12-12T15:42:03.468Z"
   },
   {
    "duration": 4,
    "start_time": "2021-12-12T15:43:08.274Z"
   },
   {
    "duration": 28,
    "start_time": "2021-12-12T15:43:12.080Z"
   },
   {
    "duration": 5,
    "start_time": "2021-12-12T15:43:20.519Z"
   },
   {
    "duration": 39,
    "start_time": "2021-12-12T15:43:22.174Z"
   },
   {
    "duration": 4,
    "start_time": "2021-12-12T15:43:40.204Z"
   },
   {
    "duration": 20,
    "start_time": "2021-12-12T15:43:42.518Z"
   },
   {
    "duration": 4,
    "start_time": "2021-12-12T15:43:51.532Z"
   },
   {
    "duration": 21,
    "start_time": "2021-12-12T15:43:53.823Z"
   },
   {
    "duration": 4,
    "start_time": "2021-12-12T15:43:57.921Z"
   },
   {
    "duration": 25,
    "start_time": "2021-12-12T15:44:00.561Z"
   },
   {
    "duration": 4,
    "start_time": "2021-12-12T15:44:08.723Z"
   },
   {
    "duration": 21,
    "start_time": "2021-12-12T15:44:10.375Z"
   },
   {
    "duration": 16,
    "start_time": "2021-12-12T15:44:43.041Z"
   },
   {
    "duration": 18,
    "start_time": "2021-12-12T15:45:16.310Z"
   },
   {
    "duration": 14,
    "start_time": "2021-12-12T15:45:35.775Z"
   },
   {
    "duration": 267,
    "start_time": "2021-12-12T15:47:28.163Z"
   },
   {
    "duration": 8,
    "start_time": "2021-12-12T15:50:24.640Z"
   },
   {
    "duration": 5,
    "start_time": "2021-12-12T15:50:39.381Z"
   },
   {
    "duration": 254,
    "start_time": "2021-12-12T15:51:32.706Z"
   },
   {
    "duration": 6,
    "start_time": "2021-12-12T15:51:42.651Z"
   },
   {
    "duration": 4,
    "start_time": "2021-12-12T15:51:57.914Z"
   },
   {
    "duration": 93,
    "start_time": "2021-12-12T15:55:49.228Z"
   },
   {
    "duration": 2,
    "start_time": "2021-12-12T15:56:46.694Z"
   },
   {
    "duration": 141,
    "start_time": "2021-12-12T15:56:46.698Z"
   },
   {
    "duration": 10,
    "start_time": "2021-12-12T15:56:46.842Z"
   },
   {
    "duration": 148,
    "start_time": "2021-12-12T15:56:46.853Z"
   },
   {
    "duration": 3,
    "start_time": "2021-12-12T15:56:47.003Z"
   },
   {
    "duration": 23,
    "start_time": "2021-12-12T15:56:47.007Z"
   },
   {
    "duration": 3,
    "start_time": "2021-12-12T15:56:47.033Z"
   },
   {
    "duration": 29,
    "start_time": "2021-12-12T15:56:47.038Z"
   },
   {
    "duration": 21,
    "start_time": "2021-12-12T15:56:47.068Z"
   },
   {
    "duration": 26,
    "start_time": "2021-12-12T15:56:47.090Z"
   },
   {
    "duration": 78,
    "start_time": "2021-12-12T15:56:47.118Z"
   },
   {
    "duration": 75,
    "start_time": "2021-12-12T15:56:47.197Z"
   },
   {
    "duration": 53,
    "start_time": "2021-12-12T15:56:47.273Z"
   },
   {
    "duration": 52,
    "start_time": "2021-12-12T15:56:47.328Z"
   },
   {
    "duration": 2,
    "start_time": "2021-12-12T15:56:47.382Z"
   },
   {
    "duration": 12,
    "start_time": "2021-12-12T15:56:47.385Z"
   },
   {
    "duration": 38,
    "start_time": "2021-12-12T15:56:47.398Z"
   },
   {
    "duration": 60,
    "start_time": "2021-12-12T15:56:47.438Z"
   },
   {
    "duration": 36,
    "start_time": "2021-12-12T15:56:47.501Z"
   },
   {
    "duration": 4,
    "start_time": "2021-12-12T15:56:47.539Z"
   },
   {
    "duration": 34,
    "start_time": "2021-12-12T15:56:47.545Z"
   },
   {
    "duration": 14,
    "start_time": "2021-12-12T15:56:47.580Z"
   },
   {
    "duration": 14,
    "start_time": "2021-12-12T15:56:47.595Z"
   },
   {
    "duration": 14,
    "start_time": "2021-12-12T15:56:47.610Z"
   },
   {
    "duration": 46,
    "start_time": "2021-12-12T15:56:47.626Z"
   },
   {
    "duration": 16,
    "start_time": "2021-12-12T15:56:47.674Z"
   },
   {
    "duration": 86,
    "start_time": "2021-12-12T15:56:47.691Z"
   },
   {
    "duration": 89,
    "start_time": "2021-12-12T15:56:47.779Z"
   },
   {
    "duration": 10,
    "start_time": "2021-12-12T15:56:47.870Z"
   },
   {
    "duration": 11,
    "start_time": "2021-12-12T15:56:47.881Z"
   },
   {
    "duration": 5,
    "start_time": "2021-12-12T15:56:47.893Z"
   },
   {
    "duration": 24,
    "start_time": "2021-12-12T15:56:47.900Z"
   },
   {
    "duration": 43,
    "start_time": "2021-12-12T15:56:47.926Z"
   },
   {
    "duration": 19,
    "start_time": "2021-12-12T15:56:47.970Z"
   },
   {
    "duration": 13,
    "start_time": "2021-12-12T15:56:47.990Z"
   },
   {
    "duration": 7,
    "start_time": "2021-12-12T15:56:48.005Z"
   },
   {
    "duration": 4,
    "start_time": "2021-12-12T15:56:48.013Z"
   },
   {
    "duration": 7,
    "start_time": "2021-12-12T15:56:48.018Z"
   },
   {
    "duration": 38,
    "start_time": "2021-12-12T15:56:48.026Z"
   },
   {
    "duration": 2,
    "start_time": "2021-12-12T16:01:53.431Z"
   },
   {
    "duration": 166,
    "start_time": "2021-12-12T16:01:53.436Z"
   },
   {
    "duration": 10,
    "start_time": "2021-12-12T16:01:53.605Z"
   },
   {
    "duration": 26,
    "start_time": "2021-12-12T16:01:53.618Z"
   },
   {
    "duration": 4,
    "start_time": "2021-12-12T16:01:53.664Z"
   },
   {
    "duration": 18,
    "start_time": "2021-12-12T16:01:53.669Z"
   },
   {
    "duration": 4,
    "start_time": "2021-12-12T16:01:53.689Z"
   },
   {
    "duration": 24,
    "start_time": "2021-12-12T16:01:53.695Z"
   },
   {
    "duration": 42,
    "start_time": "2021-12-12T16:01:53.721Z"
   },
   {
    "duration": 26,
    "start_time": "2021-12-12T16:01:53.765Z"
   },
   {
    "duration": 72,
    "start_time": "2021-12-12T16:01:53.792Z"
   },
   {
    "duration": 68,
    "start_time": "2021-12-12T16:01:53.866Z"
   },
   {
    "duration": 67,
    "start_time": "2021-12-12T16:01:53.935Z"
   },
   {
    "duration": 40,
    "start_time": "2021-12-12T16:01:54.004Z"
   },
   {
    "duration": 2,
    "start_time": "2021-12-12T16:01:54.046Z"
   },
   {
    "duration": 10,
    "start_time": "2021-12-12T16:01:54.063Z"
   },
   {
    "duration": 40,
    "start_time": "2021-12-12T16:01:54.075Z"
   },
   {
    "duration": 49,
    "start_time": "2021-12-12T16:01:54.117Z"
   },
   {
    "duration": 33,
    "start_time": "2021-12-12T16:01:54.169Z"
   },
   {
    "duration": 3,
    "start_time": "2021-12-12T16:01:54.204Z"
   },
   {
    "duration": 25,
    "start_time": "2021-12-12T16:01:54.209Z"
   },
   {
    "duration": 32,
    "start_time": "2021-12-12T16:01:54.236Z"
   },
   {
    "duration": 16,
    "start_time": "2021-12-12T16:01:54.269Z"
   },
   {
    "duration": 15,
    "start_time": "2021-12-12T16:01:54.286Z"
   },
   {
    "duration": 18,
    "start_time": "2021-12-12T16:01:54.302Z"
   },
   {
    "duration": 50,
    "start_time": "2021-12-12T16:01:54.322Z"
   },
   {
    "duration": 72,
    "start_time": "2021-12-12T16:01:54.374Z"
   },
   {
    "duration": 117,
    "start_time": "2021-12-12T16:01:54.448Z"
   },
   {
    "duration": 22,
    "start_time": "2021-12-12T16:01:54.567Z"
   },
   {
    "duration": 17,
    "start_time": "2021-12-12T16:01:54.591Z"
   },
   {
    "duration": 5,
    "start_time": "2021-12-12T16:01:54.610Z"
   },
   {
    "duration": 28,
    "start_time": "2021-12-12T16:01:54.617Z"
   },
   {
    "duration": 14,
    "start_time": "2021-12-12T16:01:54.664Z"
   },
   {
    "duration": 21,
    "start_time": "2021-12-12T16:01:54.680Z"
   },
   {
    "duration": 13,
    "start_time": "2021-12-12T16:01:54.703Z"
   },
   {
    "duration": 7,
    "start_time": "2021-12-12T16:01:54.717Z"
   },
   {
    "duration": 4,
    "start_time": "2021-12-12T16:01:54.726Z"
   },
   {
    "duration": 6,
    "start_time": "2021-12-12T16:01:54.764Z"
   },
   {
    "duration": 5,
    "start_time": "2021-12-12T16:01:54.772Z"
   },
   {
    "duration": 11,
    "start_time": "2021-12-12T16:04:39.954Z"
   },
   {
    "duration": 21,
    "start_time": "2021-12-12T16:04:56.820Z"
   },
   {
    "duration": 11,
    "start_time": "2021-12-12T16:05:03.496Z"
   },
   {
    "duration": 33,
    "start_time": "2021-12-12T16:05:20.692Z"
   },
   {
    "duration": 24,
    "start_time": "2021-12-12T16:05:44.314Z"
   },
   {
    "duration": 10,
    "start_time": "2021-12-12T16:06:04.075Z"
   },
   {
    "duration": 99,
    "start_time": "2021-12-12T16:06:13.364Z"
   },
   {
    "duration": 10,
    "start_time": "2021-12-12T16:06:18.973Z"
   },
   {
    "duration": 600,
    "start_time": "2021-12-12T17:10:52.883Z"
   },
   {
    "duration": 147,
    "start_time": "2021-12-12T17:10:53.486Z"
   },
   {
    "duration": 16,
    "start_time": "2021-12-12T17:10:53.635Z"
   },
   {
    "duration": 36,
    "start_time": "2021-12-12T17:10:53.653Z"
   },
   {
    "duration": 20,
    "start_time": "2021-12-12T17:10:53.691Z"
   },
   {
    "duration": 30,
    "start_time": "2021-12-12T17:10:53.713Z"
   },
   {
    "duration": 15,
    "start_time": "2021-12-12T17:10:53.745Z"
   },
   {
    "duration": 48,
    "start_time": "2021-12-12T17:10:53.763Z"
   },
   {
    "duration": 22,
    "start_time": "2021-12-12T17:10:53.814Z"
   },
   {
    "duration": 32,
    "start_time": "2021-12-12T17:10:53.838Z"
   },
   {
    "duration": 74,
    "start_time": "2021-12-12T17:10:53.873Z"
   },
   {
    "duration": 78,
    "start_time": "2021-12-12T17:10:53.949Z"
   },
   {
    "duration": 68,
    "start_time": "2021-12-12T17:10:54.029Z"
   },
   {
    "duration": 39,
    "start_time": "2021-12-12T17:10:54.099Z"
   },
   {
    "duration": 4,
    "start_time": "2021-12-12T17:10:54.140Z"
   },
   {
    "duration": 32,
    "start_time": "2021-12-12T17:10:54.145Z"
   },
   {
    "duration": 40,
    "start_time": "2021-12-12T17:10:54.179Z"
   },
   {
    "duration": 12,
    "start_time": "2021-12-12T17:10:54.221Z"
   },
   {
    "duration": 40,
    "start_time": "2021-12-12T17:10:54.235Z"
   },
   {
    "duration": 4,
    "start_time": "2021-12-12T17:10:54.278Z"
   },
   {
    "duration": 23,
    "start_time": "2021-12-12T17:10:54.284Z"
   },
   {
    "duration": 17,
    "start_time": "2021-12-12T17:10:54.309Z"
   },
   {
    "duration": 47,
    "start_time": "2021-12-12T17:10:54.329Z"
   },
   {
    "duration": 18,
    "start_time": "2021-12-12T17:10:54.379Z"
   },
   {
    "duration": 19,
    "start_time": "2021-12-12T17:10:54.399Z"
   },
   {
    "duration": 46,
    "start_time": "2021-12-12T17:10:54.419Z"
   },
   {
    "duration": 77,
    "start_time": "2021-12-12T17:10:54.468Z"
   },
   {
    "duration": 105,
    "start_time": "2021-12-12T17:10:54.564Z"
   },
   {
    "duration": 14,
    "start_time": "2021-12-12T17:10:54.671Z"
   },
   {
    "duration": 13,
    "start_time": "2021-12-12T17:10:54.687Z"
   },
   {
    "duration": 4,
    "start_time": "2021-12-12T17:10:54.702Z"
   },
   {
    "duration": 27,
    "start_time": "2021-12-12T17:10:54.708Z"
   },
   {
    "duration": 47,
    "start_time": "2021-12-12T17:10:54.736Z"
   },
   {
    "duration": 17,
    "start_time": "2021-12-12T17:10:54.785Z"
   },
   {
    "duration": 12,
    "start_time": "2021-12-12T17:10:54.804Z"
   },
   {
    "duration": 12,
    "start_time": "2021-12-12T17:10:54.817Z"
   },
   {
    "duration": 34,
    "start_time": "2021-12-12T17:10:54.831Z"
   },
   {
    "duration": 6,
    "start_time": "2021-12-12T17:10:54.879Z"
   },
   {
    "duration": 6,
    "start_time": "2021-12-12T17:10:54.887Z"
   },
   {
    "duration": 753,
    "start_time": "2021-12-13T12:18:08.061Z"
   },
   {
    "duration": 198,
    "start_time": "2021-12-13T12:18:08.816Z"
   },
   {
    "duration": 30,
    "start_time": "2021-12-13T12:18:09.016Z"
   },
   {
    "duration": 25,
    "start_time": "2021-12-13T12:18:09.048Z"
   },
   {
    "duration": 3,
    "start_time": "2021-12-13T12:18:09.075Z"
   },
   {
    "duration": 22,
    "start_time": "2021-12-13T12:18:09.079Z"
   },
   {
    "duration": 7,
    "start_time": "2021-12-13T12:18:09.103Z"
   },
   {
    "duration": 53,
    "start_time": "2021-12-13T12:18:09.111Z"
   },
   {
    "duration": 16,
    "start_time": "2021-12-13T12:18:09.167Z"
   },
   {
    "duration": 21,
    "start_time": "2021-12-13T12:18:09.186Z"
   },
   {
    "duration": 73,
    "start_time": "2021-12-13T12:18:09.209Z"
   },
   {
    "duration": 79,
    "start_time": "2021-12-13T12:18:09.283Z"
   },
   {
    "duration": 51,
    "start_time": "2021-12-13T12:18:09.364Z"
   },
   {
    "duration": 54,
    "start_time": "2021-12-13T12:18:09.417Z"
   },
   {
    "duration": 3,
    "start_time": "2021-12-13T12:18:09.473Z"
   },
   {
    "duration": 11,
    "start_time": "2021-12-13T12:18:09.477Z"
   },
   {
    "duration": 63,
    "start_time": "2021-12-13T12:18:09.489Z"
   },
   {
    "duration": 10,
    "start_time": "2021-12-13T12:18:09.554Z"
   },
   {
    "duration": 9,
    "start_time": "2021-12-13T12:18:09.566Z"
   },
   {
    "duration": 3,
    "start_time": "2021-12-13T12:18:09.577Z"
   },
   {
    "duration": 19,
    "start_time": "2021-12-13T12:18:09.582Z"
   },
   {
    "duration": 47,
    "start_time": "2021-12-13T12:18:09.603Z"
   },
   {
    "duration": 16,
    "start_time": "2021-12-13T12:18:09.653Z"
   },
   {
    "duration": 14,
    "start_time": "2021-12-13T12:18:09.670Z"
   },
   {
    "duration": 15,
    "start_time": "2021-12-13T12:18:09.686Z"
   },
   {
    "duration": 47,
    "start_time": "2021-12-13T12:18:09.702Z"
   },
   {
    "duration": 67,
    "start_time": "2021-12-13T12:18:09.753Z"
   },
   {
    "duration": 101,
    "start_time": "2021-12-13T12:18:09.822Z"
   },
   {
    "duration": 19,
    "start_time": "2021-12-13T12:18:09.925Z"
   },
   {
    "duration": 10,
    "start_time": "2021-12-13T12:18:09.946Z"
   },
   {
    "duration": 4,
    "start_time": "2021-12-13T12:18:09.958Z"
   },
   {
    "duration": 24,
    "start_time": "2021-12-13T12:18:09.965Z"
   },
   {
    "duration": 15,
    "start_time": "2021-12-13T12:18:09.991Z"
   },
   {
    "duration": 50,
    "start_time": "2021-12-13T12:18:10.008Z"
   },
   {
    "duration": 13,
    "start_time": "2021-12-13T12:18:10.060Z"
   },
   {
    "duration": 10,
    "start_time": "2021-12-13T12:18:10.075Z"
   },
   {
    "duration": 6,
    "start_time": "2021-12-13T12:18:10.086Z"
   },
   {
    "duration": 7,
    "start_time": "2021-12-13T12:18:10.094Z"
   },
   {
    "duration": 44,
    "start_time": "2021-12-13T12:18:10.103Z"
   },
   {
    "duration": 96,
    "start_time": "2021-12-13T12:33:04.539Z"
   },
   {
    "duration": 105,
    "start_time": "2021-12-13T12:34:17.829Z"
   },
   {
    "duration": 704,
    "start_time": "2021-12-13T18:48:02.153Z"
   },
   {
    "duration": 195,
    "start_time": "2021-12-13T18:48:02.860Z"
   },
   {
    "duration": 17,
    "start_time": "2021-12-13T18:48:03.058Z"
   },
   {
    "duration": 38,
    "start_time": "2021-12-13T18:48:03.077Z"
   },
   {
    "duration": 3,
    "start_time": "2021-12-13T18:48:03.116Z"
   },
   {
    "duration": 21,
    "start_time": "2021-12-13T18:48:03.121Z"
   },
   {
    "duration": 5,
    "start_time": "2021-12-13T18:48:03.144Z"
   },
   {
    "duration": 55,
    "start_time": "2021-12-13T18:48:03.152Z"
   },
   {
    "duration": 17,
    "start_time": "2021-12-13T18:48:03.210Z"
   },
   {
    "duration": 24,
    "start_time": "2021-12-13T18:48:03.228Z"
   },
   {
    "duration": 81,
    "start_time": "2021-12-13T18:48:03.255Z"
   },
   {
    "duration": 79,
    "start_time": "2021-12-13T18:48:03.338Z"
   },
   {
    "duration": 53,
    "start_time": "2021-12-13T18:48:03.419Z"
   },
   {
    "duration": 54,
    "start_time": "2021-12-13T18:48:03.473Z"
   },
   {
    "duration": 3,
    "start_time": "2021-12-13T18:48:03.529Z"
   },
   {
    "duration": 11,
    "start_time": "2021-12-13T18:48:03.534Z"
   },
   {
    "duration": 67,
    "start_time": "2021-12-13T18:48:03.546Z"
   },
   {
    "duration": 10,
    "start_time": "2021-12-13T18:48:03.615Z"
   },
   {
    "duration": 12,
    "start_time": "2021-12-13T18:48:03.627Z"
   },
   {
    "duration": 4,
    "start_time": "2021-12-13T18:48:03.641Z"
   },
   {
    "duration": 24,
    "start_time": "2021-12-13T18:48:03.647Z"
   },
   {
    "duration": 46,
    "start_time": "2021-12-13T18:48:03.673Z"
   },
   {
    "duration": 18,
    "start_time": "2021-12-13T18:48:03.724Z"
   },
   {
    "duration": 13,
    "start_time": "2021-12-13T18:48:03.744Z"
   },
   {
    "duration": 48,
    "start_time": "2021-12-13T18:48:03.759Z"
   },
   {
    "duration": 21,
    "start_time": "2021-12-13T18:48:03.809Z"
   },
   {
    "duration": 121,
    "start_time": "2021-12-13T18:48:03.832Z"
   },
   {
    "duration": 99,
    "start_time": "2021-12-13T18:48:03.955Z"
   },
   {
    "duration": 10,
    "start_time": "2021-12-13T18:48:04.055Z"
   },
   {
    "duration": 10,
    "start_time": "2021-12-13T18:48:04.067Z"
   },
   {
    "duration": 5,
    "start_time": "2021-12-13T18:48:04.079Z"
   },
   {
    "duration": 19,
    "start_time": "2021-12-13T18:48:04.106Z"
   },
   {
    "duration": 12,
    "start_time": "2021-12-13T18:48:04.127Z"
   },
   {
    "duration": 17,
    "start_time": "2021-12-13T18:48:04.141Z"
   },
   {
    "duration": 13,
    "start_time": "2021-12-13T18:48:04.159Z"
   },
   {
    "duration": 8,
    "start_time": "2021-12-13T18:48:04.206Z"
   },
   {
    "duration": 4,
    "start_time": "2021-12-13T18:48:04.216Z"
   },
   {
    "duration": 6,
    "start_time": "2021-12-13T18:48:04.222Z"
   },
   {
    "duration": 9,
    "start_time": "2021-12-13T18:48:04.229Z"
   }
  ],
  "colab": {
   "collapsed_sections": [
    "E0vqbgi9ay0H",
    "VUC88oWjTJw2"
   ],
   "name": "yandex_music_project_2021.2.ipynb",
   "provenance": []
  },
  "kernelspec": {
   "display_name": "Python 3 (ipykernel)",
   "language": "python",
   "name": "python3"
  },
  "language_info": {
   "codemirror_mode": {
    "name": "ipython",
    "version": 3
   },
   "file_extension": ".py",
   "mimetype": "text/x-python",
   "name": "python",
   "nbconvert_exporter": "python",
   "pygments_lexer": "ipython3",
   "version": "3.10.4"
  },
  "toc": {
   "base_numbering": 1,
   "nav_menu": {},
   "number_sections": true,
   "sideBar": true,
   "skip_h1_title": true,
   "title_cell": "Table of Contents",
   "title_sidebar": "Contents",
   "toc_cell": false,
   "toc_position": {
    "height": "calc(100% - 180px)",
    "left": "10px",
    "top": "150px",
    "width": "303.837px"
   },
   "toc_section_display": true,
   "toc_window_display": true
  }
 },
 "nbformat": 4,
 "nbformat_minor": 1
}
