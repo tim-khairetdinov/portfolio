{
 "cells": [
  {
   "cell_type": "markdown",
   "metadata": {},
   "source": [
    "# Investigating Borrower Reliability"
   ]
  },
  {
   "cell_type": "markdown",
   "metadata": {},
   "source": [
    "Our client is the crediting department of a bank. They want to know if a bank client's family status and number of children affects whether they pay off their loan on time. We are given data on loan repayments from a number of the bank's clients."
   ]
  },
  {
   "cell_type": "markdown",
   "metadata": {},
   "source": [
    "The results of our study will be used when creating a **credit scoring** system: a system that the bank will use to estimate a potential borrower's ability to pay off their loan."
   ]
  },
  {
   "cell_type": "markdown",
   "metadata": {},
   "source": [
    "We need to use to data to answer three questions for the client:\n",
    "\n",
    "1. Is there a connection between having children and paying off loans on time?\n",
    "2. Is there a connection between marital status and paying off loans on time?\n",
    "3. Is there a connection between income level and paying off loans on time?\n",
    "4. Is there a connection between loan purpose and paying off loans on time?"
   ]
  },
  {
   "cell_type": "markdown",
   "metadata": {},
   "source": [
    "## Data Overview"
   ]
  },
  {
   "cell_type": "markdown",
   "metadata": {},
   "source": [
    "### Libraries"
   ]
  },
  {
   "cell_type": "code",
   "execution_count": 1,
   "metadata": {},
   "outputs": [],
   "source": [
    "#pandas for dataframes\n",
    "import pandas as pd\n",
    "\n",
    "#Mystem for Russian lemmatization \n",
    "from pymystem3 import Mystem\n",
    "\n",
    "#immediately generate a Mystem object\n",
    "m = Mystem()"
   ]
  },
  {
   "cell_type": "markdown",
   "metadata": {},
   "source": [
    "### Importing Data"
   ]
  },
  {
   "cell_type": "markdown",
   "metadata": {},
   "source": [
    "Let's take a look at our data."
   ]
  },
  {
   "cell_type": "code",
   "execution_count": 2,
   "metadata": {},
   "outputs": [],
   "source": [
    "data = pd.read_csv('D://Documents/Courses/Yandex.Practicum - Data Science/Projects/2 - Scoring System/data.csv')"
   ]
  },
  {
   "cell_type": "code",
   "execution_count": 3,
   "metadata": {},
   "outputs": [
    {
     "name": "stdout",
     "output_type": "stream",
     "text": [
      "<class 'pandas.core.frame.DataFrame'>\n",
      "RangeIndex: 21525 entries, 0 to 21524\n",
      "Data columns (total 12 columns):\n",
      " #   Column            Non-Null Count  Dtype  \n",
      "---  ------            --------------  -----  \n",
      " 0   children          21525 non-null  int64  \n",
      " 1   days_employed     19351 non-null  float64\n",
      " 2   dob_years         21525 non-null  int64  \n",
      " 3   education         21525 non-null  object \n",
      " 4   education_id      21525 non-null  int64  \n",
      " 5   family_status     21525 non-null  object \n",
      " 6   family_status_id  21525 non-null  int64  \n",
      " 7   gender            21525 non-null  object \n",
      " 8   income_type       21525 non-null  object \n",
      " 9   debt              21525 non-null  int64  \n",
      " 10  total_income      19351 non-null  float64\n",
      " 11  purpose           21525 non-null  object \n",
      "dtypes: float64(2), int64(5), object(5)\n",
      "memory usage: 2.0+ MB\n"
     ]
    }
   ],
   "source": [
    "data.info()"
   ]
  },
  {
   "cell_type": "code",
   "execution_count": 4,
   "metadata": {
    "scrolled": true
   },
   "outputs": [
    {
     "data": {
      "text/html": [
       "<div>\n",
       "<style scoped>\n",
       "    .dataframe tbody tr th:only-of-type {\n",
       "        vertical-align: middle;\n",
       "    }\n",
       "\n",
       "    .dataframe tbody tr th {\n",
       "        vertical-align: top;\n",
       "    }\n",
       "\n",
       "    .dataframe thead th {\n",
       "        text-align: right;\n",
       "    }\n",
       "</style>\n",
       "<table border=\"1\" class=\"dataframe\">\n",
       "  <thead>\n",
       "    <tr style=\"text-align: right;\">\n",
       "      <th></th>\n",
       "      <th>children</th>\n",
       "      <th>days_employed</th>\n",
       "      <th>dob_years</th>\n",
       "      <th>education</th>\n",
       "      <th>education_id</th>\n",
       "      <th>family_status</th>\n",
       "      <th>family_status_id</th>\n",
       "      <th>gender</th>\n",
       "      <th>income_type</th>\n",
       "      <th>debt</th>\n",
       "      <th>total_income</th>\n",
       "      <th>purpose</th>\n",
       "    </tr>\n",
       "  </thead>\n",
       "  <tbody>\n",
       "    <tr>\n",
       "      <th>0</th>\n",
       "      <td>1</td>\n",
       "      <td>-8437.673028</td>\n",
       "      <td>42</td>\n",
       "      <td>высшее</td>\n",
       "      <td>0</td>\n",
       "      <td>женат / замужем</td>\n",
       "      <td>0</td>\n",
       "      <td>F</td>\n",
       "      <td>сотрудник</td>\n",
       "      <td>0</td>\n",
       "      <td>253875.639453</td>\n",
       "      <td>покупка жилья</td>\n",
       "    </tr>\n",
       "    <tr>\n",
       "      <th>1</th>\n",
       "      <td>1</td>\n",
       "      <td>-4024.803754</td>\n",
       "      <td>36</td>\n",
       "      <td>среднее</td>\n",
       "      <td>1</td>\n",
       "      <td>женат / замужем</td>\n",
       "      <td>0</td>\n",
       "      <td>F</td>\n",
       "      <td>сотрудник</td>\n",
       "      <td>0</td>\n",
       "      <td>112080.014102</td>\n",
       "      <td>приобретение автомобиля</td>\n",
       "    </tr>\n",
       "    <tr>\n",
       "      <th>2</th>\n",
       "      <td>0</td>\n",
       "      <td>-5623.422610</td>\n",
       "      <td>33</td>\n",
       "      <td>Среднее</td>\n",
       "      <td>1</td>\n",
       "      <td>женат / замужем</td>\n",
       "      <td>0</td>\n",
       "      <td>M</td>\n",
       "      <td>сотрудник</td>\n",
       "      <td>0</td>\n",
       "      <td>145885.952297</td>\n",
       "      <td>покупка жилья</td>\n",
       "    </tr>\n",
       "    <tr>\n",
       "      <th>3</th>\n",
       "      <td>3</td>\n",
       "      <td>-4124.747207</td>\n",
       "      <td>32</td>\n",
       "      <td>среднее</td>\n",
       "      <td>1</td>\n",
       "      <td>женат / замужем</td>\n",
       "      <td>0</td>\n",
       "      <td>M</td>\n",
       "      <td>сотрудник</td>\n",
       "      <td>0</td>\n",
       "      <td>267628.550329</td>\n",
       "      <td>дополнительное образование</td>\n",
       "    </tr>\n",
       "    <tr>\n",
       "      <th>4</th>\n",
       "      <td>0</td>\n",
       "      <td>340266.072047</td>\n",
       "      <td>53</td>\n",
       "      <td>среднее</td>\n",
       "      <td>1</td>\n",
       "      <td>гражданский брак</td>\n",
       "      <td>1</td>\n",
       "      <td>F</td>\n",
       "      <td>пенсионер</td>\n",
       "      <td>0</td>\n",
       "      <td>158616.077870</td>\n",
       "      <td>сыграть свадьбу</td>\n",
       "    </tr>\n",
       "  </tbody>\n",
       "</table>\n",
       "</div>"
      ],
      "text/plain": [
       "   children  days_employed  dob_years education  education_id  \\\n",
       "0         1   -8437.673028         42    высшее             0   \n",
       "1         1   -4024.803754         36   среднее             1   \n",
       "2         0   -5623.422610         33   Среднее             1   \n",
       "3         3   -4124.747207         32   среднее             1   \n",
       "4         0  340266.072047         53   среднее             1   \n",
       "\n",
       "      family_status  family_status_id gender income_type  debt   total_income  \\\n",
       "0   женат / замужем                 0      F   сотрудник     0  253875.639453   \n",
       "1   женат / замужем                 0      F   сотрудник     0  112080.014102   \n",
       "2   женат / замужем                 0      M   сотрудник     0  145885.952297   \n",
       "3   женат / замужем                 0      M   сотрудник     0  267628.550329   \n",
       "4  гражданский брак                 1      F   пенсионер     0  158616.077870   \n",
       "\n",
       "                      purpose  \n",
       "0               покупка жилья  \n",
       "1     приобретение автомобиля  \n",
       "2               покупка жилья  \n",
       "3  дополнительное образование  \n",
       "4             сыграть свадьбу  "
      ]
     },
     "execution_count": 4,
     "metadata": {},
     "output_type": "execute_result"
    }
   ],
   "source": [
    "data.head(5)"
   ]
  },
  {
   "cell_type": "markdown",
   "metadata": {},
   "source": [
    "### Conclusions"
   ]
  },
  {
   "cell_type": "markdown",
   "metadata": {},
   "source": [
    "The dataframe was imported successfully, but needs work. These are missing values, strange values in existing columns, and possible duplicates."
   ]
  },
  {
   "cell_type": "markdown",
   "metadata": {},
   "source": [
    "## Data Preprocessing"
   ]
  },
  {
   "cell_type": "markdown",
   "metadata": {},
   "source": [
    "### Missing Values"
   ]
  },
  {
   "cell_type": "markdown",
   "metadata": {},
   "source": [
    "Let's see how many missing entries we have."
   ]
  },
  {
   "cell_type": "code",
   "execution_count": 5,
   "metadata": {
    "scrolled": true
   },
   "outputs": [
    {
     "data": {
      "text/plain": [
       "children               0\n",
       "days_employed       2174\n",
       "dob_years              0\n",
       "education              0\n",
       "education_id           0\n",
       "family_status          0\n",
       "family_status_id       0\n",
       "gender                 0\n",
       "income_type            0\n",
       "debt                   0\n",
       "total_income        2174\n",
       "purpose                0\n",
       "dtype: int64"
      ]
     },
     "execution_count": 5,
     "metadata": {},
     "output_type": "execute_result"
    }
   ],
   "source": [
    "data.isna().sum()"
   ]
  },
  {
   "cell_type": "code",
   "execution_count": 6,
   "metadata": {},
   "outputs": [
    {
     "data": {
      "text/plain": [
       "children            0.000000\n",
       "days_employed       0.100999\n",
       "dob_years           0.000000\n",
       "education           0.000000\n",
       "education_id        0.000000\n",
       "family_status       0.000000\n",
       "family_status_id    0.000000\n",
       "gender              0.000000\n",
       "income_type         0.000000\n",
       "debt                0.000000\n",
       "total_income        0.100999\n",
       "purpose             0.000000\n",
       "dtype: float64"
      ]
     },
     "execution_count": 6,
     "metadata": {},
     "output_type": "execute_result"
    }
   ],
   "source": [
    "data.isna().mean()"
   ]
  },
  {
   "cell_type": "markdown",
   "metadata": {},
   "source": [
    "That's noticeable number of missing entries, a whole 10% of the table. They're all in the `days_employed` and `total_income` columns, too. Perhaps they're all unemployed? Let's take a closer look at `days_employed` first."
   ]
  },
  {
   "cell_type": "markdown",
   "metadata": {},
   "source": [
    "<div class=\"alert alert-success\">\n",
    "<b>✅ Комментарий ревьюера :</b> \n",
    "\n",
    "Так же старайся делать оценку доли пропусков - она более информативна, для этого можешь прописать `mean` вместо `sum`\n",
    "</div>"
   ]
  },
  {
   "cell_type": "code",
   "execution_count": 7,
   "metadata": {
    "scrolled": true
   },
   "outputs": [
    {
     "data": {
      "text/html": [
       "<div>\n",
       "<style scoped>\n",
       "    .dataframe tbody tr th:only-of-type {\n",
       "        vertical-align: middle;\n",
       "    }\n",
       "\n",
       "    .dataframe tbody tr th {\n",
       "        vertical-align: top;\n",
       "    }\n",
       "\n",
       "    .dataframe thead th {\n",
       "        text-align: right;\n",
       "    }\n",
       "</style>\n",
       "<table border=\"1\" class=\"dataframe\">\n",
       "  <thead>\n",
       "    <tr style=\"text-align: right;\">\n",
       "      <th></th>\n",
       "      <th>children</th>\n",
       "      <th>days_employed</th>\n",
       "      <th>dob_years</th>\n",
       "      <th>education</th>\n",
       "      <th>education_id</th>\n",
       "      <th>family_status</th>\n",
       "      <th>family_status_id</th>\n",
       "      <th>gender</th>\n",
       "      <th>income_type</th>\n",
       "      <th>debt</th>\n",
       "      <th>total_income</th>\n",
       "      <th>purpose</th>\n",
       "    </tr>\n",
       "  </thead>\n",
       "  <tbody>\n",
       "    <tr>\n",
       "      <th>12</th>\n",
       "      <td>0</td>\n",
       "      <td>NaN</td>\n",
       "      <td>65</td>\n",
       "      <td>среднее</td>\n",
       "      <td>1</td>\n",
       "      <td>гражданский брак</td>\n",
       "      <td>1</td>\n",
       "      <td>M</td>\n",
       "      <td>пенсионер</td>\n",
       "      <td>0</td>\n",
       "      <td>NaN</td>\n",
       "      <td>сыграть свадьбу</td>\n",
       "    </tr>\n",
       "    <tr>\n",
       "      <th>26</th>\n",
       "      <td>0</td>\n",
       "      <td>NaN</td>\n",
       "      <td>41</td>\n",
       "      <td>среднее</td>\n",
       "      <td>1</td>\n",
       "      <td>женат / замужем</td>\n",
       "      <td>0</td>\n",
       "      <td>M</td>\n",
       "      <td>госслужащий</td>\n",
       "      <td>0</td>\n",
       "      <td>NaN</td>\n",
       "      <td>образование</td>\n",
       "    </tr>\n",
       "    <tr>\n",
       "      <th>29</th>\n",
       "      <td>0</td>\n",
       "      <td>NaN</td>\n",
       "      <td>63</td>\n",
       "      <td>среднее</td>\n",
       "      <td>1</td>\n",
       "      <td>Не женат / не замужем</td>\n",
       "      <td>4</td>\n",
       "      <td>F</td>\n",
       "      <td>пенсионер</td>\n",
       "      <td>0</td>\n",
       "      <td>NaN</td>\n",
       "      <td>строительство жилой недвижимости</td>\n",
       "    </tr>\n",
       "    <tr>\n",
       "      <th>41</th>\n",
       "      <td>0</td>\n",
       "      <td>NaN</td>\n",
       "      <td>50</td>\n",
       "      <td>среднее</td>\n",
       "      <td>1</td>\n",
       "      <td>женат / замужем</td>\n",
       "      <td>0</td>\n",
       "      <td>F</td>\n",
       "      <td>госслужащий</td>\n",
       "      <td>0</td>\n",
       "      <td>NaN</td>\n",
       "      <td>сделка с подержанным автомобилем</td>\n",
       "    </tr>\n",
       "    <tr>\n",
       "      <th>55</th>\n",
       "      <td>0</td>\n",
       "      <td>NaN</td>\n",
       "      <td>54</td>\n",
       "      <td>среднее</td>\n",
       "      <td>1</td>\n",
       "      <td>гражданский брак</td>\n",
       "      <td>1</td>\n",
       "      <td>F</td>\n",
       "      <td>пенсионер</td>\n",
       "      <td>1</td>\n",
       "      <td>NaN</td>\n",
       "      <td>сыграть свадьбу</td>\n",
       "    </tr>\n",
       "    <tr>\n",
       "      <th>65</th>\n",
       "      <td>0</td>\n",
       "      <td>NaN</td>\n",
       "      <td>21</td>\n",
       "      <td>среднее</td>\n",
       "      <td>1</td>\n",
       "      <td>Не женат / не замужем</td>\n",
       "      <td>4</td>\n",
       "      <td>M</td>\n",
       "      <td>компаньон</td>\n",
       "      <td>0</td>\n",
       "      <td>NaN</td>\n",
       "      <td>операции с коммерческой недвижимостью</td>\n",
       "    </tr>\n",
       "    <tr>\n",
       "      <th>67</th>\n",
       "      <td>0</td>\n",
       "      <td>NaN</td>\n",
       "      <td>52</td>\n",
       "      <td>высшее</td>\n",
       "      <td>0</td>\n",
       "      <td>женат / замужем</td>\n",
       "      <td>0</td>\n",
       "      <td>F</td>\n",
       "      <td>пенсионер</td>\n",
       "      <td>0</td>\n",
       "      <td>NaN</td>\n",
       "      <td>покупка жилья для семьи</td>\n",
       "    </tr>\n",
       "    <tr>\n",
       "      <th>72</th>\n",
       "      <td>1</td>\n",
       "      <td>NaN</td>\n",
       "      <td>32</td>\n",
       "      <td>высшее</td>\n",
       "      <td>0</td>\n",
       "      <td>женат / замужем</td>\n",
       "      <td>0</td>\n",
       "      <td>M</td>\n",
       "      <td>госслужащий</td>\n",
       "      <td>0</td>\n",
       "      <td>NaN</td>\n",
       "      <td>операции с коммерческой недвижимостью</td>\n",
       "    </tr>\n",
       "    <tr>\n",
       "      <th>82</th>\n",
       "      <td>2</td>\n",
       "      <td>NaN</td>\n",
       "      <td>50</td>\n",
       "      <td>высшее</td>\n",
       "      <td>0</td>\n",
       "      <td>женат / замужем</td>\n",
       "      <td>0</td>\n",
       "      <td>F</td>\n",
       "      <td>сотрудник</td>\n",
       "      <td>0</td>\n",
       "      <td>NaN</td>\n",
       "      <td>жилье</td>\n",
       "    </tr>\n",
       "    <tr>\n",
       "      <th>83</th>\n",
       "      <td>0</td>\n",
       "      <td>NaN</td>\n",
       "      <td>52</td>\n",
       "      <td>среднее</td>\n",
       "      <td>1</td>\n",
       "      <td>женат / замужем</td>\n",
       "      <td>0</td>\n",
       "      <td>M</td>\n",
       "      <td>сотрудник</td>\n",
       "      <td>0</td>\n",
       "      <td>NaN</td>\n",
       "      <td>жилье</td>\n",
       "    </tr>\n",
       "    <tr>\n",
       "      <th>90</th>\n",
       "      <td>2</td>\n",
       "      <td>NaN</td>\n",
       "      <td>35</td>\n",
       "      <td>высшее</td>\n",
       "      <td>0</td>\n",
       "      <td>женат / замужем</td>\n",
       "      <td>0</td>\n",
       "      <td>F</td>\n",
       "      <td>сотрудник</td>\n",
       "      <td>0</td>\n",
       "      <td>NaN</td>\n",
       "      <td>операции с жильем</td>\n",
       "    </tr>\n",
       "    <tr>\n",
       "      <th>94</th>\n",
       "      <td>1</td>\n",
       "      <td>NaN</td>\n",
       "      <td>34</td>\n",
       "      <td>высшее</td>\n",
       "      <td>0</td>\n",
       "      <td>гражданский брак</td>\n",
       "      <td>1</td>\n",
       "      <td>F</td>\n",
       "      <td>компаньон</td>\n",
       "      <td>0</td>\n",
       "      <td>NaN</td>\n",
       "      <td>на проведение свадьбы</td>\n",
       "    </tr>\n",
       "    <tr>\n",
       "      <th>96</th>\n",
       "      <td>0</td>\n",
       "      <td>NaN</td>\n",
       "      <td>44</td>\n",
       "      <td>СРЕДНЕЕ</td>\n",
       "      <td>1</td>\n",
       "      <td>женат / замужем</td>\n",
       "      <td>0</td>\n",
       "      <td>F</td>\n",
       "      <td>сотрудник</td>\n",
       "      <td>0</td>\n",
       "      <td>NaN</td>\n",
       "      <td>покупка жилой недвижимости</td>\n",
       "    </tr>\n",
       "    <tr>\n",
       "      <th>97</th>\n",
       "      <td>0</td>\n",
       "      <td>NaN</td>\n",
       "      <td>47</td>\n",
       "      <td>высшее</td>\n",
       "      <td>0</td>\n",
       "      <td>женат / замужем</td>\n",
       "      <td>0</td>\n",
       "      <td>F</td>\n",
       "      <td>сотрудник</td>\n",
       "      <td>0</td>\n",
       "      <td>NaN</td>\n",
       "      <td>профильное образование</td>\n",
       "    </tr>\n",
       "    <tr>\n",
       "      <th>120</th>\n",
       "      <td>0</td>\n",
       "      <td>NaN</td>\n",
       "      <td>46</td>\n",
       "      <td>среднее</td>\n",
       "      <td>1</td>\n",
       "      <td>женат / замужем</td>\n",
       "      <td>0</td>\n",
       "      <td>F</td>\n",
       "      <td>сотрудник</td>\n",
       "      <td>0</td>\n",
       "      <td>NaN</td>\n",
       "      <td>высшее образование</td>\n",
       "    </tr>\n",
       "  </tbody>\n",
       "</table>\n",
       "</div>"
      ],
      "text/plain": [
       "     children  days_employed  dob_years education  education_id  \\\n",
       "12          0            NaN         65   среднее             1   \n",
       "26          0            NaN         41   среднее             1   \n",
       "29          0            NaN         63   среднее             1   \n",
       "41          0            NaN         50   среднее             1   \n",
       "55          0            NaN         54   среднее             1   \n",
       "65          0            NaN         21   среднее             1   \n",
       "67          0            NaN         52    высшее             0   \n",
       "72          1            NaN         32    высшее             0   \n",
       "82          2            NaN         50    высшее             0   \n",
       "83          0            NaN         52   среднее             1   \n",
       "90          2            NaN         35    высшее             0   \n",
       "94          1            NaN         34    высшее             0   \n",
       "96          0            NaN         44   СРЕДНЕЕ             1   \n",
       "97          0            NaN         47    высшее             0   \n",
       "120         0            NaN         46   среднее             1   \n",
       "\n",
       "             family_status  family_status_id gender  income_type  debt  \\\n",
       "12        гражданский брак                 1      M    пенсионер     0   \n",
       "26         женат / замужем                 0      M  госслужащий     0   \n",
       "29   Не женат / не замужем                 4      F    пенсионер     0   \n",
       "41         женат / замужем                 0      F  госслужащий     0   \n",
       "55        гражданский брак                 1      F    пенсионер     1   \n",
       "65   Не женат / не замужем                 4      M    компаньон     0   \n",
       "67         женат / замужем                 0      F    пенсионер     0   \n",
       "72         женат / замужем                 0      M  госслужащий     0   \n",
       "82         женат / замужем                 0      F    сотрудник     0   \n",
       "83         женат / замужем                 0      M    сотрудник     0   \n",
       "90         женат / замужем                 0      F    сотрудник     0   \n",
       "94        гражданский брак                 1      F    компаньон     0   \n",
       "96         женат / замужем                 0      F    сотрудник     0   \n",
       "97         женат / замужем                 0      F    сотрудник     0   \n",
       "120        женат / замужем                 0      F    сотрудник     0   \n",
       "\n",
       "     total_income                                purpose  \n",
       "12            NaN                        сыграть свадьбу  \n",
       "26            NaN                            образование  \n",
       "29            NaN       строительство жилой недвижимости  \n",
       "41            NaN       сделка с подержанным автомобилем  \n",
       "55            NaN                        сыграть свадьбу  \n",
       "65            NaN  операции с коммерческой недвижимостью  \n",
       "67            NaN                покупка жилья для семьи  \n",
       "72            NaN  операции с коммерческой недвижимостью  \n",
       "82            NaN                                  жилье  \n",
       "83            NaN                                  жилье  \n",
       "90            NaN                      операции с жильем  \n",
       "94            NaN                  на проведение свадьбы  \n",
       "96            NaN             покупка жилой недвижимости  \n",
       "97            NaN                 профильное образование  \n",
       "120           NaN                     высшее образование  "
      ]
     },
     "execution_count": 7,
     "metadata": {},
     "output_type": "execute_result"
    }
   ],
   "source": [
    "data[data['days_employed'].isna()].head(15)"
   ]
  },
  {
   "cell_type": "markdown",
   "metadata": {},
   "source": [
    "These are not all unemployed, so that hypothesis did not pan out."
   ]
  },
  {
   "cell_type": "markdown",
   "metadata": {},
   "source": [
    "We don't know why there are missing values in `days_employed`, since we can't ask our data source. With this absence of information, we're going to have to make a decision to fill in ouor missing values ourselves. To do this, we will replace them with the median value of their `income_type` group."
   ]
  },
  {
   "cell_type": "markdown",
   "metadata": {},
   "source": [
    "But first, let's take a look at `total_income`."
   ]
  },
  {
   "cell_type": "code",
   "execution_count": 8,
   "metadata": {},
   "outputs": [
    {
     "data": {
      "text/html": [
       "<div>\n",
       "<style scoped>\n",
       "    .dataframe tbody tr th:only-of-type {\n",
       "        vertical-align: middle;\n",
       "    }\n",
       "\n",
       "    .dataframe tbody tr th {\n",
       "        vertical-align: top;\n",
       "    }\n",
       "\n",
       "    .dataframe thead th {\n",
       "        text-align: right;\n",
       "    }\n",
       "</style>\n",
       "<table border=\"1\" class=\"dataframe\">\n",
       "  <thead>\n",
       "    <tr style=\"text-align: right;\">\n",
       "      <th></th>\n",
       "      <th>children</th>\n",
       "      <th>days_employed</th>\n",
       "      <th>dob_years</th>\n",
       "      <th>education</th>\n",
       "      <th>education_id</th>\n",
       "      <th>family_status</th>\n",
       "      <th>family_status_id</th>\n",
       "      <th>gender</th>\n",
       "      <th>income_type</th>\n",
       "      <th>debt</th>\n",
       "      <th>total_income</th>\n",
       "      <th>purpose</th>\n",
       "    </tr>\n",
       "  </thead>\n",
       "  <tbody>\n",
       "    <tr>\n",
       "      <th>12</th>\n",
       "      <td>0</td>\n",
       "      <td>NaN</td>\n",
       "      <td>65</td>\n",
       "      <td>среднее</td>\n",
       "      <td>1</td>\n",
       "      <td>гражданский брак</td>\n",
       "      <td>1</td>\n",
       "      <td>M</td>\n",
       "      <td>пенсионер</td>\n",
       "      <td>0</td>\n",
       "      <td>NaN</td>\n",
       "      <td>сыграть свадьбу</td>\n",
       "    </tr>\n",
       "    <tr>\n",
       "      <th>26</th>\n",
       "      <td>0</td>\n",
       "      <td>NaN</td>\n",
       "      <td>41</td>\n",
       "      <td>среднее</td>\n",
       "      <td>1</td>\n",
       "      <td>женат / замужем</td>\n",
       "      <td>0</td>\n",
       "      <td>M</td>\n",
       "      <td>госслужащий</td>\n",
       "      <td>0</td>\n",
       "      <td>NaN</td>\n",
       "      <td>образование</td>\n",
       "    </tr>\n",
       "    <tr>\n",
       "      <th>29</th>\n",
       "      <td>0</td>\n",
       "      <td>NaN</td>\n",
       "      <td>63</td>\n",
       "      <td>среднее</td>\n",
       "      <td>1</td>\n",
       "      <td>Не женат / не замужем</td>\n",
       "      <td>4</td>\n",
       "      <td>F</td>\n",
       "      <td>пенсионер</td>\n",
       "      <td>0</td>\n",
       "      <td>NaN</td>\n",
       "      <td>строительство жилой недвижимости</td>\n",
       "    </tr>\n",
       "    <tr>\n",
       "      <th>41</th>\n",
       "      <td>0</td>\n",
       "      <td>NaN</td>\n",
       "      <td>50</td>\n",
       "      <td>среднее</td>\n",
       "      <td>1</td>\n",
       "      <td>женат / замужем</td>\n",
       "      <td>0</td>\n",
       "      <td>F</td>\n",
       "      <td>госслужащий</td>\n",
       "      <td>0</td>\n",
       "      <td>NaN</td>\n",
       "      <td>сделка с подержанным автомобилем</td>\n",
       "    </tr>\n",
       "    <tr>\n",
       "      <th>55</th>\n",
       "      <td>0</td>\n",
       "      <td>NaN</td>\n",
       "      <td>54</td>\n",
       "      <td>среднее</td>\n",
       "      <td>1</td>\n",
       "      <td>гражданский брак</td>\n",
       "      <td>1</td>\n",
       "      <td>F</td>\n",
       "      <td>пенсионер</td>\n",
       "      <td>1</td>\n",
       "      <td>NaN</td>\n",
       "      <td>сыграть свадьбу</td>\n",
       "    </tr>\n",
       "    <tr>\n",
       "      <th>...</th>\n",
       "      <td>...</td>\n",
       "      <td>...</td>\n",
       "      <td>...</td>\n",
       "      <td>...</td>\n",
       "      <td>...</td>\n",
       "      <td>...</td>\n",
       "      <td>...</td>\n",
       "      <td>...</td>\n",
       "      <td>...</td>\n",
       "      <td>...</td>\n",
       "      <td>...</td>\n",
       "      <td>...</td>\n",
       "    </tr>\n",
       "    <tr>\n",
       "      <th>21489</th>\n",
       "      <td>2</td>\n",
       "      <td>NaN</td>\n",
       "      <td>47</td>\n",
       "      <td>Среднее</td>\n",
       "      <td>1</td>\n",
       "      <td>женат / замужем</td>\n",
       "      <td>0</td>\n",
       "      <td>M</td>\n",
       "      <td>компаньон</td>\n",
       "      <td>0</td>\n",
       "      <td>NaN</td>\n",
       "      <td>сделка с автомобилем</td>\n",
       "    </tr>\n",
       "    <tr>\n",
       "      <th>21495</th>\n",
       "      <td>1</td>\n",
       "      <td>NaN</td>\n",
       "      <td>50</td>\n",
       "      <td>среднее</td>\n",
       "      <td>1</td>\n",
       "      <td>гражданский брак</td>\n",
       "      <td>1</td>\n",
       "      <td>F</td>\n",
       "      <td>сотрудник</td>\n",
       "      <td>0</td>\n",
       "      <td>NaN</td>\n",
       "      <td>свадьба</td>\n",
       "    </tr>\n",
       "    <tr>\n",
       "      <th>21497</th>\n",
       "      <td>0</td>\n",
       "      <td>NaN</td>\n",
       "      <td>48</td>\n",
       "      <td>ВЫСШЕЕ</td>\n",
       "      <td>0</td>\n",
       "      <td>женат / замужем</td>\n",
       "      <td>0</td>\n",
       "      <td>F</td>\n",
       "      <td>компаньон</td>\n",
       "      <td>0</td>\n",
       "      <td>NaN</td>\n",
       "      <td>строительство недвижимости</td>\n",
       "    </tr>\n",
       "    <tr>\n",
       "      <th>21502</th>\n",
       "      <td>1</td>\n",
       "      <td>NaN</td>\n",
       "      <td>42</td>\n",
       "      <td>среднее</td>\n",
       "      <td>1</td>\n",
       "      <td>женат / замужем</td>\n",
       "      <td>0</td>\n",
       "      <td>F</td>\n",
       "      <td>сотрудник</td>\n",
       "      <td>0</td>\n",
       "      <td>NaN</td>\n",
       "      <td>строительство жилой недвижимости</td>\n",
       "    </tr>\n",
       "    <tr>\n",
       "      <th>21510</th>\n",
       "      <td>2</td>\n",
       "      <td>NaN</td>\n",
       "      <td>28</td>\n",
       "      <td>среднее</td>\n",
       "      <td>1</td>\n",
       "      <td>женат / замужем</td>\n",
       "      <td>0</td>\n",
       "      <td>F</td>\n",
       "      <td>сотрудник</td>\n",
       "      <td>0</td>\n",
       "      <td>NaN</td>\n",
       "      <td>приобретение автомобиля</td>\n",
       "    </tr>\n",
       "  </tbody>\n",
       "</table>\n",
       "<p>2174 rows × 12 columns</p>\n",
       "</div>"
      ],
      "text/plain": [
       "       children  days_employed  dob_years education  education_id  \\\n",
       "12            0            NaN         65   среднее             1   \n",
       "26            0            NaN         41   среднее             1   \n",
       "29            0            NaN         63   среднее             1   \n",
       "41            0            NaN         50   среднее             1   \n",
       "55            0            NaN         54   среднее             1   \n",
       "...         ...            ...        ...       ...           ...   \n",
       "21489         2            NaN         47   Среднее             1   \n",
       "21495         1            NaN         50   среднее             1   \n",
       "21497         0            NaN         48    ВЫСШЕЕ             0   \n",
       "21502         1            NaN         42   среднее             1   \n",
       "21510         2            NaN         28   среднее             1   \n",
       "\n",
       "               family_status  family_status_id gender  income_type  debt  \\\n",
       "12          гражданский брак                 1      M    пенсионер     0   \n",
       "26           женат / замужем                 0      M  госслужащий     0   \n",
       "29     Не женат / не замужем                 4      F    пенсионер     0   \n",
       "41           женат / замужем                 0      F  госслужащий     0   \n",
       "55          гражданский брак                 1      F    пенсионер     1   \n",
       "...                      ...               ...    ...          ...   ...   \n",
       "21489        женат / замужем                 0      M    компаньон     0   \n",
       "21495       гражданский брак                 1      F    сотрудник     0   \n",
       "21497        женат / замужем                 0      F    компаньон     0   \n",
       "21502        женат / замужем                 0      F    сотрудник     0   \n",
       "21510        женат / замужем                 0      F    сотрудник     0   \n",
       "\n",
       "       total_income                           purpose  \n",
       "12              NaN                   сыграть свадьбу  \n",
       "26              NaN                       образование  \n",
       "29              NaN  строительство жилой недвижимости  \n",
       "41              NaN  сделка с подержанным автомобилем  \n",
       "55              NaN                   сыграть свадьбу  \n",
       "...             ...                               ...  \n",
       "21489           NaN              сделка с автомобилем  \n",
       "21495           NaN                           свадьба  \n",
       "21497           NaN        строительство недвижимости  \n",
       "21502           NaN  строительство жилой недвижимости  \n",
       "21510           NaN           приобретение автомобиля  \n",
       "\n",
       "[2174 rows x 12 columns]"
      ]
     },
     "execution_count": 8,
     "metadata": {},
     "output_type": "execute_result"
    }
   ],
   "source": [
    "data[data['total_income'].isna()]"
   ]
  },
  {
   "cell_type": "code",
   "execution_count": 9,
   "metadata": {},
   "outputs": [
    {
     "data": {
      "text/html": [
       "<div>\n",
       "<style scoped>\n",
       "    .dataframe tbody tr th:only-of-type {\n",
       "        vertical-align: middle;\n",
       "    }\n",
       "\n",
       "    .dataframe tbody tr th {\n",
       "        vertical-align: top;\n",
       "    }\n",
       "\n",
       "    .dataframe thead th {\n",
       "        text-align: right;\n",
       "    }\n",
       "</style>\n",
       "<table border=\"1\" class=\"dataframe\">\n",
       "  <thead>\n",
       "    <tr style=\"text-align: right;\">\n",
       "      <th></th>\n",
       "      <th>children</th>\n",
       "      <th>days_employed</th>\n",
       "      <th>dob_years</th>\n",
       "      <th>education</th>\n",
       "      <th>education_id</th>\n",
       "      <th>family_status</th>\n",
       "      <th>family_status_id</th>\n",
       "      <th>gender</th>\n",
       "      <th>income_type</th>\n",
       "      <th>debt</th>\n",
       "      <th>total_income</th>\n",
       "      <th>purpose</th>\n",
       "    </tr>\n",
       "  </thead>\n",
       "  <tbody>\n",
       "    <tr>\n",
       "      <th>12</th>\n",
       "      <td>0</td>\n",
       "      <td>NaN</td>\n",
       "      <td>65</td>\n",
       "      <td>среднее</td>\n",
       "      <td>1</td>\n",
       "      <td>гражданский брак</td>\n",
       "      <td>1</td>\n",
       "      <td>M</td>\n",
       "      <td>пенсионер</td>\n",
       "      <td>0</td>\n",
       "      <td>NaN</td>\n",
       "      <td>сыграть свадьбу</td>\n",
       "    </tr>\n",
       "    <tr>\n",
       "      <th>26</th>\n",
       "      <td>0</td>\n",
       "      <td>NaN</td>\n",
       "      <td>41</td>\n",
       "      <td>среднее</td>\n",
       "      <td>1</td>\n",
       "      <td>женат / замужем</td>\n",
       "      <td>0</td>\n",
       "      <td>M</td>\n",
       "      <td>госслужащий</td>\n",
       "      <td>0</td>\n",
       "      <td>NaN</td>\n",
       "      <td>образование</td>\n",
       "    </tr>\n",
       "    <tr>\n",
       "      <th>29</th>\n",
       "      <td>0</td>\n",
       "      <td>NaN</td>\n",
       "      <td>63</td>\n",
       "      <td>среднее</td>\n",
       "      <td>1</td>\n",
       "      <td>Не женат / не замужем</td>\n",
       "      <td>4</td>\n",
       "      <td>F</td>\n",
       "      <td>пенсионер</td>\n",
       "      <td>0</td>\n",
       "      <td>NaN</td>\n",
       "      <td>строительство жилой недвижимости</td>\n",
       "    </tr>\n",
       "    <tr>\n",
       "      <th>41</th>\n",
       "      <td>0</td>\n",
       "      <td>NaN</td>\n",
       "      <td>50</td>\n",
       "      <td>среднее</td>\n",
       "      <td>1</td>\n",
       "      <td>женат / замужем</td>\n",
       "      <td>0</td>\n",
       "      <td>F</td>\n",
       "      <td>госслужащий</td>\n",
       "      <td>0</td>\n",
       "      <td>NaN</td>\n",
       "      <td>сделка с подержанным автомобилем</td>\n",
       "    </tr>\n",
       "    <tr>\n",
       "      <th>55</th>\n",
       "      <td>0</td>\n",
       "      <td>NaN</td>\n",
       "      <td>54</td>\n",
       "      <td>среднее</td>\n",
       "      <td>1</td>\n",
       "      <td>гражданский брак</td>\n",
       "      <td>1</td>\n",
       "      <td>F</td>\n",
       "      <td>пенсионер</td>\n",
       "      <td>1</td>\n",
       "      <td>NaN</td>\n",
       "      <td>сыграть свадьбу</td>\n",
       "    </tr>\n",
       "    <tr>\n",
       "      <th>...</th>\n",
       "      <td>...</td>\n",
       "      <td>...</td>\n",
       "      <td>...</td>\n",
       "      <td>...</td>\n",
       "      <td>...</td>\n",
       "      <td>...</td>\n",
       "      <td>...</td>\n",
       "      <td>...</td>\n",
       "      <td>...</td>\n",
       "      <td>...</td>\n",
       "      <td>...</td>\n",
       "      <td>...</td>\n",
       "    </tr>\n",
       "    <tr>\n",
       "      <th>21489</th>\n",
       "      <td>2</td>\n",
       "      <td>NaN</td>\n",
       "      <td>47</td>\n",
       "      <td>Среднее</td>\n",
       "      <td>1</td>\n",
       "      <td>женат / замужем</td>\n",
       "      <td>0</td>\n",
       "      <td>M</td>\n",
       "      <td>компаньон</td>\n",
       "      <td>0</td>\n",
       "      <td>NaN</td>\n",
       "      <td>сделка с автомобилем</td>\n",
       "    </tr>\n",
       "    <tr>\n",
       "      <th>21495</th>\n",
       "      <td>1</td>\n",
       "      <td>NaN</td>\n",
       "      <td>50</td>\n",
       "      <td>среднее</td>\n",
       "      <td>1</td>\n",
       "      <td>гражданский брак</td>\n",
       "      <td>1</td>\n",
       "      <td>F</td>\n",
       "      <td>сотрудник</td>\n",
       "      <td>0</td>\n",
       "      <td>NaN</td>\n",
       "      <td>свадьба</td>\n",
       "    </tr>\n",
       "    <tr>\n",
       "      <th>21497</th>\n",
       "      <td>0</td>\n",
       "      <td>NaN</td>\n",
       "      <td>48</td>\n",
       "      <td>ВЫСШЕЕ</td>\n",
       "      <td>0</td>\n",
       "      <td>женат / замужем</td>\n",
       "      <td>0</td>\n",
       "      <td>F</td>\n",
       "      <td>компаньон</td>\n",
       "      <td>0</td>\n",
       "      <td>NaN</td>\n",
       "      <td>строительство недвижимости</td>\n",
       "    </tr>\n",
       "    <tr>\n",
       "      <th>21502</th>\n",
       "      <td>1</td>\n",
       "      <td>NaN</td>\n",
       "      <td>42</td>\n",
       "      <td>среднее</td>\n",
       "      <td>1</td>\n",
       "      <td>женат / замужем</td>\n",
       "      <td>0</td>\n",
       "      <td>F</td>\n",
       "      <td>сотрудник</td>\n",
       "      <td>0</td>\n",
       "      <td>NaN</td>\n",
       "      <td>строительство жилой недвижимости</td>\n",
       "    </tr>\n",
       "    <tr>\n",
       "      <th>21510</th>\n",
       "      <td>2</td>\n",
       "      <td>NaN</td>\n",
       "      <td>28</td>\n",
       "      <td>среднее</td>\n",
       "      <td>1</td>\n",
       "      <td>женат / замужем</td>\n",
       "      <td>0</td>\n",
       "      <td>F</td>\n",
       "      <td>сотрудник</td>\n",
       "      <td>0</td>\n",
       "      <td>NaN</td>\n",
       "      <td>приобретение автомобиля</td>\n",
       "    </tr>\n",
       "  </tbody>\n",
       "</table>\n",
       "<p>2174 rows × 12 columns</p>\n",
       "</div>"
      ],
      "text/plain": [
       "       children  days_employed  dob_years education  education_id  \\\n",
       "12            0            NaN         65   среднее             1   \n",
       "26            0            NaN         41   среднее             1   \n",
       "29            0            NaN         63   среднее             1   \n",
       "41            0            NaN         50   среднее             1   \n",
       "55            0            NaN         54   среднее             1   \n",
       "...         ...            ...        ...       ...           ...   \n",
       "21489         2            NaN         47   Среднее             1   \n",
       "21495         1            NaN         50   среднее             1   \n",
       "21497         0            NaN         48    ВЫСШЕЕ             0   \n",
       "21502         1            NaN         42   среднее             1   \n",
       "21510         2            NaN         28   среднее             1   \n",
       "\n",
       "               family_status  family_status_id gender  income_type  debt  \\\n",
       "12          гражданский брак                 1      M    пенсионер     0   \n",
       "26           женат / замужем                 0      M  госслужащий     0   \n",
       "29     Не женат / не замужем                 4      F    пенсионер     0   \n",
       "41           женат / замужем                 0      F  госслужащий     0   \n",
       "55          гражданский брак                 1      F    пенсионер     1   \n",
       "...                      ...               ...    ...          ...   ...   \n",
       "21489        женат / замужем                 0      M    компаньон     0   \n",
       "21495       гражданский брак                 1      F    сотрудник     0   \n",
       "21497        женат / замужем                 0      F    компаньон     0   \n",
       "21502        женат / замужем                 0      F    сотрудник     0   \n",
       "21510        женат / замужем                 0      F    сотрудник     0   \n",
       "\n",
       "       total_income                           purpose  \n",
       "12              NaN                   сыграть свадьбу  \n",
       "26              NaN                       образование  \n",
       "29              NaN  строительство жилой недвижимости  \n",
       "41              NaN  сделка с подержанным автомобилем  \n",
       "55              NaN                   сыграть свадьбу  \n",
       "...             ...                               ...  \n",
       "21489           NaN              сделка с автомобилем  \n",
       "21495           NaN                           свадьба  \n",
       "21497           NaN        строительство недвижимости  \n",
       "21502           NaN  строительство жилой недвижимости  \n",
       "21510           NaN           приобретение автомобиля  \n",
       "\n",
       "[2174 rows x 12 columns]"
      ]
     },
     "execution_count": 9,
     "metadata": {},
     "output_type": "execute_result"
    }
   ],
   "source": [
    "data[data['total_income'].isna() & data['days_employed'].isna()]"
   ]
  },
  {
   "cell_type": "markdown",
   "metadata": {},
   "source": [
    "The missing entries for `days_employed` and `total_income` are all on the same lines, so we can fix them with one function."
   ]
  },
  {
   "cell_type": "markdown",
   "metadata": {},
   "source": [
    "For both columns, we will be replacing the missing values with the median value for their `income_type`."
   ]
  },
  {
   "cell_type": "code",
   "execution_count": 10,
   "metadata": {},
   "outputs": [
    {
     "data": {
      "text/plain": [
       "сотрудник          11119\n",
       "компаньон           5085\n",
       "пенсионер           3856\n",
       "госслужащий         1459\n",
       "безработный            2\n",
       "предприниматель        2\n",
       "студент                1\n",
       "в декрете              1\n",
       "Name: income_type, dtype: int64"
      ]
     },
     "execution_count": 10,
     "metadata": {},
     "output_type": "execute_result"
    }
   ],
   "source": [
    "#see what income_type categories exist\n",
    "data['income_type'].value_counts()"
   ]
  },
  {
   "cell_type": "code",
   "execution_count": 11,
   "metadata": {},
   "outputs": [],
   "source": [
    "#make a list of the most common income_type categories\n",
    "inc_types = ['сотрудник', 'компаньон', 'пенсионер', 'госслужащий']"
   ]
  },
  {
   "cell_type": "code",
   "execution_count": 12,
   "metadata": {},
   "outputs": [],
   "source": [
    "#replace the missing values in total_income and days_employed with the median values of each category\n",
    "for inc_type in inc_types:\n",
    "    \n",
    "    #total_income median\n",
    "    med_total = data[data['income_type'] == inc_type]['total_income'].median()\n",
    "    \n",
    "    #days_employed median\n",
    "    med_days = data[data['income_type'] == inc_type]['days_employed'].median()\n",
    "    \n",
    "    #rewrite the missing values\n",
    "    data[data['income_type'] == inc_type] = data[data['income_type'] == inc_type].fillna(value={'total_income' : med_total})\n",
    "    data[data['income_type'] == inc_type] = data[data['income_type'] == inc_type].fillna(value={'days_employed' : med_days})"
   ]
  },
  {
   "cell_type": "markdown",
   "metadata": {},
   "source": [
    "Let's check the results."
   ]
  },
  {
   "cell_type": "code",
   "execution_count": 13,
   "metadata": {},
   "outputs": [
    {
     "data": {
      "text/plain": [
       "children            0\n",
       "days_employed       1\n",
       "dob_years           0\n",
       "education           0\n",
       "education_id        0\n",
       "family_status       0\n",
       "family_status_id    0\n",
       "gender              0\n",
       "income_type         0\n",
       "debt                0\n",
       "total_income        1\n",
       "purpose             0\n",
       "dtype: int64"
      ]
     },
     "execution_count": 13,
     "metadata": {},
     "output_type": "execute_result"
    }
   ],
   "source": [
    "data.isna().sum()"
   ]
  },
  {
   "cell_type": "markdown",
   "metadata": {},
   "source": [
    "That leaves us with a single missing value that we can just delete."
   ]
  },
  {
   "cell_type": "code",
   "execution_count": 14,
   "metadata": {},
   "outputs": [
    {
     "data": {
      "text/plain": [
       "children            0\n",
       "days_employed       0\n",
       "dob_years           0\n",
       "education           0\n",
       "education_id        0\n",
       "family_status       0\n",
       "family_status_id    0\n",
       "gender              0\n",
       "income_type         0\n",
       "debt                0\n",
       "total_income        0\n",
       "purpose             0\n",
       "dtype: int64"
      ]
     },
     "execution_count": 14,
     "metadata": {},
     "output_type": "execute_result"
    }
   ],
   "source": [
    "data = data.dropna()\n",
    "data.isna().sum()"
   ]
  },
  {
   "cell_type": "markdown",
   "metadata": {},
   "source": [
    "While we're here, let's take a look at the `children` column, since it's important to our hypothesis testing."
   ]
  },
  {
   "cell_type": "code",
   "execution_count": 15,
   "metadata": {},
   "outputs": [
    {
     "data": {
      "text/plain": [
       " 0     14148\n",
       " 1      4818\n",
       " 2      2055\n",
       " 3       330\n",
       " 20       76\n",
       "-1        47\n",
       " 4        41\n",
       " 5         9\n",
       "Name: children, dtype: int64"
      ]
     },
     "execution_count": 15,
     "metadata": {},
     "output_type": "execute_result"
    }
   ],
   "source": [
    "data['children'].value_counts()"
   ]
  },
  {
   "cell_type": "markdown",
   "metadata": {},
   "source": [
    "Whoa, negative children? And 20 children, when we don't have 19 or 21? We need to fix this."
   ]
  },
  {
   "cell_type": "markdown",
   "metadata": {},
   "source": [
    "The question is once again, where does this data come from. It's possible these were data entry errors, with the intent being 1 child (instead of -1) and 2 children (instead of 20). It could also be something else. In either case, these are 123 lines out of 20,000, so we can safely drop them."
   ]
  },
  {
   "cell_type": "code",
   "execution_count": 16,
   "metadata": {},
   "outputs": [
    {
     "data": {
      "text/plain": [
       "0    14148\n",
       "1     4818\n",
       "2     2055\n",
       "3      330\n",
       "4       41\n",
       "5        9\n",
       "Name: children, dtype: int64"
      ]
     },
     "execution_count": 16,
     "metadata": {},
     "output_type": "execute_result"
    }
   ],
   "source": [
    "#drop negative children\n",
    "data = data[data['children'] >= 0]\n",
    "\n",
    "#get rid of children=20\n",
    "data = data[data['children'] != 20]\n",
    "\n",
    "#check results\n",
    "data['children'].value_counts()"
   ]
  },
  {
   "cell_type": "markdown",
   "metadata": {},
   "source": [
    "Excellent, the children are fixed."
   ]
  },
  {
   "cell_type": "markdown",
   "metadata": {},
   "source": [
    "#### Conclusion"
   ]
  },
  {
   "cell_type": "markdown",
   "metadata": {},
   "source": [
    "Obvious missing values in `days_employed` and `total_income` were replaced with median values for the appropriate income types. Lines with an abnormal number of children (-1, 20) were dropped."
   ]
  },
  {
   "cell_type": "markdown",
   "metadata": {},
   "source": [
    "### Data Types"
   ]
  },
  {
   "cell_type": "markdown",
   "metadata": {},
   "source": [
    "Let's take another look at the data types in our table."
   ]
  },
  {
   "cell_type": "code",
   "execution_count": 17,
   "metadata": {
    "scrolled": true
   },
   "outputs": [
    {
     "name": "stdout",
     "output_type": "stream",
     "text": [
      "<class 'pandas.core.frame.DataFrame'>\n",
      "Int64Index: 21401 entries, 0 to 21524\n",
      "Data columns (total 12 columns):\n",
      " #   Column            Non-Null Count  Dtype  \n",
      "---  ------            --------------  -----  \n",
      " 0   children          21401 non-null  int64  \n",
      " 1   days_employed     21401 non-null  float64\n",
      " 2   dob_years         21401 non-null  int64  \n",
      " 3   education         21401 non-null  object \n",
      " 4   education_id      21401 non-null  int64  \n",
      " 5   family_status     21401 non-null  object \n",
      " 6   family_status_id  21401 non-null  int64  \n",
      " 7   gender            21401 non-null  object \n",
      " 8   income_type       21401 non-null  object \n",
      " 9   debt              21401 non-null  int64  \n",
      " 10  total_income      21401 non-null  float64\n",
      " 11  purpose           21401 non-null  object \n",
      "dtypes: float64(2), int64(5), object(5)\n",
      "memory usage: 2.1+ MB\n"
     ]
    }
   ],
   "source": [
    "data.info()"
   ]
  },
  {
   "cell_type": "markdown",
   "metadata": {},
   "source": [
    "These are not ideal. `days_employed` is listed as float, which is unnecessary. Let's rewrite that as int."
   ]
  },
  {
   "cell_type": "code",
   "execution_count": 18,
   "metadata": {},
   "outputs": [],
   "source": [
    "data['days_employed'] = data['days_employed'].astype('int64')"
   ]
  },
  {
   "cell_type": "code",
   "execution_count": 19,
   "metadata": {},
   "outputs": [
    {
     "name": "stdout",
     "output_type": "stream",
     "text": [
      "<class 'pandas.core.frame.DataFrame'>\n",
      "Int64Index: 21401 entries, 0 to 21524\n",
      "Data columns (total 12 columns):\n",
      " #   Column            Non-Null Count  Dtype  \n",
      "---  ------            --------------  -----  \n",
      " 0   children          21401 non-null  int64  \n",
      " 1   days_employed     21401 non-null  int64  \n",
      " 2   dob_years         21401 non-null  int64  \n",
      " 3   education         21401 non-null  object \n",
      " 4   education_id      21401 non-null  int64  \n",
      " 5   family_status     21401 non-null  object \n",
      " 6   family_status_id  21401 non-null  int64  \n",
      " 7   gender            21401 non-null  object \n",
      " 8   income_type       21401 non-null  object \n",
      " 9   debt              21401 non-null  int64  \n",
      " 10  total_income      21401 non-null  float64\n",
      " 11  purpose           21401 non-null  object \n",
      "dtypes: float64(1), int64(6), object(5)\n",
      "memory usage: 2.1+ MB\n"
     ]
    }
   ],
   "source": [
    "data.info()"
   ]
  },
  {
   "cell_type": "markdown",
   "metadata": {},
   "source": [
    "Good. Now let's see the result in the table itself."
   ]
  },
  {
   "cell_type": "code",
   "execution_count": 20,
   "metadata": {},
   "outputs": [
    {
     "data": {
      "text/html": [
       "<div>\n",
       "<style scoped>\n",
       "    .dataframe tbody tr th:only-of-type {\n",
       "        vertical-align: middle;\n",
       "    }\n",
       "\n",
       "    .dataframe tbody tr th {\n",
       "        vertical-align: top;\n",
       "    }\n",
       "\n",
       "    .dataframe thead th {\n",
       "        text-align: right;\n",
       "    }\n",
       "</style>\n",
       "<table border=\"1\" class=\"dataframe\">\n",
       "  <thead>\n",
       "    <tr style=\"text-align: right;\">\n",
       "      <th></th>\n",
       "      <th>children</th>\n",
       "      <th>days_employed</th>\n",
       "      <th>dob_years</th>\n",
       "      <th>education</th>\n",
       "      <th>education_id</th>\n",
       "      <th>family_status</th>\n",
       "      <th>family_status_id</th>\n",
       "      <th>gender</th>\n",
       "      <th>income_type</th>\n",
       "      <th>debt</th>\n",
       "      <th>total_income</th>\n",
       "      <th>purpose</th>\n",
       "    </tr>\n",
       "  </thead>\n",
       "  <tbody>\n",
       "    <tr>\n",
       "      <th>0</th>\n",
       "      <td>1</td>\n",
       "      <td>-8437</td>\n",
       "      <td>42</td>\n",
       "      <td>высшее</td>\n",
       "      <td>0</td>\n",
       "      <td>женат / замужем</td>\n",
       "      <td>0</td>\n",
       "      <td>F</td>\n",
       "      <td>сотрудник</td>\n",
       "      <td>0</td>\n",
       "      <td>253875.639453</td>\n",
       "      <td>покупка жилья</td>\n",
       "    </tr>\n",
       "    <tr>\n",
       "      <th>1</th>\n",
       "      <td>1</td>\n",
       "      <td>-4024</td>\n",
       "      <td>36</td>\n",
       "      <td>среднее</td>\n",
       "      <td>1</td>\n",
       "      <td>женат / замужем</td>\n",
       "      <td>0</td>\n",
       "      <td>F</td>\n",
       "      <td>сотрудник</td>\n",
       "      <td>0</td>\n",
       "      <td>112080.014102</td>\n",
       "      <td>приобретение автомобиля</td>\n",
       "    </tr>\n",
       "    <tr>\n",
       "      <th>2</th>\n",
       "      <td>0</td>\n",
       "      <td>-5623</td>\n",
       "      <td>33</td>\n",
       "      <td>Среднее</td>\n",
       "      <td>1</td>\n",
       "      <td>женат / замужем</td>\n",
       "      <td>0</td>\n",
       "      <td>M</td>\n",
       "      <td>сотрудник</td>\n",
       "      <td>0</td>\n",
       "      <td>145885.952297</td>\n",
       "      <td>покупка жилья</td>\n",
       "    </tr>\n",
       "    <tr>\n",
       "      <th>3</th>\n",
       "      <td>3</td>\n",
       "      <td>-4124</td>\n",
       "      <td>32</td>\n",
       "      <td>среднее</td>\n",
       "      <td>1</td>\n",
       "      <td>женат / замужем</td>\n",
       "      <td>0</td>\n",
       "      <td>M</td>\n",
       "      <td>сотрудник</td>\n",
       "      <td>0</td>\n",
       "      <td>267628.550329</td>\n",
       "      <td>дополнительное образование</td>\n",
       "    </tr>\n",
       "    <tr>\n",
       "      <th>4</th>\n",
       "      <td>0</td>\n",
       "      <td>340266</td>\n",
       "      <td>53</td>\n",
       "      <td>среднее</td>\n",
       "      <td>1</td>\n",
       "      <td>гражданский брак</td>\n",
       "      <td>1</td>\n",
       "      <td>F</td>\n",
       "      <td>пенсионер</td>\n",
       "      <td>0</td>\n",
       "      <td>158616.077870</td>\n",
       "      <td>сыграть свадьбу</td>\n",
       "    </tr>\n",
       "    <tr>\n",
       "      <th>5</th>\n",
       "      <td>0</td>\n",
       "      <td>-926</td>\n",
       "      <td>27</td>\n",
       "      <td>высшее</td>\n",
       "      <td>0</td>\n",
       "      <td>гражданский брак</td>\n",
       "      <td>1</td>\n",
       "      <td>M</td>\n",
       "      <td>компаньон</td>\n",
       "      <td>0</td>\n",
       "      <td>255763.565419</td>\n",
       "      <td>покупка жилья</td>\n",
       "    </tr>\n",
       "    <tr>\n",
       "      <th>6</th>\n",
       "      <td>0</td>\n",
       "      <td>-2879</td>\n",
       "      <td>43</td>\n",
       "      <td>высшее</td>\n",
       "      <td>0</td>\n",
       "      <td>женат / замужем</td>\n",
       "      <td>0</td>\n",
       "      <td>F</td>\n",
       "      <td>компаньон</td>\n",
       "      <td>0</td>\n",
       "      <td>240525.971920</td>\n",
       "      <td>операции с жильем</td>\n",
       "    </tr>\n",
       "    <tr>\n",
       "      <th>7</th>\n",
       "      <td>0</td>\n",
       "      <td>-152</td>\n",
       "      <td>50</td>\n",
       "      <td>СРЕДНЕЕ</td>\n",
       "      <td>1</td>\n",
       "      <td>женат / замужем</td>\n",
       "      <td>0</td>\n",
       "      <td>M</td>\n",
       "      <td>сотрудник</td>\n",
       "      <td>0</td>\n",
       "      <td>135823.934197</td>\n",
       "      <td>образование</td>\n",
       "    </tr>\n",
       "    <tr>\n",
       "      <th>8</th>\n",
       "      <td>2</td>\n",
       "      <td>-6929</td>\n",
       "      <td>35</td>\n",
       "      <td>ВЫСШЕЕ</td>\n",
       "      <td>0</td>\n",
       "      <td>гражданский брак</td>\n",
       "      <td>1</td>\n",
       "      <td>F</td>\n",
       "      <td>сотрудник</td>\n",
       "      <td>0</td>\n",
       "      <td>95856.832424</td>\n",
       "      <td>на проведение свадьбы</td>\n",
       "    </tr>\n",
       "    <tr>\n",
       "      <th>9</th>\n",
       "      <td>0</td>\n",
       "      <td>-2188</td>\n",
       "      <td>41</td>\n",
       "      <td>среднее</td>\n",
       "      <td>1</td>\n",
       "      <td>женат / замужем</td>\n",
       "      <td>0</td>\n",
       "      <td>M</td>\n",
       "      <td>сотрудник</td>\n",
       "      <td>0</td>\n",
       "      <td>144425.938277</td>\n",
       "      <td>покупка жилья для семьи</td>\n",
       "    </tr>\n",
       "    <tr>\n",
       "      <th>10</th>\n",
       "      <td>2</td>\n",
       "      <td>-4171</td>\n",
       "      <td>36</td>\n",
       "      <td>высшее</td>\n",
       "      <td>0</td>\n",
       "      <td>женат / замужем</td>\n",
       "      <td>0</td>\n",
       "      <td>M</td>\n",
       "      <td>компаньон</td>\n",
       "      <td>0</td>\n",
       "      <td>113943.491460</td>\n",
       "      <td>покупка недвижимости</td>\n",
       "    </tr>\n",
       "    <tr>\n",
       "      <th>11</th>\n",
       "      <td>0</td>\n",
       "      <td>-792</td>\n",
       "      <td>40</td>\n",
       "      <td>среднее</td>\n",
       "      <td>1</td>\n",
       "      <td>женат / замужем</td>\n",
       "      <td>0</td>\n",
       "      <td>F</td>\n",
       "      <td>сотрудник</td>\n",
       "      <td>0</td>\n",
       "      <td>77069.234271</td>\n",
       "      <td>покупка коммерческой недвижимости</td>\n",
       "    </tr>\n",
       "    <tr>\n",
       "      <th>12</th>\n",
       "      <td>0</td>\n",
       "      <td>365213</td>\n",
       "      <td>65</td>\n",
       "      <td>среднее</td>\n",
       "      <td>1</td>\n",
       "      <td>гражданский брак</td>\n",
       "      <td>1</td>\n",
       "      <td>M</td>\n",
       "      <td>пенсионер</td>\n",
       "      <td>0</td>\n",
       "      <td>118514.486412</td>\n",
       "      <td>сыграть свадьбу</td>\n",
       "    </tr>\n",
       "    <tr>\n",
       "      <th>13</th>\n",
       "      <td>0</td>\n",
       "      <td>-1846</td>\n",
       "      <td>54</td>\n",
       "      <td>неоконченное высшее</td>\n",
       "      <td>2</td>\n",
       "      <td>женат / замужем</td>\n",
       "      <td>0</td>\n",
       "      <td>F</td>\n",
       "      <td>сотрудник</td>\n",
       "      <td>0</td>\n",
       "      <td>130458.228857</td>\n",
       "      <td>приобретение автомобиля</td>\n",
       "    </tr>\n",
       "    <tr>\n",
       "      <th>14</th>\n",
       "      <td>0</td>\n",
       "      <td>-1844</td>\n",
       "      <td>56</td>\n",
       "      <td>высшее</td>\n",
       "      <td>0</td>\n",
       "      <td>гражданский брак</td>\n",
       "      <td>1</td>\n",
       "      <td>F</td>\n",
       "      <td>компаньон</td>\n",
       "      <td>1</td>\n",
       "      <td>165127.911772</td>\n",
       "      <td>покупка жилой недвижимости</td>\n",
       "    </tr>\n",
       "    <tr>\n",
       "      <th>15</th>\n",
       "      <td>1</td>\n",
       "      <td>-972</td>\n",
       "      <td>26</td>\n",
       "      <td>среднее</td>\n",
       "      <td>1</td>\n",
       "      <td>женат / замужем</td>\n",
       "      <td>0</td>\n",
       "      <td>F</td>\n",
       "      <td>сотрудник</td>\n",
       "      <td>0</td>\n",
       "      <td>116820.904450</td>\n",
       "      <td>строительство собственной недвижимости</td>\n",
       "    </tr>\n",
       "    <tr>\n",
       "      <th>16</th>\n",
       "      <td>0</td>\n",
       "      <td>-1719</td>\n",
       "      <td>35</td>\n",
       "      <td>среднее</td>\n",
       "      <td>1</td>\n",
       "      <td>женат / замужем</td>\n",
       "      <td>0</td>\n",
       "      <td>F</td>\n",
       "      <td>сотрудник</td>\n",
       "      <td>0</td>\n",
       "      <td>289202.704229</td>\n",
       "      <td>недвижимость</td>\n",
       "    </tr>\n",
       "    <tr>\n",
       "      <th>17</th>\n",
       "      <td>0</td>\n",
       "      <td>-2369</td>\n",
       "      <td>33</td>\n",
       "      <td>высшее</td>\n",
       "      <td>0</td>\n",
       "      <td>гражданский брак</td>\n",
       "      <td>1</td>\n",
       "      <td>M</td>\n",
       "      <td>сотрудник</td>\n",
       "      <td>0</td>\n",
       "      <td>90410.586745</td>\n",
       "      <td>строительство недвижимости</td>\n",
       "    </tr>\n",
       "    <tr>\n",
       "      <th>18</th>\n",
       "      <td>0</td>\n",
       "      <td>400281</td>\n",
       "      <td>53</td>\n",
       "      <td>среднее</td>\n",
       "      <td>1</td>\n",
       "      <td>вдовец / вдова</td>\n",
       "      <td>2</td>\n",
       "      <td>F</td>\n",
       "      <td>пенсионер</td>\n",
       "      <td>0</td>\n",
       "      <td>56823.777243</td>\n",
       "      <td>на покупку подержанного автомобиля</td>\n",
       "    </tr>\n",
       "    <tr>\n",
       "      <th>19</th>\n",
       "      <td>0</td>\n",
       "      <td>-10038</td>\n",
       "      <td>48</td>\n",
       "      <td>СРЕДНЕЕ</td>\n",
       "      <td>1</td>\n",
       "      <td>в разводе</td>\n",
       "      <td>3</td>\n",
       "      <td>F</td>\n",
       "      <td>сотрудник</td>\n",
       "      <td>0</td>\n",
       "      <td>242831.107982</td>\n",
       "      <td>на покупку своего автомобиля</td>\n",
       "    </tr>\n",
       "  </tbody>\n",
       "</table>\n",
       "</div>"
      ],
      "text/plain": [
       "    children  days_employed  dob_years            education  education_id  \\\n",
       "0          1          -8437         42               высшее             0   \n",
       "1          1          -4024         36              среднее             1   \n",
       "2          0          -5623         33              Среднее             1   \n",
       "3          3          -4124         32              среднее             1   \n",
       "4          0         340266         53              среднее             1   \n",
       "5          0           -926         27               высшее             0   \n",
       "6          0          -2879         43               высшее             0   \n",
       "7          0           -152         50              СРЕДНЕЕ             1   \n",
       "8          2          -6929         35               ВЫСШЕЕ             0   \n",
       "9          0          -2188         41              среднее             1   \n",
       "10         2          -4171         36               высшее             0   \n",
       "11         0           -792         40              среднее             1   \n",
       "12         0         365213         65              среднее             1   \n",
       "13         0          -1846         54  неоконченное высшее             2   \n",
       "14         0          -1844         56               высшее             0   \n",
       "15         1           -972         26              среднее             1   \n",
       "16         0          -1719         35              среднее             1   \n",
       "17         0          -2369         33               высшее             0   \n",
       "18         0         400281         53              среднее             1   \n",
       "19         0         -10038         48              СРЕДНЕЕ             1   \n",
       "\n",
       "       family_status  family_status_id gender income_type  debt  \\\n",
       "0    женат / замужем                 0      F   сотрудник     0   \n",
       "1    женат / замужем                 0      F   сотрудник     0   \n",
       "2    женат / замужем                 0      M   сотрудник     0   \n",
       "3    женат / замужем                 0      M   сотрудник     0   \n",
       "4   гражданский брак                 1      F   пенсионер     0   \n",
       "5   гражданский брак                 1      M   компаньон     0   \n",
       "6    женат / замужем                 0      F   компаньон     0   \n",
       "7    женат / замужем                 0      M   сотрудник     0   \n",
       "8   гражданский брак                 1      F   сотрудник     0   \n",
       "9    женат / замужем                 0      M   сотрудник     0   \n",
       "10   женат / замужем                 0      M   компаньон     0   \n",
       "11   женат / замужем                 0      F   сотрудник     0   \n",
       "12  гражданский брак                 1      M   пенсионер     0   \n",
       "13   женат / замужем                 0      F   сотрудник     0   \n",
       "14  гражданский брак                 1      F   компаньон     1   \n",
       "15   женат / замужем                 0      F   сотрудник     0   \n",
       "16   женат / замужем                 0      F   сотрудник     0   \n",
       "17  гражданский брак                 1      M   сотрудник     0   \n",
       "18    вдовец / вдова                 2      F   пенсионер     0   \n",
       "19         в разводе                 3      F   сотрудник     0   \n",
       "\n",
       "     total_income                                 purpose  \n",
       "0   253875.639453                           покупка жилья  \n",
       "1   112080.014102                 приобретение автомобиля  \n",
       "2   145885.952297                           покупка жилья  \n",
       "3   267628.550329              дополнительное образование  \n",
       "4   158616.077870                         сыграть свадьбу  \n",
       "5   255763.565419                           покупка жилья  \n",
       "6   240525.971920                       операции с жильем  \n",
       "7   135823.934197                             образование  \n",
       "8    95856.832424                   на проведение свадьбы  \n",
       "9   144425.938277                 покупка жилья для семьи  \n",
       "10  113943.491460                    покупка недвижимости  \n",
       "11   77069.234271       покупка коммерческой недвижимости  \n",
       "12  118514.486412                         сыграть свадьбу  \n",
       "13  130458.228857                 приобретение автомобиля  \n",
       "14  165127.911772              покупка жилой недвижимости  \n",
       "15  116820.904450  строительство собственной недвижимости  \n",
       "16  289202.704229                            недвижимость  \n",
       "17   90410.586745              строительство недвижимости  \n",
       "18   56823.777243      на покупку подержанного автомобиля  \n",
       "19  242831.107982            на покупку своего автомобиля  "
      ]
     },
     "execution_count": 20,
     "metadata": {},
     "output_type": "execute_result"
    }
   ],
   "source": [
    "data.head(20)"
   ]
  },
  {
   "cell_type": "markdown",
   "metadata": {},
   "source": [
    "Whoa, why do we have negative `days_employed`? That doesn't work at all.\n",
    "\n",
    "We once again don't know the exact reason behind this error, though it's likely either a data entry problem, or an unsigned integer error. Either way, let's rewrite `days_employed` as an absolute value."
   ]
  },
  {
   "cell_type": "code",
   "execution_count": 21,
   "metadata": {},
   "outputs": [],
   "source": [
    "data['days_employed'] = data['days_employed'].apply(abs)"
   ]
  },
  {
   "cell_type": "code",
   "execution_count": 22,
   "metadata": {
    "scrolled": true
   },
   "outputs": [
    {
     "data": {
      "text/html": [
       "<div>\n",
       "<style scoped>\n",
       "    .dataframe tbody tr th:only-of-type {\n",
       "        vertical-align: middle;\n",
       "    }\n",
       "\n",
       "    .dataframe tbody tr th {\n",
       "        vertical-align: top;\n",
       "    }\n",
       "\n",
       "    .dataframe thead th {\n",
       "        text-align: right;\n",
       "    }\n",
       "</style>\n",
       "<table border=\"1\" class=\"dataframe\">\n",
       "  <thead>\n",
       "    <tr style=\"text-align: right;\">\n",
       "      <th></th>\n",
       "      <th>children</th>\n",
       "      <th>days_employed</th>\n",
       "      <th>dob_years</th>\n",
       "      <th>education</th>\n",
       "      <th>education_id</th>\n",
       "      <th>family_status</th>\n",
       "      <th>family_status_id</th>\n",
       "      <th>gender</th>\n",
       "      <th>income_type</th>\n",
       "      <th>debt</th>\n",
       "      <th>total_income</th>\n",
       "      <th>purpose</th>\n",
       "    </tr>\n",
       "  </thead>\n",
       "  <tbody>\n",
       "    <tr>\n",
       "      <th>0</th>\n",
       "      <td>1</td>\n",
       "      <td>8437</td>\n",
       "      <td>42</td>\n",
       "      <td>высшее</td>\n",
       "      <td>0</td>\n",
       "      <td>женат / замужем</td>\n",
       "      <td>0</td>\n",
       "      <td>F</td>\n",
       "      <td>сотрудник</td>\n",
       "      <td>0</td>\n",
       "      <td>253875.639453</td>\n",
       "      <td>покупка жилья</td>\n",
       "    </tr>\n",
       "    <tr>\n",
       "      <th>1</th>\n",
       "      <td>1</td>\n",
       "      <td>4024</td>\n",
       "      <td>36</td>\n",
       "      <td>среднее</td>\n",
       "      <td>1</td>\n",
       "      <td>женат / замужем</td>\n",
       "      <td>0</td>\n",
       "      <td>F</td>\n",
       "      <td>сотрудник</td>\n",
       "      <td>0</td>\n",
       "      <td>112080.014102</td>\n",
       "      <td>приобретение автомобиля</td>\n",
       "    </tr>\n",
       "    <tr>\n",
       "      <th>2</th>\n",
       "      <td>0</td>\n",
       "      <td>5623</td>\n",
       "      <td>33</td>\n",
       "      <td>Среднее</td>\n",
       "      <td>1</td>\n",
       "      <td>женат / замужем</td>\n",
       "      <td>0</td>\n",
       "      <td>M</td>\n",
       "      <td>сотрудник</td>\n",
       "      <td>0</td>\n",
       "      <td>145885.952297</td>\n",
       "      <td>покупка жилья</td>\n",
       "    </tr>\n",
       "    <tr>\n",
       "      <th>3</th>\n",
       "      <td>3</td>\n",
       "      <td>4124</td>\n",
       "      <td>32</td>\n",
       "      <td>среднее</td>\n",
       "      <td>1</td>\n",
       "      <td>женат / замужем</td>\n",
       "      <td>0</td>\n",
       "      <td>M</td>\n",
       "      <td>сотрудник</td>\n",
       "      <td>0</td>\n",
       "      <td>267628.550329</td>\n",
       "      <td>дополнительное образование</td>\n",
       "    </tr>\n",
       "    <tr>\n",
       "      <th>4</th>\n",
       "      <td>0</td>\n",
       "      <td>340266</td>\n",
       "      <td>53</td>\n",
       "      <td>среднее</td>\n",
       "      <td>1</td>\n",
       "      <td>гражданский брак</td>\n",
       "      <td>1</td>\n",
       "      <td>F</td>\n",
       "      <td>пенсионер</td>\n",
       "      <td>0</td>\n",
       "      <td>158616.077870</td>\n",
       "      <td>сыграть свадьбу</td>\n",
       "    </tr>\n",
       "    <tr>\n",
       "      <th>5</th>\n",
       "      <td>0</td>\n",
       "      <td>926</td>\n",
       "      <td>27</td>\n",
       "      <td>высшее</td>\n",
       "      <td>0</td>\n",
       "      <td>гражданский брак</td>\n",
       "      <td>1</td>\n",
       "      <td>M</td>\n",
       "      <td>компаньон</td>\n",
       "      <td>0</td>\n",
       "      <td>255763.565419</td>\n",
       "      <td>покупка жилья</td>\n",
       "    </tr>\n",
       "    <tr>\n",
       "      <th>6</th>\n",
       "      <td>0</td>\n",
       "      <td>2879</td>\n",
       "      <td>43</td>\n",
       "      <td>высшее</td>\n",
       "      <td>0</td>\n",
       "      <td>женат / замужем</td>\n",
       "      <td>0</td>\n",
       "      <td>F</td>\n",
       "      <td>компаньон</td>\n",
       "      <td>0</td>\n",
       "      <td>240525.971920</td>\n",
       "      <td>операции с жильем</td>\n",
       "    </tr>\n",
       "    <tr>\n",
       "      <th>7</th>\n",
       "      <td>0</td>\n",
       "      <td>152</td>\n",
       "      <td>50</td>\n",
       "      <td>СРЕДНЕЕ</td>\n",
       "      <td>1</td>\n",
       "      <td>женат / замужем</td>\n",
       "      <td>0</td>\n",
       "      <td>M</td>\n",
       "      <td>сотрудник</td>\n",
       "      <td>0</td>\n",
       "      <td>135823.934197</td>\n",
       "      <td>образование</td>\n",
       "    </tr>\n",
       "    <tr>\n",
       "      <th>8</th>\n",
       "      <td>2</td>\n",
       "      <td>6929</td>\n",
       "      <td>35</td>\n",
       "      <td>ВЫСШЕЕ</td>\n",
       "      <td>0</td>\n",
       "      <td>гражданский брак</td>\n",
       "      <td>1</td>\n",
       "      <td>F</td>\n",
       "      <td>сотрудник</td>\n",
       "      <td>0</td>\n",
       "      <td>95856.832424</td>\n",
       "      <td>на проведение свадьбы</td>\n",
       "    </tr>\n",
       "    <tr>\n",
       "      <th>9</th>\n",
       "      <td>0</td>\n",
       "      <td>2188</td>\n",
       "      <td>41</td>\n",
       "      <td>среднее</td>\n",
       "      <td>1</td>\n",
       "      <td>женат / замужем</td>\n",
       "      <td>0</td>\n",
       "      <td>M</td>\n",
       "      <td>сотрудник</td>\n",
       "      <td>0</td>\n",
       "      <td>144425.938277</td>\n",
       "      <td>покупка жилья для семьи</td>\n",
       "    </tr>\n",
       "  </tbody>\n",
       "</table>\n",
       "</div>"
      ],
      "text/plain": [
       "   children  days_employed  dob_years education  education_id  \\\n",
       "0         1           8437         42    высшее             0   \n",
       "1         1           4024         36   среднее             1   \n",
       "2         0           5623         33   Среднее             1   \n",
       "3         3           4124         32   среднее             1   \n",
       "4         0         340266         53   среднее             1   \n",
       "5         0            926         27    высшее             0   \n",
       "6         0           2879         43    высшее             0   \n",
       "7         0            152         50   СРЕДНЕЕ             1   \n",
       "8         2           6929         35    ВЫСШЕЕ             0   \n",
       "9         0           2188         41   среднее             1   \n",
       "\n",
       "      family_status  family_status_id gender income_type  debt   total_income  \\\n",
       "0   женат / замужем                 0      F   сотрудник     0  253875.639453   \n",
       "1   женат / замужем                 0      F   сотрудник     0  112080.014102   \n",
       "2   женат / замужем                 0      M   сотрудник     0  145885.952297   \n",
       "3   женат / замужем                 0      M   сотрудник     0  267628.550329   \n",
       "4  гражданский брак                 1      F   пенсионер     0  158616.077870   \n",
       "5  гражданский брак                 1      M   компаньон     0  255763.565419   \n",
       "6   женат / замужем                 0      F   компаньон     0  240525.971920   \n",
       "7   женат / замужем                 0      M   сотрудник     0  135823.934197   \n",
       "8  гражданский брак                 1      F   сотрудник     0   95856.832424   \n",
       "9   женат / замужем                 0      M   сотрудник     0  144425.938277   \n",
       "\n",
       "                      purpose  \n",
       "0               покупка жилья  \n",
       "1     приобретение автомобиля  \n",
       "2               покупка жилья  \n",
       "3  дополнительное образование  \n",
       "4             сыграть свадьбу  \n",
       "5               покупка жилья  \n",
       "6           операции с жильем  \n",
       "7                 образование  \n",
       "8       на проведение свадьбы  \n",
       "9     покупка жилья для семьи  "
      ]
     },
     "execution_count": 22,
     "metadata": {},
     "output_type": "execute_result"
    }
   ],
   "source": [
    "data.head(10)"
   ]
  },
  {
   "cell_type": "markdown",
   "metadata": {},
   "source": [
    "#### Conclusion"
   ]
  },
  {
   "cell_type": "markdown",
   "metadata": {},
   "source": [
    "We changed the `days_employed` data type to int64 and used its absolute value."
   ]
  },
  {
   "cell_type": "markdown",
   "metadata": {},
   "source": [
    "### Duplicates"
   ]
  },
  {
   "cell_type": "markdown",
   "metadata": {},
   "source": [
    "Let's take a look at blatant duplicates."
   ]
  },
  {
   "cell_type": "code",
   "execution_count": 23,
   "metadata": {},
   "outputs": [
    {
     "data": {
      "text/plain": [
       "54"
      ]
     },
     "execution_count": 23,
     "metadata": {},
     "output_type": "execute_result"
    }
   ],
   "source": [
    "data.duplicated().sum()"
   ]
  },
  {
   "cell_type": "markdown",
   "metadata": {},
   "source": [
    "Let's see what it defines as a duplicate."
   ]
  },
  {
   "cell_type": "code",
   "execution_count": 24,
   "metadata": {
    "scrolled": true
   },
   "outputs": [
    {
     "data": {
      "text/html": [
       "<div>\n",
       "<style scoped>\n",
       "    .dataframe tbody tr th:only-of-type {\n",
       "        vertical-align: middle;\n",
       "    }\n",
       "\n",
       "    .dataframe tbody tr th {\n",
       "        vertical-align: top;\n",
       "    }\n",
       "\n",
       "    .dataframe thead th {\n",
       "        text-align: right;\n",
       "    }\n",
       "</style>\n",
       "<table border=\"1\" class=\"dataframe\">\n",
       "  <thead>\n",
       "    <tr style=\"text-align: right;\">\n",
       "      <th></th>\n",
       "      <th>children</th>\n",
       "      <th>days_employed</th>\n",
       "      <th>dob_years</th>\n",
       "      <th>education</th>\n",
       "      <th>education_id</th>\n",
       "      <th>family_status</th>\n",
       "      <th>family_status_id</th>\n",
       "      <th>gender</th>\n",
       "      <th>income_type</th>\n",
       "      <th>debt</th>\n",
       "      <th>total_income</th>\n",
       "      <th>purpose</th>\n",
       "    </tr>\n",
       "  </thead>\n",
       "  <tbody>\n",
       "    <tr>\n",
       "      <th>19321</th>\n",
       "      <td>0</td>\n",
       "      <td>1574</td>\n",
       "      <td>23</td>\n",
       "      <td>среднее</td>\n",
       "      <td>1</td>\n",
       "      <td>Не женат / не замужем</td>\n",
       "      <td>4</td>\n",
       "      <td>F</td>\n",
       "      <td>сотрудник</td>\n",
       "      <td>0</td>\n",
       "      <td>142594.396847</td>\n",
       "      <td>сделка с подержанным автомобилем</td>\n",
       "    </tr>\n",
       "    <tr>\n",
       "      <th>15892</th>\n",
       "      <td>0</td>\n",
       "      <td>1574</td>\n",
       "      <td>23</td>\n",
       "      <td>среднее</td>\n",
       "      <td>1</td>\n",
       "      <td>Не женат / не замужем</td>\n",
       "      <td>4</td>\n",
       "      <td>F</td>\n",
       "      <td>сотрудник</td>\n",
       "      <td>0</td>\n",
       "      <td>142594.396847</td>\n",
       "      <td>сделка с подержанным автомобилем</td>\n",
       "    </tr>\n",
       "    <tr>\n",
       "      <th>18328</th>\n",
       "      <td>0</td>\n",
       "      <td>1574</td>\n",
       "      <td>29</td>\n",
       "      <td>высшее</td>\n",
       "      <td>0</td>\n",
       "      <td>женат / замужем</td>\n",
       "      <td>0</td>\n",
       "      <td>M</td>\n",
       "      <td>сотрудник</td>\n",
       "      <td>0</td>\n",
       "      <td>142594.396847</td>\n",
       "      <td>покупка жилой недвижимости</td>\n",
       "    </tr>\n",
       "    <tr>\n",
       "      <th>3452</th>\n",
       "      <td>0</td>\n",
       "      <td>1574</td>\n",
       "      <td>29</td>\n",
       "      <td>высшее</td>\n",
       "      <td>0</td>\n",
       "      <td>женат / замужем</td>\n",
       "      <td>0</td>\n",
       "      <td>M</td>\n",
       "      <td>сотрудник</td>\n",
       "      <td>0</td>\n",
       "      <td>142594.396847</td>\n",
       "      <td>покупка жилой недвижимости</td>\n",
       "    </tr>\n",
       "    <tr>\n",
       "      <th>8629</th>\n",
       "      <td>1</td>\n",
       "      <td>1574</td>\n",
       "      <td>30</td>\n",
       "      <td>высшее</td>\n",
       "      <td>0</td>\n",
       "      <td>женат / замужем</td>\n",
       "      <td>0</td>\n",
       "      <td>F</td>\n",
       "      <td>сотрудник</td>\n",
       "      <td>0</td>\n",
       "      <td>142594.396847</td>\n",
       "      <td>покупка коммерческой недвижимости</td>\n",
       "    </tr>\n",
       "    <tr>\n",
       "      <th>...</th>\n",
       "      <td>...</td>\n",
       "      <td>...</td>\n",
       "      <td>...</td>\n",
       "      <td>...</td>\n",
       "      <td>...</td>\n",
       "      <td>...</td>\n",
       "      <td>...</td>\n",
       "      <td>...</td>\n",
       "      <td>...</td>\n",
       "      <td>...</td>\n",
       "      <td>...</td>\n",
       "      <td>...</td>\n",
       "    </tr>\n",
       "    <tr>\n",
       "      <th>13639</th>\n",
       "      <td>0</td>\n",
       "      <td>365213</td>\n",
       "      <td>64</td>\n",
       "      <td>среднее</td>\n",
       "      <td>1</td>\n",
       "      <td>женат / замужем</td>\n",
       "      <td>0</td>\n",
       "      <td>F</td>\n",
       "      <td>пенсионер</td>\n",
       "      <td>0</td>\n",
       "      <td>118514.486412</td>\n",
       "      <td>автомобиль</td>\n",
       "    </tr>\n",
       "    <tr>\n",
       "      <th>3609</th>\n",
       "      <td>0</td>\n",
       "      <td>365213</td>\n",
       "      <td>64</td>\n",
       "      <td>среднее</td>\n",
       "      <td>1</td>\n",
       "      <td>женат / замужем</td>\n",
       "      <td>0</td>\n",
       "      <td>F</td>\n",
       "      <td>пенсионер</td>\n",
       "      <td>0</td>\n",
       "      <td>118514.486412</td>\n",
       "      <td>жилье</td>\n",
       "    </tr>\n",
       "    <tr>\n",
       "      <th>12389</th>\n",
       "      <td>0</td>\n",
       "      <td>365213</td>\n",
       "      <td>64</td>\n",
       "      <td>среднее</td>\n",
       "      <td>1</td>\n",
       "      <td>женат / замужем</td>\n",
       "      <td>0</td>\n",
       "      <td>F</td>\n",
       "      <td>пенсионер</td>\n",
       "      <td>0</td>\n",
       "      <td>118514.486412</td>\n",
       "      <td>дополнительное образование</td>\n",
       "    </tr>\n",
       "    <tr>\n",
       "      <th>5865</th>\n",
       "      <td>0</td>\n",
       "      <td>365213</td>\n",
       "      <td>66</td>\n",
       "      <td>среднее</td>\n",
       "      <td>1</td>\n",
       "      <td>вдовец / вдова</td>\n",
       "      <td>2</td>\n",
       "      <td>F</td>\n",
       "      <td>пенсионер</td>\n",
       "      <td>0</td>\n",
       "      <td>118514.486412</td>\n",
       "      <td>операции со своей недвижимостью</td>\n",
       "    </tr>\n",
       "    <tr>\n",
       "      <th>9528</th>\n",
       "      <td>0</td>\n",
       "      <td>365213</td>\n",
       "      <td>66</td>\n",
       "      <td>среднее</td>\n",
       "      <td>1</td>\n",
       "      <td>вдовец / вдова</td>\n",
       "      <td>2</td>\n",
       "      <td>F</td>\n",
       "      <td>пенсионер</td>\n",
       "      <td>0</td>\n",
       "      <td>118514.486412</td>\n",
       "      <td>операции со своей недвижимостью</td>\n",
       "    </tr>\n",
       "  </tbody>\n",
       "</table>\n",
       "<p>106 rows × 12 columns</p>\n",
       "</div>"
      ],
      "text/plain": [
       "       children  days_employed  dob_years education  education_id  \\\n",
       "19321         0           1574         23   среднее             1   \n",
       "15892         0           1574         23   среднее             1   \n",
       "18328         0           1574         29    высшее             0   \n",
       "3452          0           1574         29    высшее             0   \n",
       "8629          1           1574         30    высшее             0   \n",
       "...         ...            ...        ...       ...           ...   \n",
       "13639         0         365213         64   среднее             1   \n",
       "3609          0         365213         64   среднее             1   \n",
       "12389         0         365213         64   среднее             1   \n",
       "5865          0         365213         66   среднее             1   \n",
       "9528          0         365213         66   среднее             1   \n",
       "\n",
       "               family_status  family_status_id gender income_type  debt  \\\n",
       "19321  Не женат / не замужем                 4      F   сотрудник     0   \n",
       "15892  Не женат / не замужем                 4      F   сотрудник     0   \n",
       "18328        женат / замужем                 0      M   сотрудник     0   \n",
       "3452         женат / замужем                 0      M   сотрудник     0   \n",
       "8629         женат / замужем                 0      F   сотрудник     0   \n",
       "...                      ...               ...    ...         ...   ...   \n",
       "13639        женат / замужем                 0      F   пенсионер     0   \n",
       "3609         женат / замужем                 0      F   пенсионер     0   \n",
       "12389        женат / замужем                 0      F   пенсионер     0   \n",
       "5865          вдовец / вдова                 2      F   пенсионер     0   \n",
       "9528          вдовец / вдова                 2      F   пенсионер     0   \n",
       "\n",
       "        total_income                            purpose  \n",
       "19321  142594.396847   сделка с подержанным автомобилем  \n",
       "15892  142594.396847   сделка с подержанным автомобилем  \n",
       "18328  142594.396847         покупка жилой недвижимости  \n",
       "3452   142594.396847         покупка жилой недвижимости  \n",
       "8629   142594.396847  покупка коммерческой недвижимости  \n",
       "...              ...                                ...  \n",
       "13639  118514.486412                         автомобиль  \n",
       "3609   118514.486412                              жилье  \n",
       "12389  118514.486412         дополнительное образование  \n",
       "5865   118514.486412    операции со своей недвижимостью  \n",
       "9528   118514.486412    операции со своей недвижимостью  \n",
       "\n",
       "[106 rows x 12 columns]"
      ]
     },
     "execution_count": 24,
     "metadata": {},
     "output_type": "execute_result"
    }
   ],
   "source": [
    "data[data.duplicated(keep=False)].sort_values(by='dob_years')"
   ]
  },
  {
   "cell_type": "markdown",
   "metadata": {},
   "source": [
    "We've come to an interesting point. Yes, we can see the duplicates, but without something to uniquely identify specific clients like an ID or at least a name, we can't definitively say that these are duplicates. After all, it is possible that two 66-year old pensioners took out a credit for real estate purposes in the same year."
   ]
  },
  {
   "cell_type": "markdown",
   "metadata": {},
   "source": [
    "Also note that our duplicates have the median values for `days_employed` and `total_income`. We don't know how important this fact is at the moment."
   ]
  },
  {
   "cell_type": "markdown",
   "metadata": {},
   "source": [
    "Just in case, let's convert all information in `education`, `family_status`, `income_type`, and `purpose` to lowercase to ensure we got all the duplicates we can."
   ]
  },
  {
   "cell_type": "code",
   "execution_count": 25,
   "metadata": {},
   "outputs": [],
   "source": [
    "data['education'] = data['education'].str.lower()\n",
    "data['family_status'] = data['family_status'].str.lower()\n",
    "data['income_type'] = data['income_type'].str.lower()\n",
    "data['purpose'] = data['purpose'].str.lower()"
   ]
  },
  {
   "cell_type": "code",
   "execution_count": 26,
   "metadata": {},
   "outputs": [
    {
     "data": {
      "text/plain": [
       "71"
      ]
     },
     "execution_count": 26,
     "metadata": {},
     "output_type": "execute_result"
    }
   ],
   "source": [
    "data.duplicated().sum()"
   ]
  },
  {
   "cell_type": "markdown",
   "metadata": {},
   "source": [
    "At the end of the day, that's 71 duplicates out of 20,000 entries. We can safely delete them."
   ]
  },
  {
   "cell_type": "code",
   "execution_count": 27,
   "metadata": {},
   "outputs": [],
   "source": [
    "data = data.drop_duplicates().reset_index(drop=True)"
   ]
  },
  {
   "cell_type": "markdown",
   "metadata": {},
   "source": [
    "Now let's take a look at `dob_years`."
   ]
  },
  {
   "cell_type": "code",
   "execution_count": 28,
   "metadata": {},
   "outputs": [
    {
     "data": {
      "text/plain": [
       "35    613\n",
       "40    601\n",
       "41    601\n",
       "34    595\n",
       "38    594\n",
       "42    591\n",
       "33    577\n",
       "39    571\n",
       "31    555\n",
       "36    552\n",
       "29    542\n",
       "44    541\n",
       "48    534\n",
       "30    533\n",
       "37    530\n",
       "43    509\n",
       "50    508\n",
       "49    505\n",
       "32    505\n",
       "28    501\n",
       "45    493\n",
       "27    490\n",
       "52    483\n",
       "56    478\n",
       "47    477\n",
       "54    473\n",
       "46    466\n",
       "53    457\n",
       "57    453\n",
       "58    453\n",
       "51    444\n",
       "55    441\n",
       "59    440\n",
       "26    406\n",
       "60    373\n",
       "25    356\n",
       "61    352\n",
       "62    347\n",
       "63    268\n",
       "24    263\n",
       "64    258\n",
       "23    250\n",
       "65    193\n",
       "22    183\n",
       "66    182\n",
       "67    167\n",
       "21    110\n",
       "0     100\n",
       "68     99\n",
       "69     83\n",
       "70     65\n",
       "71     56\n",
       "20     51\n",
       "72     33\n",
       "19     14\n",
       "73      8\n",
       "74      6\n",
       "75      1\n",
       "Name: dob_years, dtype: int64"
      ]
     },
     "execution_count": 28,
     "metadata": {},
     "output_type": "execute_result"
    }
   ],
   "source": [
    "data['dob_years'].value_counts()"
   ]
  },
  {
   "cell_type": "markdown",
   "metadata": {},
   "source": [
    "Whoa, I don't think the bank is supposed to give out loans to newborns. There aren't that many entries here (100 out of 20,000), so we will drop them as well. "
   ]
  },
  {
   "cell_type": "code",
   "execution_count": 29,
   "metadata": {},
   "outputs": [],
   "source": [
    "data = data[data['dob_years'] != 0]"
   ]
  },
  {
   "cell_type": "markdown",
   "metadata": {},
   "source": [
    "#### Conclusion"
   ]
  },
  {
   "cell_type": "markdown",
   "metadata": {},
   "source": [
    "71 duplicate lines were removed. 100 entries with `dob_years` of 0 were dropped."
   ]
  },
  {
   "cell_type": "markdown",
   "metadata": {},
   "source": [
    "### Lemmatization and Data Categorization"
   ]
  },
  {
   "cell_type": "markdown",
   "metadata": {},
   "source": [
    "When looking at our dataframe, we can notice another possible source of duplicates. The `purpose` column can have several options that mean the same thing. Thus, we need to bring it to a more standard form."
   ]
  },
  {
   "cell_type": "markdown",
   "metadata": {},
   "source": [
    "First, let's take a look at the variants we currently have."
   ]
  },
  {
   "cell_type": "code",
   "execution_count": 30,
   "metadata": {
    "scrolled": false
   },
   "outputs": [
    {
     "data": {
      "text/plain": [
       "свадьба                                   785\n",
       "на проведение свадьбы                     759\n",
       "сыграть свадьбу                           755\n",
       "операции с недвижимостью                  669\n",
       "покупка коммерческой недвижимости         655\n",
       "покупка жилья для сдачи                   647\n",
       "операции с коммерческой недвижимостью     643\n",
       "операции с жильем                         641\n",
       "покупка жилья для семьи                   636\n",
       "жилье                                     635\n",
       "покупка жилья                             634\n",
       "недвижимость                              627\n",
       "строительство собственной недвижимости    626\n",
       "операции со своей недвижимостью           623\n",
       "строительство недвижимости                619\n",
       "покупка своего жилья                      618\n",
       "строительство жилой недвижимости          617\n",
       "покупка недвижимости                      613\n",
       "ремонт жилью                              602\n",
       "покупка жилой недвижимости                598\n",
       "на покупку своего автомобиля              501\n",
       "заняться высшим образованием              493\n",
       "автомобиль                                487\n",
       "сделка с подержанным автомобилем          479\n",
       "автомобили                                474\n",
       "на покупку подержанного автомобиля        471\n",
       "свой автомобиль                           470\n",
       "на покупку автомобиля                     465\n",
       "приобретение автомобиля                   457\n",
       "сделка с автомобилем                      454\n",
       "дополнительное образование                453\n",
       "высшее образование                        443\n",
       "получение дополнительного образования     442\n",
       "получение образования                     439\n",
       "образование                               439\n",
       "профильное образование                    431\n",
       "получение высшего образования             423\n",
       "заняться образованием                     407\n",
       "Name: purpose, dtype: int64"
      ]
     },
     "execution_count": 30,
     "metadata": {},
     "output_type": "execute_result"
    }
   ],
   "source": [
    "data['purpose'].value_counts()"
   ]
  },
  {
   "cell_type": "markdown",
   "metadata": {},
   "source": [
    "We can break these up into four general groups:\n",
    "\n",
    "1. marriage (\"свадьба\")\n",
    "2. real estate (\"недвижимость\")\n",
    "3. car (\"автомобиль\")\n",
    "4. education (\"образование\")"
   ]
  },
  {
   "cell_type": "markdown",
   "metadata": {},
   "source": [
    "Let's create two new columns: `purpose_categorized`, which will contain the purpose category; and `purpose_id`, which will have one of the following IDs:\n",
    "\n",
    "0 - wedding\n",
    "\n",
    "1 - real estate\n",
    "\n",
    "2 - car\n",
    "\n",
    "3 - education\n",
    "\n",
    "99 - error"
   ]
  },
  {
   "cell_type": "markdown",
   "metadata": {},
   "source": [
    "To do this, we will lemmatize the contents of `purpose`, search through the resulting lemmas for keywords, and assign the appropriate ID."
   ]
  },
  {
   "cell_type": "code",
   "execution_count": 31,
   "metadata": {},
   "outputs": [],
   "source": [
    "#create a category based on lemmas\n",
    "def purpose_categorizer(purpose):\n",
    "    \n",
    "    #lemmatize the input\n",
    "    lemmas = m.lemmatize(purpose)\n",
    "    \n",
    "    #look for keywords\n",
    "    if 'свадьба' in lemmas:\n",
    "        return 'wedding'\n",
    "    \n",
    "    elif ('недвижимость' in lemmas or 'жилье' in lemmas):\n",
    "        return 'real estate'\n",
    "    \n",
    "    elif 'автомобиль' in lemmas:\n",
    "        return 'car'\n",
    "    \n",
    "    elif 'образование' in lemmas:\n",
    "        return 'education'\n",
    "    \n",
    "    #error code\n",
    "    else:\n",
    "        return 'error'"
   ]
  },
  {
   "cell_type": "code",
   "execution_count": 32,
   "metadata": {},
   "outputs": [],
   "source": [
    "#create a purpose ID based on the category in purpose_categorized\n",
    "def purpose_id_creator(p):\n",
    "    if p == 'wedding':\n",
    "        return 0\n",
    "    elif p == 'real estate':\n",
    "        return 1\n",
    "    elif p == 'car':\n",
    "        return 2\n",
    "    elif p == 'education':\n",
    "        return 3\n",
    "    else:\n",
    "        return 99"
   ]
  },
  {
   "cell_type": "markdown",
   "metadata": {},
   "source": [
    "Let's see what our category breakdown is like."
   ]
  },
  {
   "cell_type": "code",
   "execution_count": 33,
   "metadata": {},
   "outputs": [
    {
     "name": "stdout",
     "output_type": "stream",
     "text": [
      "CPU times: total: 1min 21s\n",
      "Wall time: 6h 2min 24s\n"
     ]
    },
    {
     "data": {
      "text/plain": [
       "real estate    10703\n",
       "car             4258\n",
       "education       3970\n",
       "wedding         2299\n",
       "Name: purpose_categorized, dtype: int64"
      ]
     },
     "execution_count": 33,
     "metadata": {},
     "output_type": "execute_result"
    }
   ],
   "source": [
    "%%time\n",
    "data['purpose_categorized'] = data['purpose'].apply(purpose_categorizer)\n",
    "data['purpose_categorized'].value_counts()"
   ]
  },
  {
   "cell_type": "markdown",
   "metadata": {},
   "source": [
    "This category split is fine for our needs."
   ]
  },
  {
   "cell_type": "markdown",
   "metadata": {},
   "source": [
    "While we're here, let's make a function that will create a `work_id` from `income_type`."
   ]
  },
  {
   "cell_type": "markdown",
   "metadata": {},
   "source": [
    "First, let's take a look at the income type distribution."
   ]
  },
  {
   "cell_type": "code",
   "execution_count": 34,
   "metadata": {},
   "outputs": [
    {
     "data": {
      "text/plain": [
       "сотрудник          10961\n",
       "компаньон           5027\n",
       "пенсионер           3792\n",
       "госслужащий         1445\n",
       "безработный            2\n",
       "студент                1\n",
       "предприниматель        1\n",
       "в декрете              1\n",
       "Name: income_type, dtype: int64"
      ]
     },
     "execution_count": 34,
     "metadata": {},
     "output_type": "execute_result"
    }
   ],
   "source": [
    "data['income_type'].value_counts()"
   ]
  },
  {
   "cell_type": "markdown",
   "metadata": {},
   "source": [
    "That's a fair amount of types. Let's now write our function."
   ]
  },
  {
   "cell_type": "code",
   "execution_count": 35,
   "metadata": {},
   "outputs": [],
   "source": [
    "def work_id_creator(inc):\n",
    "    if inc == 'сотрудник':\n",
    "        return 0\n",
    "    elif inc == 'компаньон':\n",
    "        return 1\n",
    "    elif inc == 'пенсионер':\n",
    "        return 2\n",
    "    elif inc == 'госслужащий':\n",
    "        return 3\n",
    "    elif inc == 'предприниматель':\n",
    "        return 4\n",
    "    elif inc == 'безработный':\n",
    "        return 5\n",
    "    elif inc == 'в декрете':\n",
    "        return 6\n",
    "    else:\n",
    "        return 99"
   ]
  },
  {
   "cell_type": "markdown",
   "metadata": {},
   "source": [
    "And let's launch our functions to generate new columns."
   ]
  },
  {
   "cell_type": "code",
   "execution_count": 36,
   "metadata": {},
   "outputs": [
    {
     "data": {
      "text/plain": [
       "real estate    10703\n",
       "car             4258\n",
       "education       3970\n",
       "wedding         2299\n",
       "Name: purpose_categorized, dtype: int64"
      ]
     },
     "metadata": {},
     "output_type": "display_data"
    },
    {
     "data": {
      "text/plain": [
       "1    10703\n",
       "2     4258\n",
       "3     3970\n",
       "0     2299\n",
       "Name: purpose_id, dtype: int64"
      ]
     },
     "metadata": {},
     "output_type": "display_data"
    },
    {
     "data": {
      "text/plain": [
       "0     10961\n",
       "1      5027\n",
       "2      3792\n",
       "3      1445\n",
       "5         2\n",
       "99        1\n",
       "4         1\n",
       "6         1\n",
       "Name: work_id, dtype: int64"
      ]
     },
     "execution_count": 36,
     "metadata": {},
     "output_type": "execute_result"
    }
   ],
   "source": [
    "#launch functions\n",
    "data['purpose_id'] = data['purpose_categorized'].apply(purpose_id_creator)\n",
    "data['work_id'] = data['income_type'].apply(work_id_creator)\n",
    "\n",
    "#double-check results\n",
    "display(data['purpose_categorized'].value_counts())\n",
    "display(data['purpose_id'].value_counts())\n",
    "data['work_id'].value_counts()"
   ]
  },
  {
   "cell_type": "code",
   "execution_count": 37,
   "metadata": {},
   "outputs": [
    {
     "data": {
      "text/html": [
       "<div>\n",
       "<style scoped>\n",
       "    .dataframe tbody tr th:only-of-type {\n",
       "        vertical-align: middle;\n",
       "    }\n",
       "\n",
       "    .dataframe tbody tr th {\n",
       "        vertical-align: top;\n",
       "    }\n",
       "\n",
       "    .dataframe thead th {\n",
       "        text-align: right;\n",
       "    }\n",
       "</style>\n",
       "<table border=\"1\" class=\"dataframe\">\n",
       "  <thead>\n",
       "    <tr style=\"text-align: right;\">\n",
       "      <th></th>\n",
       "      <th>children</th>\n",
       "      <th>days_employed</th>\n",
       "      <th>dob_years</th>\n",
       "      <th>education</th>\n",
       "      <th>education_id</th>\n",
       "      <th>family_status</th>\n",
       "      <th>family_status_id</th>\n",
       "      <th>gender</th>\n",
       "      <th>income_type</th>\n",
       "      <th>debt</th>\n",
       "      <th>total_income</th>\n",
       "      <th>purpose</th>\n",
       "      <th>purpose_categorized</th>\n",
       "      <th>purpose_id</th>\n",
       "      <th>work_id</th>\n",
       "    </tr>\n",
       "  </thead>\n",
       "  <tbody>\n",
       "    <tr>\n",
       "      <th>0</th>\n",
       "      <td>1</td>\n",
       "      <td>8437</td>\n",
       "      <td>42</td>\n",
       "      <td>высшее</td>\n",
       "      <td>0</td>\n",
       "      <td>женат / замужем</td>\n",
       "      <td>0</td>\n",
       "      <td>F</td>\n",
       "      <td>сотрудник</td>\n",
       "      <td>0</td>\n",
       "      <td>253875.639453</td>\n",
       "      <td>покупка жилья</td>\n",
       "      <td>real estate</td>\n",
       "      <td>1</td>\n",
       "      <td>0</td>\n",
       "    </tr>\n",
       "    <tr>\n",
       "      <th>1</th>\n",
       "      <td>1</td>\n",
       "      <td>4024</td>\n",
       "      <td>36</td>\n",
       "      <td>среднее</td>\n",
       "      <td>1</td>\n",
       "      <td>женат / замужем</td>\n",
       "      <td>0</td>\n",
       "      <td>F</td>\n",
       "      <td>сотрудник</td>\n",
       "      <td>0</td>\n",
       "      <td>112080.014102</td>\n",
       "      <td>приобретение автомобиля</td>\n",
       "      <td>car</td>\n",
       "      <td>2</td>\n",
       "      <td>0</td>\n",
       "    </tr>\n",
       "    <tr>\n",
       "      <th>2</th>\n",
       "      <td>0</td>\n",
       "      <td>5623</td>\n",
       "      <td>33</td>\n",
       "      <td>среднее</td>\n",
       "      <td>1</td>\n",
       "      <td>женат / замужем</td>\n",
       "      <td>0</td>\n",
       "      <td>M</td>\n",
       "      <td>сотрудник</td>\n",
       "      <td>0</td>\n",
       "      <td>145885.952297</td>\n",
       "      <td>покупка жилья</td>\n",
       "      <td>real estate</td>\n",
       "      <td>1</td>\n",
       "      <td>0</td>\n",
       "    </tr>\n",
       "    <tr>\n",
       "      <th>3</th>\n",
       "      <td>3</td>\n",
       "      <td>4124</td>\n",
       "      <td>32</td>\n",
       "      <td>среднее</td>\n",
       "      <td>1</td>\n",
       "      <td>женат / замужем</td>\n",
       "      <td>0</td>\n",
       "      <td>M</td>\n",
       "      <td>сотрудник</td>\n",
       "      <td>0</td>\n",
       "      <td>267628.550329</td>\n",
       "      <td>дополнительное образование</td>\n",
       "      <td>education</td>\n",
       "      <td>3</td>\n",
       "      <td>0</td>\n",
       "    </tr>\n",
       "    <tr>\n",
       "      <th>4</th>\n",
       "      <td>0</td>\n",
       "      <td>340266</td>\n",
       "      <td>53</td>\n",
       "      <td>среднее</td>\n",
       "      <td>1</td>\n",
       "      <td>гражданский брак</td>\n",
       "      <td>1</td>\n",
       "      <td>F</td>\n",
       "      <td>пенсионер</td>\n",
       "      <td>0</td>\n",
       "      <td>158616.077870</td>\n",
       "      <td>сыграть свадьбу</td>\n",
       "      <td>wedding</td>\n",
       "      <td>0</td>\n",
       "      <td>2</td>\n",
       "    </tr>\n",
       "  </tbody>\n",
       "</table>\n",
       "</div>"
      ],
      "text/plain": [
       "   children  days_employed  dob_years education  education_id  \\\n",
       "0         1           8437         42    высшее             0   \n",
       "1         1           4024         36   среднее             1   \n",
       "2         0           5623         33   среднее             1   \n",
       "3         3           4124         32   среднее             1   \n",
       "4         0         340266         53   среднее             1   \n",
       "\n",
       "      family_status  family_status_id gender income_type  debt   total_income  \\\n",
       "0   женат / замужем                 0      F   сотрудник     0  253875.639453   \n",
       "1   женат / замужем                 0      F   сотрудник     0  112080.014102   \n",
       "2   женат / замужем                 0      M   сотрудник     0  145885.952297   \n",
       "3   женат / замужем                 0      M   сотрудник     0  267628.550329   \n",
       "4  гражданский брак                 1      F   пенсионер     0  158616.077870   \n",
       "\n",
       "                      purpose purpose_categorized  purpose_id  work_id  \n",
       "0               покупка жилья         real estate           1        0  \n",
       "1     приобретение автомобиля                 car           2        0  \n",
       "2               покупка жилья         real estate           1        0  \n",
       "3  дополнительное образование           education           3        0  \n",
       "4             сыграть свадьбу             wedding           0        2  "
      ]
     },
     "execution_count": 37,
     "metadata": {},
     "output_type": "execute_result"
    }
   ],
   "source": [
    "data.head()"
   ]
  },
  {
   "cell_type": "markdown",
   "metadata": {},
   "source": [
    "Excellent! Now, let's start moving unnecessary columns out of our table. To start with, let's create the following dictionaries:\n",
    "\n",
    "* `purpose` (to `purpose_id`),\n",
    "* `income type` (to `work_id`),\n",
    "* `education` (to `education_id`),\n",
    "* `family_status` (to `family_id`)."
   ]
  },
  {
   "cell_type": "code",
   "execution_count": 38,
   "metadata": {},
   "outputs": [
    {
     "data": {
      "text/html": [
       "<div>\n",
       "<style scoped>\n",
       "    .dataframe tbody tr th:only-of-type {\n",
       "        vertical-align: middle;\n",
       "    }\n",
       "\n",
       "    .dataframe tbody tr th {\n",
       "        vertical-align: top;\n",
       "    }\n",
       "\n",
       "    .dataframe thead th {\n",
       "        text-align: right;\n",
       "    }\n",
       "</style>\n",
       "<table border=\"1\" class=\"dataframe\">\n",
       "  <thead>\n",
       "    <tr style=\"text-align: right;\">\n",
       "      <th></th>\n",
       "      <th>purpose_categorized</th>\n",
       "      <th>purpose_id</th>\n",
       "    </tr>\n",
       "  </thead>\n",
       "  <tbody>\n",
       "    <tr>\n",
       "      <th>0</th>\n",
       "      <td>wedding</td>\n",
       "      <td>0</td>\n",
       "    </tr>\n",
       "    <tr>\n",
       "      <th>1</th>\n",
       "      <td>real estate</td>\n",
       "      <td>1</td>\n",
       "    </tr>\n",
       "    <tr>\n",
       "      <th>2</th>\n",
       "      <td>car</td>\n",
       "      <td>2</td>\n",
       "    </tr>\n",
       "    <tr>\n",
       "      <th>3</th>\n",
       "      <td>education</td>\n",
       "      <td>3</td>\n",
       "    </tr>\n",
       "  </tbody>\n",
       "</table>\n",
       "</div>"
      ],
      "text/plain": [
       "  purpose_categorized  purpose_id\n",
       "0             wedding           0\n",
       "1         real estate           1\n",
       "2                 car           2\n",
       "3           education           3"
      ]
     },
     "execution_count": 38,
     "metadata": {},
     "output_type": "execute_result"
    }
   ],
   "source": [
    "#create the dictionary\n",
    "purpose_dict = data[['purpose_categorized', 'purpose_id']]\n",
    "\n",
    "#delete the duplicates and sort\n",
    "purpose_dict = purpose_dict.drop_duplicates().sort_values(by='purpose_id').reset_index(drop=True)\n",
    "purpose_dict"
   ]
  },
  {
   "cell_type": "code",
   "execution_count": 39,
   "metadata": {},
   "outputs": [
    {
     "data": {
      "text/html": [
       "<div>\n",
       "<style scoped>\n",
       "    .dataframe tbody tr th:only-of-type {\n",
       "        vertical-align: middle;\n",
       "    }\n",
       "\n",
       "    .dataframe tbody tr th {\n",
       "        vertical-align: top;\n",
       "    }\n",
       "\n",
       "    .dataframe thead th {\n",
       "        text-align: right;\n",
       "    }\n",
       "</style>\n",
       "<table border=\"1\" class=\"dataframe\">\n",
       "  <thead>\n",
       "    <tr style=\"text-align: right;\">\n",
       "      <th></th>\n",
       "      <th>education</th>\n",
       "      <th>education_id</th>\n",
       "    </tr>\n",
       "  </thead>\n",
       "  <tbody>\n",
       "    <tr>\n",
       "      <th>0</th>\n",
       "      <td>высшее</td>\n",
       "      <td>0</td>\n",
       "    </tr>\n",
       "    <tr>\n",
       "      <th>1</th>\n",
       "      <td>среднее</td>\n",
       "      <td>1</td>\n",
       "    </tr>\n",
       "    <tr>\n",
       "      <th>2</th>\n",
       "      <td>неоконченное высшее</td>\n",
       "      <td>2</td>\n",
       "    </tr>\n",
       "    <tr>\n",
       "      <th>3</th>\n",
       "      <td>начальное</td>\n",
       "      <td>3</td>\n",
       "    </tr>\n",
       "    <tr>\n",
       "      <th>4</th>\n",
       "      <td>ученая степень</td>\n",
       "      <td>4</td>\n",
       "    </tr>\n",
       "  </tbody>\n",
       "</table>\n",
       "</div>"
      ],
      "text/plain": [
       "             education  education_id\n",
       "0               высшее             0\n",
       "1              среднее             1\n",
       "2  неоконченное высшее             2\n",
       "3            начальное             3\n",
       "4       ученая степень             4"
      ]
     },
     "execution_count": 39,
     "metadata": {},
     "output_type": "execute_result"
    }
   ],
   "source": [
    "#create the dictionary\n",
    "education_dict = data[['education', 'education_id']]\n",
    "\n",
    "#delete the duplicates and sort\n",
    "education_dict = education_dict.drop_duplicates().reset_index(drop=True)\n",
    "education_dict"
   ]
  },
  {
   "cell_type": "code",
   "execution_count": 40,
   "metadata": {},
   "outputs": [
    {
     "data": {
      "text/html": [
       "<div>\n",
       "<style scoped>\n",
       "    .dataframe tbody tr th:only-of-type {\n",
       "        vertical-align: middle;\n",
       "    }\n",
       "\n",
       "    .dataframe tbody tr th {\n",
       "        vertical-align: top;\n",
       "    }\n",
       "\n",
       "    .dataframe thead th {\n",
       "        text-align: right;\n",
       "    }\n",
       "</style>\n",
       "<table border=\"1\" class=\"dataframe\">\n",
       "  <thead>\n",
       "    <tr style=\"text-align: right;\">\n",
       "      <th></th>\n",
       "      <th>family_status</th>\n",
       "      <th>family_status_id</th>\n",
       "    </tr>\n",
       "  </thead>\n",
       "  <tbody>\n",
       "    <tr>\n",
       "      <th>0</th>\n",
       "      <td>женат / замужем</td>\n",
       "      <td>0</td>\n",
       "    </tr>\n",
       "    <tr>\n",
       "      <th>1</th>\n",
       "      <td>гражданский брак</td>\n",
       "      <td>1</td>\n",
       "    </tr>\n",
       "    <tr>\n",
       "      <th>2</th>\n",
       "      <td>вдовец / вдова</td>\n",
       "      <td>2</td>\n",
       "    </tr>\n",
       "    <tr>\n",
       "      <th>3</th>\n",
       "      <td>в разводе</td>\n",
       "      <td>3</td>\n",
       "    </tr>\n",
       "    <tr>\n",
       "      <th>4</th>\n",
       "      <td>не женат / не замужем</td>\n",
       "      <td>4</td>\n",
       "    </tr>\n",
       "  </tbody>\n",
       "</table>\n",
       "</div>"
      ],
      "text/plain": [
       "           family_status  family_status_id\n",
       "0        женат / замужем                 0\n",
       "1       гражданский брак                 1\n",
       "2         вдовец / вдова                 2\n",
       "3              в разводе                 3\n",
       "4  не женат / не замужем                 4"
      ]
     },
     "execution_count": 40,
     "metadata": {},
     "output_type": "execute_result"
    }
   ],
   "source": [
    "#create the dictionary\n",
    "family_dict = data[['family_status', 'family_status_id']]\n",
    "\n",
    "#delete the duplicates and sort\n",
    "family_dict = family_dict.drop_duplicates().reset_index(drop=True)\n",
    "family_dict"
   ]
  },
  {
   "cell_type": "code",
   "execution_count": 41,
   "metadata": {},
   "outputs": [
    {
     "data": {
      "text/html": [
       "<div>\n",
       "<style scoped>\n",
       "    .dataframe tbody tr th:only-of-type {\n",
       "        vertical-align: middle;\n",
       "    }\n",
       "\n",
       "    .dataframe tbody tr th {\n",
       "        vertical-align: top;\n",
       "    }\n",
       "\n",
       "    .dataframe thead th {\n",
       "        text-align: right;\n",
       "    }\n",
       "</style>\n",
       "<table border=\"1\" class=\"dataframe\">\n",
       "  <thead>\n",
       "    <tr style=\"text-align: right;\">\n",
       "      <th></th>\n",
       "      <th>work_id</th>\n",
       "      <th>income_type</th>\n",
       "    </tr>\n",
       "  </thead>\n",
       "  <tbody>\n",
       "    <tr>\n",
       "      <th>0</th>\n",
       "      <td>0</td>\n",
       "      <td>сотрудник</td>\n",
       "    </tr>\n",
       "    <tr>\n",
       "      <th>1</th>\n",
       "      <td>2</td>\n",
       "      <td>пенсионер</td>\n",
       "    </tr>\n",
       "    <tr>\n",
       "      <th>2</th>\n",
       "      <td>1</td>\n",
       "      <td>компаньон</td>\n",
       "    </tr>\n",
       "    <tr>\n",
       "      <th>3</th>\n",
       "      <td>3</td>\n",
       "      <td>госслужащий</td>\n",
       "    </tr>\n",
       "    <tr>\n",
       "      <th>4</th>\n",
       "      <td>5</td>\n",
       "      <td>безработный</td>\n",
       "    </tr>\n",
       "    <tr>\n",
       "      <th>5</th>\n",
       "      <td>99</td>\n",
       "      <td>студент</td>\n",
       "    </tr>\n",
       "    <tr>\n",
       "      <th>6</th>\n",
       "      <td>4</td>\n",
       "      <td>предприниматель</td>\n",
       "    </tr>\n",
       "    <tr>\n",
       "      <th>7</th>\n",
       "      <td>6</td>\n",
       "      <td>в декрете</td>\n",
       "    </tr>\n",
       "  </tbody>\n",
       "</table>\n",
       "</div>"
      ],
      "text/plain": [
       "   work_id      income_type\n",
       "0        0        сотрудник\n",
       "1        2        пенсионер\n",
       "2        1        компаньон\n",
       "3        3      госслужащий\n",
       "4        5      безработный\n",
       "5       99          студент\n",
       "6        4  предприниматель\n",
       "7        6        в декрете"
      ]
     },
     "execution_count": 41,
     "metadata": {},
     "output_type": "execute_result"
    }
   ],
   "source": [
    "#create the dictionary\n",
    "work_dict = data[['work_id', 'income_type']]\n",
    "\n",
    "#delete the duplicates and sort\n",
    "work_dict = work_dict.drop_duplicates().reset_index(drop=True)\n",
    "work_dict"
   ]
  },
  {
   "cell_type": "markdown",
   "metadata": {},
   "source": [
    "With all the id columns in place and the dictionaries prepared, we can delete the original columns from our table."
   ]
  },
  {
   "cell_type": "code",
   "execution_count": 42,
   "metadata": {},
   "outputs": [],
   "source": [
    "data.drop(['education', 'family_status', 'purpose', 'purpose_categorized', 'income_type'], axis=1, inplace=True)"
   ]
  },
  {
   "cell_type": "markdown",
   "metadata": {},
   "source": [
    "Now we can see if there are any more duplicates."
   ]
  },
  {
   "cell_type": "code",
   "execution_count": 43,
   "metadata": {},
   "outputs": [
    {
     "data": {
      "text/plain": [
       "333"
      ]
     },
     "execution_count": 43,
     "metadata": {},
     "output_type": "execute_result"
    }
   ],
   "source": [
    "data.duplicated().sum()"
   ]
  },
  {
   "cell_type": "markdown",
   "metadata": {},
   "source": [
    "Aha! We found more duplicates. Let's remove them and get our final table."
   ]
  },
  {
   "cell_type": "code",
   "execution_count": 44,
   "metadata": {},
   "outputs": [
    {
     "data": {
      "text/html": [
       "<div>\n",
       "<style scoped>\n",
       "    .dataframe tbody tr th:only-of-type {\n",
       "        vertical-align: middle;\n",
       "    }\n",
       "\n",
       "    .dataframe tbody tr th {\n",
       "        vertical-align: top;\n",
       "    }\n",
       "\n",
       "    .dataframe thead th {\n",
       "        text-align: right;\n",
       "    }\n",
       "</style>\n",
       "<table border=\"1\" class=\"dataframe\">\n",
       "  <thead>\n",
       "    <tr style=\"text-align: right;\">\n",
       "      <th></th>\n",
       "      <th>children</th>\n",
       "      <th>days_employed</th>\n",
       "      <th>dob_years</th>\n",
       "      <th>education_id</th>\n",
       "      <th>family_status_id</th>\n",
       "      <th>gender</th>\n",
       "      <th>debt</th>\n",
       "      <th>total_income</th>\n",
       "      <th>purpose_id</th>\n",
       "      <th>work_id</th>\n",
       "    </tr>\n",
       "  </thead>\n",
       "  <tbody>\n",
       "    <tr>\n",
       "      <th>0</th>\n",
       "      <td>1</td>\n",
       "      <td>8437</td>\n",
       "      <td>42</td>\n",
       "      <td>0</td>\n",
       "      <td>0</td>\n",
       "      <td>F</td>\n",
       "      <td>0</td>\n",
       "      <td>253875.639453</td>\n",
       "      <td>1</td>\n",
       "      <td>0</td>\n",
       "    </tr>\n",
       "    <tr>\n",
       "      <th>1</th>\n",
       "      <td>1</td>\n",
       "      <td>4024</td>\n",
       "      <td>36</td>\n",
       "      <td>1</td>\n",
       "      <td>0</td>\n",
       "      <td>F</td>\n",
       "      <td>0</td>\n",
       "      <td>112080.014102</td>\n",
       "      <td>2</td>\n",
       "      <td>0</td>\n",
       "    </tr>\n",
       "    <tr>\n",
       "      <th>2</th>\n",
       "      <td>0</td>\n",
       "      <td>5623</td>\n",
       "      <td>33</td>\n",
       "      <td>1</td>\n",
       "      <td>0</td>\n",
       "      <td>M</td>\n",
       "      <td>0</td>\n",
       "      <td>145885.952297</td>\n",
       "      <td>1</td>\n",
       "      <td>0</td>\n",
       "    </tr>\n",
       "    <tr>\n",
       "      <th>3</th>\n",
       "      <td>3</td>\n",
       "      <td>4124</td>\n",
       "      <td>32</td>\n",
       "      <td>1</td>\n",
       "      <td>0</td>\n",
       "      <td>M</td>\n",
       "      <td>0</td>\n",
       "      <td>267628.550329</td>\n",
       "      <td>3</td>\n",
       "      <td>0</td>\n",
       "    </tr>\n",
       "    <tr>\n",
       "      <th>4</th>\n",
       "      <td>0</td>\n",
       "      <td>340266</td>\n",
       "      <td>53</td>\n",
       "      <td>1</td>\n",
       "      <td>1</td>\n",
       "      <td>F</td>\n",
       "      <td>0</td>\n",
       "      <td>158616.077870</td>\n",
       "      <td>0</td>\n",
       "      <td>2</td>\n",
       "    </tr>\n",
       "    <tr>\n",
       "      <th>5</th>\n",
       "      <td>0</td>\n",
       "      <td>926</td>\n",
       "      <td>27</td>\n",
       "      <td>0</td>\n",
       "      <td>1</td>\n",
       "      <td>M</td>\n",
       "      <td>0</td>\n",
       "      <td>255763.565419</td>\n",
       "      <td>1</td>\n",
       "      <td>1</td>\n",
       "    </tr>\n",
       "    <tr>\n",
       "      <th>6</th>\n",
       "      <td>0</td>\n",
       "      <td>2879</td>\n",
       "      <td>43</td>\n",
       "      <td>0</td>\n",
       "      <td>0</td>\n",
       "      <td>F</td>\n",
       "      <td>0</td>\n",
       "      <td>240525.971920</td>\n",
       "      <td>1</td>\n",
       "      <td>1</td>\n",
       "    </tr>\n",
       "    <tr>\n",
       "      <th>7</th>\n",
       "      <td>0</td>\n",
       "      <td>152</td>\n",
       "      <td>50</td>\n",
       "      <td>1</td>\n",
       "      <td>0</td>\n",
       "      <td>M</td>\n",
       "      <td>0</td>\n",
       "      <td>135823.934197</td>\n",
       "      <td>3</td>\n",
       "      <td>0</td>\n",
       "    </tr>\n",
       "    <tr>\n",
       "      <th>8</th>\n",
       "      <td>2</td>\n",
       "      <td>6929</td>\n",
       "      <td>35</td>\n",
       "      <td>0</td>\n",
       "      <td>1</td>\n",
       "      <td>F</td>\n",
       "      <td>0</td>\n",
       "      <td>95856.832424</td>\n",
       "      <td>0</td>\n",
       "      <td>0</td>\n",
       "    </tr>\n",
       "    <tr>\n",
       "      <th>9</th>\n",
       "      <td>0</td>\n",
       "      <td>2188</td>\n",
       "      <td>41</td>\n",
       "      <td>1</td>\n",
       "      <td>0</td>\n",
       "      <td>M</td>\n",
       "      <td>0</td>\n",
       "      <td>144425.938277</td>\n",
       "      <td>1</td>\n",
       "      <td>0</td>\n",
       "    </tr>\n",
       "  </tbody>\n",
       "</table>\n",
       "</div>"
      ],
      "text/plain": [
       "   children  days_employed  dob_years  education_id  family_status_id gender  \\\n",
       "0         1           8437         42             0                 0      F   \n",
       "1         1           4024         36             1                 0      F   \n",
       "2         0           5623         33             1                 0      M   \n",
       "3         3           4124         32             1                 0      M   \n",
       "4         0         340266         53             1                 1      F   \n",
       "5         0            926         27             0                 1      M   \n",
       "6         0           2879         43             0                 0      F   \n",
       "7         0            152         50             1                 0      M   \n",
       "8         2           6929         35             0                 1      F   \n",
       "9         0           2188         41             1                 0      M   \n",
       "\n",
       "   debt   total_income  purpose_id  work_id  \n",
       "0     0  253875.639453           1        0  \n",
       "1     0  112080.014102           2        0  \n",
       "2     0  145885.952297           1        0  \n",
       "3     0  267628.550329           3        0  \n",
       "4     0  158616.077870           0        2  \n",
       "5     0  255763.565419           1        1  \n",
       "6     0  240525.971920           1        1  \n",
       "7     0  135823.934197           3        0  \n",
       "8     0   95856.832424           0        0  \n",
       "9     0  144425.938277           1        0  "
      ]
     },
     "execution_count": 44,
     "metadata": {},
     "output_type": "execute_result"
    }
   ],
   "source": [
    "data.drop_duplicates().reset_index(drop=True)\n",
    "data.head(10)"
   ]
  },
  {
   "cell_type": "markdown",
   "metadata": {},
   "source": [
    "#### Conclusion"
   ]
  },
  {
   "cell_type": "markdown",
   "metadata": {},
   "source": [
    "We have categorized the data according to the value of `purpose` (\"wedding\", \"real estate\", \"car\", \"education\", \"error\"), and assigned IDs to them as `purpose_id`. We have created the following ID dictionaries:\n",
    "\n",
    "* `purpose_dict` (`purpose` and `purpose_id`)\n",
    "* `education_dict` (`education` and `education_id`)\n",
    "* `family_dict` (`family_status` and `family_status_id`)\n",
    "* `work_dict` (`income_type` and `work_id`)\n",
    "\n",
    "We have also dropped the `purpose`, `purpose_categorized`, `education`, `family_status`, and `income_type` columns.\n",
    "\n",
    "Our approach has the following potential problems:\n",
    "\n",
    "1. This method assumes that a single person did not take out two loans in the same category in one year. For example, if a 52-year old worker takes out a loan to buy commercial real estate, and another loan to repair real estate three months later, this method would treat these two loans as a singular duplicated loan. If we had a loan date column, this problem would not happen. In either case, this is not a common occurence, and should not seriously affect our study.\n",
    "2. Since we do not have any unique ID for users, not even a name, we still have the problem of two clients the same age. For example, if two 63 year old pensioners took out a loan each in the same category (one for repairs, one for mortgage), this method would treat them as a singular duplicated loan. However, this is a rare occurence and shouldn't affect our study much."
   ]
  },
  {
   "cell_type": "markdown",
   "metadata": {},
   "source": [
    "## Client Questions"
   ]
  },
  {
   "cell_type": "markdown",
   "metadata": {},
   "source": [
    "### Connection Between Children and Paying Off Loans"
   ]
  },
  {
   "cell_type": "markdown",
   "metadata": {},
   "source": [
    "With this question, as with the rest of them, we cannot guarantee a connection. However, we can demonstrate a correlation. Let's take \"there is a correlation between having children and paying off loans late\" as our hypothesis."
   ]
  },
  {
   "cell_type": "markdown",
   "metadata": {},
   "source": [
    "To test this, we need to compare the ratio of clients who have trouble paying off loans (1 in `debt`) to the overall number of clients. We need to then compare that to similar ratios only for clients with children (`children` >= 0), and only without children (`children` == 0)."
   ]
  },
  {
   "cell_type": "markdown",
   "metadata": {},
   "source": [
    "Let's create a table only with clients that have children."
   ]
  },
  {
   "cell_type": "code",
   "execution_count": 45,
   "metadata": {},
   "outputs": [
    {
     "name": "stdout",
     "output_type": "stream",
     "text": [
      "<class 'pandas.core.frame.DataFrame'>\n",
      "Int64Index: 7209 entries, 0 to 21329\n",
      "Data columns (total 10 columns):\n",
      " #   Column            Non-Null Count  Dtype  \n",
      "---  ------            --------------  -----  \n",
      " 0   children          7209 non-null   int64  \n",
      " 1   days_employed     7209 non-null   int64  \n",
      " 2   dob_years         7209 non-null   int64  \n",
      " 3   education_id      7209 non-null   int64  \n",
      " 4   family_status_id  7209 non-null   int64  \n",
      " 5   gender            7209 non-null   object \n",
      " 6   debt              7209 non-null   int64  \n",
      " 7   total_income      7209 non-null   float64\n",
      " 8   purpose_id        7209 non-null   int64  \n",
      " 9   work_id           7209 non-null   int64  \n",
      "dtypes: float64(1), int64(8), object(1)\n",
      "memory usage: 619.5+ KB\n"
     ]
    }
   ],
   "source": [
    "data_with_children = data[data['children'] > 0]\n",
    "\n",
    "data_with_children.info()"
   ]
  },
  {
   "cell_type": "markdown",
   "metadata": {},
   "source": [
    "And group this table according to loan status."
   ]
  },
  {
   "cell_type": "code",
   "execution_count": 46,
   "metadata": {},
   "outputs": [
    {
     "data": {
      "text/plain": [
       "debt\n",
       "0    6543\n",
       "1     666\n",
       "Name: work_id, dtype: int64"
      ]
     },
     "execution_count": 46,
     "metadata": {},
     "output_type": "execute_result"
    }
   ],
   "source": [
    "data_with_children.groupby('debt')['work_id'].count()"
   ]
  },
  {
   "cell_type": "markdown",
   "metadata": {},
   "source": [
    "Alright, and now we do the same for clients without children."
   ]
  },
  {
   "cell_type": "code",
   "execution_count": 47,
   "metadata": {},
   "outputs": [
    {
     "name": "stdout",
     "output_type": "stream",
     "text": [
      "<class 'pandas.core.frame.DataFrame'>\n",
      "Int64Index: 14021 entries, 2 to 21326\n",
      "Data columns (total 10 columns):\n",
      " #   Column            Non-Null Count  Dtype  \n",
      "---  ------            --------------  -----  \n",
      " 0   children          14021 non-null  int64  \n",
      " 1   days_employed     14021 non-null  int64  \n",
      " 2   dob_years         14021 non-null  int64  \n",
      " 3   education_id      14021 non-null  int64  \n",
      " 4   family_status_id  14021 non-null  int64  \n",
      " 5   gender            14021 non-null  object \n",
      " 6   debt              14021 non-null  int64  \n",
      " 7   total_income      14021 non-null  float64\n",
      " 8   purpose_id        14021 non-null  int64  \n",
      " 9   work_id           14021 non-null  int64  \n",
      "dtypes: float64(1), int64(8), object(1)\n",
      "memory usage: 1.2+ MB\n"
     ]
    }
   ],
   "source": [
    "data_without_children = data[data['children'] == 0]\n",
    "\n",
    "data_without_children.info()"
   ]
  },
  {
   "cell_type": "code",
   "execution_count": 48,
   "metadata": {
    "scrolled": true
   },
   "outputs": [
    {
     "data": {
      "text/plain": [
       "debt\n",
       "0    12963\n",
       "1     1058\n",
       "Name: work_id, dtype: int64"
      ]
     },
     "execution_count": 48,
     "metadata": {},
     "output_type": "execute_result"
    }
   ],
   "source": [
    "data_without_children.groupby('debt')['work_id'].count()"
   ]
  },
  {
   "cell_type": "markdown",
   "metadata": {},
   "source": [
    "And our overall ratio."
   ]
  },
  {
   "cell_type": "code",
   "execution_count": 49,
   "metadata": {},
   "outputs": [
    {
     "data": {
      "text/plain": [
       "debt\n",
       "0    19506\n",
       "1     1724\n",
       "Name: work_id, dtype: int64"
      ]
     },
     "execution_count": 49,
     "metadata": {},
     "output_type": "execute_result"
    }
   ],
   "source": [
    "data.groupby('debt')['work_id'].count()"
   ]
  },
  {
   "cell_type": "markdown",
   "metadata": {},
   "source": [
    "Excellent. But what about different numbers of children?"
   ]
  },
  {
   "cell_type": "code",
   "execution_count": 50,
   "metadata": {
    "scrolled": true
   },
   "outputs": [
    {
     "name": "stdout",
     "output_type": "stream",
     "text": [
      "children: 0\n",
      "unpaid loans: 1058\n",
      "total loans: 14021\n",
      "ratio: 7.545824120961415 %\n",
      "-----\n",
      "children: 1\n",
      "unpaid loans: 441\n",
      "total loans: 4792\n",
      "ratio: 9.202838063439065 %\n",
      "-----\n",
      "children: 2\n",
      "unpaid loans: 194\n",
      "total loans: 2039\n",
      "ratio: 9.514467876410006 %\n",
      "-----\n",
      "children: 3\n",
      "unpaid loans: 27\n",
      "total loans: 328\n",
      "ratio: 8.231707317073171 %\n",
      "-----\n",
      "children: 4\n",
      "unpaid loans: 4\n",
      "total loans: 41\n",
      "ratio: 9.75609756097561 %\n",
      "-----\n",
      "children: 5\n",
      "unpaid loans: 0\n",
      "total loans: 9\n",
      "ratio: 0.0 %\n",
      "-----\n"
     ]
    }
   ],
   "source": [
    "for i in [0,1,2,3,4,5]:\n",
    "    \n",
    "    #number of kids \n",
    "    print('children:', i)\n",
    "    \n",
    "    #select and count unpaid loans\n",
    "    print('unpaid loans:', data[(data['children'] == i) & (data['debt'] == 1)]['work_id'].count())\n",
    "    \n",
    "    #total number of loans\n",
    "    print('total loans:', data[data['children'] == i]['work_id'].count())\n",
    "    \n",
    "    #their ratio\n",
    "    print('ratio:', 100*data[(data['children'] == i) & (data['debt'] == 1)]['work_id'].count()/data[data['children'] == i]['work_id'].count(), '%')\n",
    "    print('-----')"
   ]
  },
  {
   "cell_type": "markdown",
   "metadata": {},
   "source": [
    "Let's put it together in a nice table."
   ]
  },
  {
   "cell_type": "code",
   "execution_count": 51,
   "metadata": {
    "scrolled": true
   },
   "outputs": [
    {
     "data": {
      "text/html": [
       "<div>\n",
       "<style scoped>\n",
       "    .dataframe tbody tr th:only-of-type {\n",
       "        vertical-align: middle;\n",
       "    }\n",
       "\n",
       "    .dataframe tbody tr th {\n",
       "        vertical-align: top;\n",
       "    }\n",
       "\n",
       "    .dataframe thead th {\n",
       "        text-align: right;\n",
       "    }\n",
       "</style>\n",
       "<table border=\"1\" class=\"dataframe\">\n",
       "  <thead>\n",
       "    <tr style=\"text-align: right;\">\n",
       "      <th></th>\n",
       "      <th>number of children</th>\n",
       "      <th>unpaid loans</th>\n",
       "      <th>total loans</th>\n",
       "      <th>ratio (%)</th>\n",
       "    </tr>\n",
       "  </thead>\n",
       "  <tbody>\n",
       "    <tr>\n",
       "      <th>0</th>\n",
       "      <td>none</td>\n",
       "      <td>1058</td>\n",
       "      <td>14021</td>\n",
       "      <td>7.545824</td>\n",
       "    </tr>\n",
       "    <tr>\n",
       "      <th>1</th>\n",
       "      <td>1</td>\n",
       "      <td>441</td>\n",
       "      <td>4792</td>\n",
       "      <td>9.202838</td>\n",
       "    </tr>\n",
       "    <tr>\n",
       "      <th>2</th>\n",
       "      <td>2</td>\n",
       "      <td>194</td>\n",
       "      <td>2039</td>\n",
       "      <td>9.514468</td>\n",
       "    </tr>\n",
       "    <tr>\n",
       "      <th>3</th>\n",
       "      <td>3</td>\n",
       "      <td>27</td>\n",
       "      <td>328</td>\n",
       "      <td>8.231707</td>\n",
       "    </tr>\n",
       "    <tr>\n",
       "      <th>4</th>\n",
       "      <td>4</td>\n",
       "      <td>4</td>\n",
       "      <td>41</td>\n",
       "      <td>9.756098</td>\n",
       "    </tr>\n",
       "    <tr>\n",
       "      <th>5</th>\n",
       "      <td>5</td>\n",
       "      <td>0</td>\n",
       "      <td>9</td>\n",
       "      <td>0.000000</td>\n",
       "    </tr>\n",
       "    <tr>\n",
       "      <th>6</th>\n",
       "      <td>some</td>\n",
       "      <td>666</td>\n",
       "      <td>7209</td>\n",
       "      <td>9.238452</td>\n",
       "    </tr>\n",
       "    <tr>\n",
       "      <th>7</th>\n",
       "      <td>total</td>\n",
       "      <td>1724</td>\n",
       "      <td>21230</td>\n",
       "      <td>8.120584</td>\n",
       "    </tr>\n",
       "  </tbody>\n",
       "</table>\n",
       "</div>"
      ],
      "text/plain": [
       "  number of children  unpaid loans  total loans  ratio (%)\n",
       "0               none          1058        14021   7.545824\n",
       "1                  1           441         4792   9.202838\n",
       "2                  2           194         2039   9.514468\n",
       "3                  3            27          328   8.231707\n",
       "4                  4             4           41   9.756098\n",
       "5                  5             0            9   0.000000\n",
       "6               some           666         7209   9.238452\n",
       "7              total          1724        21230   8.120584"
      ]
     },
     "execution_count": 51,
     "metadata": {},
     "output_type": "execute_result"
    }
   ],
   "source": [
    "#create a list of the number of unpaid loans per child number \n",
    "children_unpaid_list = []\n",
    "\n",
    "#create a list of the total number of loans per child number\n",
    "children_total_list = []\n",
    "\n",
    "#populate the lists\n",
    "for i in [0,1,2,3,4,5]:\n",
    "    \n",
    "    #number of unpaid loans for this number of children\n",
    "    unpaid_number = data[(data['children'] == i) & (data['debt'] == 1)]['work_id'].count()\n",
    "    \n",
    "    #total number of loans for this number of children\n",
    "    total_number = data[data['children'] == i]['work_id'].count()\n",
    "    \n",
    "    #append our lists\n",
    "    children_unpaid_list.append(unpaid_number)\n",
    "    children_total_list.append(total_number)\n",
    "    \n",
    "#put our data into a dataframe\n",
    "d_child = {'number of children': ['none', 1, 2, 3, 4, 5, 'some', 'total'],\n",
    "           'unpaid loans' : [children_unpaid_list[0], children_unpaid_list[1], children_unpaid_list[2],\n",
    "                                   children_unpaid_list[3], children_unpaid_list[4], children_unpaid_list[5],\n",
    "                                   sum(children_unpaid_list[1:6]), data[data['debt'] == 1]['children'].count()],\n",
    "          'total loans' : [children_total_list[0], children_total_list[1], children_total_list[2],\n",
    "                                   children_total_list[3], children_total_list[4], children_total_list[5],\n",
    "                                   sum(children_total_list[1:6]), data['children'].count()],\n",
    "          'ratio (%)' : [100*children_unpaid_list[0]/children_total_list[0], 100*children_unpaid_list[1]/children_total_list[1],\n",
    "                           100*children_unpaid_list[2]/children_total_list[2], 100*children_unpaid_list[3]/children_total_list[3],\n",
    "                           100*children_unpaid_list[4]/children_total_list[4], 100*children_unpaid_list[5]/children_total_list[5],\n",
    "                           100*sum(children_unpaid_list[1:6])/sum(children_total_list[1:6]),\n",
    "                           100*data[data['debt'] == 1]['children'].count()/data['children'].count()]}\n",
    "\n",
    "#show our pretty table\n",
    "data_children_final = pd.DataFrame(data=d_child)\n",
    "data_children_final"
   ]
  },
  {
   "cell_type": "markdown",
   "metadata": {},
   "source": [
    "#### Conclusion"
   ]
  },
  {
   "cell_type": "markdown",
   "metadata": {},
   "source": [
    "Data shows Our data shows that yes, having kids is directly correlated with a higher rate of loan non-payment. However, as soon as the number of kids hits 3, the unpaid ratio drops nearly to the total level."
   ]
  },
  {
   "cell_type": "markdown",
   "metadata": {},
   "source": [
    "### Connection Between Marital Status and Paying Off Loans"
   ]
  },
  {
   "cell_type": "markdown",
   "metadata": {},
   "source": [
    "As with the previous question, we cannot establish a causal relationship, only a correlation. Our hypothesis is \"yes, there is a correlation\". To check it, let's group our data according to `family_id` and compare the unpaid to total loan ratios."
   ]
  },
  {
   "cell_type": "code",
   "execution_count": 52,
   "metadata": {
    "scrolled": true
   },
   "outputs": [
    {
     "name": "stdout",
     "output_type": "stream",
     "text": [
      "family_status_id: 0\n",
      "unpaid 923\n",
      "total: 12212\n",
      "ratio (%): 7.558139534883721\n",
      "-----\n",
      "family_status_id: 1\n",
      "unpaid 383\n",
      "total: 4113\n",
      "ratio (%): 9.311937758327256\n",
      "-----\n",
      "family_status_id: 2\n",
      "unpaid 62\n",
      "total: 946\n",
      "ratio (%): 6.553911205073995\n",
      "-----\n",
      "family_status_id: 3\n",
      "unpaid 84\n",
      "total: 1179\n",
      "ratio (%): 7.124681933842239\n",
      "-----\n",
      "family_status_id: 4\n",
      "unpaid 272\n",
      "total: 2780\n",
      "ratio (%): 9.784172661870503\n",
      "-----\n"
     ]
    }
   ],
   "source": [
    "for i in [0,1,2,3,4]:\n",
    "    \n",
    "    #show id\n",
    "    print('family_status_id:', i)\n",
    "    \n",
    "    #show unpaid loans\n",
    "    print('unpaid', data[(data['family_status_id'] == i) & (data['debt'] == 1)]['work_id'].count())\n",
    "    \n",
    "    #show total loans\n",
    "    print('total:', data[data['family_status_id'] == i]['work_id'].count())\n",
    "    \n",
    "    #show ratio\n",
    "    print('ratio (%):', 100*data[(data['family_status_id'] == i) & (data['debt'] == 1)]['work_id'].count()/data[data['family_status_id'] == i]['work_id'].count())\n",
    "    print('-----')"
   ]
  },
  {
   "cell_type": "markdown",
   "metadata": {},
   "source": [
    "Excellent. Now let's put it together in a nice dataframe."
   ]
  },
  {
   "cell_type": "code",
   "execution_count": 53,
   "metadata": {
    "scrolled": true
   },
   "outputs": [
    {
     "data": {
      "text/html": [
       "<div>\n",
       "<style scoped>\n",
       "    .dataframe tbody tr th:only-of-type {\n",
       "        vertical-align: middle;\n",
       "    }\n",
       "\n",
       "    .dataframe tbody tr th {\n",
       "        vertical-align: top;\n",
       "    }\n",
       "\n",
       "    .dataframe thead th {\n",
       "        text-align: right;\n",
       "    }\n",
       "</style>\n",
       "<table border=\"1\" class=\"dataframe\">\n",
       "  <thead>\n",
       "    <tr style=\"text-align: right;\">\n",
       "      <th></th>\n",
       "      <th>marital status</th>\n",
       "      <th>unpaid loans</th>\n",
       "      <th>total loans</th>\n",
       "      <th>ratio (%)</th>\n",
       "    </tr>\n",
       "  </thead>\n",
       "  <tbody>\n",
       "    <tr>\n",
       "      <th>0</th>\n",
       "      <td>женат / замужем</td>\n",
       "      <td>923</td>\n",
       "      <td>12212</td>\n",
       "      <td>7.558140</td>\n",
       "    </tr>\n",
       "    <tr>\n",
       "      <th>1</th>\n",
       "      <td>гражданский брак</td>\n",
       "      <td>383</td>\n",
       "      <td>4113</td>\n",
       "      <td>9.311938</td>\n",
       "    </tr>\n",
       "    <tr>\n",
       "      <th>2</th>\n",
       "      <td>вдовец / вдова</td>\n",
       "      <td>62</td>\n",
       "      <td>946</td>\n",
       "      <td>6.553911</td>\n",
       "    </tr>\n",
       "    <tr>\n",
       "      <th>3</th>\n",
       "      <td>в разводе</td>\n",
       "      <td>84</td>\n",
       "      <td>1179</td>\n",
       "      <td>7.124682</td>\n",
       "    </tr>\n",
       "    <tr>\n",
       "      <th>4</th>\n",
       "      <td>не женат / не замужем</td>\n",
       "      <td>272</td>\n",
       "      <td>2780</td>\n",
       "      <td>9.784173</td>\n",
       "    </tr>\n",
       "    <tr>\n",
       "      <th>5</th>\n",
       "      <td>всего</td>\n",
       "      <td>1724</td>\n",
       "      <td>21230</td>\n",
       "      <td>8.120584</td>\n",
       "    </tr>\n",
       "  </tbody>\n",
       "</table>\n",
       "</div>"
      ],
      "text/plain": [
       "          marital status  unpaid loans  total loans  ratio (%)\n",
       "0        женат / замужем           923        12212   7.558140\n",
       "1       гражданский брак           383         4113   9.311938\n",
       "2         вдовец / вдова            62          946   6.553911\n",
       "3              в разводе            84         1179   7.124682\n",
       "4  не женат / не замужем           272         2780   9.784173\n",
       "5                  всего          1724        21230   8.120584"
      ]
     },
     "execution_count": 53,
     "metadata": {},
     "output_type": "execute_result"
    }
   ],
   "source": [
    "#create lists for the table data\n",
    "family_unpaid_list = []\n",
    "family_total_list = []\n",
    "family_name_list = []\n",
    "\n",
    "#populate the lists\n",
    "for i in [0,1,2,3,4]:\n",
    "    \n",
    "    family_unpaid_list.append(data[(data['family_status_id'] == i) & (data['debt'] == 1)]['work_id'].count())\n",
    "    family_total_list.append(data[data['family_status_id'] == i]['work_id'].count())\n",
    "    \n",
    "    #copy the full family status name from the dictionary while we're at it\n",
    "    family_name_list.append(family_dict.iat[i,0])\n",
    "    \n",
    "#put the data together\n",
    "d_family = {'marital status' : [family_name_list[0], family_name_list[1], family_name_list[2],\n",
    "                                   family_name_list[3], family_name_list[4], 'всего'],\n",
    "           'unpaid loans' : [family_unpaid_list[0], family_unpaid_list[1], family_unpaid_list[2],\n",
    "                                      family_unpaid_list[3], family_unpaid_list[4], data[data['debt'] == 1]['family_status_id'].count()],\n",
    "           'total loans': [family_total_list[0], family_total_list[1], family_total_list[2],\n",
    "                             family_total_list[3], family_total_list[4], data['family_status_id'].count()],\n",
    "           'ratio (%)': [100*family_unpaid_list[0]/family_total_list[0], 100*family_unpaid_list[1]/family_total_list[1],\n",
    "                          100*family_unpaid_list[2]/family_total_list[2], 100*family_unpaid_list[3]/family_total_list[3],\n",
    "                          100*family_unpaid_list[4]/family_total_list[4], 100*data[data['debt'] == 1]['family_status_id'].count()/data['family_status_id'].count()]}\n",
    "\n",
    "#generate the dataframe\n",
    "data_family_final = pd.DataFrame(data=d_family)\n",
    "data_family_final"
   ]
  },
  {
   "cell_type": "markdown",
   "metadata": {},
   "source": [
    "#### Conclusion"
   ]
  },
  {
   "cell_type": "markdown",
   "metadata": {},
   "source": [
    "The data shows a correlation between marital status and nonpayment. Widows/widowers, divorcees, and married people pay off their loans more often than average, while single people and people in common law marriages pay them off worse."
   ]
  },
  {
   "cell_type": "markdown",
   "metadata": {},
   "source": [
    "### Connection Between Income and Paying Off Loans"
   ]
  },
  {
   "cell_type": "markdown",
   "metadata": {},
   "source": [
    "As with the other questions, we're looking for a correlation, not a causal link. Our hypothesis is \"yes, there is a correlation\". Let's break up our clients' incomes into four quartiles."
   ]
  },
  {
   "cell_type": "code",
   "execution_count": 54,
   "metadata": {},
   "outputs": [],
   "source": [
    "#calculate the boundaries between categories\n",
    "#find median\n",
    "income_halfway_mark = data['total_income'].median()\n",
    "\n",
    "#find median between min and median\n",
    "income_1q_mark = data[data['total_income']<=income_halfway_mark]['total_income'].median()\n",
    "\n",
    "#find median between median and max\n",
    "income_2q_mark = data[data['total_income']>=income_halfway_mark]['total_income'].median()"
   ]
  },
  {
   "cell_type": "code",
   "execution_count": 55,
   "metadata": {},
   "outputs": [],
   "source": [
    "#create function to assign an income group\n",
    "def income_group_creator(row):\n",
    "    \n",
    "    #grab the total income\n",
    "    user_income = row['total_income']\n",
    "    \n",
    "    #compare it to the boundaries\n",
    "    if (user_income >= data['total_income'].min()) & (user_income < income_1q_mark):\n",
    "        return(0)\n",
    "    elif (user_income >= income_1q_mark) & (user_income < income_halfway_mark):\n",
    "        return(1)\n",
    "    elif (user_income >= income_halfway_mark) & (user_income < income_2q_mark):\n",
    "        return(2)\n",
    "    elif (user_income >= income_2q_mark) & (user_income <= data['total_income'].max()):\n",
    "        return(3)\n",
    "    else:\n",
    "        return(99)"
   ]
  },
  {
   "cell_type": "code",
   "execution_count": 56,
   "metadata": {},
   "outputs": [
    {
     "data": {
      "text/html": [
       "<div>\n",
       "<style scoped>\n",
       "    .dataframe tbody tr th:only-of-type {\n",
       "        vertical-align: middle;\n",
       "    }\n",
       "\n",
       "    .dataframe tbody tr th {\n",
       "        vertical-align: top;\n",
       "    }\n",
       "\n",
       "    .dataframe thead th {\n",
       "        text-align: right;\n",
       "    }\n",
       "</style>\n",
       "<table border=\"1\" class=\"dataframe\">\n",
       "  <thead>\n",
       "    <tr style=\"text-align: right;\">\n",
       "      <th></th>\n",
       "      <th>children</th>\n",
       "      <th>days_employed</th>\n",
       "      <th>dob_years</th>\n",
       "      <th>education_id</th>\n",
       "      <th>family_status_id</th>\n",
       "      <th>gender</th>\n",
       "      <th>debt</th>\n",
       "      <th>total_income</th>\n",
       "      <th>purpose_id</th>\n",
       "      <th>work_id</th>\n",
       "      <th>income_group</th>\n",
       "    </tr>\n",
       "  </thead>\n",
       "  <tbody>\n",
       "    <tr>\n",
       "      <th>0</th>\n",
       "      <td>1</td>\n",
       "      <td>8437</td>\n",
       "      <td>42</td>\n",
       "      <td>0</td>\n",
       "      <td>0</td>\n",
       "      <td>F</td>\n",
       "      <td>0</td>\n",
       "      <td>253875.639453</td>\n",
       "      <td>1</td>\n",
       "      <td>0</td>\n",
       "      <td>3</td>\n",
       "    </tr>\n",
       "    <tr>\n",
       "      <th>1</th>\n",
       "      <td>1</td>\n",
       "      <td>4024</td>\n",
       "      <td>36</td>\n",
       "      <td>1</td>\n",
       "      <td>0</td>\n",
       "      <td>F</td>\n",
       "      <td>0</td>\n",
       "      <td>112080.014102</td>\n",
       "      <td>2</td>\n",
       "      <td>0</td>\n",
       "      <td>1</td>\n",
       "    </tr>\n",
       "    <tr>\n",
       "      <th>2</th>\n",
       "      <td>0</td>\n",
       "      <td>5623</td>\n",
       "      <td>33</td>\n",
       "      <td>1</td>\n",
       "      <td>0</td>\n",
       "      <td>M</td>\n",
       "      <td>0</td>\n",
       "      <td>145885.952297</td>\n",
       "      <td>1</td>\n",
       "      <td>0</td>\n",
       "      <td>2</td>\n",
       "    </tr>\n",
       "    <tr>\n",
       "      <th>3</th>\n",
       "      <td>3</td>\n",
       "      <td>4124</td>\n",
       "      <td>32</td>\n",
       "      <td>1</td>\n",
       "      <td>0</td>\n",
       "      <td>M</td>\n",
       "      <td>0</td>\n",
       "      <td>267628.550329</td>\n",
       "      <td>3</td>\n",
       "      <td>0</td>\n",
       "      <td>3</td>\n",
       "    </tr>\n",
       "    <tr>\n",
       "      <th>4</th>\n",
       "      <td>0</td>\n",
       "      <td>340266</td>\n",
       "      <td>53</td>\n",
       "      <td>1</td>\n",
       "      <td>1</td>\n",
       "      <td>F</td>\n",
       "      <td>0</td>\n",
       "      <td>158616.077870</td>\n",
       "      <td>0</td>\n",
       "      <td>2</td>\n",
       "      <td>2</td>\n",
       "    </tr>\n",
       "    <tr>\n",
       "      <th>5</th>\n",
       "      <td>0</td>\n",
       "      <td>926</td>\n",
       "      <td>27</td>\n",
       "      <td>0</td>\n",
       "      <td>1</td>\n",
       "      <td>M</td>\n",
       "      <td>0</td>\n",
       "      <td>255763.565419</td>\n",
       "      <td>1</td>\n",
       "      <td>1</td>\n",
       "      <td>3</td>\n",
       "    </tr>\n",
       "    <tr>\n",
       "      <th>6</th>\n",
       "      <td>0</td>\n",
       "      <td>2879</td>\n",
       "      <td>43</td>\n",
       "      <td>0</td>\n",
       "      <td>0</td>\n",
       "      <td>F</td>\n",
       "      <td>0</td>\n",
       "      <td>240525.971920</td>\n",
       "      <td>1</td>\n",
       "      <td>1</td>\n",
       "      <td>3</td>\n",
       "    </tr>\n",
       "    <tr>\n",
       "      <th>7</th>\n",
       "      <td>0</td>\n",
       "      <td>152</td>\n",
       "      <td>50</td>\n",
       "      <td>1</td>\n",
       "      <td>0</td>\n",
       "      <td>M</td>\n",
       "      <td>0</td>\n",
       "      <td>135823.934197</td>\n",
       "      <td>3</td>\n",
       "      <td>0</td>\n",
       "      <td>1</td>\n",
       "    </tr>\n",
       "    <tr>\n",
       "      <th>8</th>\n",
       "      <td>2</td>\n",
       "      <td>6929</td>\n",
       "      <td>35</td>\n",
       "      <td>0</td>\n",
       "      <td>1</td>\n",
       "      <td>F</td>\n",
       "      <td>0</td>\n",
       "      <td>95856.832424</td>\n",
       "      <td>0</td>\n",
       "      <td>0</td>\n",
       "      <td>0</td>\n",
       "    </tr>\n",
       "    <tr>\n",
       "      <th>9</th>\n",
       "      <td>0</td>\n",
       "      <td>2188</td>\n",
       "      <td>41</td>\n",
       "      <td>1</td>\n",
       "      <td>0</td>\n",
       "      <td>M</td>\n",
       "      <td>0</td>\n",
       "      <td>144425.938277</td>\n",
       "      <td>1</td>\n",
       "      <td>0</td>\n",
       "      <td>2</td>\n",
       "    </tr>\n",
       "  </tbody>\n",
       "</table>\n",
       "</div>"
      ],
      "text/plain": [
       "   children  days_employed  dob_years  education_id  family_status_id gender  \\\n",
       "0         1           8437         42             0                 0      F   \n",
       "1         1           4024         36             1                 0      F   \n",
       "2         0           5623         33             1                 0      M   \n",
       "3         3           4124         32             1                 0      M   \n",
       "4         0         340266         53             1                 1      F   \n",
       "5         0            926         27             0                 1      M   \n",
       "6         0           2879         43             0                 0      F   \n",
       "7         0            152         50             1                 0      M   \n",
       "8         2           6929         35             0                 1      F   \n",
       "9         0           2188         41             1                 0      M   \n",
       "\n",
       "   debt   total_income  purpose_id  work_id  income_group  \n",
       "0     0  253875.639453           1        0             3  \n",
       "1     0  112080.014102           2        0             1  \n",
       "2     0  145885.952297           1        0             2  \n",
       "3     0  267628.550329           3        0             3  \n",
       "4     0  158616.077870           0        2             2  \n",
       "5     0  255763.565419           1        1             3  \n",
       "6     0  240525.971920           1        1             3  \n",
       "7     0  135823.934197           3        0             1  \n",
       "8     0   95856.832424           0        0             0  \n",
       "9     0  144425.938277           1        0             2  "
      ]
     },
     "metadata": {},
     "output_type": "display_data"
    }
   ],
   "source": [
    "#apply the function to the whole table\n",
    "data['income_group'] = data.apply(income_group_creator, axis=1)\n",
    "\n",
    "#take a look at the table\n",
    "display(data.head(10))"
   ]
  },
  {
   "cell_type": "markdown",
   "metadata": {},
   "source": [
    "So, we have broken up our clients into four quartiles with the IDs of 0 to 3, with 99 for error."
   ]
  },
  {
   "cell_type": "markdown",
   "metadata": {},
   "source": [
    "Let's see what the ratio of unpaid loans to total loans is for each category."
   ]
  },
  {
   "cell_type": "code",
   "execution_count": 57,
   "metadata": {
    "scrolled": true
   },
   "outputs": [
    {
     "name": "stdout",
     "output_type": "stream",
     "text": [
      "income_group: 0\n",
      "unpaid 430\n",
      "total: 5365\n",
      "ratio (%): 8.014911463187325\n",
      "-----\n",
      "income_group: 1\n",
      "unpaid 375\n",
      "total: 4304\n",
      "ratio (%): 8.712825278810408\n",
      "-----\n",
      "income_group: 2\n",
      "unpaid 491\n",
      "total: 5780\n",
      "ratio (%): 8.494809688581315\n",
      "-----\n",
      "income_group: 3\n",
      "unpaid 428\n",
      "total: 5781\n",
      "ratio (%): 7.403563397336101\n",
      "-----\n"
     ]
    }
   ],
   "source": [
    "for i in [0,1,2,3]:\n",
    "    \n",
    "    #show income group id\n",
    "    print('income_group:', i)\n",
    "    \n",
    "    #show unpaid loan number\n",
    "    print('unpaid', data[(data['income_group'] == i) & (data['debt'] == 1)]['work_id'].count())\n",
    "    \n",
    "    #show total loan number\n",
    "    print('total:', data[data['income_group'] == i]['work_id'].count())\n",
    "    \n",
    "    #show ratio\n",
    "    print('ratio (%):', 100*data[(data['income_group'] == i) & (data['debt'] == 1)]['work_id'].count()/data[data['income_group'] == i]['work_id'].count())\n",
    "    print('-----')"
   ]
  },
  {
   "cell_type": "markdown",
   "metadata": {},
   "source": [
    "As expected, the clients with the highest income have the least trouble with paying off loans on time."
   ]
  },
  {
   "cell_type": "markdown",
   "metadata": {},
   "source": [
    "Note that our quartiles aren't exactly the same size. This is due to the fact that we're using median values."
   ]
  },
  {
   "cell_type": "markdown",
   "metadata": {},
   "source": [
    "Now let's put it together into a nice table."
   ]
  },
  {
   "cell_type": "code",
   "execution_count": 58,
   "metadata": {
    "scrolled": true
   },
   "outputs": [
    {
     "data": {
      "text/html": [
       "<div>\n",
       "<style scoped>\n",
       "    .dataframe tbody tr th:only-of-type {\n",
       "        vertical-align: middle;\n",
       "    }\n",
       "\n",
       "    .dataframe tbody tr th {\n",
       "        vertical-align: top;\n",
       "    }\n",
       "\n",
       "    .dataframe thead th {\n",
       "        text-align: right;\n",
       "    }\n",
       "</style>\n",
       "<table border=\"1\" class=\"dataframe\">\n",
       "  <thead>\n",
       "    <tr style=\"text-align: right;\">\n",
       "      <th></th>\n",
       "      <th>quartile</th>\n",
       "      <th>unpaid loans</th>\n",
       "      <th>total loans</th>\n",
       "      <th>ratio (%)</th>\n",
       "    </tr>\n",
       "  </thead>\n",
       "  <tbody>\n",
       "    <tr>\n",
       "      <th>0</th>\n",
       "      <td>first</td>\n",
       "      <td>430</td>\n",
       "      <td>5365</td>\n",
       "      <td>8.014911</td>\n",
       "    </tr>\n",
       "    <tr>\n",
       "      <th>1</th>\n",
       "      <td>second</td>\n",
       "      <td>375</td>\n",
       "      <td>4304</td>\n",
       "      <td>8.712825</td>\n",
       "    </tr>\n",
       "    <tr>\n",
       "      <th>2</th>\n",
       "      <td>third</td>\n",
       "      <td>491</td>\n",
       "      <td>5780</td>\n",
       "      <td>8.494810</td>\n",
       "    </tr>\n",
       "    <tr>\n",
       "      <th>3</th>\n",
       "      <td>fourth</td>\n",
       "      <td>428</td>\n",
       "      <td>5781</td>\n",
       "      <td>7.403563</td>\n",
       "    </tr>\n",
       "    <tr>\n",
       "      <th>4</th>\n",
       "      <td>total</td>\n",
       "      <td>1724</td>\n",
       "      <td>21230</td>\n",
       "      <td>8.120584</td>\n",
       "    </tr>\n",
       "  </tbody>\n",
       "</table>\n",
       "</div>"
      ],
      "text/plain": [
       "  quartile  unpaid loans  total loans  ratio (%)\n",
       "0    first           430         5365   8.014911\n",
       "1   second           375         4304   8.712825\n",
       "2    third           491         5780   8.494810\n",
       "3   fourth           428         5781   7.403563\n",
       "4    total          1724        21230   8.120584"
      ]
     },
     "execution_count": 58,
     "metadata": {},
     "output_type": "execute_result"
    }
   ],
   "source": [
    "#create lists for the table\n",
    "income_unpaid_list = []\n",
    "income_total_list = []\n",
    "\n",
    "#populate the lists\n",
    "for i in [0,1,2,3]:\n",
    "    income_unpaid_list.append(data[(data['income_group'] == i) & (data['debt'] == 1)]['work_id'].count())\n",
    "    income_total_list.append(data[data['income_group'] == i]['work_id'].count())\n",
    "    \n",
    "#put together the data\n",
    "d_income = {'quartile' : ['first', 'second', 'third', 'fourth', 'total'],\n",
    "           'unpaid loans' : [income_unpaid_list[0], income_unpaid_list[1], income_unpaid_list[2],\n",
    "                                      income_unpaid_list[3], data[data['debt'] == 1]['income_group'].count()],\n",
    "           'total loans': [income_total_list[0], income_total_list[1], income_total_list[2],\n",
    "                             income_total_list[3], data['income_group'].count()],\n",
    "           'ratio (%)': [100*income_unpaid_list[0]/income_total_list[0], 100*income_unpaid_list[1]/income_total_list[1],\n",
    "                          100*income_unpaid_list[2]/income_total_list[2], 100*income_unpaid_list[3]/income_total_list[3],\n",
    "                               100*data[data['debt'] == 1]['income_group'].count()/data['income_group'].count()]}\n",
    "\n",
    "#put it all together into a dataframe\n",
    "data_income_final = pd.DataFrame(data=d_income)\n",
    "data_income_final"
   ]
  },
  {
   "cell_type": "markdown",
   "metadata": {},
   "source": [
    "#### Conclusion"
   ]
  },
  {
   "cell_type": "markdown",
   "metadata": {},
   "source": [
    "The client's income doesn't correlate much with nonpayment. THe only exception is that clients with a very high income have a better than average nonpayment rate."
   ]
  },
  {
   "cell_type": "markdown",
   "metadata": {},
   "source": [
    "### Connection Between Loan Purpose and Paying Off Loans"
   ]
  },
  {
   "cell_type": "markdown",
   "metadata": {},
   "source": [
    "As with the other questions, we can only show a correlation, rather than a causal relationship. Our hypothesis is \"yes, there is a correlation\"."
   ]
  },
  {
   "cell_type": "markdown",
   "metadata": {},
   "source": [
    "We've already broken down the loan purposes into `purpose_id`. So we can go straight into studying the correlation."
   ]
  },
  {
   "cell_type": "code",
   "execution_count": 59,
   "metadata": {
    "scrolled": true
   },
   "outputs": [
    {
     "name": "stdout",
     "output_type": "stream",
     "text": [
      "purpose_id: 0\n",
      "unpaid 181\n",
      "total: 2299\n",
      "ratio (%): 7.872988255763375\n",
      "-----\n",
      "purpose_id: 1\n",
      "unpaid 777\n",
      "total: 10703\n",
      "ratio (%): 7.259646827992151\n",
      "-----\n",
      "purpose_id: 2\n",
      "unpaid 397\n",
      "total: 4258\n",
      "ratio (%): 9.323626115547205\n",
      "-----\n",
      "purpose_id: 3\n",
      "unpaid 369\n",
      "total: 3970\n",
      "ratio (%): 9.294710327455919\n",
      "-----\n"
     ]
    }
   ],
   "source": [
    "for i in [0,1,2,3]:\n",
    "    \n",
    "    #show id\n",
    "    print('purpose_id:', i)\n",
    "    \n",
    "    #show unpaid loans\n",
    "    print('unpaid', data[(data['purpose_id'] == i) & (data['debt'] == 1)]['work_id'].count())\n",
    "    \n",
    "    #show total loans\n",
    "    print('total:', data[data['purpose_id'] == i]['work_id'].count())\n",
    "    \n",
    "    #show ratio\n",
    "    print('ratio (%):', 100*data[(data['purpose_id'] == i) & (data['debt'] == 1)]['work_id'].count()/data[data['purpose_id'] == i]['work_id'].count())\n",
    "    print('-----')"
   ]
  },
  {
   "cell_type": "markdown",
   "metadata": {},
   "source": [
    "Hm, car loans and education loans have noticeably worse repayment ratios. Let's put it into a nice table."
   ]
  },
  {
   "cell_type": "code",
   "execution_count": 60,
   "metadata": {},
   "outputs": [
    {
     "data": {
      "text/html": [
       "<div>\n",
       "<style scoped>\n",
       "    .dataframe tbody tr th:only-of-type {\n",
       "        vertical-align: middle;\n",
       "    }\n",
       "\n",
       "    .dataframe tbody tr th {\n",
       "        vertical-align: top;\n",
       "    }\n",
       "\n",
       "    .dataframe thead th {\n",
       "        text-align: right;\n",
       "    }\n",
       "</style>\n",
       "<table border=\"1\" class=\"dataframe\">\n",
       "  <thead>\n",
       "    <tr style=\"text-align: right;\">\n",
       "      <th></th>\n",
       "      <th>loan purpose</th>\n",
       "      <th>unpaid loans</th>\n",
       "      <th>total loans</th>\n",
       "      <th>ratio (%)</th>\n",
       "    </tr>\n",
       "  </thead>\n",
       "  <tbody>\n",
       "    <tr>\n",
       "      <th>0</th>\n",
       "      <td>wedding</td>\n",
       "      <td>181</td>\n",
       "      <td>2299</td>\n",
       "      <td>7.872988</td>\n",
       "    </tr>\n",
       "    <tr>\n",
       "      <th>1</th>\n",
       "      <td>real estate</td>\n",
       "      <td>777</td>\n",
       "      <td>10703</td>\n",
       "      <td>7.259647</td>\n",
       "    </tr>\n",
       "    <tr>\n",
       "      <th>2</th>\n",
       "      <td>car</td>\n",
       "      <td>397</td>\n",
       "      <td>4258</td>\n",
       "      <td>9.323626</td>\n",
       "    </tr>\n",
       "    <tr>\n",
       "      <th>3</th>\n",
       "      <td>education</td>\n",
       "      <td>369</td>\n",
       "      <td>3970</td>\n",
       "      <td>9.294710</td>\n",
       "    </tr>\n",
       "    <tr>\n",
       "      <th>4</th>\n",
       "      <td>total</td>\n",
       "      <td>1724</td>\n",
       "      <td>21230</td>\n",
       "      <td>8.120584</td>\n",
       "    </tr>\n",
       "  </tbody>\n",
       "</table>\n",
       "</div>"
      ],
      "text/plain": [
       "  loan purpose  unpaid loans  total loans  ratio (%)\n",
       "0      wedding           181         2299   7.872988\n",
       "1  real estate           777        10703   7.259647\n",
       "2          car           397         4258   9.323626\n",
       "3    education           369         3970   9.294710\n",
       "4        total          1724        21230   8.120584"
      ]
     },
     "execution_count": 60,
     "metadata": {},
     "output_type": "execute_result"
    }
   ],
   "source": [
    "#build lists for the table\n",
    "purpose_unpaid_list = []\n",
    "purpose_total_list = []\n",
    "purpose_name_list = []\n",
    "\n",
    "#populate lists\n",
    "for i in [0,1,2,3]:\n",
    "    purpose_unpaid_list.append(data[(data['purpose_id'] == i) & (data['debt'] == 1)]['work_id'].count())\n",
    "    purpose_total_list.append(data[data['purpose_id'] == i]['work_id'].count())\n",
    "    \n",
    "    #while we're here, add purpose from dictionary\n",
    "    purpose_name_list.append(purpose_dict.iat[i,0])\n",
    "    \n",
    "#combining the data\n",
    "d_purpose = {'loan purpose' : [purpose_name_list[0], purpose_name_list[1], purpose_name_list[2],\n",
    "                                   purpose_name_list[3], 'total'],\n",
    "           'unpaid loans' : [purpose_unpaid_list[0], purpose_unpaid_list[1], purpose_unpaid_list[2],\n",
    "                                      purpose_unpaid_list[3], data[data['debt'] == 1]['purpose_id'].count()],\n",
    "           'total loans': [purpose_total_list[0], purpose_total_list[1], purpose_total_list[2],\n",
    "                             purpose_total_list[3], data['purpose_id'].count()],\n",
    "           'ratio (%)': [100*purpose_unpaid_list[0]/purpose_total_list[0], 100*purpose_unpaid_list[1]/purpose_total_list[1],\n",
    "                          100*purpose_unpaid_list[2]/purpose_total_list[2], 100*purpose_unpaid_list[3]/purpose_total_list[3],\n",
    "                          100*data[data['debt'] == 1]['purpose_id'].count()/data['purpose_id'].count()]}\n",
    "\n",
    "#put it all together into a dataframe\n",
    "data_purpose_final = pd.DataFrame(data=d_purpose)\n",
    "data_purpose_final"
   ]
  },
  {
   "cell_type": "markdown",
   "metadata": {},
   "source": [
    "#### Conclusion"
   ]
  },
  {
   "cell_type": "markdown",
   "metadata": {},
   "source": [
    "The data shows that there is a correlation. Education loans and car loans correlate with worse loan repayment rates."
   ]
  },
  {
   "cell_type": "markdown",
   "metadata": {},
   "source": [
    "## Overall Conclusion"
   ]
  },
  {
   "cell_type": "markdown",
   "metadata": {},
   "source": [
    "In the course of our study we found several positive correlations between greater than average loan nonpayment rate and a number of client factors. The clearest examples are:\n",
    "\n",
    "* car loans\n",
    "* education loans\n",
    "* presense of children\n",
    "* a lack of a current/former legal partner\n",
    "\n",
    "We should highlight that our study did not show, nor could it show, a causal link between loan nonpayment and these factors. We have only shown a correlation.\n",
    "\n",
    "Moreover, some of our results (marital status and number of children) should not even be shown to the client, as making a credit scoring system based on these factors is a banking ethics violation."
   ]
  }
 ],
 "metadata": {
  "ExecuteTimeLog": [
   {
    "duration": 59,
    "start_time": "2021-12-27T16:29:40.380Z"
   },
   {
    "duration": 619,
    "start_time": "2021-12-27T16:30:10.261Z"
   },
   {
    "duration": 70,
    "start_time": "2021-12-27T16:32:01.535Z"
   },
   {
    "duration": 9,
    "start_time": "2021-12-27T16:39:12.052Z"
   },
   {
    "duration": 15,
    "start_time": "2021-12-27T16:42:26.746Z"
   },
   {
    "duration": 16,
    "start_time": "2021-12-27T16:42:41.875Z"
   },
   {
    "duration": 15,
    "start_time": "2021-12-27T16:43:16.138Z"
   },
   {
    "duration": 4,
    "start_time": "2021-12-27T16:50:05.596Z"
   },
   {
    "duration": 2426,
    "start_time": "2021-12-27T16:50:09.778Z"
   },
   {
    "duration": 2483,
    "start_time": "2021-12-27T16:50:36.276Z"
   },
   {
    "duration": 6,
    "start_time": "2021-12-27T16:52:27.024Z"
   },
   {
    "duration": 10,
    "start_time": "2021-12-27T16:52:47.469Z"
   },
   {
    "duration": 628,
    "start_time": "2021-12-27T16:53:18.394Z"
   },
   {
    "duration": 9,
    "start_time": "2021-12-27T16:53:19.024Z"
   },
   {
    "duration": 14,
    "start_time": "2021-12-27T16:53:19.035Z"
   },
   {
    "duration": 10,
    "start_time": "2021-12-27T16:53:19.051Z"
   },
   {
    "duration": 12,
    "start_time": "2021-12-27T16:53:46.712Z"
   },
   {
    "duration": 5,
    "start_time": "2021-12-27T17:02:48.318Z"
   },
   {
    "duration": 12,
    "start_time": "2021-12-27T17:03:06.880Z"
   },
   {
    "duration": 11,
    "start_time": "2021-12-27T17:06:23.872Z"
   },
   {
    "duration": 5,
    "start_time": "2021-12-27T17:14:43.370Z"
   },
   {
    "duration": 12,
    "start_time": "2021-12-27T17:15:31.453Z"
   },
   {
    "duration": 18,
    "start_time": "2021-12-27T17:16:10.474Z"
   },
   {
    "duration": 16,
    "start_time": "2021-12-27T17:38:31.689Z"
   },
   {
    "duration": 16,
    "start_time": "2021-12-27T17:38:59.858Z"
   },
   {
    "duration": 17,
    "start_time": "2021-12-27T17:39:18.282Z"
   },
   {
    "duration": 16,
    "start_time": "2021-12-27T17:39:26.064Z"
   },
   {
    "duration": 34,
    "start_time": "2021-12-27T17:39:42.485Z"
   },
   {
    "duration": 32,
    "start_time": "2021-12-27T17:42:16.603Z"
   },
   {
    "duration": 30,
    "start_time": "2021-12-27T17:46:01.881Z"
   },
   {
    "duration": 31,
    "start_time": "2021-12-27T17:51:07.733Z"
   },
   {
    "duration": 29,
    "start_time": "2021-12-27T17:51:29.798Z"
   },
   {
    "duration": 25,
    "start_time": "2021-12-27T17:52:41.173Z"
   },
   {
    "duration": 48,
    "start_time": "2021-12-27T17:59:41.930Z"
   },
   {
    "duration": 29,
    "start_time": "2021-12-27T17:59:49.748Z"
   },
   {
    "duration": 31,
    "start_time": "2021-12-27T17:59:59.873Z"
   },
   {
    "duration": 31,
    "start_time": "2021-12-27T18:00:11.625Z"
   },
   {
    "duration": 619,
    "start_time": "2021-12-27T18:00:58.356Z"
   },
   {
    "duration": 10,
    "start_time": "2021-12-27T18:00:58.976Z"
   },
   {
    "duration": 18,
    "start_time": "2021-12-27T18:00:58.987Z"
   },
   {
    "duration": 11,
    "start_time": "2021-12-27T18:00:59.007Z"
   },
   {
    "duration": 11,
    "start_time": "2021-12-27T18:00:59.019Z"
   },
   {
    "duration": 11,
    "start_time": "2021-12-27T18:00:59.031Z"
   },
   {
    "duration": 12,
    "start_time": "2021-12-27T18:00:59.044Z"
   },
   {
    "duration": 49,
    "start_time": "2021-12-27T18:00:59.058Z"
   },
   {
    "duration": 30,
    "start_time": "2021-12-27T18:00:59.108Z"
   },
   {
    "duration": 15,
    "start_time": "2021-12-27T18:01:19.174Z"
   },
   {
    "duration": 15,
    "start_time": "2021-12-27T18:01:34.837Z"
   },
   {
    "duration": 657,
    "start_time": "2021-12-27T18:01:45.764Z"
   },
   {
    "duration": 16,
    "start_time": "2021-12-27T18:01:46.423Z"
   },
   {
    "duration": 9,
    "start_time": "2021-12-27T18:01:46.441Z"
   },
   {
    "duration": 43,
    "start_time": "2021-12-27T18:01:46.452Z"
   },
   {
    "duration": 11,
    "start_time": "2021-12-27T18:01:46.497Z"
   },
   {
    "duration": 11,
    "start_time": "2021-12-27T18:01:46.510Z"
   },
   {
    "duration": 10,
    "start_time": "2021-12-27T18:01:46.522Z"
   },
   {
    "duration": 12,
    "start_time": "2021-12-27T18:01:46.535Z"
   },
   {
    "duration": 51,
    "start_time": "2021-12-27T18:01:46.548Z"
   },
   {
    "duration": 31,
    "start_time": "2021-12-27T18:01:46.600Z"
   },
   {
    "duration": 29,
    "start_time": "2021-12-27T18:05:26.841Z"
   },
   {
    "duration": 36,
    "start_time": "2021-12-27T18:05:54.661Z"
   },
   {
    "duration": 29,
    "start_time": "2021-12-27T18:08:23.461Z"
   },
   {
    "duration": 34,
    "start_time": "2021-12-27T18:13:38.014Z"
   },
   {
    "duration": 15,
    "start_time": "2021-12-27T18:15:08.207Z"
   },
   {
    "duration": 9,
    "start_time": "2021-12-27T18:20:11.418Z"
   },
   {
    "duration": 18,
    "start_time": "2021-12-27T18:20:28.681Z"
   },
   {
    "duration": 587,
    "start_time": "2021-12-27T18:21:03.450Z"
   },
   {
    "duration": 9,
    "start_time": "2021-12-27T18:21:04.039Z"
   },
   {
    "duration": 24,
    "start_time": "2021-12-27T18:21:04.051Z"
   },
   {
    "duration": 21,
    "start_time": "2021-12-27T18:21:04.077Z"
   },
   {
    "duration": 31,
    "start_time": "2021-12-27T18:21:04.100Z"
   },
   {
    "duration": 15,
    "start_time": "2021-12-27T18:21:04.133Z"
   },
   {
    "duration": 15,
    "start_time": "2021-12-27T18:21:04.150Z"
   },
   {
    "duration": 36,
    "start_time": "2021-12-27T18:21:04.168Z"
   },
   {
    "duration": 50,
    "start_time": "2021-12-27T18:21:04.207Z"
   },
   {
    "duration": 21,
    "start_time": "2021-12-27T18:21:04.259Z"
   },
   {
    "duration": 48,
    "start_time": "2021-12-27T18:21:04.282Z"
   },
   {
    "duration": 31,
    "start_time": "2021-12-27T18:21:04.332Z"
   },
   {
    "duration": 8,
    "start_time": "2021-12-27T18:30:46.664Z"
   },
   {
    "duration": 13,
    "start_time": "2021-12-27T18:32:53.844Z"
   },
   {
    "duration": 16,
    "start_time": "2021-12-27T18:33:39.631Z"
   },
   {
    "duration": 1221,
    "start_time": "2021-12-27T18:33:56.569Z"
   },
   {
    "duration": 9,
    "start_time": "2021-12-27T18:33:57.792Z"
   },
   {
    "duration": 15,
    "start_time": "2021-12-27T18:33:57.803Z"
   },
   {
    "duration": 11,
    "start_time": "2021-12-27T18:33:57.819Z"
   },
   {
    "duration": 10,
    "start_time": "2021-12-27T18:33:57.832Z"
   },
   {
    "duration": 10,
    "start_time": "2021-12-27T18:33:57.843Z"
   },
   {
    "duration": 44,
    "start_time": "2021-12-27T18:33:57.855Z"
   },
   {
    "duration": 14,
    "start_time": "2021-12-27T18:33:57.902Z"
   },
   {
    "duration": 19,
    "start_time": "2021-12-27T18:33:57.917Z"
   },
   {
    "duration": 15,
    "start_time": "2021-12-27T18:33:57.938Z"
   },
   {
    "duration": 58,
    "start_time": "2021-12-27T18:33:57.954Z"
   },
   {
    "duration": 31,
    "start_time": "2021-12-27T18:33:58.013Z"
   },
   {
    "duration": 8,
    "start_time": "2021-12-27T18:33:58.045Z"
   },
   {
    "duration": 42,
    "start_time": "2021-12-27T18:33:58.054Z"
   },
   {
    "duration": 18,
    "start_time": "2021-12-27T18:34:39.020Z"
   },
   {
    "duration": 62,
    "start_time": "2021-12-27T18:34:51.961Z"
   },
   {
    "duration": 8,
    "start_time": "2021-12-27T18:36:49.883Z"
   },
   {
    "duration": 64,
    "start_time": "2021-12-27T19:01:21.748Z"
   },
   {
    "duration": 89,
    "start_time": "2021-12-27T19:01:35.369Z"
   },
   {
    "duration": 63,
    "start_time": "2021-12-27T19:02:26.916Z"
   },
   {
    "duration": 58,
    "start_time": "2021-12-27T19:03:27.862Z"
   },
   {
    "duration": 6,
    "start_time": "2021-12-27T19:04:11.313Z"
   },
   {
    "duration": 5,
    "start_time": "2021-12-27T19:04:29.248Z"
   },
   {
    "duration": 974,
    "start_time": "2021-12-27T19:05:20.439Z"
   },
   {
    "duration": 2474,
    "start_time": "2021-12-27T19:05:47.365Z"
   },
   {
    "duration": 823,
    "start_time": "2021-12-27T19:06:52.338Z"
   },
   {
    "duration": 7,
    "start_time": "2021-12-27T19:07:01.242Z"
   },
   {
    "duration": 14,
    "start_time": "2021-12-27T19:07:03.978Z"
   },
   {
    "duration": 14,
    "start_time": "2021-12-27T19:07:08.460Z"
   },
   {
    "duration": 26,
    "start_time": "2021-12-27T19:07:32.668Z"
   },
   {
    "duration": 24,
    "start_time": "2021-12-27T19:07:53.521Z"
   },
   {
    "duration": 20,
    "start_time": "2021-12-27T19:08:14.909Z"
   },
   {
    "duration": 18,
    "start_time": "2021-12-27T19:09:10.512Z"
   },
   {
    "duration": 13,
    "start_time": "2021-12-27T19:09:22.776Z"
   },
   {
    "duration": 6,
    "start_time": "2021-12-27T19:15:24.317Z"
   },
   {
    "duration": 45,
    "start_time": "2021-12-27T19:16:30.401Z"
   },
   {
    "duration": 13,
    "start_time": "2021-12-27T19:16:43.119Z"
   },
   {
    "duration": 7,
    "start_time": "2021-12-27T19:20:02.302Z"
   },
   {
    "duration": 14,
    "start_time": "2021-12-27T19:23:32.944Z"
   },
   {
    "duration": 11,
    "start_time": "2021-12-27T19:24:42.368Z"
   },
   {
    "duration": 10,
    "start_time": "2021-12-27T19:24:58.020Z"
   },
   {
    "duration": 9,
    "start_time": "2021-12-27T19:29:02.258Z"
   },
   {
    "duration": 12,
    "start_time": "2021-12-27T19:29:07.887Z"
   },
   {
    "duration": 10,
    "start_time": "2021-12-27T19:30:38.411Z"
   },
   {
    "duration": 6,
    "start_time": "2021-12-27T19:33:12.751Z"
   },
   {
    "duration": 184,
    "start_time": "2021-12-27T19:34:08.804Z"
   },
   {
    "duration": 648,
    "start_time": "2021-12-27T19:34:26.011Z"
   },
   {
    "duration": 9,
    "start_time": "2021-12-27T19:34:26.661Z"
   },
   {
    "duration": 21,
    "start_time": "2021-12-27T19:34:26.672Z"
   },
   {
    "duration": 12,
    "start_time": "2021-12-27T19:34:26.695Z"
   },
   {
    "duration": 10,
    "start_time": "2021-12-27T19:34:26.708Z"
   },
   {
    "duration": 11,
    "start_time": "2021-12-27T19:34:26.719Z"
   },
   {
    "duration": 11,
    "start_time": "2021-12-27T19:34:26.732Z"
   },
   {
    "duration": 46,
    "start_time": "2021-12-27T19:34:26.746Z"
   },
   {
    "duration": 18,
    "start_time": "2021-12-27T19:34:26.794Z"
   },
   {
    "duration": 17,
    "start_time": "2021-12-27T19:34:26.814Z"
   },
   {
    "duration": 29,
    "start_time": "2021-12-27T19:34:26.833Z"
   },
   {
    "duration": 58,
    "start_time": "2021-12-27T19:34:26.863Z"
   },
   {
    "duration": 7,
    "start_time": "2021-12-27T19:34:26.922Z"
   },
   {
    "duration": 22,
    "start_time": "2021-12-27T19:34:26.930Z"
   },
   {
    "duration": 8,
    "start_time": "2021-12-27T19:34:26.953Z"
   },
   {
    "duration": 30,
    "start_time": "2021-12-27T19:34:26.963Z"
   },
   {
    "duration": 33,
    "start_time": "2021-12-27T19:34:26.994Z"
   },
   {
    "duration": 12,
    "start_time": "2021-12-27T19:34:27.029Z"
   },
   {
    "duration": 19,
    "start_time": "2021-12-27T19:34:27.042Z"
   },
   {
    "duration": 32,
    "start_time": "2021-12-27T19:34:27.063Z"
   },
   {
    "duration": 11,
    "start_time": "2021-12-27T19:34:27.097Z"
   },
   {
    "duration": 12,
    "start_time": "2021-12-27T19:34:27.110Z"
   },
   {
    "duration": 20,
    "start_time": "2021-12-27T19:35:44.019Z"
   },
   {
    "duration": 18,
    "start_time": "2021-12-27T19:38:09.661Z"
   },
   {
    "duration": 7,
    "start_time": "2021-12-27T19:44:13.882Z"
   },
   {
    "duration": 4,
    "start_time": "2021-12-27T19:55:09.597Z"
   },
   {
    "duration": 623,
    "start_time": "2021-12-27T19:56:12.102Z"
   },
   {
    "duration": 9,
    "start_time": "2021-12-27T19:56:12.727Z"
   },
   {
    "duration": 17,
    "start_time": "2021-12-27T19:56:12.739Z"
   },
   {
    "duration": 42,
    "start_time": "2021-12-27T19:56:12.758Z"
   },
   {
    "duration": 13,
    "start_time": "2021-12-27T19:56:12.802Z"
   },
   {
    "duration": 12,
    "start_time": "2021-12-27T19:56:12.817Z"
   },
   {
    "duration": 12,
    "start_time": "2021-12-27T19:56:12.831Z"
   },
   {
    "duration": 55,
    "start_time": "2021-12-27T19:56:12.847Z"
   },
   {
    "duration": 22,
    "start_time": "2021-12-27T19:56:12.905Z"
   },
   {
    "duration": 18,
    "start_time": "2021-12-27T19:56:12.929Z"
   },
   {
    "duration": 63,
    "start_time": "2021-12-27T19:56:12.949Z"
   },
   {
    "duration": 31,
    "start_time": "2021-12-27T19:56:13.014Z"
   },
   {
    "duration": 7,
    "start_time": "2021-12-27T19:56:13.047Z"
   },
   {
    "duration": 49,
    "start_time": "2021-12-27T19:56:13.056Z"
   },
   {
    "duration": 8,
    "start_time": "2021-12-27T19:56:13.106Z"
   },
   {
    "duration": 6,
    "start_time": "2021-12-27T19:56:13.116Z"
   },
   {
    "duration": 11,
    "start_time": "2021-12-27T19:56:13.124Z"
   },
   {
    "duration": 4,
    "start_time": "2021-12-27T19:56:13.137Z"
   },
   {
    "duration": 76,
    "start_time": "2021-12-27T19:56:13.143Z"
   },
   {
    "duration": 13,
    "start_time": "2021-12-27T19:56:13.220Z"
   },
   {
    "duration": 16,
    "start_time": "2021-12-27T19:56:13.235Z"
   },
   {
    "duration": 39,
    "start_time": "2021-12-27T19:56:13.253Z"
   },
   {
    "duration": 12,
    "start_time": "2021-12-27T19:56:13.296Z"
   },
   {
    "duration": 16,
    "start_time": "2021-12-27T19:56:13.310Z"
   },
   {
    "duration": 18,
    "start_time": "2021-12-27T19:56:13.328Z"
   },
   {
    "duration": 12,
    "start_time": "2021-12-27T19:58:00.045Z"
   },
   {
    "duration": 617,
    "start_time": "2021-12-27T19:58:36.320Z"
   },
   {
    "duration": 9,
    "start_time": "2021-12-27T19:58:36.939Z"
   },
   {
    "duration": 28,
    "start_time": "2021-12-27T19:58:36.950Z"
   },
   {
    "duration": 12,
    "start_time": "2021-12-27T19:58:36.991Z"
   },
   {
    "duration": 18,
    "start_time": "2021-12-27T19:58:37.004Z"
   },
   {
    "duration": 13,
    "start_time": "2021-12-27T19:58:37.023Z"
   },
   {
    "duration": 31,
    "start_time": "2021-12-27T19:58:37.037Z"
   },
   {
    "duration": 28,
    "start_time": "2021-12-27T19:58:37.070Z"
   },
   {
    "duration": 36,
    "start_time": "2021-12-27T19:58:37.101Z"
   },
   {
    "duration": 43,
    "start_time": "2021-12-27T19:58:37.139Z"
   },
   {
    "duration": 28,
    "start_time": "2021-12-27T19:58:37.184Z"
   },
   {
    "duration": 33,
    "start_time": "2021-12-27T19:58:37.214Z"
   },
   {
    "duration": 7,
    "start_time": "2021-12-27T19:58:37.248Z"
   },
   {
    "duration": 41,
    "start_time": "2021-12-27T19:58:37.257Z"
   },
   {
    "duration": 8,
    "start_time": "2021-12-27T19:58:37.300Z"
   },
   {
    "duration": 8,
    "start_time": "2021-12-27T19:58:37.310Z"
   },
   {
    "duration": 25,
    "start_time": "2021-12-27T19:58:37.320Z"
   },
   {
    "duration": 22,
    "start_time": "2021-12-27T19:58:37.346Z"
   },
   {
    "duration": 48,
    "start_time": "2021-12-27T19:58:37.370Z"
   },
   {
    "duration": 14,
    "start_time": "2021-12-27T19:58:37.420Z"
   },
   {
    "duration": 35,
    "start_time": "2021-12-27T19:58:37.435Z"
   },
   {
    "duration": 24,
    "start_time": "2021-12-27T19:58:37.471Z"
   },
   {
    "duration": 20,
    "start_time": "2021-12-27T19:58:37.497Z"
   },
   {
    "duration": 12,
    "start_time": "2021-12-27T19:58:37.519Z"
   },
   {
    "duration": 27,
    "start_time": "2021-12-27T19:58:37.532Z"
   },
   {
    "duration": 35,
    "start_time": "2021-12-27T19:58:37.560Z"
   },
   {
    "duration": 21,
    "start_time": "2021-12-27T19:58:59.799Z"
   },
   {
    "duration": 630,
    "start_time": "2021-12-27T20:36:09.846Z"
   },
   {
    "duration": 9,
    "start_time": "2021-12-27T20:36:10.478Z"
   },
   {
    "duration": 16,
    "start_time": "2021-12-27T20:36:10.491Z"
   },
   {
    "duration": 16,
    "start_time": "2021-12-27T20:36:10.509Z"
   },
   {
    "duration": 11,
    "start_time": "2021-12-27T20:36:10.526Z"
   },
   {
    "duration": 10,
    "start_time": "2021-12-27T20:36:10.539Z"
   },
   {
    "duration": 41,
    "start_time": "2021-12-27T20:36:10.551Z"
   },
   {
    "duration": 15,
    "start_time": "2021-12-27T20:36:10.594Z"
   },
   {
    "duration": 20,
    "start_time": "2021-12-27T20:36:10.611Z"
   },
   {
    "duration": 17,
    "start_time": "2021-12-27T20:36:10.633Z"
   },
   {
    "duration": 56,
    "start_time": "2021-12-27T20:36:10.651Z"
   },
   {
    "duration": 35,
    "start_time": "2021-12-27T20:36:10.709Z"
   },
   {
    "duration": 12,
    "start_time": "2021-12-27T20:36:10.746Z"
   },
   {
    "duration": 42,
    "start_time": "2021-12-27T20:36:10.760Z"
   },
   {
    "duration": 11,
    "start_time": "2021-12-27T20:36:10.804Z"
   },
   {
    "duration": 8,
    "start_time": "2021-12-27T20:36:10.817Z"
   },
   {
    "duration": 11,
    "start_time": "2021-12-27T20:36:10.827Z"
   },
   {
    "duration": 5,
    "start_time": "2021-12-27T20:36:10.839Z"
   },
   {
    "duration": 3567,
    "start_time": "2021-12-27T20:36:10.845Z"
   },
   {
    "duration": 14,
    "start_time": "2021-12-27T20:36:14.414Z"
   },
   {
    "duration": 40,
    "start_time": "2021-12-27T20:36:14.429Z"
   },
   {
    "duration": 12,
    "start_time": "2021-12-27T20:36:14.470Z"
   },
   {
    "duration": 19,
    "start_time": "2021-12-27T20:36:14.485Z"
   },
   {
    "duration": 29,
    "start_time": "2021-12-27T20:36:14.506Z"
   },
   {
    "duration": 26,
    "start_time": "2021-12-27T20:36:14.536Z"
   },
   {
    "duration": 40,
    "start_time": "2021-12-27T20:36:14.563Z"
   },
   {
    "duration": 554,
    "start_time": "2021-12-28T18:47:56.732Z"
   },
   {
    "duration": 1013,
    "start_time": "2021-12-28T18:48:06.383Z"
   },
   {
    "duration": 17,
    "start_time": "2021-12-28T18:48:07.399Z"
   },
   {
    "duration": 24,
    "start_time": "2021-12-28T18:48:07.419Z"
   },
   {
    "duration": 22,
    "start_time": "2021-12-28T18:48:07.465Z"
   },
   {
    "duration": 17,
    "start_time": "2021-12-28T18:48:07.490Z"
   },
   {
    "duration": 14,
    "start_time": "2021-12-28T18:48:07.511Z"
   },
   {
    "duration": 60,
    "start_time": "2021-12-28T18:48:07.528Z"
   },
   {
    "duration": 25,
    "start_time": "2021-12-28T18:48:07.593Z"
   },
   {
    "duration": 57,
    "start_time": "2021-12-28T18:48:07.621Z"
   },
   {
    "duration": 26,
    "start_time": "2021-12-28T18:48:07.690Z"
   },
   {
    "duration": 68,
    "start_time": "2021-12-28T18:48:07.719Z"
   },
   {
    "duration": 51,
    "start_time": "2021-12-28T18:48:07.791Z"
   },
   {
    "duration": 15,
    "start_time": "2021-12-28T18:48:07.865Z"
   },
   {
    "duration": 28,
    "start_time": "2021-12-28T18:48:07.884Z"
   },
   {
    "duration": 10,
    "start_time": "2021-12-28T18:48:07.915Z"
   },
   {
    "duration": 35,
    "start_time": "2021-12-28T18:48:07.928Z"
   },
   {
    "duration": 30,
    "start_time": "2021-12-28T18:48:07.965Z"
   },
   {
    "duration": 5,
    "start_time": "2021-12-28T18:48:07.997Z"
   },
   {
    "duration": 5060,
    "start_time": "2021-12-28T18:48:08.005Z"
   },
   {
    "duration": 33,
    "start_time": "2021-12-28T18:48:13.068Z"
   },
   {
    "duration": 24,
    "start_time": "2021-12-28T18:48:13.104Z"
   },
   {
    "duration": 45,
    "start_time": "2021-12-28T18:48:13.130Z"
   },
   {
    "duration": 16,
    "start_time": "2021-12-28T18:48:13.185Z"
   },
   {
    "duration": 15,
    "start_time": "2021-12-28T18:48:13.204Z"
   },
   {
    "duration": 54,
    "start_time": "2021-12-28T18:48:13.221Z"
   },
   {
    "duration": 33,
    "start_time": "2021-12-28T18:48:13.277Z"
   },
   {
    "duration": 20,
    "start_time": "2021-12-28T19:03:00.085Z"
   },
   {
    "duration": 15,
    "start_time": "2021-12-28T19:03:09.818Z"
   },
   {
    "duration": 13,
    "start_time": "2021-12-28T19:03:16.095Z"
   },
   {
    "duration": 12,
    "start_time": "2021-12-28T19:11:00.109Z"
   },
   {
    "duration": 7,
    "start_time": "2021-12-28T19:14:46.179Z"
   },
   {
    "duration": 16,
    "start_time": "2021-12-28T19:14:55.808Z"
   },
   {
    "duration": 24,
    "start_time": "2021-12-28T19:14:59.272Z"
   },
   {
    "duration": 10,
    "start_time": "2021-12-28T19:15:17.868Z"
   },
   {
    "duration": 14,
    "start_time": "2021-12-28T19:18:50.911Z"
   },
   {
    "duration": 29,
    "start_time": "2021-12-28T19:19:24.885Z"
   },
   {
    "duration": 11,
    "start_time": "2021-12-28T19:20:36.751Z"
   },
   {
    "duration": 8,
    "start_time": "2021-12-28T19:22:08.331Z"
   },
   {
    "duration": 17,
    "start_time": "2021-12-28T19:23:20.736Z"
   },
   {
    "duration": 139,
    "start_time": "2021-12-28T19:28:15.407Z"
   },
   {
    "duration": 14,
    "start_time": "2021-12-28T19:32:00.045Z"
   },
   {
    "duration": 17,
    "start_time": "2021-12-28T19:33:51.158Z"
   },
   {
    "duration": 467,
    "start_time": "2021-12-28T19:36:58.629Z"
   },
   {
    "duration": 10,
    "start_time": "2021-12-28T19:37:03.938Z"
   },
   {
    "duration": 9,
    "start_time": "2021-12-28T19:41:13.568Z"
   },
   {
    "duration": 13,
    "start_time": "2021-12-28T19:45:33.089Z"
   },
   {
    "duration": 1014,
    "start_time": "2021-12-28T19:46:42.530Z"
   },
   {
    "duration": 37,
    "start_time": "2021-12-28T19:46:43.546Z"
   },
   {
    "duration": 30,
    "start_time": "2021-12-28T19:46:43.586Z"
   },
   {
    "duration": 16,
    "start_time": "2021-12-28T19:46:43.619Z"
   },
   {
    "duration": 51,
    "start_time": "2021-12-28T19:46:43.637Z"
   },
   {
    "duration": 13,
    "start_time": "2021-12-28T19:46:43.691Z"
   },
   {
    "duration": 16,
    "start_time": "2021-12-28T19:46:43.707Z"
   },
   {
    "duration": 57,
    "start_time": "2021-12-28T19:46:43.728Z"
   },
   {
    "duration": 22,
    "start_time": "2021-12-28T19:46:43.789Z"
   },
   {
    "duration": 22,
    "start_time": "2021-12-28T19:46:43.814Z"
   },
   {
    "duration": 61,
    "start_time": "2021-12-28T19:46:43.839Z"
   },
   {
    "duration": 25,
    "start_time": "2021-12-28T19:46:43.904Z"
   },
   {
    "duration": 80,
    "start_time": "2021-12-28T19:46:43.931Z"
   },
   {
    "duration": 84,
    "start_time": "2021-12-28T19:46:44.014Z"
   },
   {
    "duration": 11,
    "start_time": "2021-12-28T19:46:44.101Z"
   },
   {
    "duration": 54,
    "start_time": "2021-12-28T19:46:44.116Z"
   },
   {
    "duration": 25,
    "start_time": "2021-12-28T19:46:44.172Z"
   },
   {
    "duration": 9,
    "start_time": "2021-12-28T19:46:44.200Z"
   },
   {
    "duration": 18,
    "start_time": "2021-12-28T19:46:44.212Z"
   },
   {
    "duration": 34,
    "start_time": "2021-12-28T19:46:44.233Z"
   },
   {
    "duration": 5809,
    "start_time": "2021-12-28T19:46:44.269Z"
   },
   {
    "duration": 22,
    "start_time": "2021-12-28T19:46:50.081Z"
   },
   {
    "duration": 24,
    "start_time": "2021-12-28T19:46:50.109Z"
   },
   {
    "duration": 23,
    "start_time": "2021-12-28T19:46:50.169Z"
   },
   {
    "duration": 17,
    "start_time": "2021-12-28T19:46:50.194Z"
   },
   {
    "duration": 17,
    "start_time": "2021-12-28T19:46:50.213Z"
   },
   {
    "duration": 62,
    "start_time": "2021-12-28T19:46:50.232Z"
   },
   {
    "duration": 30,
    "start_time": "2021-12-28T19:46:50.296Z"
   },
   {
    "duration": 45,
    "start_time": "2021-12-28T19:46:50.329Z"
   },
   {
    "duration": 8,
    "start_time": "2021-12-28T19:46:50.377Z"
   },
   {
    "duration": 7,
    "start_time": "2021-12-28T19:46:50.390Z"
   },
   {
    "duration": 14,
    "start_time": "2021-12-28T19:46:50.400Z"
   },
   {
    "duration": 8,
    "start_time": "2021-12-28T19:46:50.417Z"
   },
   {
    "duration": 24,
    "start_time": "2021-12-28T19:46:50.465Z"
   },
   {
    "duration": 15,
    "start_time": "2021-12-28T19:46:50.494Z"
   },
   {
    "duration": 18,
    "start_time": "2021-12-28T19:48:11.172Z"
   },
   {
    "duration": 402,
    "start_time": "2021-12-28T19:48:44.561Z"
   },
   {
    "duration": 20,
    "start_time": "2021-12-28T19:48:55.607Z"
   },
   {
    "duration": 15,
    "start_time": "2021-12-28T19:53:57.744Z"
   },
   {
    "duration": 885,
    "start_time": "2021-12-28T19:54:55.571Z"
   },
   {
    "duration": 17,
    "start_time": "2021-12-28T19:54:56.466Z"
   },
   {
    "duration": 25,
    "start_time": "2021-12-28T19:54:56.486Z"
   },
   {
    "duration": 57,
    "start_time": "2021-12-28T19:54:56.514Z"
   },
   {
    "duration": 20,
    "start_time": "2021-12-28T19:54:56.574Z"
   },
   {
    "duration": 8,
    "start_time": "2021-12-28T19:54:56.597Z"
   },
   {
    "duration": 16,
    "start_time": "2021-12-28T19:54:56.608Z"
   },
   {
    "duration": 49,
    "start_time": "2021-12-28T19:54:56.629Z"
   },
   {
    "duration": 17,
    "start_time": "2021-12-28T19:54:56.682Z"
   },
   {
    "duration": 24,
    "start_time": "2021-12-28T19:54:56.701Z"
   },
   {
    "duration": 73,
    "start_time": "2021-12-28T19:54:56.728Z"
   },
   {
    "duration": 27,
    "start_time": "2021-12-28T19:54:56.804Z"
   },
   {
    "duration": 72,
    "start_time": "2021-12-28T19:54:56.834Z"
   },
   {
    "duration": 72,
    "start_time": "2021-12-28T19:54:56.908Z"
   },
   {
    "duration": 10,
    "start_time": "2021-12-28T19:54:56.982Z"
   },
   {
    "duration": 24,
    "start_time": "2021-12-28T19:54:56.994Z"
   },
   {
    "duration": 10,
    "start_time": "2021-12-28T19:54:57.020Z"
   },
   {
    "duration": 12,
    "start_time": "2021-12-28T19:54:57.063Z"
   },
   {
    "duration": 18,
    "start_time": "2021-12-28T19:54:57.077Z"
   },
   {
    "duration": 6,
    "start_time": "2021-12-28T19:54:57.097Z"
   },
   {
    "duration": 5080,
    "start_time": "2021-12-28T19:54:57.106Z"
   },
   {
    "duration": 30,
    "start_time": "2021-12-28T19:55:02.190Z"
   },
   {
    "duration": 59,
    "start_time": "2021-12-28T19:55:02.225Z"
   },
   {
    "duration": 18,
    "start_time": "2021-12-28T19:55:02.287Z"
   },
   {
    "duration": 25,
    "start_time": "2021-12-28T19:55:02.309Z"
   },
   {
    "duration": 49,
    "start_time": "2021-12-28T19:55:02.337Z"
   },
   {
    "duration": 29,
    "start_time": "2021-12-28T19:55:02.390Z"
   },
   {
    "duration": 63,
    "start_time": "2021-12-28T19:55:02.423Z"
   },
   {
    "duration": 13,
    "start_time": "2021-12-28T19:55:02.488Z"
   },
   {
    "duration": 8,
    "start_time": "2021-12-28T19:55:02.503Z"
   },
   {
    "duration": 57,
    "start_time": "2021-12-28T19:55:02.514Z"
   },
   {
    "duration": 16,
    "start_time": "2021-12-28T19:55:02.576Z"
   },
   {
    "duration": 8,
    "start_time": "2021-12-28T19:55:02.595Z"
   },
   {
    "duration": 17,
    "start_time": "2021-12-28T19:55:02.605Z"
   },
   {
    "duration": 20,
    "start_time": "2021-12-28T19:55:02.666Z"
   },
   {
    "duration": 165,
    "start_time": "2021-12-28T20:59:02.992Z"
   },
   {
    "duration": 810,
    "start_time": "2021-12-28T20:59:22.020Z"
   },
   {
    "duration": 85,
    "start_time": "2021-12-28T21:00:12.156Z"
   },
   {
    "duration": 52,
    "start_time": "2021-12-28T21:00:24.088Z"
   },
   {
    "duration": 51,
    "start_time": "2021-12-28T21:00:49.973Z"
   },
   {
    "duration": 29,
    "start_time": "2021-12-28T21:02:38.477Z"
   },
   {
    "duration": 80,
    "start_time": "2021-12-28T21:03:37.937Z"
   },
   {
    "duration": 43,
    "start_time": "2021-12-28T21:03:51.130Z"
   },
   {
    "duration": 44,
    "start_time": "2021-12-28T21:04:03.008Z"
   },
   {
    "duration": 319,
    "start_time": "2021-12-28T21:05:56.383Z"
   },
   {
    "duration": 351,
    "start_time": "2021-12-28T21:06:09.993Z"
   },
   {
    "duration": 308,
    "start_time": "2021-12-28T21:07:07.510Z"
   },
   {
    "duration": 101,
    "start_time": "2021-12-28T21:07:20.879Z"
   },
   {
    "duration": 71,
    "start_time": "2021-12-28T21:07:48.286Z"
   },
   {
    "duration": 82,
    "start_time": "2021-12-28T21:07:58.343Z"
   },
   {
    "duration": 75,
    "start_time": "2021-12-28T21:12:04.660Z"
   },
   {
    "duration": 68,
    "start_time": "2021-12-28T21:15:45.090Z"
   },
   {
    "duration": 111,
    "start_time": "2021-12-28T21:35:23.070Z"
   },
   {
    "duration": 55,
    "start_time": "2021-12-28T21:36:06.686Z"
   },
   {
    "duration": 52,
    "start_time": "2021-12-28T21:36:20.141Z"
   },
   {
    "duration": 10,
    "start_time": "2021-12-28T21:45:09.120Z"
   },
   {
    "duration": 59,
    "start_time": "2021-12-28T21:54:10.527Z"
   },
   {
    "duration": 35,
    "start_time": "2021-12-28T22:02:24.915Z"
   },
   {
    "duration": 38,
    "start_time": "2021-12-28T22:02:41.010Z"
   },
   {
    "duration": 914,
    "start_time": "2021-12-28T22:02:58.175Z"
   },
   {
    "duration": 13,
    "start_time": "2021-12-28T22:02:59.091Z"
   },
   {
    "duration": 23,
    "start_time": "2021-12-28T22:02:59.108Z"
   },
   {
    "duration": 22,
    "start_time": "2021-12-28T22:02:59.163Z"
   },
   {
    "duration": 15,
    "start_time": "2021-12-28T22:02:59.187Z"
   },
   {
    "duration": 11,
    "start_time": "2021-12-28T22:02:59.205Z"
   },
   {
    "duration": 62,
    "start_time": "2021-12-28T22:02:59.218Z"
   },
   {
    "duration": 18,
    "start_time": "2021-12-28T22:02:59.282Z"
   },
   {
    "duration": 18,
    "start_time": "2021-12-28T22:02:59.304Z"
   },
   {
    "duration": 61,
    "start_time": "2021-12-28T22:02:59.326Z"
   },
   {
    "duration": 45,
    "start_time": "2021-12-28T22:02:59.390Z"
   },
   {
    "duration": 47,
    "start_time": "2021-12-28T22:02:59.438Z"
   },
   {
    "duration": 48,
    "start_time": "2021-12-28T22:02:59.488Z"
   },
   {
    "duration": 74,
    "start_time": "2021-12-28T22:02:59.538Z"
   },
   {
    "duration": 10,
    "start_time": "2021-12-28T22:02:59.615Z"
   },
   {
    "duration": 65,
    "start_time": "2021-12-28T22:02:59.627Z"
   },
   {
    "duration": 10,
    "start_time": "2021-12-28T22:02:59.694Z"
   },
   {
    "duration": 6,
    "start_time": "2021-12-28T22:02:59.707Z"
   },
   {
    "duration": 48,
    "start_time": "2021-12-28T22:02:59.715Z"
   },
   {
    "duration": 11,
    "start_time": "2021-12-28T22:02:59.767Z"
   },
   {
    "duration": 4794,
    "start_time": "2021-12-28T22:02:59.781Z"
   },
   {
    "duration": 27,
    "start_time": "2021-12-28T22:03:04.578Z"
   },
   {
    "duration": 55,
    "start_time": "2021-12-28T22:03:04.607Z"
   },
   {
    "duration": 23,
    "start_time": "2021-12-28T22:03:04.665Z"
   },
   {
    "duration": 15,
    "start_time": "2021-12-28T22:03:04.691Z"
   },
   {
    "duration": 17,
    "start_time": "2021-12-28T22:03:04.708Z"
   },
   {
    "duration": 25,
    "start_time": "2021-12-28T22:03:04.762Z"
   },
   {
    "duration": 28,
    "start_time": "2021-12-28T22:03:04.789Z"
   },
   {
    "duration": 13,
    "start_time": "2021-12-28T22:03:04.819Z"
   },
   {
    "duration": 42,
    "start_time": "2021-12-28T22:03:04.834Z"
   },
   {
    "duration": 15,
    "start_time": "2021-12-28T22:03:04.880Z"
   },
   {
    "duration": 8,
    "start_time": "2021-12-28T22:03:04.897Z"
   },
   {
    "duration": 62,
    "start_time": "2021-12-28T22:03:04.908Z"
   },
   {
    "duration": 73,
    "start_time": "2021-12-28T22:03:04.973Z"
   },
   {
    "duration": 61,
    "start_time": "2021-12-28T22:03:05.062Z"
   },
   {
    "duration": 83,
    "start_time": "2021-12-28T22:03:05.126Z"
   },
   {
    "duration": 66,
    "start_time": "2021-12-28T22:03:05.212Z"
   },
   {
    "duration": 890,
    "start_time": "2021-12-28T22:04:42.901Z"
   },
   {
    "duration": 12,
    "start_time": "2021-12-28T22:04:43.793Z"
   },
   {
    "duration": 24,
    "start_time": "2021-12-28T22:04:43.808Z"
   },
   {
    "duration": 22,
    "start_time": "2021-12-28T22:04:43.863Z"
   },
   {
    "duration": 19,
    "start_time": "2021-12-28T22:04:43.888Z"
   },
   {
    "duration": 9,
    "start_time": "2021-12-28T22:04:43.909Z"
   },
   {
    "duration": 59,
    "start_time": "2021-12-28T22:04:43.922Z"
   },
   {
    "duration": 14,
    "start_time": "2021-12-28T22:04:43.986Z"
   },
   {
    "duration": 23,
    "start_time": "2021-12-28T22:04:44.003Z"
   },
   {
    "duration": 61,
    "start_time": "2021-12-28T22:04:44.029Z"
   },
   {
    "duration": 37,
    "start_time": "2021-12-28T22:04:44.092Z"
   },
   {
    "duration": 55,
    "start_time": "2021-12-28T22:04:44.131Z"
   },
   {
    "duration": 48,
    "start_time": "2021-12-28T22:04:44.189Z"
   },
   {
    "duration": 76,
    "start_time": "2021-12-28T22:04:44.239Z"
   },
   {
    "duration": 10,
    "start_time": "2021-12-28T22:04:44.318Z"
   },
   {
    "duration": 51,
    "start_time": "2021-12-28T22:04:44.330Z"
   },
   {
    "duration": 10,
    "start_time": "2021-12-28T22:04:44.383Z"
   },
   {
    "duration": 7,
    "start_time": "2021-12-28T22:04:44.396Z"
   },
   {
    "duration": 14,
    "start_time": "2021-12-28T22:04:44.405Z"
   },
   {
    "duration": 50,
    "start_time": "2021-12-28T22:04:44.421Z"
   },
   {
    "duration": 5143,
    "start_time": "2021-12-28T22:04:44.473Z"
   },
   {
    "duration": 23,
    "start_time": "2021-12-28T22:04:49.619Z"
   },
   {
    "duration": 26,
    "start_time": "2021-12-28T22:04:49.670Z"
   },
   {
    "duration": 16,
    "start_time": "2021-12-28T22:04:49.699Z"
   },
   {
    "duration": 15,
    "start_time": "2021-12-28T22:04:49.717Z"
   },
   {
    "duration": 26,
    "start_time": "2021-12-28T22:04:49.763Z"
   },
   {
    "duration": 20,
    "start_time": "2021-12-28T22:04:49.792Z"
   },
   {
    "duration": 57,
    "start_time": "2021-12-28T22:04:49.814Z"
   },
   {
    "duration": 13,
    "start_time": "2021-12-28T22:04:49.873Z"
   },
   {
    "duration": 9,
    "start_time": "2021-12-28T22:04:49.890Z"
   },
   {
    "duration": 14,
    "start_time": "2021-12-28T22:04:49.902Z"
   },
   {
    "duration": 56,
    "start_time": "2021-12-28T22:04:49.918Z"
   },
   {
    "duration": 22,
    "start_time": "2021-12-28T22:04:49.977Z"
   },
   {
    "duration": 94,
    "start_time": "2021-12-28T22:04:50.002Z"
   },
   {
    "duration": 64,
    "start_time": "2021-12-28T22:04:50.098Z"
   },
   {
    "duration": 65,
    "start_time": "2021-12-28T22:04:50.165Z"
   },
   {
    "duration": 506,
    "start_time": "2021-12-28T22:04:50.233Z"
   },
   {
    "duration": 917,
    "start_time": "2021-12-28T22:05:07.666Z"
   },
   {
    "duration": 14,
    "start_time": "2021-12-28T22:05:08.586Z"
   },
   {
    "duration": 25,
    "start_time": "2021-12-28T22:05:08.604Z"
   },
   {
    "duration": 49,
    "start_time": "2021-12-28T22:05:08.631Z"
   },
   {
    "duration": 16,
    "start_time": "2021-12-28T22:05:08.683Z"
   },
   {
    "duration": 10,
    "start_time": "2021-12-28T22:05:08.701Z"
   },
   {
    "duration": 68,
    "start_time": "2021-12-28T22:05:08.714Z"
   },
   {
    "duration": 15,
    "start_time": "2021-12-28T22:05:08.785Z"
   },
   {
    "duration": 16,
    "start_time": "2021-12-28T22:05:08.803Z"
   },
   {
    "duration": 56,
    "start_time": "2021-12-28T22:05:08.822Z"
   },
   {
    "duration": 29,
    "start_time": "2021-12-28T22:05:08.880Z"
   },
   {
    "duration": 56,
    "start_time": "2021-12-28T22:05:08.912Z"
   },
   {
    "duration": 49,
    "start_time": "2021-12-28T22:05:08.970Z"
   },
   {
    "duration": 73,
    "start_time": "2021-12-28T22:05:09.022Z"
   },
   {
    "duration": 10,
    "start_time": "2021-12-28T22:05:09.098Z"
   },
   {
    "duration": 25,
    "start_time": "2021-12-28T22:05:09.110Z"
   },
   {
    "duration": 38,
    "start_time": "2021-12-28T22:05:09.138Z"
   },
   {
    "duration": 18,
    "start_time": "2021-12-28T22:05:09.178Z"
   },
   {
    "duration": 14,
    "start_time": "2021-12-28T22:05:09.199Z"
   },
   {
    "duration": 6,
    "start_time": "2021-12-28T22:05:09.216Z"
   },
   {
    "duration": 5793,
    "start_time": "2021-12-28T22:05:09.224Z"
   },
   {
    "duration": 22,
    "start_time": "2021-12-28T22:05:15.020Z"
   },
   {
    "duration": 27,
    "start_time": "2021-12-28T22:05:15.067Z"
   },
   {
    "duration": 18,
    "start_time": "2021-12-28T22:05:15.097Z"
   },
   {
    "duration": 51,
    "start_time": "2021-12-28T22:05:15.117Z"
   },
   {
    "duration": 19,
    "start_time": "2021-12-28T22:05:15.170Z"
   },
   {
    "duration": 20,
    "start_time": "2021-12-28T22:05:15.191Z"
   },
   {
    "duration": 72,
    "start_time": "2021-12-28T22:05:15.214Z"
   },
   {
    "duration": 14,
    "start_time": "2021-12-28T22:05:15.289Z"
   },
   {
    "duration": 12,
    "start_time": "2021-12-28T22:05:15.306Z"
   },
   {
    "duration": 48,
    "start_time": "2021-12-28T22:05:15.321Z"
   },
   {
    "duration": 11,
    "start_time": "2021-12-28T22:05:15.372Z"
   },
   {
    "duration": 21,
    "start_time": "2021-12-28T22:05:15.385Z"
   },
   {
    "duration": 117,
    "start_time": "2021-12-28T22:05:15.408Z"
   },
   {
    "duration": 85,
    "start_time": "2021-12-28T22:05:15.528Z"
   },
   {
    "duration": 73,
    "start_time": "2021-12-28T22:05:15.616Z"
   },
   {
    "duration": 38,
    "start_time": "2021-12-28T22:05:15.692Z"
   },
   {
    "duration": 45,
    "start_time": "2021-12-28T22:14:15.884Z"
   },
   {
    "duration": 47,
    "start_time": "2021-12-28T22:14:45.985Z"
   },
   {
    "duration": 1190,
    "start_time": "2021-12-30T00:28:05.927Z"
   },
   {
    "duration": 16,
    "start_time": "2021-12-30T00:31:50.308Z"
   },
   {
    "duration": 17,
    "start_time": "2021-12-30T00:32:01.840Z"
   },
   {
    "duration": 16,
    "start_time": "2021-12-30T00:37:47.263Z"
   },
   {
    "duration": 860,
    "start_time": "2021-12-30T00:37:53.988Z"
   },
   {
    "duration": 11,
    "start_time": "2021-12-30T00:37:54.851Z"
   },
   {
    "duration": 22,
    "start_time": "2021-12-30T00:37:54.865Z"
   },
   {
    "duration": 41,
    "start_time": "2021-12-30T00:37:54.890Z"
   },
   {
    "duration": 15,
    "start_time": "2021-12-30T00:37:54.934Z"
   },
   {
    "duration": 9,
    "start_time": "2021-12-30T00:37:54.951Z"
   },
   {
    "duration": 16,
    "start_time": "2021-12-30T00:37:54.962Z"
   },
   {
    "duration": 54,
    "start_time": "2021-12-30T00:37:54.981Z"
   },
   {
    "duration": 15,
    "start_time": "2021-12-30T00:37:55.038Z"
   },
   {
    "duration": 22,
    "start_time": "2021-12-30T00:37:55.055Z"
   },
   {
    "duration": 63,
    "start_time": "2021-12-30T00:37:55.079Z"
   },
   {
    "duration": 20,
    "start_time": "2021-12-30T00:37:55.145Z"
   },
   {
    "duration": 74,
    "start_time": "2021-12-30T00:37:55.167Z"
   },
   {
    "duration": 50,
    "start_time": "2021-12-30T00:37:55.243Z"
   },
   {
    "duration": 28,
    "start_time": "2021-12-30T00:37:55.296Z"
   },
   {
    "duration": 24,
    "start_time": "2021-12-30T00:37:55.327Z"
   },
   {
    "duration": 9,
    "start_time": "2021-12-30T00:37:55.353Z"
   },
   {
    "duration": 7,
    "start_time": "2021-12-30T00:37:55.364Z"
   },
   {
    "duration": 13,
    "start_time": "2021-12-30T00:37:55.373Z"
   },
   {
    "duration": 37,
    "start_time": "2021-12-30T00:37:55.388Z"
   },
   {
    "duration": 4710,
    "start_time": "2021-12-30T00:37:55.428Z"
   },
   {
    "duration": 21,
    "start_time": "2021-12-30T00:38:00.141Z"
   },
   {
    "duration": 55,
    "start_time": "2021-12-30T00:38:00.169Z"
   },
   {
    "duration": 19,
    "start_time": "2021-12-30T00:38:00.228Z"
   },
   {
    "duration": 20,
    "start_time": "2021-12-30T00:38:00.250Z"
   },
   {
    "duration": 52,
    "start_time": "2021-12-30T00:38:00.273Z"
   },
   {
    "duration": 26,
    "start_time": "2021-12-30T00:38:00.328Z"
   },
   {
    "duration": 30,
    "start_time": "2021-12-30T00:38:00.357Z"
   },
   {
    "duration": 41,
    "start_time": "2021-12-30T00:38:00.390Z"
   },
   {
    "duration": 39,
    "start_time": "2021-12-30T00:38:00.434Z"
   },
   {
    "duration": 17,
    "start_time": "2021-12-30T00:38:00.476Z"
   },
   {
    "duration": 12,
    "start_time": "2021-12-30T00:38:00.496Z"
   },
   {
    "duration": 19,
    "start_time": "2021-12-30T00:38:00.510Z"
   },
   {
    "duration": 69,
    "start_time": "2021-12-30T00:38:00.531Z"
   },
   {
    "duration": 63,
    "start_time": "2021-12-30T00:38:00.602Z"
   },
   {
    "duration": 89,
    "start_time": "2021-12-30T00:38:00.668Z"
   },
   {
    "duration": 63,
    "start_time": "2021-12-30T00:38:00.760Z"
   },
   {
    "duration": 384,
    "start_time": "2021-12-30T00:55:24.641Z"
   },
   {
    "duration": 7,
    "start_time": "2021-12-30T00:55:41.909Z"
   },
   {
    "duration": 10,
    "start_time": "2021-12-30T00:57:44.870Z"
   },
   {
    "duration": 12,
    "start_time": "2021-12-30T01:00:31.434Z"
   },
   {
    "duration": 21,
    "start_time": "2021-12-30T01:08:59.247Z"
   },
   {
    "duration": 15,
    "start_time": "2021-12-30T01:09:34.538Z"
   },
   {
    "duration": 95,
    "start_time": "2021-12-30T01:32:49.390Z"
   },
   {
    "duration": 375,
    "start_time": "2021-12-30T01:32:57.468Z"
   },
   {
    "duration": 116,
    "start_time": "2021-12-30T01:33:20.305Z"
   },
   {
    "duration": 8386,
    "start_time": "2021-12-30T01:33:51.792Z"
   },
   {
    "duration": 413,
    "start_time": "2022-01-09T15:41:01.258Z"
   },
   {
    "duration": 280,
    "start_time": "2022-01-09T15:42:36.192Z"
   },
   {
    "duration": 650,
    "start_time": "2022-01-09T15:43:06.481Z"
   },
   {
    "duration": 15,
    "start_time": "2022-01-09T15:43:07.133Z"
   },
   {
    "duration": 47,
    "start_time": "2022-01-09T15:43:07.151Z"
   },
   {
    "duration": 14,
    "start_time": "2022-01-09T15:43:07.200Z"
   },
   {
    "duration": 54,
    "start_time": "2022-01-09T15:43:07.216Z"
   },
   {
    "duration": 34,
    "start_time": "2022-01-09T15:43:07.272Z"
   },
   {
    "duration": 41,
    "start_time": "2022-01-09T15:43:07.307Z"
   },
   {
    "duration": 34,
    "start_time": "2022-01-09T15:43:07.351Z"
   },
   {
    "duration": 36,
    "start_time": "2022-01-09T15:43:07.389Z"
   },
   {
    "duration": 40,
    "start_time": "2022-01-09T15:43:07.427Z"
   },
   {
    "duration": 58,
    "start_time": "2022-01-09T15:43:07.469Z"
   },
   {
    "duration": 40,
    "start_time": "2022-01-09T15:43:07.528Z"
   },
   {
    "duration": 50,
    "start_time": "2022-01-09T15:43:07.570Z"
   },
   {
    "duration": 37,
    "start_time": "2022-01-09T15:43:07.622Z"
   },
   {
    "duration": 23,
    "start_time": "2022-01-09T15:43:07.660Z"
   },
   {
    "duration": 35,
    "start_time": "2022-01-09T15:43:07.684Z"
   },
   {
    "duration": 44,
    "start_time": "2022-01-09T15:43:07.721Z"
   },
   {
    "duration": 38,
    "start_time": "2022-01-09T15:43:07.767Z"
   },
   {
    "duration": 41,
    "start_time": "2022-01-09T15:43:07.807Z"
   },
   {
    "duration": 50,
    "start_time": "2022-01-09T15:43:07.850Z"
   },
   {
    "duration": 3797,
    "start_time": "2022-01-09T15:43:07.902Z"
   },
   {
    "duration": 19,
    "start_time": "2022-01-09T15:43:11.701Z"
   },
   {
    "duration": 44,
    "start_time": "2022-01-09T15:43:11.722Z"
   },
   {
    "duration": 24,
    "start_time": "2022-01-09T15:43:11.767Z"
   },
   {
    "duration": 24,
    "start_time": "2022-01-09T15:43:11.793Z"
   },
   {
    "duration": 16,
    "start_time": "2022-01-09T15:43:11.819Z"
   },
   {
    "duration": 31,
    "start_time": "2022-01-09T15:43:11.839Z"
   },
   {
    "duration": 28,
    "start_time": "2022-01-09T15:43:11.872Z"
   },
   {
    "duration": 33,
    "start_time": "2022-01-09T15:43:11.901Z"
   },
   {
    "duration": 19,
    "start_time": "2022-01-09T15:43:11.935Z"
   },
   {
    "duration": 32,
    "start_time": "2022-01-09T15:43:11.957Z"
   },
   {
    "duration": 39,
    "start_time": "2022-01-09T15:43:11.991Z"
   },
   {
    "duration": 30,
    "start_time": "2022-01-09T15:43:12.032Z"
   },
   {
    "duration": 70,
    "start_time": "2022-01-09T15:43:12.064Z"
   },
   {
    "duration": 42,
    "start_time": "2022-01-09T15:43:12.136Z"
   },
   {
    "duration": 48,
    "start_time": "2022-01-09T15:43:12.180Z"
   },
   {
    "duration": 46,
    "start_time": "2022-01-09T15:43:12.230Z"
   },
   {
    "duration": 8255,
    "start_time": "2022-01-09T15:43:12.279Z"
   },
   {
    "duration": 261,
    "start_time": "2022-01-09T15:43:20.275Z"
   },
   {
    "duration": 3,
    "start_time": "2022-01-09T15:43:43.064Z"
   },
   {
    "duration": 3,
    "start_time": "2022-01-09T15:43:50.065Z"
   },
   {
    "duration": 3,
    "start_time": "2022-01-09T15:43:54.848Z"
   },
   {
    "duration": 5,
    "start_time": "2022-01-09T15:44:32.792Z"
   },
   {
    "duration": 4,
    "start_time": "2022-01-09T15:45:28.472Z"
   },
   {
    "duration": 8377,
    "start_time": "2022-01-09T15:46:14.416Z"
   },
   {
    "duration": 4,
    "start_time": "2022-01-09T15:47:23.201Z"
   },
   {
    "duration": 4,
    "start_time": "2022-01-09T15:47:33.571Z"
   },
   {
    "duration": 7142,
    "start_time": "2022-01-09T15:50:36.655Z"
   },
   {
    "duration": 3105,
    "start_time": "2022-01-09T15:55:33.178Z"
   },
   {
    "duration": 2990,
    "start_time": "2022-01-09T15:55:49.698Z"
   },
   {
    "duration": 3009,
    "start_time": "2022-01-09T15:56:34.992Z"
   },
   {
    "duration": 32,
    "start_time": "2022-01-09T16:02:30.015Z"
   },
   {
    "duration": 28,
    "start_time": "2022-01-09T16:02:50.669Z"
   },
   {
    "duration": 29,
    "start_time": "2022-01-09T16:03:17.335Z"
   },
   {
    "duration": 6,
    "start_time": "2022-01-09T16:03:59.158Z"
   },
   {
    "duration": 8,
    "start_time": "2022-01-09T16:04:41.490Z"
   },
   {
    "duration": 7,
    "start_time": "2022-01-09T16:05:15.621Z"
   },
   {
    "duration": 12,
    "start_time": "2022-01-09T16:05:21.613Z"
   },
   {
    "duration": 3047,
    "start_time": "2022-01-09T16:06:02.494Z"
   },
   {
    "duration": 719,
    "start_time": "2022-01-09T16:06:08.626Z"
   },
   {
    "duration": 8,
    "start_time": "2022-01-09T16:06:09.347Z"
   },
   {
    "duration": 14,
    "start_time": "2022-01-09T16:06:09.357Z"
   },
   {
    "duration": 12,
    "start_time": "2022-01-09T16:06:09.372Z"
   },
   {
    "duration": 12,
    "start_time": "2022-01-09T16:06:09.386Z"
   },
   {
    "duration": 7,
    "start_time": "2022-01-09T16:06:09.400Z"
   },
   {
    "duration": 11,
    "start_time": "2022-01-09T16:06:09.442Z"
   },
   {
    "duration": 10,
    "start_time": "2022-01-09T16:06:09.455Z"
   },
   {
    "duration": 16,
    "start_time": "2022-01-09T16:06:09.469Z"
   },
   {
    "duration": 21,
    "start_time": "2022-01-09T16:06:09.487Z"
   },
   {
    "duration": 31,
    "start_time": "2022-01-09T16:06:09.541Z"
   },
   {
    "duration": 25,
    "start_time": "2022-01-09T16:06:09.574Z"
   },
   {
    "duration": 43,
    "start_time": "2022-01-09T16:06:09.601Z"
   },
   {
    "duration": 47,
    "start_time": "2022-01-09T16:06:09.646Z"
   },
   {
    "duration": 11,
    "start_time": "2022-01-09T16:06:09.695Z"
   },
   {
    "duration": 47,
    "start_time": "2022-01-09T16:06:09.708Z"
   },
   {
    "duration": 7,
    "start_time": "2022-01-09T16:06:09.756Z"
   },
   {
    "duration": 5,
    "start_time": "2022-01-09T16:06:09.765Z"
   },
   {
    "duration": 9,
    "start_time": "2022-01-09T16:06:09.772Z"
   },
   {
    "duration": 8,
    "start_time": "2022-01-09T16:06:09.783Z"
   },
   {
    "duration": 3938,
    "start_time": "2022-01-09T16:06:09.792Z"
   },
   {
    "duration": 20,
    "start_time": "2022-01-09T16:06:13.742Z"
   },
   {
    "duration": 25,
    "start_time": "2022-01-09T16:06:13.764Z"
   },
   {
    "duration": 19,
    "start_time": "2022-01-09T16:06:13.791Z"
   },
   {
    "duration": 36,
    "start_time": "2022-01-09T16:06:13.812Z"
   },
   {
    "duration": 12,
    "start_time": "2022-01-09T16:06:13.850Z"
   },
   {
    "duration": 13,
    "start_time": "2022-01-09T16:06:13.865Z"
   },
   {
    "duration": 17,
    "start_time": "2022-01-09T16:06:13.880Z"
   },
   {
    "duration": 7,
    "start_time": "2022-01-09T16:06:13.899Z"
   },
   {
    "duration": 6,
    "start_time": "2022-01-09T16:06:13.941Z"
   },
   {
    "duration": 10,
    "start_time": "2022-01-09T16:06:13.949Z"
   },
   {
    "duration": 6,
    "start_time": "2022-01-09T16:06:13.961Z"
   },
   {
    "duration": 11,
    "start_time": "2022-01-09T16:06:13.969Z"
   },
   {
    "duration": 70,
    "start_time": "2022-01-09T16:06:13.981Z"
   },
   {
    "duration": 27,
    "start_time": "2022-01-09T16:06:14.053Z"
   },
   {
    "duration": 37,
    "start_time": "2022-01-09T16:06:14.082Z"
   },
   {
    "duration": 28,
    "start_time": "2022-01-09T16:06:14.141Z"
   },
   {
    "duration": 6233,
    "start_time": "2022-01-09T16:06:14.171Z"
   },
   {
    "duration": 19,
    "start_time": "2022-01-09T16:06:20.406Z"
   },
   {
    "duration": 44,
    "start_time": "2022-01-09T16:06:20.441Z"
   },
   {
    "duration": 3454,
    "start_time": "2022-01-09T16:07:31.734Z"
   },
   {
    "duration": 2947,
    "start_time": "2022-01-09T16:08:35.788Z"
   },
   {
    "duration": 2917,
    "start_time": "2022-01-09T16:10:44.857Z"
   },
   {
    "duration": 684,
    "start_time": "2022-01-09T16:12:58.733Z"
   },
   {
    "duration": 8,
    "start_time": "2022-01-09T16:12:59.418Z"
   },
   {
    "duration": 20,
    "start_time": "2022-01-09T16:12:59.428Z"
   },
   {
    "duration": 12,
    "start_time": "2022-01-09T16:12:59.449Z"
   },
   {
    "duration": 10,
    "start_time": "2022-01-09T16:12:59.463Z"
   },
   {
    "duration": 6,
    "start_time": "2022-01-09T16:12:59.474Z"
   },
   {
    "duration": 12,
    "start_time": "2022-01-09T16:12:59.481Z"
   },
   {
    "duration": 9,
    "start_time": "2022-01-09T16:12:59.495Z"
   },
   {
    "duration": 41,
    "start_time": "2022-01-09T16:12:59.505Z"
   },
   {
    "duration": 13,
    "start_time": "2022-01-09T16:12:59.547Z"
   },
   {
    "duration": 21,
    "start_time": "2022-01-09T16:12:59.562Z"
   },
   {
    "duration": 13,
    "start_time": "2022-01-09T16:12:59.585Z"
   },
   {
    "duration": 47,
    "start_time": "2022-01-09T16:12:59.599Z"
   },
   {
    "duration": 27,
    "start_time": "2022-01-09T16:12:59.648Z"
   },
   {
    "duration": 5,
    "start_time": "2022-01-09T16:12:59.677Z"
   },
   {
    "duration": 16,
    "start_time": "2022-01-09T16:12:59.684Z"
   },
   {
    "duration": 15,
    "start_time": "2022-01-09T16:12:59.701Z"
   },
   {
    "duration": 5,
    "start_time": "2022-01-09T16:12:59.718Z"
   },
   {
    "duration": 7,
    "start_time": "2022-01-09T16:12:59.741Z"
   },
   {
    "duration": 6,
    "start_time": "2022-01-09T16:12:59.749Z"
   },
   {
    "duration": 3592,
    "start_time": "2022-01-09T16:12:59.756Z"
   },
   {
    "duration": 14,
    "start_time": "2022-01-09T16:13:03.349Z"
   },
   {
    "duration": 19,
    "start_time": "2022-01-09T16:13:03.367Z"
   },
   {
    "duration": 10,
    "start_time": "2022-01-09T16:13:03.388Z"
   },
   {
    "duration": 13,
    "start_time": "2022-01-09T16:13:03.400Z"
   },
   {
    "duration": 35,
    "start_time": "2022-01-09T16:13:03.414Z"
   },
   {
    "duration": 12,
    "start_time": "2022-01-09T16:13:03.450Z"
   },
   {
    "duration": 18,
    "start_time": "2022-01-09T16:13:03.463Z"
   },
   {
    "duration": 8,
    "start_time": "2022-01-09T16:13:03.482Z"
   },
   {
    "duration": 11,
    "start_time": "2022-01-09T16:13:03.492Z"
   },
   {
    "duration": 39,
    "start_time": "2022-01-09T16:13:03.505Z"
   },
   {
    "duration": 5,
    "start_time": "2022-01-09T16:13:03.546Z"
   },
   {
    "duration": 14,
    "start_time": "2022-01-09T16:13:03.552Z"
   },
   {
    "duration": 44,
    "start_time": "2022-01-09T16:13:03.568Z"
   },
   {
    "duration": 54,
    "start_time": "2022-01-09T16:13:03.614Z"
   },
   {
    "duration": 35,
    "start_time": "2022-01-09T16:13:03.670Z"
   },
   {
    "duration": 49,
    "start_time": "2022-01-09T16:13:03.707Z"
   },
   {
    "duration": 2864,
    "start_time": "2022-01-09T16:13:03.758Z"
   },
   {
    "duration": 27,
    "start_time": "2022-01-09T16:13:06.624Z"
   },
   {
    "duration": 29,
    "start_time": "2022-01-09T16:13:06.653Z"
   },
   {
    "duration": 2806,
    "start_time": "2022-01-09T16:14:53.512Z"
   },
   {
    "duration": 526,
    "start_time": "2022-01-09T16:16:36.151Z"
   },
   {
    "duration": 3694,
    "start_time": "2022-01-09T16:17:10.306Z"
   },
   {
    "duration": 915,
    "start_time": "2022-01-09T16:17:33.692Z"
   },
   {
    "duration": 9,
    "start_time": "2022-01-09T16:17:34.608Z"
   },
   {
    "duration": 30,
    "start_time": "2022-01-09T16:17:34.620Z"
   },
   {
    "duration": 17,
    "start_time": "2022-01-09T16:17:34.652Z"
   },
   {
    "duration": 12,
    "start_time": "2022-01-09T16:17:34.671Z"
   },
   {
    "duration": 7,
    "start_time": "2022-01-09T16:17:34.685Z"
   },
   {
    "duration": 16,
    "start_time": "2022-01-09T16:17:34.694Z"
   },
   {
    "duration": 37,
    "start_time": "2022-01-09T16:17:34.713Z"
   },
   {
    "duration": 15,
    "start_time": "2022-01-09T16:17:34.753Z"
   },
   {
    "duration": 16,
    "start_time": "2022-01-09T16:17:34.770Z"
   },
   {
    "duration": 25,
    "start_time": "2022-01-09T16:17:34.788Z"
   },
   {
    "duration": 43,
    "start_time": "2022-01-09T16:17:34.815Z"
   },
   {
    "duration": 31,
    "start_time": "2022-01-09T16:17:34.860Z"
   },
   {
    "duration": 62,
    "start_time": "2022-01-09T16:17:34.893Z"
   },
   {
    "duration": 6,
    "start_time": "2022-01-09T16:17:34.957Z"
   },
   {
    "duration": 20,
    "start_time": "2022-01-09T16:17:34.965Z"
   },
   {
    "duration": 9,
    "start_time": "2022-01-09T16:17:34.987Z"
   },
   {
    "duration": 9,
    "start_time": "2022-01-09T16:17:34.998Z"
   },
   {
    "duration": 34,
    "start_time": "2022-01-09T16:17:35.009Z"
   },
   {
    "duration": 4,
    "start_time": "2022-01-09T16:17:35.045Z"
   },
   {
    "duration": 3931,
    "start_time": "2022-01-09T16:17:35.051Z"
   },
   {
    "duration": 14,
    "start_time": "2022-01-09T16:17:38.985Z"
   },
   {
    "duration": 19,
    "start_time": "2022-01-09T16:17:39.003Z"
   },
   {
    "duration": 30,
    "start_time": "2022-01-09T16:17:39.024Z"
   },
   {
    "duration": 11,
    "start_time": "2022-01-09T16:17:39.055Z"
   },
   {
    "duration": 10,
    "start_time": "2022-01-09T16:17:39.068Z"
   },
   {
    "duration": 17,
    "start_time": "2022-01-09T16:17:39.079Z"
   },
   {
    "duration": 45,
    "start_time": "2022-01-09T16:17:39.098Z"
   },
   {
    "duration": 8,
    "start_time": "2022-01-09T16:17:39.145Z"
   },
   {
    "duration": 5,
    "start_time": "2022-01-09T16:17:39.155Z"
   },
   {
    "duration": 10,
    "start_time": "2022-01-09T16:17:39.162Z"
   },
   {
    "duration": 5,
    "start_time": "2022-01-09T16:17:39.174Z"
   },
   {
    "duration": 14,
    "start_time": "2022-01-09T16:17:39.181Z"
   },
   {
    "duration": 84,
    "start_time": "2022-01-09T16:17:39.196Z"
   },
   {
    "duration": 31,
    "start_time": "2022-01-09T16:17:39.282Z"
   },
   {
    "duration": 62,
    "start_time": "2022-01-09T16:17:39.314Z"
   },
   {
    "duration": 28,
    "start_time": "2022-01-09T16:17:39.377Z"
   },
   {
    "duration": 3638,
    "start_time": "2022-01-09T16:17:39.407Z"
   },
   {
    "duration": 14,
    "start_time": "2022-01-09T16:17:43.047Z"
   },
   {
    "duration": 31,
    "start_time": "2022-01-09T16:17:43.062Z"
   },
   {
    "duration": 8,
    "start_time": "2022-01-09T16:18:08.444Z"
   },
   {
    "duration": 3608,
    "start_time": "2022-01-09T16:19:12.804Z"
   },
   {
    "duration": 6,
    "start_time": "2022-01-09T16:19:20.423Z"
   },
   {
    "duration": 3321,
    "start_time": "2022-01-09T16:19:52.830Z"
   },
   {
    "duration": 647,
    "start_time": "2022-01-09T16:20:02.579Z"
   },
   {
    "duration": 10,
    "start_time": "2022-01-09T16:20:03.228Z"
   },
   {
    "duration": 39,
    "start_time": "2022-01-09T16:20:03.239Z"
   },
   {
    "duration": 38,
    "start_time": "2022-01-09T16:20:03.280Z"
   },
   {
    "duration": 19,
    "start_time": "2022-01-09T16:20:03.320Z"
   },
   {
    "duration": 29,
    "start_time": "2022-01-09T16:20:03.341Z"
   },
   {
    "duration": 38,
    "start_time": "2022-01-09T16:20:03.372Z"
   },
   {
    "duration": 13,
    "start_time": "2022-01-09T16:20:03.412Z"
   },
   {
    "duration": 33,
    "start_time": "2022-01-09T16:20:03.428Z"
   },
   {
    "duration": 31,
    "start_time": "2022-01-09T16:20:03.463Z"
   },
   {
    "duration": 39,
    "start_time": "2022-01-09T16:20:03.496Z"
   },
   {
    "duration": 17,
    "start_time": "2022-01-09T16:20:03.537Z"
   },
   {
    "duration": 29,
    "start_time": "2022-01-09T16:20:03.556Z"
   },
   {
    "duration": 30,
    "start_time": "2022-01-09T16:20:03.587Z"
   },
   {
    "duration": 26,
    "start_time": "2022-01-09T16:20:03.619Z"
   },
   {
    "duration": 23,
    "start_time": "2022-01-09T16:20:03.647Z"
   },
   {
    "duration": 9,
    "start_time": "2022-01-09T16:20:03.672Z"
   },
   {
    "duration": 4,
    "start_time": "2022-01-09T16:20:03.683Z"
   },
   {
    "duration": 9,
    "start_time": "2022-01-09T16:20:03.689Z"
   },
   {
    "duration": 6,
    "start_time": "2022-01-09T16:20:03.700Z"
   },
   {
    "duration": 3342,
    "start_time": "2022-01-09T16:20:03.708Z"
   },
   {
    "duration": 13,
    "start_time": "2022-01-09T16:20:07.052Z"
   },
   {
    "duration": 19,
    "start_time": "2022-01-09T16:20:07.068Z"
   },
   {
    "duration": 11,
    "start_time": "2022-01-09T16:20:07.089Z"
   },
   {
    "duration": 40,
    "start_time": "2022-01-09T16:20:07.101Z"
   },
   {
    "duration": 10,
    "start_time": "2022-01-09T16:20:07.143Z"
   },
   {
    "duration": 11,
    "start_time": "2022-01-09T16:20:07.155Z"
   },
   {
    "duration": 15,
    "start_time": "2022-01-09T16:20:07.168Z"
   },
   {
    "duration": 7,
    "start_time": "2022-01-09T16:20:07.185Z"
   },
   {
    "duration": 5,
    "start_time": "2022-01-09T16:20:07.193Z"
   },
   {
    "duration": 44,
    "start_time": "2022-01-09T16:20:07.200Z"
   },
   {
    "duration": 9,
    "start_time": "2022-01-09T16:20:07.245Z"
   },
   {
    "duration": 11,
    "start_time": "2022-01-09T16:20:07.255Z"
   },
   {
    "duration": 40,
    "start_time": "2022-01-09T16:20:07.268Z"
   },
   {
    "duration": 54,
    "start_time": "2022-01-09T16:20:07.310Z"
   },
   {
    "duration": 36,
    "start_time": "2022-01-09T16:20:07.365Z"
   },
   {
    "duration": 48,
    "start_time": "2022-01-09T16:20:07.402Z"
   },
   {
    "duration": 3417,
    "start_time": "2022-01-09T16:20:07.452Z"
   },
   {
    "duration": 7,
    "start_time": "2022-01-09T16:20:10.870Z"
   },
   {
    "duration": 34,
    "start_time": "2022-01-09T16:20:10.879Z"
   },
   {
    "duration": 339,
    "start_time": "2022-01-09T16:33:32.969Z"
   },
   {
    "duration": 107,
    "start_time": "2022-01-09T16:34:13.351Z"
   },
   {
    "duration": 266,
    "start_time": "2022-01-09T16:34:25.869Z"
   },
   {
    "duration": 28,
    "start_time": "2022-01-09T16:39:29.321Z"
   },
   {
    "duration": 388,
    "start_time": "2022-01-09T16:39:31.980Z"
   },
   {
    "duration": 28,
    "start_time": "2022-01-09T16:39:56.558Z"
   },
   {
    "duration": 3938,
    "start_time": "2022-01-09T16:47:07.841Z"
   },
   {
    "duration": 32,
    "start_time": "2022-01-09T16:51:33.149Z"
   },
   {
    "duration": 96,
    "start_time": "2022-01-09T16:54:12.474Z"
   },
   {
    "duration": 25,
    "start_time": "2022-01-09T16:59:25.168Z"
   },
   {
    "duration": 255,
    "start_time": "2022-01-09T17:00:48.545Z"
   },
   {
    "duration": 634,
    "start_time": "2022-01-09T17:01:10.546Z"
   },
   {
    "duration": 7,
    "start_time": "2022-01-09T17:01:11.182Z"
   },
   {
    "duration": 12,
    "start_time": "2022-01-09T17:01:11.194Z"
   },
   {
    "duration": 12,
    "start_time": "2022-01-09T17:01:11.207Z"
   },
   {
    "duration": 29,
    "start_time": "2022-01-09T17:01:11.220Z"
   },
   {
    "duration": 4,
    "start_time": "2022-01-09T17:01:11.251Z"
   },
   {
    "duration": 10,
    "start_time": "2022-01-09T17:01:11.257Z"
   },
   {
    "duration": 8,
    "start_time": "2022-01-09T17:01:11.270Z"
   },
   {
    "duration": 11,
    "start_time": "2022-01-09T17:01:11.280Z"
   },
   {
    "duration": 12,
    "start_time": "2022-01-09T17:01:11.293Z"
   },
   {
    "duration": 45,
    "start_time": "2022-01-09T17:01:11.307Z"
   },
   {
    "duration": 14,
    "start_time": "2022-01-09T17:01:11.353Z"
   },
   {
    "duration": 28,
    "start_time": "2022-01-09T17:01:11.368Z"
   },
   {
    "duration": 58,
    "start_time": "2022-01-09T17:01:11.397Z"
   },
   {
    "duration": 6,
    "start_time": "2022-01-09T17:01:11.456Z"
   },
   {
    "duration": 21,
    "start_time": "2022-01-09T17:01:11.464Z"
   },
   {
    "duration": 8,
    "start_time": "2022-01-09T17:01:11.487Z"
   },
   {
    "duration": 4,
    "start_time": "2022-01-09T17:01:11.497Z"
   },
   {
    "duration": 8,
    "start_time": "2022-01-09T17:01:11.503Z"
   },
   {
    "duration": 11,
    "start_time": "2022-01-09T17:01:11.512Z"
   },
   {
    "duration": 3373,
    "start_time": "2022-01-09T17:01:11.541Z"
   },
   {
    "duration": 25,
    "start_time": "2022-01-09T17:01:14.916Z"
   },
   {
    "duration": 328,
    "start_time": "2022-01-09T17:01:14.942Z"
   },
   {
    "duration": 372,
    "start_time": "2022-01-09T17:01:14.901Z"
   },
   {
    "duration": 368,
    "start_time": "2022-01-09T17:01:14.906Z"
   },
   {
    "duration": 357,
    "start_time": "2022-01-09T17:01:14.918Z"
   },
   {
    "duration": 354,
    "start_time": "2022-01-09T17:01:14.922Z"
   },
   {
    "duration": 352,
    "start_time": "2022-01-09T17:01:14.925Z"
   },
   {
    "duration": 345,
    "start_time": "2022-01-09T17:01:14.933Z"
   },
   {
    "duration": 342,
    "start_time": "2022-01-09T17:01:14.937Z"
   },
   {
    "duration": 339,
    "start_time": "2022-01-09T17:01:14.941Z"
   },
   {
    "duration": 337,
    "start_time": "2022-01-09T17:01:14.944Z"
   },
   {
    "duration": 335,
    "start_time": "2022-01-09T17:01:14.947Z"
   },
   {
    "duration": 332,
    "start_time": "2022-01-09T17:01:14.951Z"
   },
   {
    "duration": 329,
    "start_time": "2022-01-09T17:01:14.955Z"
   },
   {
    "duration": 327,
    "start_time": "2022-01-09T17:01:14.958Z"
   },
   {
    "duration": 324,
    "start_time": "2022-01-09T17:01:14.962Z"
   },
   {
    "duration": 322,
    "start_time": "2022-01-09T17:01:14.965Z"
   },
   {
    "duration": 311,
    "start_time": "2022-01-09T17:01:14.977Z"
   },
   {
    "duration": 308,
    "start_time": "2022-01-09T17:01:14.981Z"
   },
   {
    "duration": 304,
    "start_time": "2022-01-09T17:01:14.986Z"
   },
   {
    "duration": 301,
    "start_time": "2022-01-09T17:01:14.990Z"
   },
   {
    "duration": 641,
    "start_time": "2022-01-09T17:01:50.133Z"
   },
   {
    "duration": 9,
    "start_time": "2022-01-09T17:01:50.776Z"
   },
   {
    "duration": 16,
    "start_time": "2022-01-09T17:01:50.786Z"
   },
   {
    "duration": 12,
    "start_time": "2022-01-09T17:01:50.804Z"
   },
   {
    "duration": 32,
    "start_time": "2022-01-09T17:01:50.817Z"
   },
   {
    "duration": 6,
    "start_time": "2022-01-09T17:01:50.850Z"
   },
   {
    "duration": 12,
    "start_time": "2022-01-09T17:01:50.858Z"
   },
   {
    "duration": 9,
    "start_time": "2022-01-09T17:01:50.872Z"
   },
   {
    "duration": 10,
    "start_time": "2022-01-09T17:01:50.883Z"
   },
   {
    "duration": 14,
    "start_time": "2022-01-09T17:01:50.894Z"
   },
   {
    "duration": 44,
    "start_time": "2022-01-09T17:01:50.909Z"
   },
   {
    "duration": 13,
    "start_time": "2022-01-09T17:01:50.955Z"
   },
   {
    "duration": 24,
    "start_time": "2022-01-09T17:01:50.970Z"
   },
   {
    "duration": 49,
    "start_time": "2022-01-09T17:01:50.995Z"
   },
   {
    "duration": 7,
    "start_time": "2022-01-09T17:01:51.045Z"
   },
   {
    "duration": 17,
    "start_time": "2022-01-09T17:01:51.054Z"
   },
   {
    "duration": 7,
    "start_time": "2022-01-09T17:01:51.073Z"
   },
   {
    "duration": 8,
    "start_time": "2022-01-09T17:01:51.081Z"
   },
   {
    "duration": 12,
    "start_time": "2022-01-09T17:01:51.090Z"
   },
   {
    "duration": 7,
    "start_time": "2022-01-09T17:01:51.104Z"
   },
   {
    "duration": 3315,
    "start_time": "2022-01-09T17:01:51.112Z"
   },
   {
    "duration": 13,
    "start_time": "2022-01-09T17:01:54.441Z"
   },
   {
    "duration": 329,
    "start_time": "2022-01-09T17:01:54.458Z"
   },
   {
    "duration": 367,
    "start_time": "2022-01-09T17:01:54.422Z"
   },
   {
    "duration": 364,
    "start_time": "2022-01-09T17:01:54.427Z"
   },
   {
    "duration": 360,
    "start_time": "2022-01-09T17:01:54.432Z"
   },
   {
    "duration": 356,
    "start_time": "2022-01-09T17:01:54.437Z"
   },
   {
    "duration": 354,
    "start_time": "2022-01-09T17:01:54.441Z"
   },
   {
    "duration": 350,
    "start_time": "2022-01-09T17:01:54.446Z"
   },
   {
    "duration": 348,
    "start_time": "2022-01-09T17:01:54.449Z"
   },
   {
    "duration": 344,
    "start_time": "2022-01-09T17:01:54.454Z"
   },
   {
    "duration": 342,
    "start_time": "2022-01-09T17:01:54.457Z"
   },
   {
    "duration": 337,
    "start_time": "2022-01-09T17:01:54.463Z"
   },
   {
    "duration": 334,
    "start_time": "2022-01-09T17:01:54.467Z"
   },
   {
    "duration": 323,
    "start_time": "2022-01-09T17:01:54.479Z"
   },
   {
    "duration": 320,
    "start_time": "2022-01-09T17:01:54.483Z"
   },
   {
    "duration": 315,
    "start_time": "2022-01-09T17:01:54.489Z"
   },
   {
    "duration": 312,
    "start_time": "2022-01-09T17:01:54.493Z"
   },
   {
    "duration": 309,
    "start_time": "2022-01-09T17:01:54.497Z"
   },
   {
    "duration": 306,
    "start_time": "2022-01-09T17:01:54.500Z"
   },
   {
    "duration": 303,
    "start_time": "2022-01-09T17:01:54.504Z"
   },
   {
    "duration": 301,
    "start_time": "2022-01-09T17:01:54.508Z"
   },
   {
    "duration": 11,
    "start_time": "2022-01-09T17:02:14.809Z"
   },
   {
    "duration": 11,
    "start_time": "2022-01-09T17:02:39.585Z"
   },
   {
    "duration": 656,
    "start_time": "2022-01-09T17:02:47.323Z"
   },
   {
    "duration": 9,
    "start_time": "2022-01-09T17:02:47.982Z"
   },
   {
    "duration": 15,
    "start_time": "2022-01-09T17:02:47.993Z"
   },
   {
    "duration": 33,
    "start_time": "2022-01-09T17:02:48.010Z"
   },
   {
    "duration": 12,
    "start_time": "2022-01-09T17:02:48.045Z"
   },
   {
    "duration": 7,
    "start_time": "2022-01-09T17:02:48.058Z"
   },
   {
    "duration": 10,
    "start_time": "2022-01-09T17:02:48.067Z"
   },
   {
    "duration": 10,
    "start_time": "2022-01-09T17:02:48.080Z"
   },
   {
    "duration": 11,
    "start_time": "2022-01-09T17:02:48.092Z"
   },
   {
    "duration": 13,
    "start_time": "2022-01-09T17:02:48.141Z"
   },
   {
    "duration": 21,
    "start_time": "2022-01-09T17:02:48.156Z"
   },
   {
    "duration": 13,
    "start_time": "2022-01-09T17:02:48.178Z"
   },
   {
    "duration": 25,
    "start_time": "2022-01-09T17:02:48.192Z"
   },
   {
    "duration": 28,
    "start_time": "2022-01-09T17:02:48.241Z"
   },
   {
    "duration": 6,
    "start_time": "2022-01-09T17:02:48.270Z"
   },
   {
    "duration": 16,
    "start_time": "2022-01-09T17:02:48.278Z"
   },
   {
    "duration": 12,
    "start_time": "2022-01-09T17:02:48.295Z"
   },
   {
    "duration": 5,
    "start_time": "2022-01-09T17:02:48.309Z"
   },
   {
    "duration": 32,
    "start_time": "2022-01-09T17:02:48.315Z"
   },
   {
    "duration": 7,
    "start_time": "2022-01-09T17:02:48.348Z"
   },
   {
    "duration": 3367,
    "start_time": "2022-01-09T17:02:48.356Z"
   },
   {
    "duration": 27,
    "start_time": "2022-01-09T17:02:51.725Z"
   },
   {
    "duration": 16,
    "start_time": "2022-01-09T17:02:51.756Z"
   },
   {
    "duration": 12,
    "start_time": "2022-01-09T17:02:51.774Z"
   },
   {
    "duration": 10,
    "start_time": "2022-01-09T17:02:51.787Z"
   },
   {
    "duration": 10,
    "start_time": "2022-01-09T17:02:51.798Z"
   },
   {
    "duration": 13,
    "start_time": "2022-01-09T17:02:51.841Z"
   },
   {
    "duration": 17,
    "start_time": "2022-01-09T17:02:51.855Z"
   },
   {
    "duration": 7,
    "start_time": "2022-01-09T17:02:51.874Z"
   },
   {
    "duration": 5,
    "start_time": "2022-01-09T17:02:51.882Z"
   },
   {
    "duration": 9,
    "start_time": "2022-01-09T17:02:51.889Z"
   },
   {
    "duration": 6,
    "start_time": "2022-01-09T17:02:51.899Z"
   },
   {
    "duration": 12,
    "start_time": "2022-01-09T17:02:51.942Z"
   },
   {
    "duration": 38,
    "start_time": "2022-01-09T17:02:51.956Z"
   },
   {
    "duration": 53,
    "start_time": "2022-01-09T17:02:51.995Z"
   },
   {
    "duration": 32,
    "start_time": "2022-01-09T17:02:52.050Z"
   },
   {
    "duration": 26,
    "start_time": "2022-01-09T17:02:52.084Z"
   },
   {
    "duration": 3440,
    "start_time": "2022-01-09T17:02:52.112Z"
   },
   {
    "duration": 32,
    "start_time": "2022-01-09T17:02:55.554Z"
   },
   {
    "duration": 24,
    "start_time": "2022-01-09T17:02:55.588Z"
   },
   {
    "duration": 56,
    "start_time": "2022-01-09T17:02:55.614Z"
   },
   {
    "duration": 25,
    "start_time": "2022-01-09T17:02:55.672Z"
   },
   {
    "duration": 655,
    "start_time": "2022-01-09T17:23:33.880Z"
   },
   {
    "duration": 8,
    "start_time": "2022-01-09T17:23:34.537Z"
   },
   {
    "duration": 40,
    "start_time": "2022-01-09T17:23:34.546Z"
   },
   {
    "duration": 16,
    "start_time": "2022-01-09T17:23:34.588Z"
   },
   {
    "duration": 14,
    "start_time": "2022-01-09T17:23:34.606Z"
   },
   {
    "duration": 6,
    "start_time": "2022-01-09T17:23:34.622Z"
   },
   {
    "duration": 23,
    "start_time": "2022-01-09T17:23:34.630Z"
   },
   {
    "duration": 10,
    "start_time": "2022-01-09T17:23:34.656Z"
   },
   {
    "duration": 13,
    "start_time": "2022-01-09T17:23:34.668Z"
   },
   {
    "duration": 22,
    "start_time": "2022-01-09T17:23:34.683Z"
   },
   {
    "duration": 19,
    "start_time": "2022-01-09T17:23:34.707Z"
   },
   {
    "duration": 15,
    "start_time": "2022-01-09T17:23:34.740Z"
   },
   {
    "duration": 27,
    "start_time": "2022-01-09T17:23:34.757Z"
   },
   {
    "duration": 28,
    "start_time": "2022-01-09T17:23:34.786Z"
   },
   {
    "duration": 31,
    "start_time": "2022-01-09T17:23:34.815Z"
   },
   {
    "duration": 16,
    "start_time": "2022-01-09T17:23:34.848Z"
   },
   {
    "duration": 12,
    "start_time": "2022-01-09T17:23:34.866Z"
   },
   {
    "duration": 5,
    "start_time": "2022-01-09T17:23:34.880Z"
   },
   {
    "duration": 13,
    "start_time": "2022-01-09T17:23:34.886Z"
   },
   {
    "duration": 7,
    "start_time": "2022-01-09T17:23:34.900Z"
   },
   {
    "duration": 3297,
    "start_time": "2022-01-09T17:23:34.909Z"
   },
   {
    "duration": 11,
    "start_time": "2022-01-09T17:23:38.208Z"
   },
   {
    "duration": 29,
    "start_time": "2022-01-09T17:23:38.222Z"
   },
   {
    "duration": 12,
    "start_time": "2022-01-09T17:23:38.254Z"
   },
   {
    "duration": 9,
    "start_time": "2022-01-09T17:23:38.267Z"
   },
   {
    "duration": 9,
    "start_time": "2022-01-09T17:23:38.278Z"
   },
   {
    "duration": 12,
    "start_time": "2022-01-09T17:23:38.288Z"
   },
   {
    "duration": 55,
    "start_time": "2022-01-09T17:23:38.301Z"
   },
   {
    "duration": 8,
    "start_time": "2022-01-09T17:23:38.357Z"
   },
   {
    "duration": 6,
    "start_time": "2022-01-09T17:23:38.367Z"
   },
   {
    "duration": 8,
    "start_time": "2022-01-09T17:23:38.375Z"
   },
   {
    "duration": 5,
    "start_time": "2022-01-09T17:23:38.384Z"
   },
   {
    "duration": 12,
    "start_time": "2022-01-09T17:23:38.390Z"
   },
   {
    "duration": 73,
    "start_time": "2022-01-09T17:23:38.404Z"
   },
   {
    "duration": 29,
    "start_time": "2022-01-09T17:23:38.479Z"
   },
   {
    "duration": 55,
    "start_time": "2022-01-09T17:23:38.510Z"
   },
   {
    "duration": 25,
    "start_time": "2022-01-09T17:23:38.566Z"
   },
   {
    "duration": 3440,
    "start_time": "2022-01-09T17:23:38.593Z"
   },
   {
    "duration": 34,
    "start_time": "2022-01-09T17:23:42.035Z"
   },
   {
    "duration": 24,
    "start_time": "2022-01-09T17:23:42.071Z"
   },
   {
    "duration": 55,
    "start_time": "2022-01-09T17:23:42.097Z"
   },
   {
    "duration": 26,
    "start_time": "2022-01-09T17:23:42.154Z"
   },
   {
    "duration": 3,
    "start_time": "2022-01-09T17:38:57.351Z"
   },
   {
    "duration": 662,
    "start_time": "2022-01-09T17:48:06.221Z"
   },
   {
    "duration": 8,
    "start_time": "2022-01-09T17:48:06.885Z"
   },
   {
    "duration": 14,
    "start_time": "2022-01-09T17:48:06.897Z"
   },
   {
    "duration": 30,
    "start_time": "2022-01-09T17:48:06.913Z"
   },
   {
    "duration": 12,
    "start_time": "2022-01-09T17:48:06.945Z"
   },
   {
    "duration": 7,
    "start_time": "2022-01-09T17:48:06.958Z"
   },
   {
    "duration": 13,
    "start_time": "2022-01-09T17:48:06.967Z"
   },
   {
    "duration": 10,
    "start_time": "2022-01-09T17:48:06.982Z"
   },
   {
    "duration": 9,
    "start_time": "2022-01-09T17:48:06.994Z"
   },
   {
    "duration": 48,
    "start_time": "2022-01-09T17:48:07.005Z"
   },
   {
    "duration": 24,
    "start_time": "2022-01-09T17:48:07.055Z"
   },
   {
    "duration": 15,
    "start_time": "2022-01-09T17:48:07.081Z"
   },
   {
    "duration": 45,
    "start_time": "2022-01-09T17:48:07.097Z"
   },
   {
    "duration": 31,
    "start_time": "2022-01-09T17:48:07.144Z"
   },
   {
    "duration": 6,
    "start_time": "2022-01-09T17:48:07.177Z"
   },
   {
    "duration": 18,
    "start_time": "2022-01-09T17:48:07.185Z"
   },
   {
    "duration": 9,
    "start_time": "2022-01-09T17:48:07.205Z"
   },
   {
    "duration": 5,
    "start_time": "2022-01-09T17:48:07.241Z"
   },
   {
    "duration": 12,
    "start_time": "2022-01-09T17:48:07.248Z"
   },
   {
    "duration": 4,
    "start_time": "2022-01-09T17:48:07.262Z"
   },
   {
    "duration": 3388,
    "start_time": "2022-01-09T17:48:07.267Z"
   },
   {
    "duration": 11,
    "start_time": "2022-01-09T17:48:10.658Z"
   },
   {
    "duration": 18,
    "start_time": "2022-01-09T17:48:10.671Z"
   },
   {
    "duration": 10,
    "start_time": "2022-01-09T17:48:10.691Z"
   },
   {
    "duration": 10,
    "start_time": "2022-01-09T17:48:10.703Z"
   },
   {
    "duration": 10,
    "start_time": "2022-01-09T17:48:10.742Z"
   },
   {
    "duration": 31,
    "start_time": "2022-01-09T17:48:10.754Z"
   },
   {
    "duration": 16,
    "start_time": "2022-01-09T17:48:10.786Z"
   },
   {
    "duration": 7,
    "start_time": "2022-01-09T17:48:10.804Z"
   },
   {
    "duration": 7,
    "start_time": "2022-01-09T17:48:10.813Z"
   },
   {
    "duration": 22,
    "start_time": "2022-01-09T17:48:10.822Z"
   },
   {
    "duration": 5,
    "start_time": "2022-01-09T17:48:10.845Z"
   },
   {
    "duration": 14,
    "start_time": "2022-01-09T17:48:10.851Z"
   },
   {
    "duration": 41,
    "start_time": "2022-01-09T17:48:10.867Z"
   },
   {
    "duration": 53,
    "start_time": "2022-01-09T17:48:10.910Z"
   },
   {
    "duration": 33,
    "start_time": "2022-01-09T17:48:10.965Z"
   },
   {
    "duration": 47,
    "start_time": "2022-01-09T17:48:10.999Z"
   },
   {
    "duration": 3583,
    "start_time": "2022-01-09T17:48:11.047Z"
   },
   {
    "duration": 37,
    "start_time": "2022-01-09T17:48:14.631Z"
   },
   {
    "duration": 22,
    "start_time": "2022-01-09T17:48:14.670Z"
   },
   {
    "duration": 52,
    "start_time": "2022-01-09T17:48:14.694Z"
   },
   {
    "duration": 23,
    "start_time": "2022-01-09T17:48:14.748Z"
   },
   {
    "duration": 978,
    "start_time": "2022-01-11T06:03:49.864Z"
   },
   {
    "duration": 9,
    "start_time": "2022-01-11T06:03:50.844Z"
   },
   {
    "duration": 25,
    "start_time": "2022-01-11T06:03:50.854Z"
   },
   {
    "duration": 65,
    "start_time": "2022-01-11T06:03:50.880Z"
   },
   {
    "duration": 11,
    "start_time": "2022-01-11T06:03:50.947Z"
   },
   {
    "duration": 6,
    "start_time": "2022-01-11T06:03:50.960Z"
   },
   {
    "duration": 75,
    "start_time": "2022-01-11T06:03:50.967Z"
   },
   {
    "duration": 10,
    "start_time": "2022-01-11T06:03:51.044Z"
   },
   {
    "duration": 15,
    "start_time": "2022-01-11T06:03:51.056Z"
   },
   {
    "duration": 74,
    "start_time": "2022-01-11T06:03:51.075Z"
   },
   {
    "duration": 17,
    "start_time": "2022-01-11T06:03:51.152Z"
   },
   {
    "duration": 71,
    "start_time": "2022-01-11T06:03:51.171Z"
   },
   {
    "duration": 30,
    "start_time": "2022-01-11T06:03:51.244Z"
   },
   {
    "duration": 85,
    "start_time": "2022-01-11T06:03:51.276Z"
   },
   {
    "duration": 6,
    "start_time": "2022-01-11T06:03:51.363Z"
   },
   {
    "duration": 75,
    "start_time": "2022-01-11T06:03:51.371Z"
   },
   {
    "duration": 8,
    "start_time": "2022-01-11T06:03:51.448Z"
   },
   {
    "duration": 5,
    "start_time": "2022-01-11T06:03:51.458Z"
   },
   {
    "duration": 11,
    "start_time": "2022-01-11T06:03:51.464Z"
   },
   {
    "duration": 65,
    "start_time": "2022-01-11T06:03:51.477Z"
   },
   {
    "duration": 8415,
    "start_time": "2022-01-11T06:03:51.544Z"
   },
   {
    "duration": 16,
    "start_time": "2022-01-11T06:03:59.961Z"
   },
   {
    "duration": 237,
    "start_time": "2022-01-11T06:03:59.979Z"
   },
   {
    "duration": 40,
    "start_time": "2022-01-11T06:04:00.217Z"
   },
   {
    "duration": 42,
    "start_time": "2022-01-11T06:04:00.259Z"
   },
   {
    "duration": 41,
    "start_time": "2022-01-11T06:04:00.342Z"
   },
   {
    "duration": 72,
    "start_time": "2022-01-11T06:04:00.389Z"
   },
   {
    "duration": 78,
    "start_time": "2022-01-11T06:04:00.464Z"
   },
   {
    "duration": 9,
    "start_time": "2022-01-11T06:04:00.544Z"
   },
   {
    "duration": 88,
    "start_time": "2022-01-11T06:04:00.554Z"
   },
   {
    "duration": 15,
    "start_time": "2022-01-11T06:04:00.644Z"
   },
   {
    "duration": 82,
    "start_time": "2022-01-11T06:04:00.661Z"
   },
   {
    "duration": 56,
    "start_time": "2022-01-11T06:04:00.745Z"
   },
   {
    "duration": 172,
    "start_time": "2022-01-11T06:04:00.803Z"
   },
   {
    "duration": 172,
    "start_time": "2022-01-11T06:04:00.978Z"
   },
   {
    "duration": 128,
    "start_time": "2022-01-11T06:04:01.153Z"
   },
   {
    "duration": 168,
    "start_time": "2022-01-11T06:04:01.284Z"
   },
   {
    "duration": 11334,
    "start_time": "2022-01-11T06:04:01.455Z"
   },
   {
    "duration": 115,
    "start_time": "2022-01-11T06:04:12.842Z"
   },
   {
    "duration": 83,
    "start_time": "2022-01-11T06:04:12.959Z"
   },
   {
    "duration": 35,
    "start_time": "2022-01-11T06:04:13.044Z"
   },
   {
    "duration": 26,
    "start_time": "2022-01-11T06:04:13.145Z"
   },
   {
    "duration": 462,
    "start_time": "2022-01-11T08:57:53.247Z"
   },
   {
    "duration": 858,
    "start_time": "2022-01-11T08:58:15.880Z"
   },
   {
    "duration": 11,
    "start_time": "2022-01-11T08:58:16.741Z"
   },
   {
    "duration": 67,
    "start_time": "2022-01-11T08:58:16.756Z"
   },
   {
    "duration": 26,
    "start_time": "2022-01-11T08:58:16.827Z"
   },
   {
    "duration": 14,
    "start_time": "2022-01-11T08:58:16.856Z"
   },
   {
    "duration": 480,
    "start_time": "2022-01-11T08:58:16.873Z"
   },
   {
    "duration": 2066,
    "start_time": "2022-01-11T08:58:15.291Z"
   },
   {
    "duration": 2063,
    "start_time": "2022-01-11T08:58:15.296Z"
   },
   {
    "duration": 2061,
    "start_time": "2022-01-11T08:58:15.300Z"
   },
   {
    "duration": 2058,
    "start_time": "2022-01-11T08:58:15.304Z"
   },
   {
    "duration": 2057,
    "start_time": "2022-01-11T08:58:15.307Z"
   },
   {
    "duration": 2054,
    "start_time": "2022-01-11T08:58:15.311Z"
   },
   {
    "duration": 2053,
    "start_time": "2022-01-11T08:58:15.314Z"
   },
   {
    "duration": 2050,
    "start_time": "2022-01-11T08:58:15.318Z"
   },
   {
    "duration": 2047,
    "start_time": "2022-01-11T08:58:15.322Z"
   },
   {
    "duration": 2045,
    "start_time": "2022-01-11T08:58:15.326Z"
   },
   {
    "duration": 2042,
    "start_time": "2022-01-11T08:58:15.330Z"
   },
   {
    "duration": 2041,
    "start_time": "2022-01-11T08:58:15.333Z"
   },
   {
    "duration": 2039,
    "start_time": "2022-01-11T08:58:15.337Z"
   },
   {
    "duration": 2036,
    "start_time": "2022-01-11T08:58:15.341Z"
   },
   {
    "duration": 2034,
    "start_time": "2022-01-11T08:58:15.344Z"
   },
   {
    "duration": 2033,
    "start_time": "2022-01-11T08:58:15.347Z"
   },
   {
    "duration": 2032,
    "start_time": "2022-01-11T08:58:15.352Z"
   },
   {
    "duration": 2026,
    "start_time": "2022-01-11T08:58:15.360Z"
   },
   {
    "duration": 2024,
    "start_time": "2022-01-11T08:58:15.364Z"
   },
   {
    "duration": 2023,
    "start_time": "2022-01-11T08:58:15.367Z"
   },
   {
    "duration": 2020,
    "start_time": "2022-01-11T08:58:15.371Z"
   },
   {
    "duration": 2019,
    "start_time": "2022-01-11T08:58:15.374Z"
   },
   {
    "duration": 2017,
    "start_time": "2022-01-11T08:58:15.378Z"
   },
   {
    "duration": 2016,
    "start_time": "2022-01-11T08:58:15.381Z"
   },
   {
    "duration": 2038,
    "start_time": "2022-01-11T08:58:15.385Z"
   },
   {
    "duration": 2036,
    "start_time": "2022-01-11T08:58:15.388Z"
   },
   {
    "duration": 2033,
    "start_time": "2022-01-11T08:58:15.392Z"
   },
   {
    "duration": 2032,
    "start_time": "2022-01-11T08:58:15.395Z"
   },
   {
    "duration": 2030,
    "start_time": "2022-01-11T08:58:15.398Z"
   },
   {
    "duration": 2028,
    "start_time": "2022-01-11T08:58:15.402Z"
   },
   {
    "duration": 2027,
    "start_time": "2022-01-11T08:58:15.405Z"
   },
   {
    "duration": 2025,
    "start_time": "2022-01-11T08:58:15.408Z"
   },
   {
    "duration": 2018,
    "start_time": "2022-01-11T08:58:15.417Z"
   },
   {
    "duration": 2016,
    "start_time": "2022-01-11T08:58:15.421Z"
   },
   {
    "duration": 2014,
    "start_time": "2022-01-11T08:58:15.425Z"
   },
   {
    "duration": 2012,
    "start_time": "2022-01-11T08:58:15.429Z"
   },
   {
    "duration": 2009,
    "start_time": "2022-01-11T08:58:15.434Z"
   },
   {
    "duration": 11,
    "start_time": "2022-01-11T08:58:44.206Z"
   },
   {
    "duration": 91,
    "start_time": "2022-01-11T09:03:27.209Z"
   },
   {
    "duration": 7837,
    "start_time": "2022-01-11T09:03:52.764Z"
   },
   {
    "duration": 211,
    "start_time": "2022-01-11T09:05:21.413Z"
   },
   {
    "duration": 184,
    "start_time": "2022-01-11T09:05:33.999Z"
   },
   {
    "duration": 189,
    "start_time": "2022-01-11T09:11:25.693Z"
   },
   {
    "duration": 4042,
    "start_time": "2022-01-11T09:11:50.263Z"
   },
   {
    "duration": 111,
    "start_time": "2022-01-11T09:12:07.005Z"
   },
   {
    "duration": 105,
    "start_time": "2022-01-11T09:13:35.435Z"
   },
   {
    "duration": 24,
    "start_time": "2022-01-11T09:15:07.999Z"
   },
   {
    "duration": 22,
    "start_time": "2022-01-11T09:15:12.867Z"
   },
   {
    "duration": 23,
    "start_time": "2022-01-11T09:15:22.508Z"
   },
   {
    "duration": 871,
    "start_time": "2022-01-11T09:16:10.280Z"
   },
   {
    "duration": 13,
    "start_time": "2022-01-11T09:16:11.154Z"
   },
   {
    "duration": 27,
    "start_time": "2022-01-11T09:16:11.170Z"
   },
   {
    "duration": 17,
    "start_time": "2022-01-11T09:16:11.224Z"
   },
   {
    "duration": 10,
    "start_time": "2022-01-11T09:16:11.243Z"
   },
   {
    "duration": 147,
    "start_time": "2022-01-11T09:16:11.255Z"
   },
   {
    "duration": 30,
    "start_time": "2022-01-11T09:16:11.404Z"
   },
   {
    "duration": 10,
    "start_time": "2022-01-11T09:16:11.438Z"
   },
   {
    "duration": 23,
    "start_time": "2022-01-11T09:16:11.451Z"
   },
   {
    "duration": 13,
    "start_time": "2022-01-11T09:16:11.476Z"
   },
   {
    "duration": 16,
    "start_time": "2022-01-11T09:16:11.523Z"
   },
   {
    "duration": 23,
    "start_time": "2022-01-11T09:16:11.541Z"
   },
   {
    "duration": 60,
    "start_time": "2022-01-11T09:16:11.567Z"
   },
   {
    "duration": 34,
    "start_time": "2022-01-11T09:16:11.630Z"
   },
   {
    "duration": 74,
    "start_time": "2022-01-11T09:16:11.667Z"
   },
   {
    "duration": 48,
    "start_time": "2022-01-11T09:16:11.744Z"
   },
   {
    "duration": 33,
    "start_time": "2022-01-11T09:16:11.794Z"
   },
   {
    "duration": 36,
    "start_time": "2022-01-11T09:16:11.830Z"
   },
   {
    "duration": 14,
    "start_time": "2022-01-11T09:16:11.869Z"
   },
   {
    "duration": 38,
    "start_time": "2022-01-11T09:16:11.886Z"
   },
   {
    "duration": 18,
    "start_time": "2022-01-11T09:16:11.927Z"
   },
   {
    "duration": 6,
    "start_time": "2022-01-11T09:16:11.947Z"
   },
   {
    "duration": 4890,
    "start_time": "2022-01-11T09:16:11.958Z"
   },
   {
    "duration": 20,
    "start_time": "2022-01-11T09:16:16.851Z"
   },
   {
    "duration": 54,
    "start_time": "2022-01-11T09:16:16.874Z"
   },
   {
    "duration": 23,
    "start_time": "2022-01-11T09:16:16.931Z"
   },
   {
    "duration": 20,
    "start_time": "2022-01-11T09:16:16.956Z"
   },
   {
    "duration": 53,
    "start_time": "2022-01-11T09:16:16.979Z"
   },
   {
    "duration": 25,
    "start_time": "2022-01-11T09:16:17.035Z"
   },
   {
    "duration": 36,
    "start_time": "2022-01-11T09:16:17.063Z"
   },
   {
    "duration": 17,
    "start_time": "2022-01-11T09:16:17.124Z"
   },
   {
    "duration": 12,
    "start_time": "2022-01-11T09:16:17.144Z"
   },
   {
    "duration": 18,
    "start_time": "2022-01-11T09:16:17.158Z"
   },
   {
    "duration": 8,
    "start_time": "2022-01-11T09:16:17.178Z"
   },
   {
    "duration": 55,
    "start_time": "2022-01-11T09:16:17.187Z"
   },
   {
    "duration": 107,
    "start_time": "2022-01-11T09:16:17.245Z"
   },
   {
    "duration": 46,
    "start_time": "2022-01-11T09:16:17.354Z"
   },
   {
    "duration": 60,
    "start_time": "2022-01-11T09:16:17.422Z"
   },
   {
    "duration": 71,
    "start_time": "2022-01-11T09:16:17.485Z"
   },
   {
    "duration": 7122,
    "start_time": "2022-01-11T09:16:17.558Z"
   },
   {
    "duration": 59,
    "start_time": "2022-01-11T09:16:24.682Z"
   },
   {
    "duration": 38,
    "start_time": "2022-01-11T09:16:24.744Z"
   },
   {
    "duration": 72,
    "start_time": "2022-01-11T09:16:24.784Z"
   },
   {
    "duration": 65,
    "start_time": "2022-01-11T09:16:24.858Z"
   },
   {
    "duration": 7123,
    "start_time": "2022-01-11T09:21:49.039Z"
   },
   {
    "duration": 787,
    "start_time": "2022-01-11T09:23:48.474Z"
   },
   {
    "duration": 12,
    "start_time": "2022-01-11T09:23:49.264Z"
   },
   {
    "duration": 52,
    "start_time": "2022-01-11T09:23:49.279Z"
   },
   {
    "duration": 19,
    "start_time": "2022-01-11T09:23:49.334Z"
   },
   {
    "duration": 10,
    "start_time": "2022-01-11T09:23:49.356Z"
   },
   {
    "duration": 145,
    "start_time": "2022-01-11T09:23:49.369Z"
   },
   {
    "duration": 24,
    "start_time": "2022-01-11T09:23:49.517Z"
   },
   {
    "duration": 7,
    "start_time": "2022-01-11T09:23:49.544Z"
   },
   {
    "duration": 16,
    "start_time": "2022-01-11T09:23:49.554Z"
   },
   {
    "duration": 52,
    "start_time": "2022-01-11T09:23:49.572Z"
   },
   {
    "duration": 16,
    "start_time": "2022-01-11T09:23:49.627Z"
   },
   {
    "duration": 21,
    "start_time": "2022-01-11T09:23:49.645Z"
   },
   {
    "duration": 55,
    "start_time": "2022-01-11T09:23:49.668Z"
   },
   {
    "duration": 22,
    "start_time": "2022-01-11T09:23:49.725Z"
   },
   {
    "duration": 42,
    "start_time": "2022-01-11T09:23:49.749Z"
   },
   {
    "duration": 81,
    "start_time": "2022-01-11T09:23:49.794Z"
   },
   {
    "duration": 75,
    "start_time": "2022-01-11T09:23:49.877Z"
   },
   {
    "duration": 11,
    "start_time": "2022-01-11T09:23:49.955Z"
   },
   {
    "duration": 7,
    "start_time": "2022-01-11T09:23:49.969Z"
   },
   {
    "duration": 16,
    "start_time": "2022-01-11T09:23:49.978Z"
   },
   {
    "duration": 29,
    "start_time": "2022-01-11T09:23:49.997Z"
   },
   {
    "duration": 4708,
    "start_time": "2022-01-11T09:23:50.028Z"
   },
   {
    "duration": 19,
    "start_time": "2022-01-11T09:23:54.741Z"
   },
   {
    "duration": 25,
    "start_time": "2022-01-11T09:23:54.763Z"
   },
   {
    "duration": 44,
    "start_time": "2022-01-11T09:23:54.790Z"
   },
   {
    "duration": 14,
    "start_time": "2022-01-11T09:23:54.836Z"
   },
   {
    "duration": 15,
    "start_time": "2022-01-11T09:23:54.853Z"
   },
   {
    "duration": 20,
    "start_time": "2022-01-11T09:23:54.870Z"
   },
   {
    "duration": 26,
    "start_time": "2022-01-11T09:23:54.924Z"
   },
   {
    "duration": 11,
    "start_time": "2022-01-11T09:23:54.952Z"
   },
   {
    "duration": 10,
    "start_time": "2022-01-11T09:23:54.966Z"
   },
   {
    "duration": 51,
    "start_time": "2022-01-11T09:23:54.978Z"
   },
   {
    "duration": 15,
    "start_time": "2022-01-11T09:23:55.032Z"
   },
   {
    "duration": 15,
    "start_time": "2022-01-11T09:23:55.049Z"
   },
   {
    "duration": 98,
    "start_time": "2022-01-11T09:23:55.067Z"
   },
   {
    "duration": 58,
    "start_time": "2022-01-11T09:23:55.167Z"
   },
   {
    "duration": 59,
    "start_time": "2022-01-11T09:23:55.227Z"
   },
   {
    "duration": 76,
    "start_time": "2022-01-11T09:23:55.288Z"
   },
   {
    "duration": 6592,
    "start_time": "2022-01-11T09:23:55.366Z"
   },
   {
    "duration": 65,
    "start_time": "2022-01-11T09:24:01.961Z"
   },
   {
    "duration": 40,
    "start_time": "2022-01-11T09:24:02.028Z"
   },
   {
    "duration": 74,
    "start_time": "2022-01-11T09:24:02.070Z"
   },
   {
    "duration": 37,
    "start_time": "2022-01-11T09:24:02.146Z"
   },
   {
    "duration": 426,
    "start_time": "2022-01-11T09:24:52.685Z"
   },
   {
    "duration": 16,
    "start_time": "2022-01-11T09:25:02.353Z"
   },
   {
    "duration": 8,
    "start_time": "2022-01-11T09:26:41.827Z"
   },
   {
    "duration": 284,
    "start_time": "2022-01-11T09:27:14.068Z"
   },
   {
    "duration": 286,
    "start_time": "2022-01-11T09:27:19.083Z"
   },
   {
    "duration": 10,
    "start_time": "2022-01-11T09:27:25.707Z"
   },
   {
    "duration": 12,
    "start_time": "2022-01-11T09:27:48.193Z"
   },
   {
    "duration": 7,
    "start_time": "2022-01-11T09:28:09.212Z"
   },
   {
    "duration": 7,
    "start_time": "2022-01-11T09:31:24.865Z"
   },
   {
    "duration": 13,
    "start_time": "2022-01-11T09:31:36.445Z"
   },
   {
    "duration": 7,
    "start_time": "2022-01-11T09:31:42.301Z"
   },
   {
    "duration": 9890,
    "start_time": "2022-01-11T09:43:15.404Z"
   },
   {
    "duration": 13,
    "start_time": "2022-01-11T09:45:00.261Z"
   },
   {
    "duration": 105,
    "start_time": "2022-01-11T09:45:15.477Z"
   },
   {
    "duration": 93,
    "start_time": "2022-01-11T09:45:23.161Z"
   },
   {
    "duration": 112,
    "start_time": "2022-01-11T09:46:21.717Z"
   },
   {
    "duration": 7683,
    "start_time": "2022-01-11T09:46:27.610Z"
   },
   {
    "duration": 7702,
    "start_time": "2022-01-11T09:46:59.898Z"
   },
   {
    "duration": 296,
    "start_time": "2022-01-11T09:47:13.665Z"
   },
   {
    "duration": 9667,
    "start_time": "2022-01-11T09:48:39.470Z"
   },
   {
    "duration": 880,
    "start_time": "2022-01-11T09:49:08.655Z"
   },
   {
    "duration": 18,
    "start_time": "2022-01-11T09:49:09.538Z"
   },
   {
    "duration": 34,
    "start_time": "2022-01-11T09:49:09.560Z"
   },
   {
    "duration": 47,
    "start_time": "2022-01-11T09:49:09.596Z"
   },
   {
    "duration": 8,
    "start_time": "2022-01-11T09:49:09.646Z"
   },
   {
    "duration": 123,
    "start_time": "2022-01-11T09:49:09.656Z"
   },
   {
    "duration": 22,
    "start_time": "2022-01-11T09:49:09.781Z"
   },
   {
    "duration": 24,
    "start_time": "2022-01-11T09:49:09.805Z"
   },
   {
    "duration": 15,
    "start_time": "2022-01-11T09:49:09.833Z"
   },
   {
    "duration": 13,
    "start_time": "2022-01-11T09:49:09.851Z"
   },
   {
    "duration": 16,
    "start_time": "2022-01-11T09:49:09.867Z"
   },
   {
    "duration": 60,
    "start_time": "2022-01-11T09:49:09.885Z"
   },
   {
    "duration": 33,
    "start_time": "2022-01-11T09:49:09.948Z"
   },
   {
    "duration": 56,
    "start_time": "2022-01-11T09:49:09.984Z"
   },
   {
    "duration": 50,
    "start_time": "2022-01-11T09:49:10.043Z"
   },
   {
    "duration": 73,
    "start_time": "2022-01-11T09:49:10.096Z"
   },
   {
    "duration": 52,
    "start_time": "2022-01-11T09:49:10.172Z"
   },
   {
    "duration": 54,
    "start_time": "2022-01-11T09:49:10.227Z"
   },
   {
    "duration": 9,
    "start_time": "2022-01-11T09:49:10.284Z"
   },
   {
    "duration": 8,
    "start_time": "2022-01-11T09:49:10.324Z"
   },
   {
    "duration": 12,
    "start_time": "2022-01-11T09:49:10.335Z"
   },
   {
    "duration": 8,
    "start_time": "2022-01-11T09:49:10.350Z"
   },
   {
    "duration": 8683,
    "start_time": "2022-01-11T09:49:10.360Z"
   },
   {
    "duration": 2078,
    "start_time": "2022-01-11T09:49:16.969Z"
   },
   {
    "duration": 2074,
    "start_time": "2022-01-11T09:49:16.975Z"
   },
   {
    "duration": 2072,
    "start_time": "2022-01-11T09:49:16.979Z"
   },
   {
    "duration": 2069,
    "start_time": "2022-01-11T09:49:16.983Z"
   },
   {
    "duration": 2067,
    "start_time": "2022-01-11T09:49:16.987Z"
   },
   {
    "duration": 2064,
    "start_time": "2022-01-11T09:49:16.991Z"
   },
   {
    "duration": 2043,
    "start_time": "2022-01-11T09:49:17.014Z"
   },
   {
    "duration": 2039,
    "start_time": "2022-01-11T09:49:17.019Z"
   },
   {
    "duration": 2035,
    "start_time": "2022-01-11T09:49:17.025Z"
   },
   {
    "duration": 2031,
    "start_time": "2022-01-11T09:49:17.030Z"
   },
   {
    "duration": 2029,
    "start_time": "2022-01-11T09:49:17.034Z"
   },
   {
    "duration": 2025,
    "start_time": "2022-01-11T09:49:17.039Z"
   },
   {
    "duration": 2023,
    "start_time": "2022-01-11T09:49:17.043Z"
   },
   {
    "duration": 2019,
    "start_time": "2022-01-11T09:49:17.048Z"
   },
   {
    "duration": 2016,
    "start_time": "2022-01-11T09:49:17.053Z"
   },
   {
    "duration": 2006,
    "start_time": "2022-01-11T09:49:17.064Z"
   },
   {
    "duration": 2004,
    "start_time": "2022-01-11T09:49:17.068Z"
   },
   {
    "duration": 2000,
    "start_time": "2022-01-11T09:49:17.073Z"
   },
   {
    "duration": 1998,
    "start_time": "2022-01-11T09:49:17.077Z"
   },
   {
    "duration": 1995,
    "start_time": "2022-01-11T09:49:17.081Z"
   },
   {
    "duration": 1993,
    "start_time": "2022-01-11T09:49:17.085Z"
   },
   {
    "duration": 1989,
    "start_time": "2022-01-11T09:49:17.090Z"
   },
   {
    "duration": 1988,
    "start_time": "2022-01-11T09:49:17.093Z"
   },
   {
    "duration": 1986,
    "start_time": "2022-01-11T09:49:17.097Z"
   },
   {
    "duration": 4290,
    "start_time": "2022-01-11T09:51:03.200Z"
   },
   {
    "duration": 4669,
    "start_time": "2022-01-11T09:51:30.434Z"
   },
   {
    "duration": 932,
    "start_time": "2022-01-11T11:20:28.101Z"
   },
   {
    "duration": 12,
    "start_time": "2022-01-11T11:20:29.036Z"
   },
   {
    "duration": 34,
    "start_time": "2022-01-11T11:20:29.051Z"
   },
   {
    "duration": 23,
    "start_time": "2022-01-11T11:20:29.088Z"
   },
   {
    "duration": 10,
    "start_time": "2022-01-11T11:20:29.114Z"
   },
   {
    "duration": 139,
    "start_time": "2022-01-11T11:20:29.165Z"
   },
   {
    "duration": 28,
    "start_time": "2022-01-11T11:20:29.307Z"
   },
   {
    "duration": 27,
    "start_time": "2022-01-11T11:20:29.341Z"
   },
   {
    "duration": 18,
    "start_time": "2022-01-11T11:20:29.371Z"
   },
   {
    "duration": 19,
    "start_time": "2022-01-11T11:20:29.391Z"
   },
   {
    "duration": 61,
    "start_time": "2022-01-11T11:20:29.412Z"
   },
   {
    "duration": 24,
    "start_time": "2022-01-11T11:20:29.475Z"
   },
   {
    "duration": 66,
    "start_time": "2022-01-11T11:20:29.504Z"
   },
   {
    "duration": 36,
    "start_time": "2022-01-11T11:20:29.574Z"
   },
   {
    "duration": 81,
    "start_time": "2022-01-11T11:20:29.613Z"
   },
   {
    "duration": 72,
    "start_time": "2022-01-11T11:20:29.697Z"
   },
   {
    "duration": 35,
    "start_time": "2022-01-11T11:20:29.771Z"
   },
   {
    "duration": 77,
    "start_time": "2022-01-11T11:20:29.809Z"
   },
   {
    "duration": 10,
    "start_time": "2022-01-11T11:20:29.889Z"
   },
   {
    "duration": 8,
    "start_time": "2022-01-11T11:20:29.902Z"
   },
   {
    "duration": 48,
    "start_time": "2022-01-11T11:20:29.914Z"
   },
   {
    "duration": 6,
    "start_time": "2022-01-11T11:20:29.965Z"
   },
   {
    "duration": 4771,
    "start_time": "2022-01-11T11:20:29.977Z"
   },
   {
    "duration": 20,
    "start_time": "2022-01-11T11:20:34.752Z"
   },
   {
    "duration": 6,
    "start_time": "2022-01-11T11:20:34.774Z"
   },
   {
    "duration": 4013,
    "start_time": "2022-01-11T11:20:34.782Z"
   },
   {
    "duration": 20,
    "start_time": "2022-01-11T11:20:38.797Z"
   },
   {
    "duration": 46,
    "start_time": "2022-01-11T11:20:38.820Z"
   },
   {
    "duration": 15,
    "start_time": "2022-01-11T11:20:38.869Z"
   },
   {
    "duration": 15,
    "start_time": "2022-01-11T11:20:38.886Z"
   },
   {
    "duration": 15,
    "start_time": "2022-01-11T11:20:38.903Z"
   },
   {
    "duration": 55,
    "start_time": "2022-01-11T11:20:38.920Z"
   },
   {
    "duration": 27,
    "start_time": "2022-01-11T11:20:38.977Z"
   },
   {
    "duration": 13,
    "start_time": "2022-01-11T11:20:39.007Z"
   },
   {
    "duration": 44,
    "start_time": "2022-01-11T11:20:39.022Z"
   },
   {
    "duration": 13,
    "start_time": "2022-01-11T11:20:39.069Z"
   },
   {
    "duration": 7,
    "start_time": "2022-01-11T11:20:39.085Z"
   },
   {
    "duration": 15,
    "start_time": "2022-01-11T11:20:39.095Z"
   },
   {
    "duration": 121,
    "start_time": "2022-01-11T11:20:39.113Z"
   },
   {
    "duration": 70,
    "start_time": "2022-01-11T11:20:39.236Z"
   },
   {
    "duration": 84,
    "start_time": "2022-01-11T11:20:39.308Z"
   },
   {
    "duration": 45,
    "start_time": "2022-01-11T11:20:39.395Z"
   },
   {
    "duration": 6927,
    "start_time": "2022-01-11T11:20:39.462Z"
   },
   {
    "duration": 50,
    "start_time": "2022-01-11T11:20:46.391Z"
   },
   {
    "duration": 41,
    "start_time": "2022-01-11T11:20:46.464Z"
   },
   {
    "duration": 75,
    "start_time": "2022-01-11T11:20:46.507Z"
   },
   {
    "duration": 42,
    "start_time": "2022-01-11T11:20:46.585Z"
   }
  ],
  "kernelspec": {
   "display_name": "Python 3 (ipykernel)",
   "language": "python",
   "name": "python3"
  },
  "language_info": {
   "codemirror_mode": {
    "name": "ipython",
    "version": 3
   },
   "file_extension": ".py",
   "mimetype": "text/x-python",
   "name": "python",
   "nbconvert_exporter": "python",
   "pygments_lexer": "ipython3",
   "version": "3.10.4"
  },
  "toc": {
   "base_numbering": 1,
   "nav_menu": {},
   "number_sections": true,
   "sideBar": true,
   "skip_h1_title": true,
   "title_cell": "Table of Contents",
   "title_sidebar": "Contents",
   "toc_cell": false,
   "toc_position": {
    "height": "calc(100% - 180px)",
    "left": "10px",
    "top": "150px",
    "width": "303.837px"
   },
   "toc_section_display": true,
   "toc_window_display": true
  }
 },
 "nbformat": 4,
 "nbformat_minor": 2
}
